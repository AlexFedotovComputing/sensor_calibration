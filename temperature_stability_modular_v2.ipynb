{
 "cells": [
  {
   "cell_type": "markdown",
   "metadata": {},
   "source": [
    "# Температурный пайплайн (модульный)\n",
    "*Последнее обновление: 2025-09-07*\n"
   ]
  },
  {
   "cell_type": "code",
   "execution_count": 82,
   "id": "d8fb31a2",
   "metadata": {},
   "outputs": [],
   "source": [
    "# === 1) Параметры минимального пайплайна ===\n",
    "import os, io, csv, glob\n",
    "from typing import List, Tuple, Optional, Dict\n",
    "\n",
    "import numpy as np\n",
    "import pandas as pd\n",
    "from IPython.display import display\n",
    "\n",
    "# Параметры\n",
    "# DATE_FORMAT — формат даты в исходных файлах; оставьте пустым, чтобы pandas подбирал его автоматически.\n",
    "# REF_IDX — индекс эталонного датчика (столбец T{REF_IDX}); относительно него оцениваем остальные каналы.\n",
    "# N_FOLLOW — число соседних значений, которые проверяются вместе при поиске стабильных интервалов.\n",
    "# WINDOW_N — длина скользящего окна в отсчётах для расчёта средних и стандартных отклонений.\n",
    "# STD_THR — максимальное допустимое стандартное отклонение внутри окна; выше — считаем участок нестабильным.\n",
    "# DIFF_THR — допустимая средняя разница между последовательными измерениями; превышение сигналит о скачках.\n",
    "# MIN_LEN — минимальное число точек, чтобы сегмент считался значимым при анализе стабильности.\n",
    "# DEG_TOL — допускаемое расхождение каналов с эталоном в градусах, пока они считаются исправными.\n",
    "# MAX_REF_RANGE — предельный размах значений эталонного канала; если шире, эталон нужно пересмотреть.\n",
    "# GROUP_BY_FILE — при True данные обрабатываются по каждому исходному файлу отдельно, а не одной лентой.\n",
    "DATE_FORMAT = ''\n",
    "REF_IDX = 8\n",
    "N_FOLLOW = 3\n",
    "WINDOW_N = 50\n",
    "STD_THR = 1e-3\n",
    "DIFF_THR = 2e-3\n",
    "MIN_LEN = 20\n",
    "DEG_TOL = 1.0\n",
    "MAX_REF_RANGE = 0.3\n",
    "GROUP_BY_FILE = True\n",
    "\n",
    "# Имена датчиков для отчёта\n",
    "REF_NAME = globals().get('REF_NAME', 'Эталон 2-1')\n",
    "SENSOR_NAMES = globals().get('SENSOR_NAMES', {\n",
    "    'T9': 'Датчик 1-7',\n",
    "    'T10': 'Датчик 1-8',\n",
    "    'T11': 'Датчик 1-9',\n",
    "})\n",
    "# Альтернатива: список имён в порядке датчиков T{REF_IDX+1}..T{REF_IDX+N_FOLLOW}\n"
   ]
  },
  {
   "cell_type": "code",
   "execution_count": 83,
   "id": "aa943eff",
   "metadata": {},
   "outputs": [],
   "source": [
    "# === 2) Загрузка/парсинг ===\n",
    "def sniff_sep(sample: bytes) -> str:\n",
    "    try:\n",
    "        dialect = csv.Sniffer().sniff(sample.decode('utf-8', errors='ignore'),\n",
    "                                      delimiters=[',',';','\\t','|'])\n",
    "        return dialect.delimiter\n",
    "    except Exception:\n",
    "        line = sample.decode('utf-8', errors='ignore').splitlines()[0] if sample else ''\n",
    "        for cand in [',',';','\\t','|']:\n",
    "            if line.count(cand) >= 1:\n",
    "                return cand\n",
    "        return ','\n",
    "\n",
    "def read_one_table(name: str, stream: io.BytesIO, date_format: Optional[str]=None) -> pd.DataFrame:\n",
    "    head = stream.read(8192); stream.seek(0)\n",
    "    sep = sniff_sep(head)\n",
    "    df = pd.read_csv(stream, sep=sep, engine='python')\n",
    "    if df.shape[1] < 17:\n",
    "        raise ValueError(f\"{name}: найдено {df.shape[1]} столбцов, требуется >= 17 (1 дата + 16 температур).\")\n",
    "    df = df.iloc[:, :17].copy()\n",
    "    df.columns = ['date'] + [f'T{i}' for i in range(16)]\n",
    "    if date_format and date_format.strip():\n",
    "        df['date'] = pd.to_datetime(df['date'], format=date_format, errors='coerce')\n",
    "    else:\n",
    "        df['date'] = pd.to_datetime(df['date'], infer_datetime_format=True, errors='coerce', dayfirst=True)\n",
    "    if df['date'].isna().any():\n",
    "        bad = int(df['date'].isna().sum()); print(f\"[Предупреждение] {name}: {bad} строк с нераспознанной датой отброшены.\")\n",
    "        df = df.dropna(subset=['date'])\n",
    "    for c in [f'T{i}' for i in range(16)]:\n",
    "        df[c] = pd.to_numeric(df[c], errors='coerce')\n",
    "    df['source_file'] = name\n",
    "    return df\n"
   ]
  },
  {
   "cell_type": "code",
   "execution_count": 84,
   "id": "8513449f",
   "metadata": {},
   "outputs": [],
   "source": [
    "# === 3) Функции стабильности (минимум) ===\n",
    "import numpy as np\n",
    "import pandas as pd\n",
    "from typing import List, Tuple, Sequence, Dict, Optional\n",
    "\n",
    "def rolling_std_mask(series, window, threshold):\n",
    "    rs = series.rolling(window=window, min_periods=window).std()\n",
    "    return (rs <= threshold)\n",
    "\n",
    "def rolling_mean_abs_diff_mask(series, window, diff_threshold):\n",
    "    d = series.diff().abs()\n",
    "    m = d.rolling(window=window, min_periods=window).mean()\n",
    "    return (m <= diff_threshold)\n",
    "\n",
    "def segments_from_mask(mask, window):\n",
    "    import numpy as _np\n",
    "    arr = mask.to_numpy() if hasattr(mask, 'to_numpy') else _np.asarray(mask)\n",
    "    segs = []; cur=None\n",
    "    for i, ok in enumerate(arr):\n",
    "        if ok:\n",
    "            s = max(0, i - window + 1); e = i\n",
    "            if cur is None: cur=(s,e)\n",
    "            else:\n",
    "                cs, ce = cur\n",
    "                if s <= ce + 1: cur=(cs, max(ce, e))\n",
    "                else: segs.append(cur); cur=(s,e)\n",
    "        else:\n",
    "            if cur is not None: segs.append(cur); cur=None\n",
    "    if cur is not None: segs.append(cur)\n",
    "    return segs\n",
    "\n",
    "def summarize_interval(df, cols, s, e):\n",
    "    row={'start_idx':int(s),'end_idx':int(e),'length':int(e-s+1)}\n",
    "    row['start_date']=pd.to_datetime(df.loc[s,'date']) if s < len(df) else pd.NaT\n",
    "    row['end_date']=pd.to_datetime(df.loc[e,'date']) if e < len(df) else pd.NaT\n",
    "    for c in cols:\n",
    "        vals = df[c].to_numpy()[s:e+1]\n",
    "        good = ~np.isnan(vals)\n",
    "        row[f'mean_{c}'] = float(np.nanmean(vals)) if good.any() else np.nan\n",
    "        row[f'std_{c}'] = float(np.nanstd(vals, ddof=1)) if good.sum()>1 else np.nan\n",
    "        row[f'min_{c}'] = float(np.nanmin(vals)) if good.any() else np.nan\n",
    "        row[f'max_{c}'] = float(np.nanmax(vals)) if good.any() else np.nan\n",
    "        row[f'range_{c}'] = row[f'max_{c}'] - row[f'min_{c}'] if good.any() else np.nan\n",
    "    return row\n",
    "\n",
    "def median_level(series, s, e):\n",
    "    vals = series.to_numpy()[int(s):int(e)+1]\n",
    "    return float(np.nanmedian(vals))\n",
    "\n",
    "def split_segment_by_ref_buckets(ref_series, s, e, deg_tol):\n",
    "    vals = ref_series.to_numpy()[s:e+1]\n",
    "    if len(vals)==0 or np.all(np.isnan(vals)): return [(s,e)]\n",
    "    buckets = np.floor(vals/float(deg_tol)).astype('float64')\n",
    "    mask_good = ~np.isnan(buckets)\n",
    "    if mask_good.any():\n",
    "        last=None\n",
    "        for i in range(len(buckets)):\n",
    "            if np.isnan(buckets[i]):\n",
    "                buckets[i] = last if last is not None else buckets[mask_good][0]\n",
    "            last=buckets[i]\n",
    "    segments=[]; start=s; base=buckets[0]\n",
    "    for i in range(1,len(buckets)):\n",
    "        if buckets[i]!=base:\n",
    "            segments.append((start, s+i-1)); start=s+i; base=buckets[i]\n",
    "    segments.append((start,e))\n",
    "    return segments\n",
    "\n",
    "def detect_stability_improved(data, ref_idx, follow_idxs, window=20, std_thr=0.05, diff_thr=0.002, min_len=20, group_by_file=True, split_by_ref_buckets=True, deg_tol=1.0, max_ref_range=0.3):\n",
    "    ref_col=f'T{ref_idx}'; follow_cols=[f'T{i}' for i in follow_idxs]\n",
    "    for c in [ref_col]+follow_cols:\n",
    "        if c not in data.columns: raise ValueError(f'Missing column: {c}')\n",
    "    if group_by_file and 'source_file' in data.columns:\n",
    "        first_idx_by_source = (data.index.to_series().groupby(data['source_file']).min().astype(int).to_dict())\n",
    "        groups=list(data.groupby('source_file', sort=False))\n",
    "    else:\n",
    "        first_idx_by_source=None; groups=[('ALL', data)]\n",
    "    joint_rows=[]; by_sensor_rows=[]\n",
    "    for src, g0 in groups:\n",
    "        g=g0.reset_index(drop=True)\n",
    "        mask_ref_std = rolling_std_mask(g[ref_col], window, std_thr)\n",
    "        mask_ref_slope = rolling_mean_abs_diff_mask(g[ref_col], window, diff_thr)\n",
    "        base_ref_mask = (mask_ref_std & mask_ref_slope).to_numpy()\n",
    "        masks_others = {c: rolling_std_mask(g[c], window, std_thr).to_numpy() for c in follow_cols}\n",
    "        joint_mask = base_ref_mask.copy()\n",
    "        for c in follow_cols: joint_mask &= masks_others[c]\n",
    "        def _emit_segment(s,e,cols,extra,container):\n",
    "            subs=[(s,e)]\n",
    "            if split_by_ref_buckets: subs=split_segment_by_ref_buckets(g[ref_col], s, e, deg_tol)\n",
    "            for ss,ee in subs:\n",
    "                if (ee-ss+1) < int(min_len): continue\n",
    "                row={'source_file':src}; row.update(extra); row.update(summarize_interval(g, cols, ss, ee))\n",
    "                if src!='ALL' and first_idx_by_source is not None:\n",
    "                    first_idx=int(first_idx_by_source.get(src,0)); row['start_idx_abs']=row['start_idx']+first_idx; row['end_idx_abs']=row['end_idx']+first_idx\n",
    "                else:\n",
    "                    row['start_idx_abs']=row['start_idx']; row['end_idx_abs']=row['end_idx']\n",
    "                ref_med=median_level(g[ref_col], ss, ee); row['ref_level']=ref_med; row['range_ref']=row.get(f'range_{ref_col}', np.nan)\n",
    "                if max_ref_range is not None and not np.isnan(row['range_ref']) and row['range_ref']>max_ref_range: continue\n",
    "                container.append(row)\n",
    "        for (s,e) in [(s,e) for (s,e) in segments_from_mask(joint_mask, window) if (e-s+1)>=int(min_len)]:\n",
    "            _emit_segment(s,e,[ref_col]+follow_cols, {'ref':ref_col, 'followers':','.join(follow_cols)}, joint_rows)\n",
    "        for c in follow_cols:\n",
    "            gated = masks_others[c] & base_ref_mask\n",
    "            segs=[(s,e) for (s,e) in segments_from_mask(gated, window) if (e-s+1)>=int(min_len)]\n",
    "            for (s,e) in segs:\n",
    "                _emit_segment(s,e,[c, ref_col], {'sensor':c, 'ref':ref_col}, by_sensor_rows)\n",
    "    joint = pd.DataFrame(joint_rows).sort_values(['source_file','start_idx']) if joint_rows else pd.DataFrame()\n",
    "    by_sensor = pd.DataFrame(by_sensor_rows).sort_values(['source_file','sensor','start_idx']) if by_sensor_rows else pd.DataFrame()\n",
    "    return joint, by_sensor\n",
    "\n",
    "def select_longest_per_degree(table, data, ref_idx, mode, deg_tol=1.0, strategy='bucket_centered', centered=True):\n",
    "    if table is None or table.empty: return table\n",
    "    ref_col=f'T{ref_idx}'; tbl=table.copy()\n",
    "    if 'ref_level' not in tbl.columns:\n",
    "        ref_levels=[]\n",
    "        for _,row in tbl.iterrows():\n",
    "            src=row['source_file']; s,e=int(row['start_idx']),int(row['end_idx'])\n",
    "            g = data[data['source_file']==src].reset_index(drop=True) if src!='ALL' else data\n",
    "            ref_levels.append(median_level(g[ref_col], s, e))\n",
    "        tbl['ref_level']=ref_levels\n",
    "    group_keys=['source_file','sensor'] if (mode=='by_sensor' and 'sensor' in tbl.columns) else ['source_file']\n",
    "    out=[]\n",
    "    for _, grp in tbl.sort_values('ref_level').groupby(group_keys, as_index=False):\n",
    "        g=grp.sort_values('ref_level').reset_index(drop=True)\n",
    "        if strategy in ('bucket','bucket_centered') or centered:\n",
    "            bins = np.floor((g['ref_level'] + 0.5*deg_tol)/deg_tol).astype(int) if (strategy=='bucket_centered' or centered) else np.floor(g['ref_level']/deg_tol).astype(int)\n",
    "            g=g.assign(_bin=bins)\n",
    "            keep = g.sort_values('length', ascending=False).groupby('_bin', as_index=False).head(1)\n",
    "            out.append(keep.drop(columns=['_bin']))\n",
    "        else:\n",
    "            i,n=0,len(g)\n",
    "            while i<n:\n",
    "                start_val=g.loc[i,'ref_level']; j=i\n",
    "                while j+1<n and (g.loc[j+1,'ref_level']-start_val) <= deg_tol: j+=1\n",
    "                cluster=g.loc[i:j].copy()\n",
    "                keep = cluster.sort_values(['length','end_idx'], ascending=[False,False]).iloc[0:1]\n",
    "                out.append(keep); i=j+1\n",
    "    return pd.concat(out, ignore_index=True) if out else tbl\n"
   ]
  },
  {
   "cell_type": "code",
   "execution_count": 85,
   "id": "6c6ec110",
   "metadata": {},
   "outputs": [
    {
     "name": "stdout",
     "output_type": "stream",
     "text": [
      "Секция виджетов удалена в упрощённом режиме.\n"
     ]
    }
   ],
   "source": [
    "# === 3.1) Виджеты/загрузка — упрощено ===\n",
    "print('Секция виджетов удалена в упрощённом режиме.')\n",
    "IN_COLAB=False"
   ]
  },
  {
   "cell_type": "code",
   "execution_count": null,
   "id": "e24c0d3d",
   "metadata": {},
   "outputs": [
    {
     "data": {
      "application/vnd.jupyter.widget-view+json": {
       "model_id": "c411d48d2afe4294bb795e28ad12aa5b",
       "version_major": 2,
       "version_minor": 0
      },
      "text/plain": [
       "FileUpload(value={}, accept='.csv,.txt', description='Upload', multiple=True)"
      ]
     },
     "metadata": {},
     "output_type": "display_data"
    },
    {
     "data": {
      "application/vnd.jupyter.widget-view+json": {
       "model_id": "048f6e51d98c42968148aebeef9235f1",
       "version_major": 2,
       "version_minor": 0
      },
      "text/plain": [
       "Output()"
      ]
     },
     "metadata": {},
     "output_type": "display_data"
    },
    {
     "name": "stdout",
     "output_type": "stream",
     "text": [
      "Выберите файлы в виджете выше, затем перейдите к шагу 6.\n"
     ]
    }
   ],
   "source": [
    "# === 4) Загрузка через диалог (Colab/Jupyter) ===\n",
    "# Делает автодетект среды и НЕ блокирует ядро долгими ожиданиями.\n",
    "# Результат: глобалы SELECTED_FILES и IS_BYTES_INPUT.\n",
    "try:\n",
    "    if IN_COLAB:\n",
    "        # Google Colab: встроенный загрузчик\n",
    "        print('Выберите один или несколько .csv/.txt файлов…')\n",
    "        uploads = files.upload()\n",
    "        SELECTED_FILES = [('uploaded:' + name, content) for name, content in uploads.items()]\n",
    "        IS_BYTES_INPUT = True\n",
    "        print('Загружено файлов:', len(SELECTED_FILES))\n",
    "    else:\n",
    "        # Локальный Jupyter: сначала пробуем ipywidgets (не блокирует выполнение)\n",
    "        try:\n",
    "            import ipywidgets as widgets\n",
    "            from IPython.display import display\n",
    "            uploader = widgets.FileUpload(accept='.csv,.txt', multiple=True)\n",
    "            status = widgets.Output()\n",
    "\n",
    "            def _extract_files(val):\n",
    "                files = []\n",
    "                try:\n",
    "                    # ipywidgets v7: dict, v8: tuple/list из объектов с атрибутами .name/.content\n",
    "                    if isinstance(val, dict):\n",
    "                        for _name, _item in val.items():\n",
    "                            try:\n",
    "                                content = _item.get('content') if isinstance(_item, dict) else getattr(_item, 'content', None)\n",
    "                            except Exception:\n",
    "                                content = None\n",
    "                            if _name is not None and content is not None:\n",
    "                                files.append(('uploaded:' + _name, content))\n",
    "                    else:\n",
    "                        for _it in list(val) if isinstance(val, (list, tuple)) else []:\n",
    "                            name2 = getattr(_it, 'name', None) if not isinstance(_it, dict) else _it.get('name')\n",
    "                            content2 = getattr(_it, 'content', None) if not isinstance(_it, dict) else _it.get('content')\n",
    "                            if name2 is not None and content2 is not None:\n",
    "                                files.append(('uploaded:' + name2, content2))\n",
    "                except Exception as _e:\n",
    "                    with status:\n",
    "                        print('Ошибка разборки загруженных файлов:', _e)\n",
    "                return files\n",
    "\n",
    "            def _on_change(change):\n",
    "                global SELECTED_FILES, IS_BYTES_INPUT\n",
    "                files = _extract_files(uploader.value)\n",
    "                if files:\n",
    "                    SELECTED_FILES = files\n",
    "                    IS_BYTES_INPUT = True\n",
    "                    with status:\n",
    "                        status.clear_output()\n",
    "                        print('Загружено файлов:', len(SELECTED_FILES))\n",
    "\n",
    "            uploader.observe(_on_change, names='value')\n",
    "            display(uploader, status)\n",
    "            print('Выберите файлы в виджете выше, затем перейдите к шагу 6.')\n",
    "        except Exception as e_wid:\n",
    "            # Фолбэк: системный диалог (может не работать в headless)\n",
    "            try:\n",
    "                import tkinter as tk\n",
    "                from tkinter import filedialog\n",
    "                root = tk.Tk(); root.withdraw()\n",
    "                print('Откроется системное окно выбора файлов…')\n",
    "                paths = filedialog.askopenfilenames(title='Выберите .csv/.txt', filetypes=[('CSV/TXT','*.csv *.txt'), ('All','*.*')])\n",
    "                paths = list(paths)\n",
    "                if paths:\n",
    "                    SELECTED_FILES = paths\n",
    "                    IS_BYTES_INPUT = False\n",
    "                    print('Выбрано файлов:', len(SELECTED_FILES))\n",
    "                else:\n",
    "                    print('Диалог закрыт без выбора. Повторите или используйте шаг 5.')\n",
    "            except Exception as e_tk:\n",
    "                print('Не удалось открыть диалог выбора файлов. Сообщение:', e_tk)\n",
    "                print('В качестве альтернативы можно указать пути вручную и сразу перейти к шагу 6.')\n",
    "except Exception as e:\n",
    "    print('Ошибка при загрузке через диалог:', e)\n"
   ]
  },
  {
   "cell_type": "code",
   "execution_count": 87,
   "id": "3f1c5429",
   "metadata": {},
   "outputs": [
    {
     "name": "stdout",
     "output_type": "stream",
     "text": [
      "Секция Google Drive пропущена в упрощённом режиме.\n"
     ]
    }
   ],
   "source": [
    "# === 5) Google Drive — упрощено ===\n",
    "print('Секция Google Drive пропущена в упрощённом режиме.')\n"
   ]
  },
  {
   "cell_type": "code",
   "execution_count": 88,
   "id": "7066a259",
   "metadata": {},
   "outputs": [
    {
     "name": "stdout",
     "output_type": "stream",
     "text": [
      "Загружен combined_temperatures.csv: (25934, 6)\n"
     ]
    },
    {
     "data": {
      "text/html": [
       "<div>\n",
       "<style scoped>\n",
       "    .dataframe tbody tr th:only-of-type {\n",
       "        vertical-align: middle;\n",
       "    }\n",
       "\n",
       "    .dataframe tbody tr th {\n",
       "        vertical-align: top;\n",
       "    }\n",
       "\n",
       "    .dataframe thead th {\n",
       "        text-align: right;\n",
       "    }\n",
       "</style>\n",
       "<table border=\"1\" class=\"dataframe\">\n",
       "  <thead>\n",
       "    <tr style=\"text-align: right;\">\n",
       "      <th></th>\n",
       "      <th>date</th>\n",
       "      <th>T8</th>\n",
       "      <th>T9</th>\n",
       "      <th>T10</th>\n",
       "      <th>T11</th>\n",
       "      <th>source_file</th>\n",
       "    </tr>\n",
       "  </thead>\n",
       "  <tbody>\n",
       "    <tr>\n",
       "      <th>0</th>\n",
       "      <td>2025-08-15 19:43:16.634</td>\n",
       "      <td>26.740</td>\n",
       "      <td>26.776</td>\n",
       "      <td>27.003</td>\n",
       "      <td>26.844</td>\n",
       "      <td>uploaded:Log_192.168.77.10_2025_08_15.txt</td>\n",
       "    </tr>\n",
       "    <tr>\n",
       "      <th>1</th>\n",
       "      <td>2025-08-15 19:43:17.642</td>\n",
       "      <td>26.739</td>\n",
       "      <td>26.777</td>\n",
       "      <td>27.002</td>\n",
       "      <td>26.844</td>\n",
       "      <td>uploaded:Log_192.168.77.10_2025_08_15.txt</td>\n",
       "    </tr>\n",
       "    <tr>\n",
       "      <th>2</th>\n",
       "      <td>2025-08-15 19:43:18.642</td>\n",
       "      <td>26.739</td>\n",
       "      <td>26.777</td>\n",
       "      <td>27.001</td>\n",
       "      <td>26.843</td>\n",
       "      <td>uploaded:Log_192.168.77.10_2025_08_15.txt</td>\n",
       "    </tr>\n",
       "    <tr>\n",
       "      <th>3</th>\n",
       "      <td>2025-08-15 19:43:19.643</td>\n",
       "      <td>26.738</td>\n",
       "      <td>26.776</td>\n",
       "      <td>26.998</td>\n",
       "      <td>26.843</td>\n",
       "      <td>uploaded:Log_192.168.77.10_2025_08_15.txt</td>\n",
       "    </tr>\n",
       "    <tr>\n",
       "      <th>4</th>\n",
       "      <td>2025-08-15 19:43:20.643</td>\n",
       "      <td>26.738</td>\n",
       "      <td>26.775</td>\n",
       "      <td>26.998</td>\n",
       "      <td>26.842</td>\n",
       "      <td>uploaded:Log_192.168.77.10_2025_08_15.txt</td>\n",
       "    </tr>\n",
       "    <tr>\n",
       "      <th>5</th>\n",
       "      <td>2025-08-15 19:43:21.644</td>\n",
       "      <td>26.737</td>\n",
       "      <td>26.774</td>\n",
       "      <td>26.997</td>\n",
       "      <td>26.841</td>\n",
       "      <td>uploaded:Log_192.168.77.10_2025_08_15.txt</td>\n",
       "    </tr>\n",
       "    <tr>\n",
       "      <th>6</th>\n",
       "      <td>2025-08-15 19:43:22.644</td>\n",
       "      <td>26.738</td>\n",
       "      <td>26.775</td>\n",
       "      <td>26.994</td>\n",
       "      <td>26.841</td>\n",
       "      <td>uploaded:Log_192.168.77.10_2025_08_15.txt</td>\n",
       "    </tr>\n",
       "    <tr>\n",
       "      <th>7</th>\n",
       "      <td>2025-08-15 19:43:23.645</td>\n",
       "      <td>26.736</td>\n",
       "      <td>26.774</td>\n",
       "      <td>26.993</td>\n",
       "      <td>26.840</td>\n",
       "      <td>uploaded:Log_192.168.77.10_2025_08_15.txt</td>\n",
       "    </tr>\n",
       "    <tr>\n",
       "      <th>8</th>\n",
       "      <td>2025-08-15 19:43:24.645</td>\n",
       "      <td>26.735</td>\n",
       "      <td>26.774</td>\n",
       "      <td>26.992</td>\n",
       "      <td>26.839</td>\n",
       "      <td>uploaded:Log_192.168.77.10_2025_08_15.txt</td>\n",
       "    </tr>\n",
       "    <tr>\n",
       "      <th>9</th>\n",
       "      <td>2025-08-15 19:43:25.646</td>\n",
       "      <td>26.734</td>\n",
       "      <td>26.774</td>\n",
       "      <td>26.990</td>\n",
       "      <td>26.839</td>\n",
       "      <td>uploaded:Log_192.168.77.10_2025_08_15.txt</td>\n",
       "    </tr>\n",
       "  </tbody>\n",
       "</table>\n",
       "</div>"
      ],
      "text/plain": [
       "                      date      T8      T9     T10     T11  \\\n",
       "0  2025-08-15 19:43:16.634  26.740  26.776  27.003  26.844   \n",
       "1  2025-08-15 19:43:17.642  26.739  26.777  27.002  26.844   \n",
       "2  2025-08-15 19:43:18.642  26.739  26.777  27.001  26.843   \n",
       "3  2025-08-15 19:43:19.643  26.738  26.776  26.998  26.843   \n",
       "4  2025-08-15 19:43:20.643  26.738  26.775  26.998  26.842   \n",
       "5  2025-08-15 19:43:21.644  26.737  26.774  26.997  26.841   \n",
       "6  2025-08-15 19:43:22.644  26.738  26.775  26.994  26.841   \n",
       "7  2025-08-15 19:43:23.645  26.736  26.774  26.993  26.840   \n",
       "8  2025-08-15 19:43:24.645  26.735  26.774  26.992  26.839   \n",
       "9  2025-08-15 19:43:25.646  26.734  26.774  26.990  26.839   \n",
       "\n",
       "                                 source_file  \n",
       "0  uploaded:Log_192.168.77.10_2025_08_15.txt  \n",
       "1  uploaded:Log_192.168.77.10_2025_08_15.txt  \n",
       "2  uploaded:Log_192.168.77.10_2025_08_15.txt  \n",
       "3  uploaded:Log_192.168.77.10_2025_08_15.txt  \n",
       "4  uploaded:Log_192.168.77.10_2025_08_15.txt  \n",
       "5  uploaded:Log_192.168.77.10_2025_08_15.txt  \n",
       "6  uploaded:Log_192.168.77.10_2025_08_15.txt  \n",
       "7  uploaded:Log_192.168.77.10_2025_08_15.txt  \n",
       "8  uploaded:Log_192.168.77.10_2025_08_15.txt  \n",
       "9  uploaded:Log_192.168.77.10_2025_08_15.txt  "
      ]
     },
     "metadata": {},
     "output_type": "display_data"
    }
   ],
   "source": [
    "# === 6) Загрузка данных ===\n",
    "frames, errors = [], []\n",
    "import os, io\n",
    "if os.path.exists('combined_temperatures.csv'):\n",
    "    data = pd.read_csv('combined_temperatures.csv')\n",
    "    DATA = data.copy()\n",
    "    print('Загружен combined_temperatures.csv:', data.shape)\n",
    "else:\n",
    "    assert 'SELECTED_FILES' in globals(), 'Выберите файлы (секция 4).'\n",
    "    for item in SELECTED_FILES:\n",
    "        try:\n",
    "            if isinstance(item, tuple) and len(item)==2:\n",
    "                name, content = item\n",
    "                bio = io.BytesIO(content)\n",
    "                df = read_one_table(name, bio, date_format=DATE_FORMAT or None)\n",
    "            else:\n",
    "                path = item\n",
    "                with open(path, 'rb') as f:\n",
    "                    df = read_one_table(os.path.basename(path), io.BytesIO(f.read()), date_format=DATE_FORMAT or None)\n",
    "            frames.append(df)\n",
    "        except Exception as e:\n",
    "            errors.append((str(item), str(e)))\n",
    "    if not frames:\n",
    "        raise RuntimeError('Не удалось прочитать ни один файл.')\n",
    "    data = pd.concat(frames, ignore_index=True).sort_values('date').reset_index(drop=True)\n",
    "    follow_idxs = [REF_IDX + i for i in range(1, N_FOLLOW + 1) if REF_IDX + i <= 15]\n",
    "    cols_keep = ['date', f'T{REF_IDX}'] + [f'T{i}' for i in follow_idxs] + ['source_file']\n",
    "    data = data[[c for c in cols_keep if c in data.columns]]\n",
    "    DATA = data\n",
    "    print('Собранный датафрейм:', data.shape)\n",
    "display(DATA.head(10))\n"
   ]
  },
  {
   "cell_type": "code",
   "execution_count": 89,
   "id": "c0de265a",
   "metadata": {},
   "outputs": [
    {
     "name": "stdout",
     "output_type": "stream",
     "text": [
      "Обнаружено интервалов: совместных = 161 ; по датчику = 375\n"
     ]
    },
    {
     "data": {
      "text/html": [
       "<div>\n",
       "<style scoped>\n",
       "    .dataframe tbody tr th:only-of-type {\n",
       "        vertical-align: middle;\n",
       "    }\n",
       "\n",
       "    .dataframe tbody tr th {\n",
       "        vertical-align: top;\n",
       "    }\n",
       "\n",
       "    .dataframe thead th {\n",
       "        text-align: right;\n",
       "    }\n",
       "</style>\n",
       "<table border=\"1\" class=\"dataframe\">\n",
       "  <thead>\n",
       "    <tr style=\"text-align: right;\">\n",
       "      <th></th>\n",
       "      <th>source_file</th>\n",
       "      <th>sensor</th>\n",
       "      <th>ref</th>\n",
       "      <th>start_idx</th>\n",
       "      <th>end_idx</th>\n",
       "      <th>length</th>\n",
       "      <th>start_date</th>\n",
       "      <th>end_date</th>\n",
       "      <th>mean_T9</th>\n",
       "      <th>std_T9</th>\n",
       "      <th>...</th>\n",
       "      <th>mean_T10</th>\n",
       "      <th>std_T10</th>\n",
       "      <th>min_T10</th>\n",
       "      <th>max_T10</th>\n",
       "      <th>range_T10</th>\n",
       "      <th>mean_T11</th>\n",
       "      <th>std_T11</th>\n",
       "      <th>min_T11</th>\n",
       "      <th>max_T11</th>\n",
       "      <th>range_T11</th>\n",
       "    </tr>\n",
       "  </thead>\n",
       "  <tbody>\n",
       "    <tr>\n",
       "      <th>121</th>\n",
       "      <td>uploaded:Log_192.168.77.10_2025_08_15.txt</td>\n",
       "      <td>T10</td>\n",
       "      <td>T8</td>\n",
       "      <td>2549</td>\n",
       "      <td>2615</td>\n",
       "      <td>67</td>\n",
       "      <td>2025-08-15 20:25:46.786</td>\n",
       "      <td>2025-08-15 20:26:52.819</td>\n",
       "      <td>NaN</td>\n",
       "      <td>NaN</td>\n",
       "      <td>...</td>\n",
       "      <td>19.219493</td>\n",
       "      <td>0.000927</td>\n",
       "      <td>19.218</td>\n",
       "      <td>19.223</td>\n",
       "      <td>0.005</td>\n",
       "      <td>NaN</td>\n",
       "      <td>NaN</td>\n",
       "      <td>NaN</td>\n",
       "      <td>NaN</td>\n",
       "      <td>NaN</td>\n",
       "    </tr>\n",
       "    <tr>\n",
       "      <th>122</th>\n",
       "      <td>uploaded:Log_192.168.77.10_2025_08_15.txt</td>\n",
       "      <td>T10</td>\n",
       "      <td>T8</td>\n",
       "      <td>2570</td>\n",
       "      <td>2630</td>\n",
       "      <td>61</td>\n",
       "      <td>2025-08-15 20:26:07.797</td>\n",
       "      <td>2025-08-15 20:27:07.826</td>\n",
       "      <td>NaN</td>\n",
       "      <td>NaN</td>\n",
       "      <td>...</td>\n",
       "      <td>19.220049</td>\n",
       "      <td>0.000956</td>\n",
       "      <td>19.218</td>\n",
       "      <td>19.223</td>\n",
       "      <td>0.005</td>\n",
       "      <td>NaN</td>\n",
       "      <td>NaN</td>\n",
       "      <td>NaN</td>\n",
       "      <td>NaN</td>\n",
       "      <td>NaN</td>\n",
       "    </tr>\n",
       "    <tr>\n",
       "      <th>123</th>\n",
       "      <td>uploaded:Log_192.168.77.10_2025_08_15.txt</td>\n",
       "      <td>T10</td>\n",
       "      <td>T8</td>\n",
       "      <td>2598</td>\n",
       "      <td>2650</td>\n",
       "      <td>53</td>\n",
       "      <td>2025-08-15 20:26:35.810</td>\n",
       "      <td>2025-08-15 20:27:27.836</td>\n",
       "      <td>NaN</td>\n",
       "      <td>NaN</td>\n",
       "      <td>...</td>\n",
       "      <td>19.220868</td>\n",
       "      <td>0.001020</td>\n",
       "      <td>19.219</td>\n",
       "      <td>19.223</td>\n",
       "      <td>0.004</td>\n",
       "      <td>NaN</td>\n",
       "      <td>NaN</td>\n",
       "      <td>NaN</td>\n",
       "      <td>NaN</td>\n",
       "      <td>NaN</td>\n",
       "    </tr>\n",
       "    <tr>\n",
       "      <th>124</th>\n",
       "      <td>uploaded:Log_192.168.77.10_2025_08_15.txt</td>\n",
       "      <td>T10</td>\n",
       "      <td>T8</td>\n",
       "      <td>2632</td>\n",
       "      <td>2847</td>\n",
       "      <td>216</td>\n",
       "      <td>2025-08-15 20:27:09.827</td>\n",
       "      <td>2025-08-15 20:30:44.925</td>\n",
       "      <td>NaN</td>\n",
       "      <td>NaN</td>\n",
       "      <td>...</td>\n",
       "      <td>19.221273</td>\n",
       "      <td>0.000892</td>\n",
       "      <td>19.220</td>\n",
       "      <td>19.224</td>\n",
       "      <td>0.004</td>\n",
       "      <td>NaN</td>\n",
       "      <td>NaN</td>\n",
       "      <td>NaN</td>\n",
       "      <td>NaN</td>\n",
       "      <td>NaN</td>\n",
       "    </tr>\n",
       "    <tr>\n",
       "      <th>125</th>\n",
       "      <td>uploaded:Log_192.168.77.10_2025_08_15.txt</td>\n",
       "      <td>T10</td>\n",
       "      <td>T8</td>\n",
       "      <td>2816</td>\n",
       "      <td>2955</td>\n",
       "      <td>140</td>\n",
       "      <td>2025-08-15 20:30:13.909</td>\n",
       "      <td>2025-08-15 20:32:32.973</td>\n",
       "      <td>NaN</td>\n",
       "      <td>NaN</td>\n",
       "      <td>...</td>\n",
       "      <td>19.222336</td>\n",
       "      <td>0.000979</td>\n",
       "      <td>19.220</td>\n",
       "      <td>19.224</td>\n",
       "      <td>0.004</td>\n",
       "      <td>NaN</td>\n",
       "      <td>NaN</td>\n",
       "      <td>NaN</td>\n",
       "      <td>NaN</td>\n",
       "      <td>NaN</td>\n",
       "    </tr>\n",
       "  </tbody>\n",
       "</table>\n",
       "<p>5 rows × 32 columns</p>\n",
       "</div>"
      ],
      "text/plain": [
       "                                   source_file sensor ref  start_idx  end_idx  \\\n",
       "121  uploaded:Log_192.168.77.10_2025_08_15.txt    T10  T8       2549     2615   \n",
       "122  uploaded:Log_192.168.77.10_2025_08_15.txt    T10  T8       2570     2630   \n",
       "123  uploaded:Log_192.168.77.10_2025_08_15.txt    T10  T8       2598     2650   \n",
       "124  uploaded:Log_192.168.77.10_2025_08_15.txt    T10  T8       2632     2847   \n",
       "125  uploaded:Log_192.168.77.10_2025_08_15.txt    T10  T8       2816     2955   \n",
       "\n",
       "     length              start_date                end_date  mean_T9  std_T9  \\\n",
       "121      67 2025-08-15 20:25:46.786 2025-08-15 20:26:52.819      NaN     NaN   \n",
       "122      61 2025-08-15 20:26:07.797 2025-08-15 20:27:07.826      NaN     NaN   \n",
       "123      53 2025-08-15 20:26:35.810 2025-08-15 20:27:27.836      NaN     NaN   \n",
       "124     216 2025-08-15 20:27:09.827 2025-08-15 20:30:44.925      NaN     NaN   \n",
       "125     140 2025-08-15 20:30:13.909 2025-08-15 20:32:32.973      NaN     NaN   \n",
       "\n",
       "     ...   mean_T10   std_T10  min_T10  max_T10  range_T10  mean_T11  std_T11  \\\n",
       "121  ...  19.219493  0.000927   19.218   19.223      0.005       NaN      NaN   \n",
       "122  ...  19.220049  0.000956   19.218   19.223      0.005       NaN      NaN   \n",
       "123  ...  19.220868  0.001020   19.219   19.223      0.004       NaN      NaN   \n",
       "124  ...  19.221273  0.000892   19.220   19.224      0.004       NaN      NaN   \n",
       "125  ...  19.222336  0.000979   19.220   19.224      0.004       NaN      NaN   \n",
       "\n",
       "     min_T11  max_T11  range_T11  \n",
       "121      NaN      NaN        NaN  \n",
       "122      NaN      NaN        NaN  \n",
       "123      NaN      NaN        NaN  \n",
       "124      NaN      NaN        NaN  \n",
       "125      NaN      NaN        NaN  \n",
       "\n",
       "[5 rows x 32 columns]"
      ]
     },
     "metadata": {},
     "output_type": "display_data"
    }
   ],
   "source": [
    "# --- Guard: ensure stability functions exist ---\n",
    "if 'detect_stability_improved' not in globals() or 'select_longest_per_degree' not in globals():\n",
    "    import numpy as np\n",
    "    import pandas as pd\n",
    "    from typing import List, Tuple, Sequence, Dict, Optional\n",
    "\n",
    "    def rolling_std_mask(series, window, threshold):\n",
    "        rs = series.rolling(window=window, min_periods=window).std()\n",
    "        return (rs <= threshold)\n",
    "\n",
    "    def rolling_mean_abs_diff_mask(series, window, diff_threshold):\n",
    "        d = series.diff().abs()\n",
    "        m = d.rolling(window=window, min_periods=window).mean()\n",
    "        return (m <= diff_threshold)\n",
    "\n",
    "    def segments_from_mask(mask, window):\n",
    "        import numpy as _np\n",
    "        arr = mask.to_numpy() if hasattr(mask, 'to_numpy') else _np.asarray(mask)\n",
    "        segs = []; cur=None\n",
    "        for i, ok in enumerate(arr):\n",
    "            if ok:\n",
    "                s = max(0, i - window + 1); e = i\n",
    "                if cur is None: cur=(s,e)\n",
    "                else:\n",
    "                    cs, ce = cur\n",
    "                    if s <= ce + 1: cur=(cs, max(ce, e))\n",
    "                    else: segs.append(cur); cur=(s,e)\n",
    "            else:\n",
    "                if cur is not None: segs.append(cur); cur=None\n",
    "        if cur is not None: segs.append(cur)\n",
    "        return segs\n",
    "\n",
    "    def summarize_interval(df, cols, s, e):\n",
    "        row={'start_idx':int(s),'end_idx':int(e),'length':int(e-s+1)}\n",
    "        row['start_date']=pd.to_datetime(df.loc[s,'date']) if s < len(df) else pd.NaT\n",
    "        row['end_date']=pd.to_datetime(df.loc[e,'date']) if e < len(df) else pd.NaT\n",
    "        for c in cols:\n",
    "            vals = df[c].to_numpy()[s:e+1]\n",
    "            good = ~np.isnan(vals)\n",
    "            row[f'mean_{c}'] = float(np.nanmean(vals)) if good.any() else np.nan\n",
    "            row[f'std_{c}'] = float(np.nanstd(vals, ddof=1)) if good.sum()>1 else np.nan\n",
    "            row[f'min_{c}'] = float(np.nanmin(vals)) if good.any() else np.nan\n",
    "            row[f'max_{c}'] = float(np.nanmax(vals)) if good.any() else np.nan\n",
    "            row[f'range_{c}'] = row[f'max_{c}'] - row[f'min_{c}'] if good.any() else np.nan\n",
    "        return row\n",
    "\n",
    "    def median_level(series, s, e):\n",
    "        vals = series.to_numpy()[int(s):int(e)+1]\n",
    "        return float(np.nanmedian(vals))\n",
    "\n",
    "    def split_segment_by_ref_buckets(ref_series, s, e, deg_tol):\n",
    "        vals = ref_series.to_numpy()[s:e+1]\n",
    "        if len(vals)==0 or np.all(np.isnan(vals)): return [(s,e)]\n",
    "        buckets = np.floor(vals/float(deg_tol)).astype('float64')\n",
    "        mask_good = ~np.isnan(buckets)\n",
    "        if mask_good.any():\n",
    "            last=None\n",
    "            for i in range(len(buckets)):\n",
    "                if np.isnan(buckets[i]):\n",
    "                    buckets[i] = last if last is not None else buckets[mask_good][0]\n",
    "                last=buckets[i]\n",
    "        segments=[]; start=s; base=buckets[0]\n",
    "        for i in range(1,len(buckets)):\n",
    "            if buckets[i]!=base:\n",
    "                segments.append((start, s+i-1)); start=s+i; base=buckets[i]\n",
    "        segments.append((start,e))\n",
    "        return segments\n",
    "\n",
    "    def detect_stability_improved(data, ref_idx, follow_idxs, window=20, std_thr=0.05, diff_thr=0.002, min_len=20, group_by_file=True, split_by_ref_buckets=True, deg_tol=1.0, max_ref_range=0.3):\n",
    "        ref_col=f'T{ref_idx}'; follow_cols=[f'T{i}' for i in follow_idxs]\n",
    "        for c in [ref_col]+follow_cols:\n",
    "            if c not in data.columns: raise ValueError(f'Missing column: {c}')\n",
    "        if group_by_file and 'source_file' in data.columns:\n",
    "            first_idx_by_source = (data.index.to_series().groupby(data['source_file']).min().astype(int).to_dict())\n",
    "            groups=list(data.groupby('source_file', sort=False))\n",
    "        else:\n",
    "            first_idx_by_source=None; groups=[('ALL', data)]\n",
    "        joint_rows=[]; by_sensor_rows=[]\n",
    "        for src, g0 in groups:\n",
    "            g=g0.reset_index(drop=True)\n",
    "            mask_ref_std = rolling_std_mask(g[ref_col], window, std_thr)\n",
    "            mask_ref_slope = rolling_mean_abs_diff_mask(g[ref_col], window, diff_thr)\n",
    "            base_ref_mask = (mask_ref_std & mask_ref_slope).to_numpy()\n",
    "            masks_others = {c: rolling_std_mask(g[c], window, std_thr).to_numpy() for c in follow_cols}\n",
    "            joint_mask = base_ref_mask.copy()\n",
    "            for c in follow_cols: joint_mask &= masks_others[c]\n",
    "            def _emit_segment(s,e,cols,extra,container):\n",
    "                subs=[(s,e)]\n",
    "                if split_by_ref_buckets: subs=split_segment_by_ref_buckets(g[ref_col], s, e, deg_tol)\n",
    "                for ss,ee in subs:\n",
    "                    if (ee-ss+1) < int(min_len): continue\n",
    "                    row={'source_file':src}; row.update(extra); row.update(summarize_interval(g, cols, ss, ee))\n",
    "                    if src!='ALL' and first_idx_by_source is not None:\n",
    "                        first_idx=int(first_idx_by_source.get(src,0)); row['start_idx_abs']=row['start_idx']+first_idx; row['end_idx_abs']=row['end_idx']+first_idx\n",
    "                    else:\n",
    "                        row['start_idx_abs']=row['start_idx']; row['end_idx_abs']=row['end_idx']\n",
    "                    ref_med=median_level(g[ref_col], ss, ee); row['ref_level']=ref_med; row['range_ref']=row.get(f'range_{ref_col}', np.nan)\n",
    "                    if max_ref_range is not None and not np.isnan(row['range_ref']) and row['range_ref']>max_ref_range: continue\n",
    "                    container.append(row)\n",
    "            for (s,e) in [(s,e) for (s,e) in segments_from_mask(joint_mask, window) if (e-s+1)>=int(min_len)]:\n",
    "                _emit_segment(s,e,[ref_col]+follow_cols, {'ref':ref_col, 'followers':','.join(follow_cols)}, joint_rows)\n",
    "            for c in follow_cols:\n",
    "                gated = masks_others[c] & base_ref_mask\n",
    "                segs=[(s,e) for (s,e) in segments_from_mask(gated, window) if (e-s+1)>=int(min_len)]\n",
    "                for (s,e) in segs:\n",
    "                    _emit_segment(s,e,[c, ref_col], {'sensor':c, 'ref':ref_col}, by_sensor_rows)\n",
    "        joint = pd.DataFrame(joint_rows).sort_values(['source_file','start_idx']) if joint_rows else pd.DataFrame()\n",
    "        by_sensor = pd.DataFrame(by_sensor_rows).sort_values(['source_file','sensor','start_idx']) if by_sensor_rows else pd.DataFrame()\n",
    "        return joint, by_sensor\n",
    "\n",
    "    def select_longest_per_degree(table, data, ref_idx, mode, deg_tol=1.0, strategy='bucket_centered', centered=True):\n",
    "        if table is None or table.empty: return table\n",
    "        ref_col=f'T{ref_idx}'; tbl=table.copy()\n",
    "        if 'ref_level' not in tbl.columns:\n",
    "            ref_levels=[]\n",
    "            for _,row in tbl.iterrows():\n",
    "                src=row['source_file']; s,e=int(row['start_idx']),int(row['end_idx'])\n",
    "                g = data[data['source_file']==src].reset_index(drop=True) if src!='ALL' else data\n",
    "                ref_levels.append(median_level(g[ref_col], s, e))\n",
    "            tbl['ref_level']=ref_levels\n",
    "        group_keys=['source_file','sensor'] if (mode=='by_sensor' and 'sensor' in tbl.columns) else ['source_file']\n",
    "        out=[]\n",
    "        for _, grp in tbl.sort_values('ref_level').groupby(group_keys, as_index=False):\n",
    "            g=grp.sort_values('ref_level').reset_index(drop=True)\n",
    "            if strategy in ('bucket','bucket_centered') or centered:\n",
    "                bins = np.floor((g['ref_level'] + 0.5*deg_tol)/deg_tol).astype(int) if (strategy=='bucket_centered' or centered) else np.floor(g['ref_level']/deg_tol).astype(int)\n",
    "                g=g.assign(_bin=bins)\n",
    "                keep = g.sort_values('length', ascending=False).groupby('_bin', as_index=False).head(1)\n",
    "                out.append(keep.drop(columns=['_bin']))\n",
    "            else:\n",
    "                i,n=0,len(g)\n",
    "                while i<n:\n",
    "                    start_val=g.loc[i,'ref_level']; j=i\n",
    "                    while j+1<n and (g.loc[j+1,'ref_level']-start_val) <= deg_tol: j+=1\n",
    "                    cluster=g.loc[i:j].copy()\n",
    "                    keep = cluster.sort_values(['length','end_idx'], ascending=[False,False]).iloc[0:1]\n",
    "                    out.append(keep); i=j+1\n",
    "        return pd.concat(out, ignore_index=True) if out else tbl\n",
    "\n",
    "# === 7) Поиск стабильных интервалов (улучшенный) ===\n",
    "assert DATA is not None, 'Нет DATA.'\n",
    "follow_idxs = [REF_IDX + i for i in range(1, N_FOLLOW + 1) if REF_IDX + i <= 15]\n",
    "STABLE_JOINT, STABLE_BY_SENSOR = detect_stability_improved(\n",
    "    DATA, ref_idx=REF_IDX, follow_idxs=follow_idxs,\n",
    "    window=WINDOW_N, std_thr=STD_THR, diff_thr=DIFF_THR,\n",
    "    min_len=MIN_LEN, group_by_file=GROUP_BY_FILE,\n",
    "    split_by_ref_buckets=True, deg_tol=DEG_TOL, max_ref_range=MAX_REF_RANGE\n",
    ")\n",
    "print('Обнаружено интервалов: совместных =', 0 if STABLE_JOINT is None else len(STABLE_JOINT),\n",
    "      '; по датчику =', 0 if STABLE_BY_SENSOR is None else len(STABLE_BY_SENSOR))\n",
    "if STABLE_BY_SENSOR is not None and not STABLE_BY_SENSOR.empty:\n",
    "    display(STABLE_BY_SENSOR.head(5))\n"
   ]
  },
  {
   "cell_type": "markdown",
   "id": "8b5fe8d3",
   "metadata": {},
   "source": [
    "## 7.1 Отбор плато: самое длинное в пределах ±DEG_TOL °C по эталону\n"
   ]
  },
  {
   "cell_type": "code",
   "execution_count": 90,
   "id": "c876eae3",
   "metadata": {},
   "outputs": [
    {
     "name": "stdout",
     "output_type": "stream",
     "text": [
      "STABLE_BY_SENSOR после отбора: 15\n"
     ]
    },
    {
     "data": {
      "text/html": [
       "<div>\n",
       "<style scoped>\n",
       "    .dataframe tbody tr th:only-of-type {\n",
       "        vertical-align: middle;\n",
       "    }\n",
       "\n",
       "    .dataframe tbody tr th {\n",
       "        vertical-align: top;\n",
       "    }\n",
       "\n",
       "    .dataframe thead th {\n",
       "        text-align: right;\n",
       "    }\n",
       "</style>\n",
       "<table border=\"1\" class=\"dataframe\">\n",
       "  <thead>\n",
       "    <tr style=\"text-align: right;\">\n",
       "      <th></th>\n",
       "      <th>source_file</th>\n",
       "      <th>sensor</th>\n",
       "      <th>ref</th>\n",
       "      <th>start_idx</th>\n",
       "      <th>end_idx</th>\n",
       "      <th>length</th>\n",
       "      <th>start_date</th>\n",
       "      <th>end_date</th>\n",
       "      <th>mean_T9</th>\n",
       "      <th>std_T9</th>\n",
       "      <th>...</th>\n",
       "      <th>mean_T10</th>\n",
       "      <th>std_T10</th>\n",
       "      <th>min_T10</th>\n",
       "      <th>max_T10</th>\n",
       "      <th>range_T10</th>\n",
       "      <th>mean_T11</th>\n",
       "      <th>std_T11</th>\n",
       "      <th>min_T11</th>\n",
       "      <th>max_T11</th>\n",
       "      <th>range_T11</th>\n",
       "    </tr>\n",
       "  </thead>\n",
       "  <tbody>\n",
       "    <tr>\n",
       "      <th>0</th>\n",
       "      <td>uploaded:Log_192.168.77.10_2025_08_15.txt</td>\n",
       "      <td>T10</td>\n",
       "      <td>T8</td>\n",
       "      <td>7595</td>\n",
       "      <td>10923</td>\n",
       "      <td>3329</td>\n",
       "      <td>2025-08-15 21:49:55.050</td>\n",
       "      <td>2025-08-15 22:45:24.584</td>\n",
       "      <td>NaN</td>\n",
       "      <td>NaN</td>\n",
       "      <td>...</td>\n",
       "      <td>23.214228</td>\n",
       "      <td>0.000714</td>\n",
       "      <td>23.211</td>\n",
       "      <td>23.217</td>\n",
       "      <td>0.006</td>\n",
       "      <td>NaN</td>\n",
       "      <td>NaN</td>\n",
       "      <td>NaN</td>\n",
       "      <td>NaN</td>\n",
       "      <td>NaN</td>\n",
       "    </tr>\n",
       "    <tr>\n",
       "      <th>1</th>\n",
       "      <td>uploaded:Log_192.168.77.10_2025_08_15.txt</td>\n",
       "      <td>T10</td>\n",
       "      <td>T8</td>\n",
       "      <td>13498</td>\n",
       "      <td>15781</td>\n",
       "      <td>2284</td>\n",
       "      <td>2025-08-15 23:28:20.757</td>\n",
       "      <td>2025-08-16 00:06:24.796</td>\n",
       "      <td>NaN</td>\n",
       "      <td>NaN</td>\n",
       "      <td>...</td>\n",
       "      <td>27.203373</td>\n",
       "      <td>0.000901</td>\n",
       "      <td>27.200</td>\n",
       "      <td>27.207</td>\n",
       "      <td>0.007</td>\n",
       "      <td>NaN</td>\n",
       "      <td>NaN</td>\n",
       "      <td>NaN</td>\n",
       "      <td>NaN</td>\n",
       "      <td>NaN</td>\n",
       "    </tr>\n",
       "    <tr>\n",
       "      <th>2</th>\n",
       "      <td>uploaded:Log_192.168.77.10_2025_08_15.txt</td>\n",
       "      <td>T10</td>\n",
       "      <td>T8</td>\n",
       "      <td>4526</td>\n",
       "      <td>5715</td>\n",
       "      <td>1190</td>\n",
       "      <td>2025-08-15 20:58:44.690</td>\n",
       "      <td>2025-08-15 21:18:34.236</td>\n",
       "      <td>NaN</td>\n",
       "      <td>NaN</td>\n",
       "      <td>...</td>\n",
       "      <td>19.220958</td>\n",
       "      <td>0.000872</td>\n",
       "      <td>19.219</td>\n",
       "      <td>19.224</td>\n",
       "      <td>0.005</td>\n",
       "      <td>NaN</td>\n",
       "      <td>NaN</td>\n",
       "      <td>NaN</td>\n",
       "      <td>NaN</td>\n",
       "      <td>NaN</td>\n",
       "    </tr>\n",
       "    <tr>\n",
       "      <th>3</th>\n",
       "      <td>uploaded:Log_192.168.77.10_2025_08_15.txt</td>\n",
       "      <td>T10</td>\n",
       "      <td>T8</td>\n",
       "      <td>19902</td>\n",
       "      <td>20343</td>\n",
       "      <td>442</td>\n",
       "      <td>2025-08-16 01:15:07.667</td>\n",
       "      <td>2025-08-16 01:22:28.865</td>\n",
       "      <td>NaN</td>\n",
       "      <td>NaN</td>\n",
       "      <td>...</td>\n",
       "      <td>31.193084</td>\n",
       "      <td>0.001119</td>\n",
       "      <td>31.190</td>\n",
       "      <td>31.197</td>\n",
       "      <td>0.007</td>\n",
       "      <td>NaN</td>\n",
       "      <td>NaN</td>\n",
       "      <td>NaN</td>\n",
       "      <td>NaN</td>\n",
       "      <td>NaN</td>\n",
       "    </tr>\n",
       "    <tr>\n",
       "      <th>4</th>\n",
       "      <td>uploaded:Log_192.168.77.10_2025_08_15.txt</td>\n",
       "      <td>T10</td>\n",
       "      <td>T8</td>\n",
       "      <td>21883</td>\n",
       "      <td>22026</td>\n",
       "      <td>144</td>\n",
       "      <td>2025-08-16 01:48:09.566</td>\n",
       "      <td>2025-08-16 01:50:32.632</td>\n",
       "      <td>NaN</td>\n",
       "      <td>NaN</td>\n",
       "      <td>...</td>\n",
       "      <td>35.169771</td>\n",
       "      <td>0.001002</td>\n",
       "      <td>35.166</td>\n",
       "      <td>35.172</td>\n",
       "      <td>0.006</td>\n",
       "      <td>NaN</td>\n",
       "      <td>NaN</td>\n",
       "      <td>NaN</td>\n",
       "      <td>NaN</td>\n",
       "      <td>NaN</td>\n",
       "    </tr>\n",
       "    <tr>\n",
       "      <th>5</th>\n",
       "      <td>uploaded:Log_192.168.77.10_2025_08_15.txt</td>\n",
       "      <td>T11</td>\n",
       "      <td>T8</td>\n",
       "      <td>7595</td>\n",
       "      <td>10931</td>\n",
       "      <td>3337</td>\n",
       "      <td>2025-08-15 21:49:55.050</td>\n",
       "      <td>2025-08-15 22:45:32.588</td>\n",
       "      <td>NaN</td>\n",
       "      <td>NaN</td>\n",
       "      <td>...</td>\n",
       "      <td>NaN</td>\n",
       "      <td>NaN</td>\n",
       "      <td>NaN</td>\n",
       "      <td>NaN</td>\n",
       "      <td>NaN</td>\n",
       "      <td>23.048051</td>\n",
       "      <td>0.000760</td>\n",
       "      <td>23.044</td>\n",
       "      <td>23.051</td>\n",
       "      <td>0.007</td>\n",
       "    </tr>\n",
       "    <tr>\n",
       "      <th>6</th>\n",
       "      <td>uploaded:Log_192.168.77.10_2025_08_15.txt</td>\n",
       "      <td>T11</td>\n",
       "      <td>T8</td>\n",
       "      <td>3313</td>\n",
       "      <td>6082</td>\n",
       "      <td>2770</td>\n",
       "      <td>2025-08-15 20:38:31.135</td>\n",
       "      <td>2025-08-15 21:24:41.403</td>\n",
       "      <td>NaN</td>\n",
       "      <td>NaN</td>\n",
       "      <td>...</td>\n",
       "      <td>NaN</td>\n",
       "      <td>NaN</td>\n",
       "      <td>NaN</td>\n",
       "      <td>NaN</td>\n",
       "      <td>NaN</td>\n",
       "      <td>19.053984</td>\n",
       "      <td>0.000916</td>\n",
       "      <td>19.051</td>\n",
       "      <td>19.057</td>\n",
       "      <td>0.006</td>\n",
       "    </tr>\n",
       "    <tr>\n",
       "      <th>7</th>\n",
       "      <td>uploaded:Log_192.168.77.10_2025_08_15.txt</td>\n",
       "      <td>T11</td>\n",
       "      <td>T8</td>\n",
       "      <td>12577</td>\n",
       "      <td>14342</td>\n",
       "      <td>1766</td>\n",
       "      <td>2025-08-15 23:12:59.337</td>\n",
       "      <td>2025-08-15 23:42:25.143</td>\n",
       "      <td>NaN</td>\n",
       "      <td>NaN</td>\n",
       "      <td>...</td>\n",
       "      <td>NaN</td>\n",
       "      <td>NaN</td>\n",
       "      <td>NaN</td>\n",
       "      <td>NaN</td>\n",
       "      <td>NaN</td>\n",
       "      <td>27.035089</td>\n",
       "      <td>0.001009</td>\n",
       "      <td>27.032</td>\n",
       "      <td>27.038</td>\n",
       "      <td>0.006</td>\n",
       "    </tr>\n",
       "    <tr>\n",
       "      <th>8</th>\n",
       "      <td>uploaded:Log_192.168.77.10_2025_08_15.txt</td>\n",
       "      <td>T11</td>\n",
       "      <td>T8</td>\n",
       "      <td>19902</td>\n",
       "      <td>20356</td>\n",
       "      <td>455</td>\n",
       "      <td>2025-08-16 01:15:07.667</td>\n",
       "      <td>2025-08-16 01:22:41.872</td>\n",
       "      <td>NaN</td>\n",
       "      <td>NaN</td>\n",
       "      <td>...</td>\n",
       "      <td>NaN</td>\n",
       "      <td>NaN</td>\n",
       "      <td>NaN</td>\n",
       "      <td>NaN</td>\n",
       "      <td>NaN</td>\n",
       "      <td>31.026727</td>\n",
       "      <td>0.001127</td>\n",
       "      <td>31.023</td>\n",
       "      <td>31.031</td>\n",
       "      <td>0.008</td>\n",
       "    </tr>\n",
       "    <tr>\n",
       "      <th>9</th>\n",
       "      <td>uploaded:Log_192.168.77.10_2025_08_15.txt</td>\n",
       "      <td>T11</td>\n",
       "      <td>T8</td>\n",
       "      <td>22479</td>\n",
       "      <td>22640</td>\n",
       "      <td>162</td>\n",
       "      <td>2025-08-16 01:58:05.838</td>\n",
       "      <td>2025-08-16 02:00:46.913</td>\n",
       "      <td>NaN</td>\n",
       "      <td>NaN</td>\n",
       "      <td>...</td>\n",
       "      <td>NaN</td>\n",
       "      <td>NaN</td>\n",
       "      <td>NaN</td>\n",
       "      <td>NaN</td>\n",
       "      <td>NaN</td>\n",
       "      <td>35.002704</td>\n",
       "      <td>0.000984</td>\n",
       "      <td>35.001</td>\n",
       "      <td>35.005</td>\n",
       "      <td>0.004</td>\n",
       "    </tr>\n",
       "  </tbody>\n",
       "</table>\n",
       "<p>10 rows × 32 columns</p>\n",
       "</div>"
      ],
      "text/plain": [
       "                                 source_file sensor ref  start_idx  end_idx  \\\n",
       "0  uploaded:Log_192.168.77.10_2025_08_15.txt    T10  T8       7595    10923   \n",
       "1  uploaded:Log_192.168.77.10_2025_08_15.txt    T10  T8      13498    15781   \n",
       "2  uploaded:Log_192.168.77.10_2025_08_15.txt    T10  T8       4526     5715   \n",
       "3  uploaded:Log_192.168.77.10_2025_08_15.txt    T10  T8      19902    20343   \n",
       "4  uploaded:Log_192.168.77.10_2025_08_15.txt    T10  T8      21883    22026   \n",
       "5  uploaded:Log_192.168.77.10_2025_08_15.txt    T11  T8       7595    10931   \n",
       "6  uploaded:Log_192.168.77.10_2025_08_15.txt    T11  T8       3313     6082   \n",
       "7  uploaded:Log_192.168.77.10_2025_08_15.txt    T11  T8      12577    14342   \n",
       "8  uploaded:Log_192.168.77.10_2025_08_15.txt    T11  T8      19902    20356   \n",
       "9  uploaded:Log_192.168.77.10_2025_08_15.txt    T11  T8      22479    22640   \n",
       "\n",
       "   length              start_date                end_date  mean_T9  std_T9  \\\n",
       "0    3329 2025-08-15 21:49:55.050 2025-08-15 22:45:24.584      NaN     NaN   \n",
       "1    2284 2025-08-15 23:28:20.757 2025-08-16 00:06:24.796      NaN     NaN   \n",
       "2    1190 2025-08-15 20:58:44.690 2025-08-15 21:18:34.236      NaN     NaN   \n",
       "3     442 2025-08-16 01:15:07.667 2025-08-16 01:22:28.865      NaN     NaN   \n",
       "4     144 2025-08-16 01:48:09.566 2025-08-16 01:50:32.632      NaN     NaN   \n",
       "5    3337 2025-08-15 21:49:55.050 2025-08-15 22:45:32.588      NaN     NaN   \n",
       "6    2770 2025-08-15 20:38:31.135 2025-08-15 21:24:41.403      NaN     NaN   \n",
       "7    1766 2025-08-15 23:12:59.337 2025-08-15 23:42:25.143      NaN     NaN   \n",
       "8     455 2025-08-16 01:15:07.667 2025-08-16 01:22:41.872      NaN     NaN   \n",
       "9     162 2025-08-16 01:58:05.838 2025-08-16 02:00:46.913      NaN     NaN   \n",
       "\n",
       "   ...   mean_T10   std_T10  min_T10  max_T10  range_T10   mean_T11   std_T11  \\\n",
       "0  ...  23.214228  0.000714   23.211   23.217      0.006        NaN       NaN   \n",
       "1  ...  27.203373  0.000901   27.200   27.207      0.007        NaN       NaN   \n",
       "2  ...  19.220958  0.000872   19.219   19.224      0.005        NaN       NaN   \n",
       "3  ...  31.193084  0.001119   31.190   31.197      0.007        NaN       NaN   \n",
       "4  ...  35.169771  0.001002   35.166   35.172      0.006        NaN       NaN   \n",
       "5  ...        NaN       NaN      NaN      NaN        NaN  23.048051  0.000760   \n",
       "6  ...        NaN       NaN      NaN      NaN        NaN  19.053984  0.000916   \n",
       "7  ...        NaN       NaN      NaN      NaN        NaN  27.035089  0.001009   \n",
       "8  ...        NaN       NaN      NaN      NaN        NaN  31.026727  0.001127   \n",
       "9  ...        NaN       NaN      NaN      NaN        NaN  35.002704  0.000984   \n",
       "\n",
       "   min_T11  max_T11  range_T11  \n",
       "0      NaN      NaN        NaN  \n",
       "1      NaN      NaN        NaN  \n",
       "2      NaN      NaN        NaN  \n",
       "3      NaN      NaN        NaN  \n",
       "4      NaN      NaN        NaN  \n",
       "5   23.044   23.051      0.007  \n",
       "6   19.051   19.057      0.006  \n",
       "7   27.032   27.038      0.006  \n",
       "8   31.023   31.031      0.008  \n",
       "9   35.001   35.005      0.004  \n",
       "\n",
       "[10 rows x 32 columns]"
      ]
     },
     "metadata": {},
     "output_type": "display_data"
    },
    {
     "name": "stdout",
     "output_type": "stream",
     "text": [
      "STABLE_JOINT после отбора: 5\n"
     ]
    },
    {
     "data": {
      "text/html": [
       "<div>\n",
       "<style scoped>\n",
       "    .dataframe tbody tr th:only-of-type {\n",
       "        vertical-align: middle;\n",
       "    }\n",
       "\n",
       "    .dataframe tbody tr th {\n",
       "        vertical-align: top;\n",
       "    }\n",
       "\n",
       "    .dataframe thead th {\n",
       "        text-align: right;\n",
       "    }\n",
       "</style>\n",
       "<table border=\"1\" class=\"dataframe\">\n",
       "  <thead>\n",
       "    <tr style=\"text-align: right;\">\n",
       "      <th></th>\n",
       "      <th>source_file</th>\n",
       "      <th>ref</th>\n",
       "      <th>followers</th>\n",
       "      <th>start_idx</th>\n",
       "      <th>end_idx</th>\n",
       "      <th>length</th>\n",
       "      <th>start_date</th>\n",
       "      <th>end_date</th>\n",
       "      <th>mean_T8</th>\n",
       "      <th>std_T8</th>\n",
       "      <th>...</th>\n",
       "      <th>range_T10</th>\n",
       "      <th>mean_T11</th>\n",
       "      <th>std_T11</th>\n",
       "      <th>min_T11</th>\n",
       "      <th>max_T11</th>\n",
       "      <th>range_T11</th>\n",
       "      <th>start_idx_abs</th>\n",
       "      <th>end_idx_abs</th>\n",
       "      <th>ref_level</th>\n",
       "      <th>range_ref</th>\n",
       "    </tr>\n",
       "  </thead>\n",
       "  <tbody>\n",
       "    <tr>\n",
       "      <th>0</th>\n",
       "      <td>uploaded:Log_192.168.77.10_2025_08_15.txt</td>\n",
       "      <td>T8</td>\n",
       "      <td>T9,T10,T11</td>\n",
       "      <td>7614</td>\n",
       "      <td>10923</td>\n",
       "      <td>3310</td>\n",
       "      <td>2025-08-15 21:50:14.058</td>\n",
       "      <td>2025-08-15 22:45:24.584</td>\n",
       "      <td>22.945693</td>\n",
       "      <td>0.000694</td>\n",
       "      <td>...</td>\n",
       "      <td>0.005</td>\n",
       "      <td>23.048060</td>\n",
       "      <td>0.000736</td>\n",
       "      <td>23.044</td>\n",
       "      <td>23.051</td>\n",
       "      <td>0.007</td>\n",
       "      <td>7614</td>\n",
       "      <td>10923</td>\n",
       "      <td>22.946</td>\n",
       "      <td>0.006</td>\n",
       "    </tr>\n",
       "    <tr>\n",
       "      <th>1</th>\n",
       "      <td>uploaded:Log_192.168.77.10_2025_08_15.txt</td>\n",
       "      <td>T8</td>\n",
       "      <td>T9,T10,T11</td>\n",
       "      <td>4526</td>\n",
       "      <td>5715</td>\n",
       "      <td>1190</td>\n",
       "      <td>2025-08-15 20:58:44.690</td>\n",
       "      <td>2025-08-15 21:18:34.236</td>\n",
       "      <td>18.951103</td>\n",
       "      <td>0.000681</td>\n",
       "      <td>...</td>\n",
       "      <td>0.005</td>\n",
       "      <td>19.053768</td>\n",
       "      <td>0.000747</td>\n",
       "      <td>19.052</td>\n",
       "      <td>19.056</td>\n",
       "      <td>0.004</td>\n",
       "      <td>4526</td>\n",
       "      <td>5715</td>\n",
       "      <td>18.951</td>\n",
       "      <td>0.006</td>\n",
       "    </tr>\n",
       "    <tr>\n",
       "      <th>2</th>\n",
       "      <td>uploaded:Log_192.168.77.10_2025_08_15.txt</td>\n",
       "      <td>T8</td>\n",
       "      <td>T9,T10,T11</td>\n",
       "      <td>13498</td>\n",
       "      <td>14342</td>\n",
       "      <td>845</td>\n",
       "      <td>2025-08-15 23:28:20.757</td>\n",
       "      <td>2025-08-15 23:42:25.143</td>\n",
       "      <td>26.930291</td>\n",
       "      <td>0.000846</td>\n",
       "      <td>...</td>\n",
       "      <td>0.005</td>\n",
       "      <td>27.035465</td>\n",
       "      <td>0.000908</td>\n",
       "      <td>27.032</td>\n",
       "      <td>27.038</td>\n",
       "      <td>0.006</td>\n",
       "      <td>13498</td>\n",
       "      <td>14342</td>\n",
       "      <td>26.930</td>\n",
       "      <td>0.005</td>\n",
       "    </tr>\n",
       "    <tr>\n",
       "      <th>3</th>\n",
       "      <td>uploaded:Log_192.168.77.10_2025_08_15.txt</td>\n",
       "      <td>T8</td>\n",
       "      <td>T9,T10,T11</td>\n",
       "      <td>19986</td>\n",
       "      <td>20307</td>\n",
       "      <td>322</td>\n",
       "      <td>2025-08-16 01:16:31.704</td>\n",
       "      <td>2025-08-16 01:21:52.850</td>\n",
       "      <td>30.908925</td>\n",
       "      <td>0.001056</td>\n",
       "      <td>...</td>\n",
       "      <td>0.007</td>\n",
       "      <td>31.026863</td>\n",
       "      <td>0.000995</td>\n",
       "      <td>31.024</td>\n",
       "      <td>31.030</td>\n",
       "      <td>0.006</td>\n",
       "      <td>19986</td>\n",
       "      <td>20307</td>\n",
       "      <td>30.909</td>\n",
       "      <td>0.005</td>\n",
       "    </tr>\n",
       "    <tr>\n",
       "      <th>4</th>\n",
       "      <td>uploaded:Log_192.168.77.10_2025_08_15.txt</td>\n",
       "      <td>T8</td>\n",
       "      <td>T9,T10,T11</td>\n",
       "      <td>22507</td>\n",
       "      <td>22634</td>\n",
       "      <td>128</td>\n",
       "      <td>2025-08-16 01:58:33.852</td>\n",
       "      <td>2025-08-16 02:00:40.911</td>\n",
       "      <td>34.874852</td>\n",
       "      <td>0.000653</td>\n",
       "      <td>...</td>\n",
       "      <td>0.003</td>\n",
       "      <td>35.002789</td>\n",
       "      <td>0.000911</td>\n",
       "      <td>35.001</td>\n",
       "      <td>35.004</td>\n",
       "      <td>0.003</td>\n",
       "      <td>22507</td>\n",
       "      <td>22634</td>\n",
       "      <td>34.875</td>\n",
       "      <td>0.003</td>\n",
       "    </tr>\n",
       "  </tbody>\n",
       "</table>\n",
       "<p>5 rows × 32 columns</p>\n",
       "</div>"
      ],
      "text/plain": [
       "                                 source_file ref   followers  start_idx  \\\n",
       "0  uploaded:Log_192.168.77.10_2025_08_15.txt  T8  T9,T10,T11       7614   \n",
       "1  uploaded:Log_192.168.77.10_2025_08_15.txt  T8  T9,T10,T11       4526   \n",
       "2  uploaded:Log_192.168.77.10_2025_08_15.txt  T8  T9,T10,T11      13498   \n",
       "3  uploaded:Log_192.168.77.10_2025_08_15.txt  T8  T9,T10,T11      19986   \n",
       "4  uploaded:Log_192.168.77.10_2025_08_15.txt  T8  T9,T10,T11      22507   \n",
       "\n",
       "   end_idx  length              start_date                end_date    mean_T8  \\\n",
       "0    10923    3310 2025-08-15 21:50:14.058 2025-08-15 22:45:24.584  22.945693   \n",
       "1     5715    1190 2025-08-15 20:58:44.690 2025-08-15 21:18:34.236  18.951103   \n",
       "2    14342     845 2025-08-15 23:28:20.757 2025-08-15 23:42:25.143  26.930291   \n",
       "3    20307     322 2025-08-16 01:16:31.704 2025-08-16 01:21:52.850  30.908925   \n",
       "4    22634     128 2025-08-16 01:58:33.852 2025-08-16 02:00:40.911  34.874852   \n",
       "\n",
       "     std_T8  ...  range_T10   mean_T11   std_T11  min_T11  max_T11  range_T11  \\\n",
       "0  0.000694  ...      0.005  23.048060  0.000736   23.044   23.051      0.007   \n",
       "1  0.000681  ...      0.005  19.053768  0.000747   19.052   19.056      0.004   \n",
       "2  0.000846  ...      0.005  27.035465  0.000908   27.032   27.038      0.006   \n",
       "3  0.001056  ...      0.007  31.026863  0.000995   31.024   31.030      0.006   \n",
       "4  0.000653  ...      0.003  35.002789  0.000911   35.001   35.004      0.003   \n",
       "\n",
       "   start_idx_abs  end_idx_abs  ref_level  range_ref  \n",
       "0           7614        10923     22.946      0.006  \n",
       "1           4526         5715     18.951      0.006  \n",
       "2          13498        14342     26.930      0.005  \n",
       "3          19986        20307     30.909      0.005  \n",
       "4          22507        22634     34.875      0.003  \n",
       "\n",
       "[5 rows x 32 columns]"
      ]
     },
     "metadata": {},
     "output_type": "display_data"
    }
   ],
   "source": [
    "# --- Guard: ensure stability functions exist ---\n",
    "if 'detect_stability_improved' not in globals() or 'select_longest_per_degree' not in globals():\n",
    "    import numpy as np\n",
    "    import pandas as pd\n",
    "    from typing import List, Tuple, Sequence, Dict, Optional\n",
    "\n",
    "    def rolling_std_mask(series, window, threshold):\n",
    "        rs = series.rolling(window=window, min_periods=window).std()\n",
    "        return (rs <= threshold)\n",
    "\n",
    "    def rolling_mean_abs_diff_mask(series, window, diff_threshold):\n",
    "        d = series.diff().abs()\n",
    "        m = d.rolling(window=window, min_periods=window).mean()\n",
    "        return (m <= diff_threshold)\n",
    "\n",
    "    def segments_from_mask(mask, window):\n",
    "        import numpy as _np\n",
    "        arr = mask.to_numpy() if hasattr(mask, 'to_numpy') else _np.asarray(mask)\n",
    "        segs = []; cur=None\n",
    "        for i, ok in enumerate(arr):\n",
    "            if ok:\n",
    "                s = max(0, i - window + 1); e = i\n",
    "                if cur is None: cur=(s,e)\n",
    "                else:\n",
    "                    cs, ce = cur\n",
    "                    if s <= ce + 1: cur=(cs, max(ce, e))\n",
    "                    else: segs.append(cur); cur=(s,e)\n",
    "            else:\n",
    "                if cur is not None: segs.append(cur); cur=None\n",
    "        if cur is not None: segs.append(cur)\n",
    "        return segs\n",
    "\n",
    "    def summarize_interval(df, cols, s, e):\n",
    "        row={'start_idx':int(s),'end_idx':int(e),'length':int(e-s+1)}\n",
    "        row['start_date']=pd.to_datetime(df.loc[s,'date']) if s < len(df) else pd.NaT\n",
    "        row['end_date']=pd.to_datetime(df.loc[e,'date']) if e < len(df) else pd.NaT\n",
    "        for c in cols:\n",
    "            vals = df[c].to_numpy()[s:e+1]\n",
    "            good = ~np.isnan(vals)\n",
    "            row[f'mean_{c}'] = float(np.nanmean(vals)) if good.any() else np.nan\n",
    "            row[f'std_{c}'] = float(np.nanstd(vals, ddof=1)) if good.sum()>1 else np.nan\n",
    "            row[f'min_{c}'] = float(np.nanmin(vals)) if good.any() else np.nan\n",
    "            row[f'max_{c}'] = float(np.nanmax(vals)) if good.any() else np.nan\n",
    "            row[f'range_{c}'] = row[f'max_{c}'] - row[f'min_{c}'] if good.any() else np.nan\n",
    "        return row\n",
    "\n",
    "    def median_level(series, s, e):\n",
    "        vals = series.to_numpy()[int(s):int(e)+1]\n",
    "        return float(np.nanmedian(vals))\n",
    "\n",
    "    def split_segment_by_ref_buckets(ref_series, s, e, deg_tol):\n",
    "        vals = ref_series.to_numpy()[s:e+1]\n",
    "        if len(vals)==0 or np.all(np.isnan(vals)): return [(s,e)]\n",
    "        buckets = np.floor(vals/float(deg_tol)).astype('float64')\n",
    "        mask_good = ~np.isnan(buckets)\n",
    "        if mask_good.any():\n",
    "            last=None\n",
    "            for i in range(len(buckets)):\n",
    "                if np.isnan(buckets[i]):\n",
    "                    buckets[i] = last if last is not None else buckets[mask_good][0]\n",
    "                last=buckets[i]\n",
    "        segments=[]; start=s; base=buckets[0]\n",
    "        for i in range(1,len(buckets)):\n",
    "            if buckets[i]!=base:\n",
    "                segments.append((start, s+i-1)); start=s+i; base=buckets[i]\n",
    "        segments.append((start,e))\n",
    "        return segments\n",
    "\n",
    "    def detect_stability_improved(data, ref_idx, follow_idxs, window=20, std_thr=0.05, diff_thr=0.002, min_len=20, group_by_file=True, split_by_ref_buckets=True, deg_tol=1.0, max_ref_range=0.3):\n",
    "        ref_col=f'T{ref_idx}'; follow_cols=[f'T{i}' for i in follow_idxs]\n",
    "        for c in [ref_col]+follow_cols:\n",
    "            if c not in data.columns: raise ValueError(f'Missing column: {c}')\n",
    "        if group_by_file and 'source_file' in data.columns:\n",
    "            first_idx_by_source = (data.index.to_series().groupby(data['source_file']).min().astype(int).to_dict())\n",
    "            groups=list(data.groupby('source_file', sort=False))\n",
    "        else:\n",
    "            first_idx_by_source=None; groups=[('ALL', data)]\n",
    "        joint_rows=[]; by_sensor_rows=[]\n",
    "        for src, g0 in groups:\n",
    "            g=g0.reset_index(drop=True)\n",
    "            mask_ref_std = rolling_std_mask(g[ref_col], window, std_thr)\n",
    "            mask_ref_slope = rolling_mean_abs_diff_mask(g[ref_col], window, diff_thr)\n",
    "            base_ref_mask = (mask_ref_std & mask_ref_slope).to_numpy()\n",
    "            masks_others = {c: rolling_std_mask(g[c], window, std_thr).to_numpy() for c in follow_cols}\n",
    "            joint_mask = base_ref_mask.copy()\n",
    "            for c in follow_cols: joint_mask &= masks_others[c]\n",
    "            def _emit_segment(s,e,cols,extra,container):\n",
    "                subs=[(s,e)]\n",
    "                if split_by_ref_buckets: subs=split_segment_by_ref_buckets(g[ref_col], s, e, deg_tol)\n",
    "                for ss,ee in subs:\n",
    "                    if (ee-ss+1) < int(min_len): continue\n",
    "                    row={'source_file':src}; row.update(extra); row.update(summarize_interval(g, cols, ss, ee))\n",
    "                    if src!='ALL' and first_idx_by_source is not None:\n",
    "                        first_idx=int(first_idx_by_source.get(src,0)); row['start_idx_abs']=row['start_idx']+first_idx; row['end_idx_abs']=row['end_idx']+first_idx\n",
    "                    else:\n",
    "                        row['start_idx_abs']=row['start_idx']; row['end_idx_abs']=row['end_idx']\n",
    "                    ref_med=median_level(g[ref_col], ss, ee); row['ref_level']=ref_med; row['range_ref']=row.get(f'range_{ref_col}', np.nan)\n",
    "                    if max_ref_range is not None and not np.isnan(row['range_ref']) and row['range_ref']>max_ref_range: continue\n",
    "                    container.append(row)\n",
    "            for (s,e) in [(s,e) for (s,e) in segments_from_mask(joint_mask, window) if (e-s+1)>=int(min_len)]:\n",
    "                _emit_segment(s,e,[ref_col]+follow_cols, {'ref':ref_col, 'followers':','.join(follow_cols)}, joint_rows)\n",
    "            for c in follow_cols:\n",
    "                gated = masks_others[c] & base_ref_mask\n",
    "                segs=[(s,e) for (s,e) in segments_from_mask(gated, window) if (e-s+1)>=int(min_len)]\n",
    "                for (s,e) in segs:\n",
    "                    _emit_segment(s,e,[c, ref_col], {'sensor':c, 'ref':ref_col}, by_sensor_rows)\n",
    "        joint = pd.DataFrame(joint_rows).sort_values(['source_file','start_idx']) if joint_rows else pd.DataFrame()\n",
    "        by_sensor = pd.DataFrame(by_sensor_rows).sort_values(['source_file','sensor','start_idx']) if by_sensor_rows else pd.DataFrame()\n",
    "        return joint, by_sensor\n",
    "\n",
    "    def select_longest_per_degree(table, data, ref_idx, mode, deg_tol=1.0, strategy='bucket_centered', centered=True):\n",
    "        if table is None or table.empty: return table\n",
    "        ref_col=f'T{ref_idx}'; tbl=table.copy()\n",
    "        if 'ref_level' not in tbl.columns:\n",
    "            ref_levels=[]\n",
    "            for _,row in tbl.iterrows():\n",
    "                src=row['source_file']; s,e=int(row['start_idx']),int(row['end_idx'])\n",
    "                g = data[data['source_file']==src].reset_index(drop=True) if src!='ALL' else data\n",
    "                ref_levels.append(median_level(g[ref_col], s, e))\n",
    "            tbl['ref_level']=ref_levels\n",
    "        group_keys=['source_file','sensor'] if (mode=='by_sensor' and 'sensor' in tbl.columns) else ['source_file']\n",
    "        out=[]\n",
    "        for _, grp in tbl.sort_values('ref_level').groupby(group_keys, as_index=False):\n",
    "            g=grp.sort_values('ref_level').reset_index(drop=True)\n",
    "            if strategy in ('bucket','bucket_centered') or centered:\n",
    "                bins = np.floor((g['ref_level'] + 0.5*deg_tol)/deg_tol).astype(int) if (strategy=='bucket_centered' or centered) else np.floor(g['ref_level']/deg_tol).astype(int)\n",
    "                g=g.assign(_bin=bins)\n",
    "                keep = g.sort_values('length', ascending=False).groupby('_bin', as_index=False).head(1)\n",
    "                out.append(keep.drop(columns=['_bin']))\n",
    "            else:\n",
    "                i,n=0,len(g)\n",
    "                while i<n:\n",
    "                    start_val=g.loc[i,'ref_level']; j=i\n",
    "                    while j+1<n and (g.loc[j+1,'ref_level']-start_val) <= deg_tol: j+=1\n",
    "                    cluster=g.loc[i:j].copy()\n",
    "                    keep = cluster.sort_values(['length','end_idx'], ascending=[False,False]).iloc[0:1]\n",
    "                    out.append(keep); i=j+1\n",
    "        return pd.concat(out, ignore_index=True) if out else tbl\n",
    "\n",
    "# === 8) Отбор по полочкам: один самый длинный интервал на корзину ===\n",
    "assert DATA is not None, 'Нет DATA.'\n",
    "if STABLE_BY_SENSOR is not None and not STABLE_BY_SENSOR.empty:\n",
    "    STABLE_BY_SENSOR = select_longest_per_degree(STABLE_BY_SENSOR, DATA, REF_IDX, mode='by_sensor', deg_tol=DEG_TOL, strategy='bucket_centered', centered=True)\n",
    "    print('STABLE_BY_SENSOR после отбора:', len(STABLE_BY_SENSOR))\n",
    "    display(STABLE_BY_SENSOR.head(10))\n",
    "if STABLE_JOINT is not None and not STABLE_JOINT.empty:\n",
    "    STABLE_JOINT = select_longest_per_degree(STABLE_JOINT, DATA, REF_IDX, mode='joint', deg_tol=DEG_TOL, strategy='bucket_centered', centered=True)\n",
    "    print('STABLE_JOINT после отбора:', len(STABLE_JOINT))\n",
    "    display(STABLE_JOINT.head(10))\n"
   ]
  },
  {
   "cell_type": "code",
   "execution_count": 91,
   "id": "e2004a08",
   "metadata": {},
   "outputs": [
    {
     "name": "stdout",
     "output_type": "stream",
     "text": [
      "Калибровочных точек: 15\n"
     ]
    },
    {
     "data": {
      "text/html": [
       "<div>\n",
       "<style scoped>\n",
       "    .dataframe tbody tr th:only-of-type {\n",
       "        vertical-align: middle;\n",
       "    }\n",
       "\n",
       "    .dataframe tbody tr th {\n",
       "        vertical-align: top;\n",
       "    }\n",
       "\n",
       "    .dataframe thead th {\n",
       "        text-align: right;\n",
       "    }\n",
       "</style>\n",
       "<table border=\"1\" class=\"dataframe\">\n",
       "  <thead>\n",
       "    <tr style=\"text-align: right;\">\n",
       "      <th></th>\n",
       "      <th>source_file</th>\n",
       "      <th>sensor</th>\n",
       "      <th>ref</th>\n",
       "      <th>bin_center</th>\n",
       "      <th>bin_low</th>\n",
       "      <th>bin_high</th>\n",
       "      <th>x_mean</th>\n",
       "      <th>x_std</th>\n",
       "      <th>y_mean</th>\n",
       "      <th>y_std</th>\n",
       "      <th>n_samples</th>\n",
       "      <th>start_date</th>\n",
       "      <th>end_date</th>\n",
       "    </tr>\n",
       "  </thead>\n",
       "  <tbody>\n",
       "    <tr>\n",
       "      <th>0</th>\n",
       "      <td>uploaded:Log_192.168.77.10_2025_08_15.txt</td>\n",
       "      <td>T10</td>\n",
       "      <td>T8</td>\n",
       "      <td>23.0</td>\n",
       "      <td>22.5</td>\n",
       "      <td>23.5</td>\n",
       "      <td>23.214228</td>\n",
       "      <td>0.000714</td>\n",
       "      <td>22.945675</td>\n",
       "      <td>0.000733</td>\n",
       "      <td>3329</td>\n",
       "      <td>2025-08-15 21:49:55.050</td>\n",
       "      <td>2025-08-15 22:45:24.584</td>\n",
       "    </tr>\n",
       "    <tr>\n",
       "      <th>1</th>\n",
       "      <td>uploaded:Log_192.168.77.10_2025_08_15.txt</td>\n",
       "      <td>T10</td>\n",
       "      <td>T8</td>\n",
       "      <td>27.0</td>\n",
       "      <td>26.5</td>\n",
       "      <td>27.5</td>\n",
       "      <td>27.203373</td>\n",
       "      <td>0.000901</td>\n",
       "      <td>26.930758</td>\n",
       "      <td>0.000877</td>\n",
       "      <td>2284</td>\n",
       "      <td>2025-08-15 23:28:20.757</td>\n",
       "      <td>2025-08-16 00:06:24.796</td>\n",
       "    </tr>\n",
       "    <tr>\n",
       "      <th>2</th>\n",
       "      <td>uploaded:Log_192.168.77.10_2025_08_15.txt</td>\n",
       "      <td>T10</td>\n",
       "      <td>T8</td>\n",
       "      <td>19.0</td>\n",
       "      <td>18.5</td>\n",
       "      <td>19.5</td>\n",
       "      <td>19.220958</td>\n",
       "      <td>0.000872</td>\n",
       "      <td>18.951103</td>\n",
       "      <td>0.000681</td>\n",
       "      <td>1190</td>\n",
       "      <td>2025-08-15 20:58:44.690</td>\n",
       "      <td>2025-08-15 21:18:34.236</td>\n",
       "    </tr>\n",
       "    <tr>\n",
       "      <th>3</th>\n",
       "      <td>uploaded:Log_192.168.77.10_2025_08_15.txt</td>\n",
       "      <td>T10</td>\n",
       "      <td>T8</td>\n",
       "      <td>31.0</td>\n",
       "      <td>30.5</td>\n",
       "      <td>31.5</td>\n",
       "      <td>31.193084</td>\n",
       "      <td>0.001119</td>\n",
       "      <td>30.908769</td>\n",
       "      <td>0.001165</td>\n",
       "      <td>442</td>\n",
       "      <td>2025-08-16 01:15:07.667</td>\n",
       "      <td>2025-08-16 01:22:28.865</td>\n",
       "    </tr>\n",
       "    <tr>\n",
       "      <th>4</th>\n",
       "      <td>uploaded:Log_192.168.77.10_2025_08_15.txt</td>\n",
       "      <td>T10</td>\n",
       "      <td>T8</td>\n",
       "      <td>35.0</td>\n",
       "      <td>34.5</td>\n",
       "      <td>35.5</td>\n",
       "      <td>35.169771</td>\n",
       "      <td>0.001002</td>\n",
       "      <td>34.868563</td>\n",
       "      <td>0.000914</td>\n",
       "      <td>144</td>\n",
       "      <td>2025-08-16 01:48:09.566</td>\n",
       "      <td>2025-08-16 01:50:32.632</td>\n",
       "    </tr>\n",
       "    <tr>\n",
       "      <th>5</th>\n",
       "      <td>uploaded:Log_192.168.77.10_2025_08_15.txt</td>\n",
       "      <td>T11</td>\n",
       "      <td>T8</td>\n",
       "      <td>23.0</td>\n",
       "      <td>22.5</td>\n",
       "      <td>23.5</td>\n",
       "      <td>23.048051</td>\n",
       "      <td>0.000760</td>\n",
       "      <td>22.945678</td>\n",
       "      <td>0.000735</td>\n",
       "      <td>3337</td>\n",
       "      <td>2025-08-15 21:49:55.050</td>\n",
       "      <td>2025-08-15 22:45:32.588</td>\n",
       "    </tr>\n",
       "    <tr>\n",
       "      <th>6</th>\n",
       "      <td>uploaded:Log_192.168.77.10_2025_08_15.txt</td>\n",
       "      <td>T11</td>\n",
       "      <td>T8</td>\n",
       "      <td>19.0</td>\n",
       "      <td>18.5</td>\n",
       "      <td>19.5</td>\n",
       "      <td>19.053984</td>\n",
       "      <td>0.000916</td>\n",
       "      <td>18.951265</td>\n",
       "      <td>0.000772</td>\n",
       "      <td>2770</td>\n",
       "      <td>2025-08-15 20:38:31.135</td>\n",
       "      <td>2025-08-15 21:24:41.403</td>\n",
       "    </tr>\n",
       "    <tr>\n",
       "      <th>7</th>\n",
       "      <td>uploaded:Log_192.168.77.10_2025_08_15.txt</td>\n",
       "      <td>T11</td>\n",
       "      <td>T8</td>\n",
       "      <td>27.0</td>\n",
       "      <td>26.5</td>\n",
       "      <td>27.5</td>\n",
       "      <td>27.035089</td>\n",
       "      <td>0.001009</td>\n",
       "      <td>26.930103</td>\n",
       "      <td>0.000855</td>\n",
       "      <td>1766</td>\n",
       "      <td>2025-08-15 23:12:59.337</td>\n",
       "      <td>2025-08-15 23:42:25.143</td>\n",
       "    </tr>\n",
       "    <tr>\n",
       "      <th>8</th>\n",
       "      <td>uploaded:Log_192.168.77.10_2025_08_15.txt</td>\n",
       "      <td>T11</td>\n",
       "      <td>T8</td>\n",
       "      <td>31.0</td>\n",
       "      <td>30.5</td>\n",
       "      <td>31.5</td>\n",
       "      <td>31.026727</td>\n",
       "      <td>0.001127</td>\n",
       "      <td>30.908774</td>\n",
       "      <td>0.001151</td>\n",
       "      <td>455</td>\n",
       "      <td>2025-08-16 01:15:07.667</td>\n",
       "      <td>2025-08-16 01:22:41.872</td>\n",
       "    </tr>\n",
       "    <tr>\n",
       "      <th>9</th>\n",
       "      <td>uploaded:Log_192.168.77.10_2025_08_15.txt</td>\n",
       "      <td>T11</td>\n",
       "      <td>T8</td>\n",
       "      <td>35.0</td>\n",
       "      <td>34.5</td>\n",
       "      <td>35.5</td>\n",
       "      <td>35.002704</td>\n",
       "      <td>0.000984</td>\n",
       "      <td>34.874772</td>\n",
       "      <td>0.000690</td>\n",
       "      <td>162</td>\n",
       "      <td>2025-08-16 01:58:05.838</td>\n",
       "      <td>2025-08-16 02:00:46.913</td>\n",
       "    </tr>\n",
       "  </tbody>\n",
       "</table>\n",
       "</div>"
      ],
      "text/plain": [
       "                                 source_file sensor ref  bin_center  bin_low  \\\n",
       "0  uploaded:Log_192.168.77.10_2025_08_15.txt    T10  T8        23.0     22.5   \n",
       "1  uploaded:Log_192.168.77.10_2025_08_15.txt    T10  T8        27.0     26.5   \n",
       "2  uploaded:Log_192.168.77.10_2025_08_15.txt    T10  T8        19.0     18.5   \n",
       "3  uploaded:Log_192.168.77.10_2025_08_15.txt    T10  T8        31.0     30.5   \n",
       "4  uploaded:Log_192.168.77.10_2025_08_15.txt    T10  T8        35.0     34.5   \n",
       "5  uploaded:Log_192.168.77.10_2025_08_15.txt    T11  T8        23.0     22.5   \n",
       "6  uploaded:Log_192.168.77.10_2025_08_15.txt    T11  T8        19.0     18.5   \n",
       "7  uploaded:Log_192.168.77.10_2025_08_15.txt    T11  T8        27.0     26.5   \n",
       "8  uploaded:Log_192.168.77.10_2025_08_15.txt    T11  T8        31.0     30.5   \n",
       "9  uploaded:Log_192.168.77.10_2025_08_15.txt    T11  T8        35.0     34.5   \n",
       "\n",
       "   bin_high     x_mean     x_std     y_mean     y_std  n_samples  \\\n",
       "0      23.5  23.214228  0.000714  22.945675  0.000733       3329   \n",
       "1      27.5  27.203373  0.000901  26.930758  0.000877       2284   \n",
       "2      19.5  19.220958  0.000872  18.951103  0.000681       1190   \n",
       "3      31.5  31.193084  0.001119  30.908769  0.001165        442   \n",
       "4      35.5  35.169771  0.001002  34.868563  0.000914        144   \n",
       "5      23.5  23.048051  0.000760  22.945678  0.000735       3337   \n",
       "6      19.5  19.053984  0.000916  18.951265  0.000772       2770   \n",
       "7      27.5  27.035089  0.001009  26.930103  0.000855       1766   \n",
       "8      31.5  31.026727  0.001127  30.908774  0.001151        455   \n",
       "9      35.5  35.002704  0.000984  34.874772  0.000690        162   \n",
       "\n",
       "               start_date                end_date  \n",
       "0 2025-08-15 21:49:55.050 2025-08-15 22:45:24.584  \n",
       "1 2025-08-15 23:28:20.757 2025-08-16 00:06:24.796  \n",
       "2 2025-08-15 20:58:44.690 2025-08-15 21:18:34.236  \n",
       "3 2025-08-16 01:15:07.667 2025-08-16 01:22:28.865  \n",
       "4 2025-08-16 01:48:09.566 2025-08-16 01:50:32.632  \n",
       "5 2025-08-15 21:49:55.050 2025-08-15 22:45:32.588  \n",
       "6 2025-08-15 20:38:31.135 2025-08-15 21:24:41.403  \n",
       "7 2025-08-15 23:12:59.337 2025-08-15 23:42:25.143  \n",
       "8 2025-08-16 01:15:07.667 2025-08-16 01:22:41.872  \n",
       "9 2025-08-16 01:58:05.838 2025-08-16 02:00:46.913  "
      ]
     },
     "metadata": {},
     "output_type": "display_data"
    }
   ],
   "source": [
    "# === 9) Калибровочная таблица (X–Y и ошибки) ===\n",
    "assert DATA is not None, 'Нет DATA.'\n",
    "ref_col = f'T{REF_IDX}'\n",
    "rows=[]\n",
    "if STABLE_BY_SENSOR is not None and not STABLE_BY_SENSOR.empty:\n",
    "    for _, r in STABLE_BY_SENSOR.iterrows():\n",
    "        sensor = r['sensor']\n",
    "        x_mean = r.get(f'mean_{sensor}', None)\n",
    "        x_std  = r.get(f'std_{sensor}', None)\n",
    "        y_mean = r.get(f'mean_{ref_col}', None)\n",
    "        y_std  = r.get(f'std_{ref_col}', None)\n",
    "        ref_level = r.get('ref_level', None)\n",
    "        length = int(r.get('length', 0))\n",
    "        start_date = r.get('start_date', None)\n",
    "        end_date   = r.get('end_date', None)\n",
    "        src = r.get('source_file', None)\n",
    "        if ref_level is not None and not pd.isna(ref_level):\n",
    "            bin_center = float(np.round(ref_level / DEG_TOL) * DEG_TOL)\n",
    "            bin_low = bin_center - 0.5*DEG_TOL\n",
    "            bin_high = bin_center + 0.5*DEG_TOL\n",
    "        else:\n",
    "            bin_center = np.nan; bin_low=np.nan; bin_high=np.nan\n",
    "        rows.append({\n",
    "            'source_file': src, 'sensor': sensor, 'ref': ref_col,\n",
    "            'bin_center': bin_center, 'bin_low': bin_low, 'bin_high': bin_high,\n",
    "            'x_mean': x_mean, 'x_std': x_std, 'y_mean': y_mean, 'y_std': y_std,\n",
    "            'n_samples': length, 'start_date': start_date, 'end_date': end_date\n",
    "        })\n",
    "calibration_points_by_sensor = pd.DataFrame(rows).dropna(subset=['x_mean','y_mean']).reset_index(drop=True)\n",
    "print('Калибровочных точек:', len(calibration_points_by_sensor))\n",
    "display(calibration_points_by_sensor.head(10))\n"
   ]
  },
  {
   "cell_type": "code",
   "execution_count": 92,
   "id": "b821a38b",
   "metadata": {},
   "outputs": [
    {
     "name": "stdout",
     "output_type": "stream",
     "text": [
      "Сохранено: c:\\Users\\Alexander\\Documents\\GitHub\\sensor_calibration\\calibration_points_by_sensor.csv\n"
     ]
    }
   ],
   "source": [
    "# === 9.1) Сохранение калибровочной таблицы ===\n",
    "out_dir = os.getcwd()\n",
    "calibration_points_by_sensor.to_csv(os.path.join(out_dir, 'calibration_points_by_sensor.csv'), index=False)\n",
    "print('Сохранено:', os.path.join(out_dir, 'calibration_points_by_sensor.csv'))\n"
   ]
  },
  {
   "cell_type": "code",
   "execution_count": 93,
   "id": "6d790f12",
   "metadata": {},
   "outputs": [
    {
     "data": {
      "application/vnd.plotly.v1+json": {
       "config": {
        "plotlyServerURL": "https://plot.ly"
       },
       "data": [
        {
         "error_x": {
          "array": [
           0.0008719047908997805,
           0.000713977559283935,
           0.0009006553937432751,
           0.0011186957044750322,
           0.0010015285520446645
          ],
          "type": "data",
          "visible": true
         },
         "error_y": {
          "array": [
           0.0006810497740731895,
           0.000733456488461373,
           0.0008772962844693341,
           0.0011649273122259036,
           0.0009139076937672919
          ],
          "type": "data",
          "visible": true
         },
         "marker": {
          "size": 9
         },
         "mode": "markers",
         "name": "Точки",
         "type": "scatter",
         "x": [
          19.22095798319328,
          23.21422829678582,
          27.20337259194396,
          31.19308371040724,
          35.16977083333333
         ],
         "xaxis": "x",
         "y": [
          18.9511025210084,
          22.945674977470713,
          26.930757880910686,
          30.908769230769238,
          34.8685625
         ],
         "yaxis": "y"
        },
        {
         "name": "std X",
         "type": "bar",
         "x": [
          "19.0",
          "23.0",
          "27.0",
          "31.0",
          "35.0"
         ],
         "xaxis": "x2",
         "y": [
          0.0008719047908997805,
          0.000713977559283935,
          0.0009006553937432751,
          0.0011186957044750322,
          0.0010015285520446645
         ],
         "yaxis": "y2"
        },
        {
         "name": "std Y",
         "type": "bar",
         "x": [
          "19.0",
          "23.0",
          "27.0",
          "31.0",
          "35.0"
         ],
         "xaxis": "x2",
         "y": [
          0.0006810497740731895,
          0.000733456488461373,
          0.0008772962844693341,
          0.0011649273122259036,
          0.0009139076937672919
         ],
         "yaxis": "y2"
        }
       ],
       "layout": {
        "barmode": "group",
        "height": 620,
        "legend": {
         "orientation": "h",
         "x": 0.5,
         "xanchor": "center",
         "y": 1.02,
         "yanchor": "bottom"
        },
        "margin": {
         "b": 70,
         "l": 60,
         "r": 40,
         "t": 80
        },
        "template": {
         "data": {
          "bar": [
           {
            "error_x": {
             "color": "#2a3f5f"
            },
            "error_y": {
             "color": "#2a3f5f"
            },
            "marker": {
             "line": {
              "color": "#E5ECF6",
              "width": 0.5
             },
             "pattern": {
              "fillmode": "overlay",
              "size": 10,
              "solidity": 0.2
             }
            },
            "type": "bar"
           }
          ],
          "barpolar": [
           {
            "marker": {
             "line": {
              "color": "#E5ECF6",
              "width": 0.5
             },
             "pattern": {
              "fillmode": "overlay",
              "size": 10,
              "solidity": 0.2
             }
            },
            "type": "barpolar"
           }
          ],
          "carpet": [
           {
            "aaxis": {
             "endlinecolor": "#2a3f5f",
             "gridcolor": "white",
             "linecolor": "white",
             "minorgridcolor": "white",
             "startlinecolor": "#2a3f5f"
            },
            "baxis": {
             "endlinecolor": "#2a3f5f",
             "gridcolor": "white",
             "linecolor": "white",
             "minorgridcolor": "white",
             "startlinecolor": "#2a3f5f"
            },
            "type": "carpet"
           }
          ],
          "choropleth": [
           {
            "colorbar": {
             "outlinewidth": 0,
             "ticks": ""
            },
            "type": "choropleth"
           }
          ],
          "contour": [
           {
            "colorbar": {
             "outlinewidth": 0,
             "ticks": ""
            },
            "colorscale": [
             [
              0,
              "#0d0887"
             ],
             [
              0.1111111111111111,
              "#46039f"
             ],
             [
              0.2222222222222222,
              "#7201a8"
             ],
             [
              0.3333333333333333,
              "#9c179e"
             ],
             [
              0.4444444444444444,
              "#bd3786"
             ],
             [
              0.5555555555555556,
              "#d8576b"
             ],
             [
              0.6666666666666666,
              "#ed7953"
             ],
             [
              0.7777777777777778,
              "#fb9f3a"
             ],
             [
              0.8888888888888888,
              "#fdca26"
             ],
             [
              1,
              "#f0f921"
             ]
            ],
            "type": "contour"
           }
          ],
          "contourcarpet": [
           {
            "colorbar": {
             "outlinewidth": 0,
             "ticks": ""
            },
            "type": "contourcarpet"
           }
          ],
          "heatmap": [
           {
            "colorbar": {
             "outlinewidth": 0,
             "ticks": ""
            },
            "colorscale": [
             [
              0,
              "#0d0887"
             ],
             [
              0.1111111111111111,
              "#46039f"
             ],
             [
              0.2222222222222222,
              "#7201a8"
             ],
             [
              0.3333333333333333,
              "#9c179e"
             ],
             [
              0.4444444444444444,
              "#bd3786"
             ],
             [
              0.5555555555555556,
              "#d8576b"
             ],
             [
              0.6666666666666666,
              "#ed7953"
             ],
             [
              0.7777777777777778,
              "#fb9f3a"
             ],
             [
              0.8888888888888888,
              "#fdca26"
             ],
             [
              1,
              "#f0f921"
             ]
            ],
            "type": "heatmap"
           }
          ],
          "heatmapgl": [
           {
            "colorbar": {
             "outlinewidth": 0,
             "ticks": ""
            },
            "colorscale": [
             [
              0,
              "#0d0887"
             ],
             [
              0.1111111111111111,
              "#46039f"
             ],
             [
              0.2222222222222222,
              "#7201a8"
             ],
             [
              0.3333333333333333,
              "#9c179e"
             ],
             [
              0.4444444444444444,
              "#bd3786"
             ],
             [
              0.5555555555555556,
              "#d8576b"
             ],
             [
              0.6666666666666666,
              "#ed7953"
             ],
             [
              0.7777777777777778,
              "#fb9f3a"
             ],
             [
              0.8888888888888888,
              "#fdca26"
             ],
             [
              1,
              "#f0f921"
             ]
            ],
            "type": "heatmapgl"
           }
          ],
          "histogram": [
           {
            "marker": {
             "pattern": {
              "fillmode": "overlay",
              "size": 10,
              "solidity": 0.2
             }
            },
            "type": "histogram"
           }
          ],
          "histogram2d": [
           {
            "colorbar": {
             "outlinewidth": 0,
             "ticks": ""
            },
            "colorscale": [
             [
              0,
              "#0d0887"
             ],
             [
              0.1111111111111111,
              "#46039f"
             ],
             [
              0.2222222222222222,
              "#7201a8"
             ],
             [
              0.3333333333333333,
              "#9c179e"
             ],
             [
              0.4444444444444444,
              "#bd3786"
             ],
             [
              0.5555555555555556,
              "#d8576b"
             ],
             [
              0.6666666666666666,
              "#ed7953"
             ],
             [
              0.7777777777777778,
              "#fb9f3a"
             ],
             [
              0.8888888888888888,
              "#fdca26"
             ],
             [
              1,
              "#f0f921"
             ]
            ],
            "type": "histogram2d"
           }
          ],
          "histogram2dcontour": [
           {
            "colorbar": {
             "outlinewidth": 0,
             "ticks": ""
            },
            "colorscale": [
             [
              0,
              "#0d0887"
             ],
             [
              0.1111111111111111,
              "#46039f"
             ],
             [
              0.2222222222222222,
              "#7201a8"
             ],
             [
              0.3333333333333333,
              "#9c179e"
             ],
             [
              0.4444444444444444,
              "#bd3786"
             ],
             [
              0.5555555555555556,
              "#d8576b"
             ],
             [
              0.6666666666666666,
              "#ed7953"
             ],
             [
              0.7777777777777778,
              "#fb9f3a"
             ],
             [
              0.8888888888888888,
              "#fdca26"
             ],
             [
              1,
              "#f0f921"
             ]
            ],
            "type": "histogram2dcontour"
           }
          ],
          "mesh3d": [
           {
            "colorbar": {
             "outlinewidth": 0,
             "ticks": ""
            },
            "type": "mesh3d"
           }
          ],
          "parcoords": [
           {
            "line": {
             "colorbar": {
              "outlinewidth": 0,
              "ticks": ""
             }
            },
            "type": "parcoords"
           }
          ],
          "pie": [
           {
            "automargin": true,
            "type": "pie"
           }
          ],
          "scatter": [
           {
            "fillpattern": {
             "fillmode": "overlay",
             "size": 10,
             "solidity": 0.2
            },
            "type": "scatter"
           }
          ],
          "scatter3d": [
           {
            "line": {
             "colorbar": {
              "outlinewidth": 0,
              "ticks": ""
             }
            },
            "marker": {
             "colorbar": {
              "outlinewidth": 0,
              "ticks": ""
             }
            },
            "type": "scatter3d"
           }
          ],
          "scattercarpet": [
           {
            "marker": {
             "colorbar": {
              "outlinewidth": 0,
              "ticks": ""
             }
            },
            "type": "scattercarpet"
           }
          ],
          "scattergeo": [
           {
            "marker": {
             "colorbar": {
              "outlinewidth": 0,
              "ticks": ""
             }
            },
            "type": "scattergeo"
           }
          ],
          "scattergl": [
           {
            "marker": {
             "colorbar": {
              "outlinewidth": 0,
              "ticks": ""
             }
            },
            "type": "scattergl"
           }
          ],
          "scattermapbox": [
           {
            "marker": {
             "colorbar": {
              "outlinewidth": 0,
              "ticks": ""
             }
            },
            "type": "scattermapbox"
           }
          ],
          "scatterpolar": [
           {
            "marker": {
             "colorbar": {
              "outlinewidth": 0,
              "ticks": ""
             }
            },
            "type": "scatterpolar"
           }
          ],
          "scatterpolargl": [
           {
            "marker": {
             "colorbar": {
              "outlinewidth": 0,
              "ticks": ""
             }
            },
            "type": "scatterpolargl"
           }
          ],
          "scatterternary": [
           {
            "marker": {
             "colorbar": {
              "outlinewidth": 0,
              "ticks": ""
             }
            },
            "type": "scatterternary"
           }
          ],
          "surface": [
           {
            "colorbar": {
             "outlinewidth": 0,
             "ticks": ""
            },
            "colorscale": [
             [
              0,
              "#0d0887"
             ],
             [
              0.1111111111111111,
              "#46039f"
             ],
             [
              0.2222222222222222,
              "#7201a8"
             ],
             [
              0.3333333333333333,
              "#9c179e"
             ],
             [
              0.4444444444444444,
              "#bd3786"
             ],
             [
              0.5555555555555556,
              "#d8576b"
             ],
             [
              0.6666666666666666,
              "#ed7953"
             ],
             [
              0.7777777777777778,
              "#fb9f3a"
             ],
             [
              0.8888888888888888,
              "#fdca26"
             ],
             [
              1,
              "#f0f921"
             ]
            ],
            "type": "surface"
           }
          ],
          "table": [
           {
            "cells": {
             "fill": {
              "color": "#EBF0F8"
             },
             "line": {
              "color": "white"
             }
            },
            "header": {
             "fill": {
              "color": "#C8D4E3"
             },
             "line": {
              "color": "white"
             }
            },
            "type": "table"
           }
          ]
         },
         "layout": {
          "annotationdefaults": {
           "arrowcolor": "#2a3f5f",
           "arrowhead": 0,
           "arrowwidth": 1
          },
          "autotypenumbers": "strict",
          "coloraxis": {
           "colorbar": {
            "outlinewidth": 0,
            "ticks": ""
           }
          },
          "colorscale": {
           "diverging": [
            [
             0,
             "#8e0152"
            ],
            [
             0.1,
             "#c51b7d"
            ],
            [
             0.2,
             "#de77ae"
            ],
            [
             0.3,
             "#f1b6da"
            ],
            [
             0.4,
             "#fde0ef"
            ],
            [
             0.5,
             "#f7f7f7"
            ],
            [
             0.6,
             "#e6f5d0"
            ],
            [
             0.7,
             "#b8e186"
            ],
            [
             0.8,
             "#7fbc41"
            ],
            [
             0.9,
             "#4d9221"
            ],
            [
             1,
             "#276419"
            ]
           ],
           "sequential": [
            [
             0,
             "#0d0887"
            ],
            [
             0.1111111111111111,
             "#46039f"
            ],
            [
             0.2222222222222222,
             "#7201a8"
            ],
            [
             0.3333333333333333,
             "#9c179e"
            ],
            [
             0.4444444444444444,
             "#bd3786"
            ],
            [
             0.5555555555555556,
             "#d8576b"
            ],
            [
             0.6666666666666666,
             "#ed7953"
            ],
            [
             0.7777777777777778,
             "#fb9f3a"
            ],
            [
             0.8888888888888888,
             "#fdca26"
            ],
            [
             1,
             "#f0f921"
            ]
           ],
           "sequentialminus": [
            [
             0,
             "#0d0887"
            ],
            [
             0.1111111111111111,
             "#46039f"
            ],
            [
             0.2222222222222222,
             "#7201a8"
            ],
            [
             0.3333333333333333,
             "#9c179e"
            ],
            [
             0.4444444444444444,
             "#bd3786"
            ],
            [
             0.5555555555555556,
             "#d8576b"
            ],
            [
             0.6666666666666666,
             "#ed7953"
            ],
            [
             0.7777777777777778,
             "#fb9f3a"
            ],
            [
             0.8888888888888888,
             "#fdca26"
            ],
            [
             1,
             "#f0f921"
            ]
           ]
          },
          "colorway": [
           "#636efa",
           "#EF553B",
           "#00cc96",
           "#ab63fa",
           "#FFA15A",
           "#19d3f3",
           "#FF6692",
           "#B6E880",
           "#FF97FF",
           "#FECB52"
          ],
          "font": {
           "color": "#2a3f5f"
          },
          "geo": {
           "bgcolor": "white",
           "lakecolor": "white",
           "landcolor": "#E5ECF6",
           "showlakes": true,
           "showland": true,
           "subunitcolor": "white"
          },
          "hoverlabel": {
           "align": "left"
          },
          "hovermode": "closest",
          "mapbox": {
           "style": "light"
          },
          "paper_bgcolor": "white",
          "plot_bgcolor": "#E5ECF6",
          "polar": {
           "angularaxis": {
            "gridcolor": "white",
            "linecolor": "white",
            "ticks": ""
           },
           "bgcolor": "#E5ECF6",
           "radialaxis": {
            "gridcolor": "white",
            "linecolor": "white",
            "ticks": ""
           }
          },
          "scene": {
           "xaxis": {
            "backgroundcolor": "#E5ECF6",
            "gridcolor": "white",
            "gridwidth": 2,
            "linecolor": "white",
            "showbackground": true,
            "ticks": "",
            "zerolinecolor": "white"
           },
           "yaxis": {
            "backgroundcolor": "#E5ECF6",
            "gridcolor": "white",
            "gridwidth": 2,
            "linecolor": "white",
            "showbackground": true,
            "ticks": "",
            "zerolinecolor": "white"
           },
           "zaxis": {
            "backgroundcolor": "#E5ECF6",
            "gridcolor": "white",
            "gridwidth": 2,
            "linecolor": "white",
            "showbackground": true,
            "ticks": "",
            "zerolinecolor": "white"
           }
          },
          "shapedefaults": {
           "line": {
            "color": "#2a3f5f"
           }
          },
          "ternary": {
           "aaxis": {
            "gridcolor": "white",
            "linecolor": "white",
            "ticks": ""
           },
           "baxis": {
            "gridcolor": "white",
            "linecolor": "white",
            "ticks": ""
           },
           "bgcolor": "#E5ECF6",
           "caxis": {
            "gridcolor": "white",
            "linecolor": "white",
            "ticks": ""
           }
          },
          "title": {
           "x": 0.05
          },
          "xaxis": {
           "automargin": true,
           "gridcolor": "white",
           "linecolor": "white",
           "ticks": "",
           "title": {
            "standoff": 15
           },
           "zerolinecolor": "white",
           "zerolinewidth": 2
          },
          "yaxis": {
           "automargin": true,
           "gridcolor": "white",
           "linecolor": "white",
           "ticks": "",
           "title": {
            "standoff": 15
           },
           "zerolinecolor": "white",
           "zerolinewidth": 2
          }
         }
        },
        "title": {
         "text": "Калибровочные точки: T10"
        },
        "width": 760,
        "xaxis": {
         "anchor": "y",
         "domain": [
          0,
          1
         ],
         "gridcolor": "rgba(0,0,0,0.15)",
         "showgrid": true,
         "title": {
          "text": "T10 (X)"
         }
        },
        "xaxis2": {
         "anchor": "y2",
         "categoryarray": [
          "19.0",
          "23.0",
          "27.0",
          "31.0",
          "35.0"
         ],
         "categoryorder": "array",
         "domain": [
          0,
          1
         ],
         "gridcolor": "rgba(0,0,0,0.12)",
         "showgrid": true,
         "title": {
          "text": "Центр полочки (°C)"
         },
         "type": "category"
        },
        "yaxis": {
         "anchor": "x",
         "domain": [
          0.428,
          1
         ],
         "gridcolor": "rgba(0,0,0,0.15)",
         "showgrid": true,
         "title": {
          "text": "T8 (Y)"
         }
        },
        "yaxis2": {
         "anchor": "x2",
         "domain": [
          0,
          0.308
         ],
         "gridcolor": "rgba(0,0,0,0.12)",
         "showgrid": true,
         "title": {
          "text": "Std (°C)"
         }
        }
       }
      }
     },
     "metadata": {},
     "output_type": "display_data"
    },
    {
     "data": {
      "application/vnd.plotly.v1+json": {
       "config": {
        "plotlyServerURL": "https://plot.ly"
       },
       "data": [
        {
         "error_x": {
          "array": [
           0.000915596785220704,
           0.0007600918801190583,
           0.0010092670045602136,
           0.0011265777907081126,
           0.0009836482283454057
          ],
          "type": "data",
          "visible": true
         },
         "error_y": {
          "array": [
           0.0007717083083973219,
           0.0007354376478136475,
           0.0008546634240065006,
           0.0011512141804072185,
           0.00068953752939639
          ],
          "type": "data",
          "visible": true
         },
         "marker": {
          "size": 9
         },
         "mode": "markers",
         "name": "Точки",
         "type": "scatter",
         "x": [
          19.053984115523466,
          23.048050943961638,
          27.03508946772367,
          31.026727472527472,
          35.0027037037037
         ],
         "xaxis": "x",
         "y": [
          18.951264620938627,
          22.945678154030567,
          26.93010305775765,
          30.90877362637363,
          34.87477160493827
         ],
         "yaxis": "y"
        },
        {
         "name": "std X",
         "type": "bar",
         "x": [
          "19.0",
          "23.0",
          "27.0",
          "31.0",
          "35.0"
         ],
         "xaxis": "x2",
         "y": [
          0.000915596785220704,
          0.0007600918801190583,
          0.0010092670045602136,
          0.0011265777907081126,
          0.0009836482283454057
         ],
         "yaxis": "y2"
        },
        {
         "name": "std Y",
         "type": "bar",
         "x": [
          "19.0",
          "23.0",
          "27.0",
          "31.0",
          "35.0"
         ],
         "xaxis": "x2",
         "y": [
          0.0007717083083973219,
          0.0007354376478136475,
          0.0008546634240065006,
          0.0011512141804072185,
          0.00068953752939639
         ],
         "yaxis": "y2"
        }
       ],
       "layout": {
        "barmode": "group",
        "height": 620,
        "legend": {
         "orientation": "h",
         "x": 0.5,
         "xanchor": "center",
         "y": 1.02,
         "yanchor": "bottom"
        },
        "margin": {
         "b": 70,
         "l": 60,
         "r": 40,
         "t": 80
        },
        "template": {
         "data": {
          "bar": [
           {
            "error_x": {
             "color": "#2a3f5f"
            },
            "error_y": {
             "color": "#2a3f5f"
            },
            "marker": {
             "line": {
              "color": "#E5ECF6",
              "width": 0.5
             },
             "pattern": {
              "fillmode": "overlay",
              "size": 10,
              "solidity": 0.2
             }
            },
            "type": "bar"
           }
          ],
          "barpolar": [
           {
            "marker": {
             "line": {
              "color": "#E5ECF6",
              "width": 0.5
             },
             "pattern": {
              "fillmode": "overlay",
              "size": 10,
              "solidity": 0.2
             }
            },
            "type": "barpolar"
           }
          ],
          "carpet": [
           {
            "aaxis": {
             "endlinecolor": "#2a3f5f",
             "gridcolor": "white",
             "linecolor": "white",
             "minorgridcolor": "white",
             "startlinecolor": "#2a3f5f"
            },
            "baxis": {
             "endlinecolor": "#2a3f5f",
             "gridcolor": "white",
             "linecolor": "white",
             "minorgridcolor": "white",
             "startlinecolor": "#2a3f5f"
            },
            "type": "carpet"
           }
          ],
          "choropleth": [
           {
            "colorbar": {
             "outlinewidth": 0,
             "ticks": ""
            },
            "type": "choropleth"
           }
          ],
          "contour": [
           {
            "colorbar": {
             "outlinewidth": 0,
             "ticks": ""
            },
            "colorscale": [
             [
              0,
              "#0d0887"
             ],
             [
              0.1111111111111111,
              "#46039f"
             ],
             [
              0.2222222222222222,
              "#7201a8"
             ],
             [
              0.3333333333333333,
              "#9c179e"
             ],
             [
              0.4444444444444444,
              "#bd3786"
             ],
             [
              0.5555555555555556,
              "#d8576b"
             ],
             [
              0.6666666666666666,
              "#ed7953"
             ],
             [
              0.7777777777777778,
              "#fb9f3a"
             ],
             [
              0.8888888888888888,
              "#fdca26"
             ],
             [
              1,
              "#f0f921"
             ]
            ],
            "type": "contour"
           }
          ],
          "contourcarpet": [
           {
            "colorbar": {
             "outlinewidth": 0,
             "ticks": ""
            },
            "type": "contourcarpet"
           }
          ],
          "heatmap": [
           {
            "colorbar": {
             "outlinewidth": 0,
             "ticks": ""
            },
            "colorscale": [
             [
              0,
              "#0d0887"
             ],
             [
              0.1111111111111111,
              "#46039f"
             ],
             [
              0.2222222222222222,
              "#7201a8"
             ],
             [
              0.3333333333333333,
              "#9c179e"
             ],
             [
              0.4444444444444444,
              "#bd3786"
             ],
             [
              0.5555555555555556,
              "#d8576b"
             ],
             [
              0.6666666666666666,
              "#ed7953"
             ],
             [
              0.7777777777777778,
              "#fb9f3a"
             ],
             [
              0.8888888888888888,
              "#fdca26"
             ],
             [
              1,
              "#f0f921"
             ]
            ],
            "type": "heatmap"
           }
          ],
          "heatmapgl": [
           {
            "colorbar": {
             "outlinewidth": 0,
             "ticks": ""
            },
            "colorscale": [
             [
              0,
              "#0d0887"
             ],
             [
              0.1111111111111111,
              "#46039f"
             ],
             [
              0.2222222222222222,
              "#7201a8"
             ],
             [
              0.3333333333333333,
              "#9c179e"
             ],
             [
              0.4444444444444444,
              "#bd3786"
             ],
             [
              0.5555555555555556,
              "#d8576b"
             ],
             [
              0.6666666666666666,
              "#ed7953"
             ],
             [
              0.7777777777777778,
              "#fb9f3a"
             ],
             [
              0.8888888888888888,
              "#fdca26"
             ],
             [
              1,
              "#f0f921"
             ]
            ],
            "type": "heatmapgl"
           }
          ],
          "histogram": [
           {
            "marker": {
             "pattern": {
              "fillmode": "overlay",
              "size": 10,
              "solidity": 0.2
             }
            },
            "type": "histogram"
           }
          ],
          "histogram2d": [
           {
            "colorbar": {
             "outlinewidth": 0,
             "ticks": ""
            },
            "colorscale": [
             [
              0,
              "#0d0887"
             ],
             [
              0.1111111111111111,
              "#46039f"
             ],
             [
              0.2222222222222222,
              "#7201a8"
             ],
             [
              0.3333333333333333,
              "#9c179e"
             ],
             [
              0.4444444444444444,
              "#bd3786"
             ],
             [
              0.5555555555555556,
              "#d8576b"
             ],
             [
              0.6666666666666666,
              "#ed7953"
             ],
             [
              0.7777777777777778,
              "#fb9f3a"
             ],
             [
              0.8888888888888888,
              "#fdca26"
             ],
             [
              1,
              "#f0f921"
             ]
            ],
            "type": "histogram2d"
           }
          ],
          "histogram2dcontour": [
           {
            "colorbar": {
             "outlinewidth": 0,
             "ticks": ""
            },
            "colorscale": [
             [
              0,
              "#0d0887"
             ],
             [
              0.1111111111111111,
              "#46039f"
             ],
             [
              0.2222222222222222,
              "#7201a8"
             ],
             [
              0.3333333333333333,
              "#9c179e"
             ],
             [
              0.4444444444444444,
              "#bd3786"
             ],
             [
              0.5555555555555556,
              "#d8576b"
             ],
             [
              0.6666666666666666,
              "#ed7953"
             ],
             [
              0.7777777777777778,
              "#fb9f3a"
             ],
             [
              0.8888888888888888,
              "#fdca26"
             ],
             [
              1,
              "#f0f921"
             ]
            ],
            "type": "histogram2dcontour"
           }
          ],
          "mesh3d": [
           {
            "colorbar": {
             "outlinewidth": 0,
             "ticks": ""
            },
            "type": "mesh3d"
           }
          ],
          "parcoords": [
           {
            "line": {
             "colorbar": {
              "outlinewidth": 0,
              "ticks": ""
             }
            },
            "type": "parcoords"
           }
          ],
          "pie": [
           {
            "automargin": true,
            "type": "pie"
           }
          ],
          "scatter": [
           {
            "fillpattern": {
             "fillmode": "overlay",
             "size": 10,
             "solidity": 0.2
            },
            "type": "scatter"
           }
          ],
          "scatter3d": [
           {
            "line": {
             "colorbar": {
              "outlinewidth": 0,
              "ticks": ""
             }
            },
            "marker": {
             "colorbar": {
              "outlinewidth": 0,
              "ticks": ""
             }
            },
            "type": "scatter3d"
           }
          ],
          "scattercarpet": [
           {
            "marker": {
             "colorbar": {
              "outlinewidth": 0,
              "ticks": ""
             }
            },
            "type": "scattercarpet"
           }
          ],
          "scattergeo": [
           {
            "marker": {
             "colorbar": {
              "outlinewidth": 0,
              "ticks": ""
             }
            },
            "type": "scattergeo"
           }
          ],
          "scattergl": [
           {
            "marker": {
             "colorbar": {
              "outlinewidth": 0,
              "ticks": ""
             }
            },
            "type": "scattergl"
           }
          ],
          "scattermapbox": [
           {
            "marker": {
             "colorbar": {
              "outlinewidth": 0,
              "ticks": ""
             }
            },
            "type": "scattermapbox"
           }
          ],
          "scatterpolar": [
           {
            "marker": {
             "colorbar": {
              "outlinewidth": 0,
              "ticks": ""
             }
            },
            "type": "scatterpolar"
           }
          ],
          "scatterpolargl": [
           {
            "marker": {
             "colorbar": {
              "outlinewidth": 0,
              "ticks": ""
             }
            },
            "type": "scatterpolargl"
           }
          ],
          "scatterternary": [
           {
            "marker": {
             "colorbar": {
              "outlinewidth": 0,
              "ticks": ""
             }
            },
            "type": "scatterternary"
           }
          ],
          "surface": [
           {
            "colorbar": {
             "outlinewidth": 0,
             "ticks": ""
            },
            "colorscale": [
             [
              0,
              "#0d0887"
             ],
             [
              0.1111111111111111,
              "#46039f"
             ],
             [
              0.2222222222222222,
              "#7201a8"
             ],
             [
              0.3333333333333333,
              "#9c179e"
             ],
             [
              0.4444444444444444,
              "#bd3786"
             ],
             [
              0.5555555555555556,
              "#d8576b"
             ],
             [
              0.6666666666666666,
              "#ed7953"
             ],
             [
              0.7777777777777778,
              "#fb9f3a"
             ],
             [
              0.8888888888888888,
              "#fdca26"
             ],
             [
              1,
              "#f0f921"
             ]
            ],
            "type": "surface"
           }
          ],
          "table": [
           {
            "cells": {
             "fill": {
              "color": "#EBF0F8"
             },
             "line": {
              "color": "white"
             }
            },
            "header": {
             "fill": {
              "color": "#C8D4E3"
             },
             "line": {
              "color": "white"
             }
            },
            "type": "table"
           }
          ]
         },
         "layout": {
          "annotationdefaults": {
           "arrowcolor": "#2a3f5f",
           "arrowhead": 0,
           "arrowwidth": 1
          },
          "autotypenumbers": "strict",
          "coloraxis": {
           "colorbar": {
            "outlinewidth": 0,
            "ticks": ""
           }
          },
          "colorscale": {
           "diverging": [
            [
             0,
             "#8e0152"
            ],
            [
             0.1,
             "#c51b7d"
            ],
            [
             0.2,
             "#de77ae"
            ],
            [
             0.3,
             "#f1b6da"
            ],
            [
             0.4,
             "#fde0ef"
            ],
            [
             0.5,
             "#f7f7f7"
            ],
            [
             0.6,
             "#e6f5d0"
            ],
            [
             0.7,
             "#b8e186"
            ],
            [
             0.8,
             "#7fbc41"
            ],
            [
             0.9,
             "#4d9221"
            ],
            [
             1,
             "#276419"
            ]
           ],
           "sequential": [
            [
             0,
             "#0d0887"
            ],
            [
             0.1111111111111111,
             "#46039f"
            ],
            [
             0.2222222222222222,
             "#7201a8"
            ],
            [
             0.3333333333333333,
             "#9c179e"
            ],
            [
             0.4444444444444444,
             "#bd3786"
            ],
            [
             0.5555555555555556,
             "#d8576b"
            ],
            [
             0.6666666666666666,
             "#ed7953"
            ],
            [
             0.7777777777777778,
             "#fb9f3a"
            ],
            [
             0.8888888888888888,
             "#fdca26"
            ],
            [
             1,
             "#f0f921"
            ]
           ],
           "sequentialminus": [
            [
             0,
             "#0d0887"
            ],
            [
             0.1111111111111111,
             "#46039f"
            ],
            [
             0.2222222222222222,
             "#7201a8"
            ],
            [
             0.3333333333333333,
             "#9c179e"
            ],
            [
             0.4444444444444444,
             "#bd3786"
            ],
            [
             0.5555555555555556,
             "#d8576b"
            ],
            [
             0.6666666666666666,
             "#ed7953"
            ],
            [
             0.7777777777777778,
             "#fb9f3a"
            ],
            [
             0.8888888888888888,
             "#fdca26"
            ],
            [
             1,
             "#f0f921"
            ]
           ]
          },
          "colorway": [
           "#636efa",
           "#EF553B",
           "#00cc96",
           "#ab63fa",
           "#FFA15A",
           "#19d3f3",
           "#FF6692",
           "#B6E880",
           "#FF97FF",
           "#FECB52"
          ],
          "font": {
           "color": "#2a3f5f"
          },
          "geo": {
           "bgcolor": "white",
           "lakecolor": "white",
           "landcolor": "#E5ECF6",
           "showlakes": true,
           "showland": true,
           "subunitcolor": "white"
          },
          "hoverlabel": {
           "align": "left"
          },
          "hovermode": "closest",
          "mapbox": {
           "style": "light"
          },
          "paper_bgcolor": "white",
          "plot_bgcolor": "#E5ECF6",
          "polar": {
           "angularaxis": {
            "gridcolor": "white",
            "linecolor": "white",
            "ticks": ""
           },
           "bgcolor": "#E5ECF6",
           "radialaxis": {
            "gridcolor": "white",
            "linecolor": "white",
            "ticks": ""
           }
          },
          "scene": {
           "xaxis": {
            "backgroundcolor": "#E5ECF6",
            "gridcolor": "white",
            "gridwidth": 2,
            "linecolor": "white",
            "showbackground": true,
            "ticks": "",
            "zerolinecolor": "white"
           },
           "yaxis": {
            "backgroundcolor": "#E5ECF6",
            "gridcolor": "white",
            "gridwidth": 2,
            "linecolor": "white",
            "showbackground": true,
            "ticks": "",
            "zerolinecolor": "white"
           },
           "zaxis": {
            "backgroundcolor": "#E5ECF6",
            "gridcolor": "white",
            "gridwidth": 2,
            "linecolor": "white",
            "showbackground": true,
            "ticks": "",
            "zerolinecolor": "white"
           }
          },
          "shapedefaults": {
           "line": {
            "color": "#2a3f5f"
           }
          },
          "ternary": {
           "aaxis": {
            "gridcolor": "white",
            "linecolor": "white",
            "ticks": ""
           },
           "baxis": {
            "gridcolor": "white",
            "linecolor": "white",
            "ticks": ""
           },
           "bgcolor": "#E5ECF6",
           "caxis": {
            "gridcolor": "white",
            "linecolor": "white",
            "ticks": ""
           }
          },
          "title": {
           "x": 0.05
          },
          "xaxis": {
           "automargin": true,
           "gridcolor": "white",
           "linecolor": "white",
           "ticks": "",
           "title": {
            "standoff": 15
           },
           "zerolinecolor": "white",
           "zerolinewidth": 2
          },
          "yaxis": {
           "automargin": true,
           "gridcolor": "white",
           "linecolor": "white",
           "ticks": "",
           "title": {
            "standoff": 15
           },
           "zerolinecolor": "white",
           "zerolinewidth": 2
          }
         }
        },
        "title": {
         "text": "Калибровочные точки: T11"
        },
        "width": 760,
        "xaxis": {
         "anchor": "y",
         "domain": [
          0,
          1
         ],
         "gridcolor": "rgba(0,0,0,0.15)",
         "showgrid": true,
         "title": {
          "text": "T11 (X)"
         }
        },
        "xaxis2": {
         "anchor": "y2",
         "categoryarray": [
          "19.0",
          "23.0",
          "27.0",
          "31.0",
          "35.0"
         ],
         "categoryorder": "array",
         "domain": [
          0,
          1
         ],
         "gridcolor": "rgba(0,0,0,0.12)",
         "showgrid": true,
         "title": {
          "text": "Центр полочки (°C)"
         },
         "type": "category"
        },
        "yaxis": {
         "anchor": "x",
         "domain": [
          0.428,
          1
         ],
         "gridcolor": "rgba(0,0,0,0.15)",
         "showgrid": true,
         "title": {
          "text": "T8 (Y)"
         }
        },
        "yaxis2": {
         "anchor": "x2",
         "domain": [
          0,
          0.308
         ],
         "gridcolor": "rgba(0,0,0,0.12)",
         "showgrid": true,
         "title": {
          "text": "Std (°C)"
         }
        }
       }
      }
     },
     "metadata": {},
     "output_type": "display_data"
    },
    {
     "data": {
      "application/vnd.plotly.v1+json": {
       "config": {
        "plotlyServerURL": "https://plot.ly"
       },
       "data": [
        {
         "error_x": {
          "array": [
           0.0007818459243933715,
           0.000777019029043002,
           0.0011463564948517744,
           0.00133271763613776,
           0.0008877558932140615
          ],
          "type": "data",
          "visible": true
         },
         "error_y": {
          "array": [
           0.0007100963414804766,
           0.0006983766314650208,
           0.0008976966032064737,
           0.0010563724151616935,
           0.0007289354873126497
          ],
          "type": "data",
          "visible": true
         },
         "marker": {
          "size": 9
         },
         "mode": "markers",
         "name": "Точки",
         "type": "scatter",
         "x": [
          18.99343463898065,
          22.984374698795182,
          26.963907416625183,
          30.95528881987578,
          34.93091616766467
         ],
         "xaxis": "x",
         "y": [
          18.95109721566777,
          22.945697289156627,
          26.93015430562469,
          30.908925465838507,
          34.87471257485029
         ],
         "yaxis": "y"
        },
        {
         "name": "std X",
         "type": "bar",
         "x": [
          "19.0",
          "23.0",
          "27.0",
          "31.0",
          "35.0"
         ],
         "xaxis": "x2",
         "y": [
          0.0007818459243933715,
          0.000777019029043002,
          0.0011463564948517744,
          0.00133271763613776,
          0.0008877558932140615
         ],
         "yaxis": "y2"
        },
        {
         "name": "std Y",
         "type": "bar",
         "x": [
          "19.0",
          "23.0",
          "27.0",
          "31.0",
          "35.0"
         ],
         "xaxis": "x2",
         "y": [
          0.0007100963414804766,
          0.0006983766314650208,
          0.0008976966032064737,
          0.0010563724151616935,
          0.0007289354873126497
         ],
         "yaxis": "y2"
        }
       ],
       "layout": {
        "barmode": "group",
        "height": 620,
        "legend": {
         "orientation": "h",
         "x": 0.5,
         "xanchor": "center",
         "y": 1.02,
         "yanchor": "bottom"
        },
        "margin": {
         "b": 70,
         "l": 60,
         "r": 40,
         "t": 80
        },
        "template": {
         "data": {
          "bar": [
           {
            "error_x": {
             "color": "#2a3f5f"
            },
            "error_y": {
             "color": "#2a3f5f"
            },
            "marker": {
             "line": {
              "color": "#E5ECF6",
              "width": 0.5
             },
             "pattern": {
              "fillmode": "overlay",
              "size": 10,
              "solidity": 0.2
             }
            },
            "type": "bar"
           }
          ],
          "barpolar": [
           {
            "marker": {
             "line": {
              "color": "#E5ECF6",
              "width": 0.5
             },
             "pattern": {
              "fillmode": "overlay",
              "size": 10,
              "solidity": 0.2
             }
            },
            "type": "barpolar"
           }
          ],
          "carpet": [
           {
            "aaxis": {
             "endlinecolor": "#2a3f5f",
             "gridcolor": "white",
             "linecolor": "white",
             "minorgridcolor": "white",
             "startlinecolor": "#2a3f5f"
            },
            "baxis": {
             "endlinecolor": "#2a3f5f",
             "gridcolor": "white",
             "linecolor": "white",
             "minorgridcolor": "white",
             "startlinecolor": "#2a3f5f"
            },
            "type": "carpet"
           }
          ],
          "choropleth": [
           {
            "colorbar": {
             "outlinewidth": 0,
             "ticks": ""
            },
            "type": "choropleth"
           }
          ],
          "contour": [
           {
            "colorbar": {
             "outlinewidth": 0,
             "ticks": ""
            },
            "colorscale": [
             [
              0,
              "#0d0887"
             ],
             [
              0.1111111111111111,
              "#46039f"
             ],
             [
              0.2222222222222222,
              "#7201a8"
             ],
             [
              0.3333333333333333,
              "#9c179e"
             ],
             [
              0.4444444444444444,
              "#bd3786"
             ],
             [
              0.5555555555555556,
              "#d8576b"
             ],
             [
              0.6666666666666666,
              "#ed7953"
             ],
             [
              0.7777777777777778,
              "#fb9f3a"
             ],
             [
              0.8888888888888888,
              "#fdca26"
             ],
             [
              1,
              "#f0f921"
             ]
            ],
            "type": "contour"
           }
          ],
          "contourcarpet": [
           {
            "colorbar": {
             "outlinewidth": 0,
             "ticks": ""
            },
            "type": "contourcarpet"
           }
          ],
          "heatmap": [
           {
            "colorbar": {
             "outlinewidth": 0,
             "ticks": ""
            },
            "colorscale": [
             [
              0,
              "#0d0887"
             ],
             [
              0.1111111111111111,
              "#46039f"
             ],
             [
              0.2222222222222222,
              "#7201a8"
             ],
             [
              0.3333333333333333,
              "#9c179e"
             ],
             [
              0.4444444444444444,
              "#bd3786"
             ],
             [
              0.5555555555555556,
              "#d8576b"
             ],
             [
              0.6666666666666666,
              "#ed7953"
             ],
             [
              0.7777777777777778,
              "#fb9f3a"
             ],
             [
              0.8888888888888888,
              "#fdca26"
             ],
             [
              1,
              "#f0f921"
             ]
            ],
            "type": "heatmap"
           }
          ],
          "heatmapgl": [
           {
            "colorbar": {
             "outlinewidth": 0,
             "ticks": ""
            },
            "colorscale": [
             [
              0,
              "#0d0887"
             ],
             [
              0.1111111111111111,
              "#46039f"
             ],
             [
              0.2222222222222222,
              "#7201a8"
             ],
             [
              0.3333333333333333,
              "#9c179e"
             ],
             [
              0.4444444444444444,
              "#bd3786"
             ],
             [
              0.5555555555555556,
              "#d8576b"
             ],
             [
              0.6666666666666666,
              "#ed7953"
             ],
             [
              0.7777777777777778,
              "#fb9f3a"
             ],
             [
              0.8888888888888888,
              "#fdca26"
             ],
             [
              1,
              "#f0f921"
             ]
            ],
            "type": "heatmapgl"
           }
          ],
          "histogram": [
           {
            "marker": {
             "pattern": {
              "fillmode": "overlay",
              "size": 10,
              "solidity": 0.2
             }
            },
            "type": "histogram"
           }
          ],
          "histogram2d": [
           {
            "colorbar": {
             "outlinewidth": 0,
             "ticks": ""
            },
            "colorscale": [
             [
              0,
              "#0d0887"
             ],
             [
              0.1111111111111111,
              "#46039f"
             ],
             [
              0.2222222222222222,
              "#7201a8"
             ],
             [
              0.3333333333333333,
              "#9c179e"
             ],
             [
              0.4444444444444444,
              "#bd3786"
             ],
             [
              0.5555555555555556,
              "#d8576b"
             ],
             [
              0.6666666666666666,
              "#ed7953"
             ],
             [
              0.7777777777777778,
              "#fb9f3a"
             ],
             [
              0.8888888888888888,
              "#fdca26"
             ],
             [
              1,
              "#f0f921"
             ]
            ],
            "type": "histogram2d"
           }
          ],
          "histogram2dcontour": [
           {
            "colorbar": {
             "outlinewidth": 0,
             "ticks": ""
            },
            "colorscale": [
             [
              0,
              "#0d0887"
             ],
             [
              0.1111111111111111,
              "#46039f"
             ],
             [
              0.2222222222222222,
              "#7201a8"
             ],
             [
              0.3333333333333333,
              "#9c179e"
             ],
             [
              0.4444444444444444,
              "#bd3786"
             ],
             [
              0.5555555555555556,
              "#d8576b"
             ],
             [
              0.6666666666666666,
              "#ed7953"
             ],
             [
              0.7777777777777778,
              "#fb9f3a"
             ],
             [
              0.8888888888888888,
              "#fdca26"
             ],
             [
              1,
              "#f0f921"
             ]
            ],
            "type": "histogram2dcontour"
           }
          ],
          "mesh3d": [
           {
            "colorbar": {
             "outlinewidth": 0,
             "ticks": ""
            },
            "type": "mesh3d"
           }
          ],
          "parcoords": [
           {
            "line": {
             "colorbar": {
              "outlinewidth": 0,
              "ticks": ""
             }
            },
            "type": "parcoords"
           }
          ],
          "pie": [
           {
            "automargin": true,
            "type": "pie"
           }
          ],
          "scatter": [
           {
            "fillpattern": {
             "fillmode": "overlay",
             "size": 10,
             "solidity": 0.2
            },
            "type": "scatter"
           }
          ],
          "scatter3d": [
           {
            "line": {
             "colorbar": {
              "outlinewidth": 0,
              "ticks": ""
             }
            },
            "marker": {
             "colorbar": {
              "outlinewidth": 0,
              "ticks": ""
             }
            },
            "type": "scatter3d"
           }
          ],
          "scattercarpet": [
           {
            "marker": {
             "colorbar": {
              "outlinewidth": 0,
              "ticks": ""
             }
            },
            "type": "scattercarpet"
           }
          ],
          "scattergeo": [
           {
            "marker": {
             "colorbar": {
              "outlinewidth": 0,
              "ticks": ""
             }
            },
            "type": "scattergeo"
           }
          ],
          "scattergl": [
           {
            "marker": {
             "colorbar": {
              "outlinewidth": 0,
              "ticks": ""
             }
            },
            "type": "scattergl"
           }
          ],
          "scattermapbox": [
           {
            "marker": {
             "colorbar": {
              "outlinewidth": 0,
              "ticks": ""
             }
            },
            "type": "scattermapbox"
           }
          ],
          "scatterpolar": [
           {
            "marker": {
             "colorbar": {
              "outlinewidth": 0,
              "ticks": ""
             }
            },
            "type": "scatterpolar"
           }
          ],
          "scatterpolargl": [
           {
            "marker": {
             "colorbar": {
              "outlinewidth": 0,
              "ticks": ""
             }
            },
            "type": "scatterpolargl"
           }
          ],
          "scatterternary": [
           {
            "marker": {
             "colorbar": {
              "outlinewidth": 0,
              "ticks": ""
             }
            },
            "type": "scatterternary"
           }
          ],
          "surface": [
           {
            "colorbar": {
             "outlinewidth": 0,
             "ticks": ""
            },
            "colorscale": [
             [
              0,
              "#0d0887"
             ],
             [
              0.1111111111111111,
              "#46039f"
             ],
             [
              0.2222222222222222,
              "#7201a8"
             ],
             [
              0.3333333333333333,
              "#9c179e"
             ],
             [
              0.4444444444444444,
              "#bd3786"
             ],
             [
              0.5555555555555556,
              "#d8576b"
             ],
             [
              0.6666666666666666,
              "#ed7953"
             ],
             [
              0.7777777777777778,
              "#fb9f3a"
             ],
             [
              0.8888888888888888,
              "#fdca26"
             ],
             [
              1,
              "#f0f921"
             ]
            ],
            "type": "surface"
           }
          ],
          "table": [
           {
            "cells": {
             "fill": {
              "color": "#EBF0F8"
             },
             "line": {
              "color": "white"
             }
            },
            "header": {
             "fill": {
              "color": "#C8D4E3"
             },
             "line": {
              "color": "white"
             }
            },
            "type": "table"
           }
          ]
         },
         "layout": {
          "annotationdefaults": {
           "arrowcolor": "#2a3f5f",
           "arrowhead": 0,
           "arrowwidth": 1
          },
          "autotypenumbers": "strict",
          "coloraxis": {
           "colorbar": {
            "outlinewidth": 0,
            "ticks": ""
           }
          },
          "colorscale": {
           "diverging": [
            [
             0,
             "#8e0152"
            ],
            [
             0.1,
             "#c51b7d"
            ],
            [
             0.2,
             "#de77ae"
            ],
            [
             0.3,
             "#f1b6da"
            ],
            [
             0.4,
             "#fde0ef"
            ],
            [
             0.5,
             "#f7f7f7"
            ],
            [
             0.6,
             "#e6f5d0"
            ],
            [
             0.7,
             "#b8e186"
            ],
            [
             0.8,
             "#7fbc41"
            ],
            [
             0.9,
             "#4d9221"
            ],
            [
             1,
             "#276419"
            ]
           ],
           "sequential": [
            [
             0,
             "#0d0887"
            ],
            [
             0.1111111111111111,
             "#46039f"
            ],
            [
             0.2222222222222222,
             "#7201a8"
            ],
            [
             0.3333333333333333,
             "#9c179e"
            ],
            [
             0.4444444444444444,
             "#bd3786"
            ],
            [
             0.5555555555555556,
             "#d8576b"
            ],
            [
             0.6666666666666666,
             "#ed7953"
            ],
            [
             0.7777777777777778,
             "#fb9f3a"
            ],
            [
             0.8888888888888888,
             "#fdca26"
            ],
            [
             1,
             "#f0f921"
            ]
           ],
           "sequentialminus": [
            [
             0,
             "#0d0887"
            ],
            [
             0.1111111111111111,
             "#46039f"
            ],
            [
             0.2222222222222222,
             "#7201a8"
            ],
            [
             0.3333333333333333,
             "#9c179e"
            ],
            [
             0.4444444444444444,
             "#bd3786"
            ],
            [
             0.5555555555555556,
             "#d8576b"
            ],
            [
             0.6666666666666666,
             "#ed7953"
            ],
            [
             0.7777777777777778,
             "#fb9f3a"
            ],
            [
             0.8888888888888888,
             "#fdca26"
            ],
            [
             1,
             "#f0f921"
            ]
           ]
          },
          "colorway": [
           "#636efa",
           "#EF553B",
           "#00cc96",
           "#ab63fa",
           "#FFA15A",
           "#19d3f3",
           "#FF6692",
           "#B6E880",
           "#FF97FF",
           "#FECB52"
          ],
          "font": {
           "color": "#2a3f5f"
          },
          "geo": {
           "bgcolor": "white",
           "lakecolor": "white",
           "landcolor": "#E5ECF6",
           "showlakes": true,
           "showland": true,
           "subunitcolor": "white"
          },
          "hoverlabel": {
           "align": "left"
          },
          "hovermode": "closest",
          "mapbox": {
           "style": "light"
          },
          "paper_bgcolor": "white",
          "plot_bgcolor": "#E5ECF6",
          "polar": {
           "angularaxis": {
            "gridcolor": "white",
            "linecolor": "white",
            "ticks": ""
           },
           "bgcolor": "#E5ECF6",
           "radialaxis": {
            "gridcolor": "white",
            "linecolor": "white",
            "ticks": ""
           }
          },
          "scene": {
           "xaxis": {
            "backgroundcolor": "#E5ECF6",
            "gridcolor": "white",
            "gridwidth": 2,
            "linecolor": "white",
            "showbackground": true,
            "ticks": "",
            "zerolinecolor": "white"
           },
           "yaxis": {
            "backgroundcolor": "#E5ECF6",
            "gridcolor": "white",
            "gridwidth": 2,
            "linecolor": "white",
            "showbackground": true,
            "ticks": "",
            "zerolinecolor": "white"
           },
           "zaxis": {
            "backgroundcolor": "#E5ECF6",
            "gridcolor": "white",
            "gridwidth": 2,
            "linecolor": "white",
            "showbackground": true,
            "ticks": "",
            "zerolinecolor": "white"
           }
          },
          "shapedefaults": {
           "line": {
            "color": "#2a3f5f"
           }
          },
          "ternary": {
           "aaxis": {
            "gridcolor": "white",
            "linecolor": "white",
            "ticks": ""
           },
           "baxis": {
            "gridcolor": "white",
            "linecolor": "white",
            "ticks": ""
           },
           "bgcolor": "#E5ECF6",
           "caxis": {
            "gridcolor": "white",
            "linecolor": "white",
            "ticks": ""
           }
          },
          "title": {
           "x": 0.05
          },
          "xaxis": {
           "automargin": true,
           "gridcolor": "white",
           "linecolor": "white",
           "ticks": "",
           "title": {
            "standoff": 15
           },
           "zerolinecolor": "white",
           "zerolinewidth": 2
          },
          "yaxis": {
           "automargin": true,
           "gridcolor": "white",
           "linecolor": "white",
           "ticks": "",
           "title": {
            "standoff": 15
           },
           "zerolinecolor": "white",
           "zerolinewidth": 2
          }
         }
        },
        "title": {
         "text": "Калибровочные точки: T9"
        },
        "width": 760,
        "xaxis": {
         "anchor": "y",
         "domain": [
          0,
          1
         ],
         "gridcolor": "rgba(0,0,0,0.15)",
         "showgrid": true,
         "title": {
          "text": "T9 (X)"
         }
        },
        "xaxis2": {
         "anchor": "y2",
         "categoryarray": [
          "19.0",
          "23.0",
          "27.0",
          "31.0",
          "35.0"
         ],
         "categoryorder": "array",
         "domain": [
          0,
          1
         ],
         "gridcolor": "rgba(0,0,0,0.12)",
         "showgrid": true,
         "title": {
          "text": "Центр полочки (°C)"
         },
         "type": "category"
        },
        "yaxis": {
         "anchor": "x",
         "domain": [
          0.428,
          1
         ],
         "gridcolor": "rgba(0,0,0,0.15)",
         "showgrid": true,
         "title": {
          "text": "T8 (Y)"
         }
        },
        "yaxis2": {
         "anchor": "x2",
         "domain": [
          0,
          0.308
         ],
         "gridcolor": "rgba(0,0,0,0.12)",
         "showgrid": true,
         "title": {
          "text": "Std (°C)"
         }
        }
       }
      }
     },
     "metadata": {},
     "output_type": "display_data"
    }
   ],
   "source": [
    "# === 10) Быстрый график калибровочных точек с ошибками ===\n",
    "import numpy as np\n",
    "import plotly.graph_objects as go\n",
    "from plotly.subplots import make_subplots\n",
    "\n",
    "assert 'calibration_points_by_sensor' in globals() and not calibration_points_by_sensor.empty, 'Нет калибровочной таблицы.'\n",
    "\n",
    "for sensor, g in calibration_points_by_sensor.groupby('sensor'):\n",
    "    g = g.sort_values('bin_center') if 'bin_center' in g.columns else g.sort_values('x_mean')\n",
    "    x_vals = g['x_mean'].to_numpy(dtype=float)\n",
    "    y_vals = g['y_mean'].to_numpy(dtype=float)\n",
    "    x_err_raw = g['x_std'].to_numpy(dtype=float) if 'x_std' in g else np.full_like(x_vals, np.nan)\n",
    "    y_err_raw = g['y_std'].to_numpy(dtype=float) if 'y_std' in g else np.full_like(y_vals, np.nan)\n",
    "\n",
    "    def _err_dict(arr: np.ndarray):\n",
    "        clean = np.nan_to_num(arr, nan=0.0)\n",
    "        if not np.any(clean):\n",
    "            return None\n",
    "        return dict(type='data', array=clean, visible=True)\n",
    "\n",
    "    error_x = _err_dict(x_err_raw)\n",
    "    error_y = _err_dict(y_err_raw)\n",
    "\n",
    "    labels = [f\"{bc:.1f}\" for bc in g['bin_center']] if 'bin_center' in g.columns else [str(i) for i in range(len(g))]\n",
    "    fig = make_subplots(rows=2, cols=1, row_heights=[0.65, 0.35], vertical_spacing=0.12)\n",
    "\n",
    "    fig.add_trace(\n",
    "        go.Scatter(\n",
    "            x=x_vals,\n",
    "            y=y_vals,\n",
    "            mode='markers',\n",
    "            name='Точки',\n",
    "            error_x=error_x,\n",
    "            error_y=error_y,\n",
    "            marker=dict(size=9)\n",
    "        ),\n",
    "        row=1,\n",
    "        col=1\n",
    "    )\n",
    "\n",
    "    fig.add_trace(\n",
    "        go.Bar(\n",
    "            x=labels,\n",
    "            y=np.nan_to_num(x_err_raw, nan=0.0),\n",
    "            name='std X'\n",
    "        ),\n",
    "        row=2,\n",
    "        col=1\n",
    "    )\n",
    "    fig.add_trace(\n",
    "        go.Bar(\n",
    "            x=labels,\n",
    "            y=np.nan_to_num(y_err_raw, nan=0.0),\n",
    "            name='std Y'\n",
    "        ),\n",
    "        row=2,\n",
    "        col=1\n",
    "    )\n",
    "\n",
    "    fig.update_xaxes(title_text=f'{sensor} (X)', row=1, col=1, showgrid=True, gridcolor='rgba(0,0,0,0.15)')\n",
    "    fig.update_yaxes(title_text=f'T{REF_IDX} (Y)', row=1, col=1, showgrid=True, gridcolor='rgba(0,0,0,0.15)')\n",
    "    fig.update_xaxes(title_text='Центр полочки (°C)', row=2, col=1, type='category', showgrid=True, gridcolor='rgba(0,0,0,0.12)', categoryorder='array', categoryarray=labels)\n",
    "    fig.update_yaxes(title_text='Std (°C)', row=2, col=1, showgrid=True, gridcolor='rgba(0,0,0,0.12)')\n",
    "\n",
    "    fig.update_layout(\n",
    "        height=620,\n",
    "        width=760,\n",
    "        title_text=f'Калибровочные точки: {sensor}',\n",
    "        barmode='group',\n",
    "        legend=dict(orientation='h', yanchor='bottom', y=1.02, xanchor='center', x=0.5),\n",
    "        margin=dict(t=80, l=60, r=40, b=70)\n",
    "    )\n",
    "\n",
    "    fig.show()"
   ]
  },
  {
   "cell_type": "code",
   "execution_count": 94,
   "id": "23e6e0d5",
   "metadata": {},
   "outputs": [
    {
     "name": "stdout",
     "output_type": "stream",
     "text": [
      "Сенсор T10: 5 точек; степени 1..3\n",
      "deg=1: Y = 0.9981481·X - 0.22939048\n",
      "    coeffs (старшая→младшая): [0.9981481, -0.22939048] | RMSE=0.00533545, MAE=0.0050761, Max|err|=0.00715379\n",
      "deg=2: Y = -0.00019791819·X^2 + 1.0088016·X - 0.36597493\n",
      "    coeffs (старшая→младшая): [-0.00019791819, 1.0088016, -0.36597493] | RMSE=0.0002506, MAE=0.000207032, Max|err|=0.000391996\n",
      "deg=3: Y = -5.8574927e-07·X^3 - 0.00015069247·X^2 + 1.0075655·X - 0.35547515\n",
      "    coeffs (старшая→младшая): [-5.8574927e-07, -0.00015069247, 1.0075655, -0.35547515] | RMSE=0.000263388, MAE=0.000211801, Max|err|=0.000426298\n"
     ]
    },
    {
     "data": {
      "application/vnd.plotly.v1+json": {
       "config": {
        "plotlyServerURL": "https://plot.ly"
       },
       "data": [
        {
         "error_x": {
          "array": [
           0.0008719047908997805,
           0.000713977559283935,
           0.0009006553937432751,
           0.0011186957044750322,
           0.0010015285520446645
          ],
          "type": "data",
          "visible": true
         },
         "error_y": {
          "array": [
           0.0006810497740731895,
           0.000733456488461373,
           0.0008772962844693341,
           0.0011649273122259036,
           0.0009139076937672919
          ],
          "type": "data",
          "visible": true
         },
         "marker": {
          "size": 9
         },
         "mode": "markers",
         "name": "Точки",
         "type": "scatter",
         "x": [
          19.22095798319328,
          23.21422829678582,
          27.20337259194396,
          31.19308371040724,
          35.16977083333333
         ],
         "xaxis": "x",
         "y": [
          18.9511025210084,
          22.945674977470713,
          26.930757880910686,
          30.908769230769238,
          34.8685625
         ],
         "yaxis": "y"
        },
        {
         "mode": "lines",
         "name": "deg=1",
         "type": "scatter",
         "x": [
          19.22095798319328,
          19.30110277138494,
          19.381247559576597,
          19.461392347768257,
          19.541537135959913,
          19.621681924151574,
          19.70182671234323,
          19.78197150053489,
          19.862116288726547,
          19.942261076918207,
          20.022405865109864,
          20.102550653301524,
          20.182695441493184,
          20.26284022968484,
          20.3429850178765,
          20.423129806068157,
          20.503274594259818,
          20.583419382451474,
          20.663564170643134,
          20.74370895883479,
          20.82385374702645,
          20.903998535218108,
          20.984143323409768,
          21.064288111601428,
          21.144432899793085,
          21.224577687984745,
          21.3047224761764,
          21.38486726436806,
          21.465012052559718,
          21.54515684075138,
          21.625301628943035,
          21.705446417134695,
          21.785591205326355,
          21.865735993518012,
          21.945880781709672,
          22.02602556990133,
          22.10617035809299,
          22.186315146284645,
          22.266459934476305,
          22.346604722667962,
          22.426749510859622,
          22.50689429905128,
          22.58703908724294,
          22.667183875434596,
          22.747328663626256,
          22.827473451817916,
          22.907618240009572,
          22.987763028201233,
          23.06790781639289,
          23.14805260458455,
          23.228197392776206,
          23.308342180967866,
          23.388486969159523,
          23.468631757351183,
          23.548776545542843,
          23.6289213337345,
          23.709066121926156,
          23.789210910117816,
          23.869355698309477,
          23.949500486501133,
          24.029645274692793,
          24.10979006288445,
          24.18993485107611,
          24.27007963926777,
          24.350224427459427,
          24.430369215651083,
          24.510514003842744,
          24.590658792034404,
          24.67080358022606,
          24.75094836841772,
          24.831093156609377,
          24.911237944801037,
          24.991382732992697,
          25.071527521184354,
          25.15167230937601,
          25.23181709756767,
          25.31196188575933,
          25.392106673950988,
          25.472251462142648,
          25.552396250334304,
          25.632541038525964,
          25.71268582671762,
          25.79283061490928,
          25.872975403100938,
          25.953120191292598,
          26.033264979484258,
          26.113409767675915,
          26.19355455586757,
          26.27369934405923,
          26.35384413225089,
          26.433988920442548,
          26.51413370863421,
          26.594278496825865,
          26.674423285017525,
          26.754568073209185,
          26.834712861400842,
          26.9148576495925,
          26.99500243778416,
          27.07514722597582,
          27.155292014167475,
          27.235436802359132,
          27.315581590550792,
          27.395726378742452,
          27.475871166934112,
          27.55601595512577,
          27.636160743317426,
          27.716305531509086,
          27.796450319700746,
          27.876595107892403,
          27.95673989608406,
          28.03688468427572,
          28.11702947246738,
          28.197174260659036,
          28.277319048850696,
          28.357463837042353,
          28.437608625234013,
          28.517753413425673,
          28.59789820161733,
          28.678042989808986,
          28.758187778000647,
          28.838332566192307,
          28.918477354383963,
          28.99862214257562,
          29.07876693076728,
          29.15891171895894,
          29.2390565071506,
          29.319201295342257,
          29.399346083533914,
          29.479490871725574,
          29.559635659917234,
          29.63978044810889,
          29.719925236300547,
          29.800070024492207,
          29.880214812683867,
          29.960359600875528,
          30.040504389067184,
          30.12064917725884,
          30.2007939654505,
          30.28093875364216,
          30.361083541833818,
          30.441228330025474,
          30.521373118217134,
          30.601517906408795,
          30.68166269460045,
          30.76180748279211,
          30.841952270983768,
          30.922097059175428,
          31.002241847367088,
          31.082386635558745,
          31.1625314237504,
          31.24267621194206,
          31.32282100013372,
          31.40296578832538,
          31.483110576517035,
          31.563255364708695,
          31.643400152900355,
          31.723544941092015,
          31.803689729283672,
          31.88383451747533,
          31.96397930566699,
          32.04412409385865,
          32.1242688820503,
          32.20441367024196,
          32.28455845843362,
          32.36470324662528,
          32.44484803481694,
          32.5249928230086,
          32.605137611200256,
          32.685282399391916,
          32.765427187583576,
          32.84557197577523,
          32.92571676396689,
          33.00586155215855,
          33.08600634035021,
          33.16615112854187,
          33.24629591673352,
          33.32644070492518,
          33.40658549311684,
          33.4867302813085,
          33.566875069500156,
          33.64701985769182,
          33.72716464588348,
          33.80730943407514,
          33.8874542222668,
          33.96759901045845,
          34.04774379865011,
          34.12788858684177,
          34.20803337503343,
          34.28817816322508,
          34.368322951416744,
          34.448467739608404,
          34.528612527800064,
          34.608757315991724,
          34.68890210418338,
          34.76904689237504,
          34.8491916805667,
          34.92933646875835,
          35.00948125695001,
          35.08962604514167,
          35.16977083333333
         ],
         "xaxis": "x",
         "y": [
          18.955972140813433,
          19.03596850858006,
          19.11596487634668,
          19.195961244113303,
          19.275957611879925,
          19.35595397964655,
          19.43595034741317,
          19.515946715179794,
          19.595943082946416,
          19.67593945071304,
          19.75593581847966,
          19.835932186246286,
          19.91592855401291,
          19.995924921779533,
          20.075921289546155,
          20.155917657312777,
          20.235914025079403,
          20.315910392846025,
          20.395906760612647,
          20.47590312837927,
          20.555899496145894,
          20.635895863912516,
          20.71589223167914,
          20.795888599445764,
          20.875884967212386,
          20.955881334979008,
          21.03587770274563,
          21.115874070512255,
          21.195870438278877,
          21.2758668060455,
          21.35586317381212,
          21.435859541578747,
          21.515855909345373,
          21.59585227711199,
          21.675848644878617,
          21.75584501264524,
          21.835841380411864,
          21.915837748178483,
          21.995834115945108,
          22.07583048371173,
          22.155826851478352,
          22.235823219244974,
          22.3158195870116,
          22.39581595477822,
          22.475812322544844,
          22.55580869031147,
          22.63580505807809,
          22.715801425844717,
          22.795797793611335,
          22.87579416137796,
          22.955790529144583,
          23.03578689691121,
          23.115783264677827,
          23.195779632444452,
          23.275776000211078,
          23.355772367977696,
          23.43576873574432,
          23.515765103510944,
          23.59576147127757,
          23.675757839044188,
          23.755754206810813,
          23.835750574577435,
          23.91574694234406,
          23.995743310110683,
          24.075739677877305,
          24.155736045643927,
          24.235732413410553,
          24.315728781177175,
          24.395725148943797,
          24.475721516710422,
          24.55571788447704,
          24.635714252243666,
          24.71571062001029,
          24.795706987776914,
          24.875703355543532,
          24.955699723310158,
          25.035696091076783,
          25.115692458843405,
          25.195688826610027,
          25.27568519437665,
          25.355681562143275,
          25.435677929909897,
          25.51567429767652,
          25.59567066544314,
          25.675667033209766,
          25.75566340097639,
          25.83565976874301,
          25.915656136509632,
          25.995652504276258,
          26.07564887204288,
          26.155645239809502,
          26.235641607576127,
          26.31563797534275,
          26.39563434310937,
          26.475630710875997,
          26.55562707864262,
          26.63562344640924,
          26.715619814175863,
          26.79561618194249,
          26.87561254970911,
          26.95560891747573,
          27.035605285242355,
          27.11560165300898,
          27.195598020775606,
          27.275594388542224,
          27.355590756308846,
          27.43558712407547,
          27.515583491842097,
          27.595579859608716,
          27.675576227375338,
          27.755572595141963,
          27.83556896290859,
          27.915565330675207,
          27.995561698441833,
          28.075558066208455,
          28.15555443397508,
          28.235550801741702,
          28.315547169508324,
          28.395543537274946,
          28.47553990504157,
          28.555536272808194,
          28.635532640574816,
          28.715529008341438,
          28.79552537610806,
          28.875521743874685,
          28.95551811164131,
          29.035514479407933,
          29.11551084717455,
          29.195507214941177,
          29.275503582707803,
          29.355499950474425,
          29.435496318241043,
          29.51549268600767,
          29.595489053774294,
          29.675485421540916,
          29.755481789307538,
          29.83547815707416,
          29.915474524840786,
          29.995470892607408,
          30.07546726037403,
          30.15546362814065,
          30.235459995907277,
          30.3154563636739,
          30.39545273144052,
          30.475449099207147,
          30.55544546697377,
          30.63544183474039,
          30.715438202507016,
          30.79543457027364,
          30.875430938040257,
          30.955427305806882,
          31.035423673573508,
          31.11542004134013,
          31.19541640910675,
          31.275412776873374,
          31.35540914464,
          31.435405512406625,
          31.515401880173243,
          31.595398247939865,
          31.67539461570649,
          31.755390983473117,
          31.835387351239735,
          31.91538371900636,
          31.99538008677298,
          32.07537645453961,
          32.155372822306234,
          32.23536919007286,
          32.31536555783948,
          32.3953619256061,
          32.47535829337273,
          32.55535466113934,
          32.635351028905966,
          32.71534739667259,
          32.79534376443922,
          32.87534013220584,
          32.95533649997246,
          33.035332867739086,
          33.11532923550571,
          33.19532560327233,
          33.27532197103895,
          33.355318338805574,
          33.4353147065722,
          33.515311074338825,
          33.59530744210545,
          33.67530380987207,
          33.75530017763869,
          33.83529654540531,
          33.91529291317194,
          33.99528928093856,
          34.07528564870518,
          34.15528201647181,
          34.235278384238434,
          34.31527475200506,
          34.39527111977167,
          34.4752674875383,
          34.55526385530492,
          34.63526022307154,
          34.715256590838166,
          34.79525295860479,
          34.87524932637142
         ],
         "yaxis": "y"
        },
        {
         "mode": "lines",
         "name": "deg=3",
         "type": "scatter",
         "x": [
          19.22095798319328,
          19.30110277138494,
          19.381247559576597,
          19.461392347768257,
          19.541537135959913,
          19.621681924151574,
          19.70182671234323,
          19.78197150053489,
          19.862116288726547,
          19.942261076918207,
          20.022405865109864,
          20.102550653301524,
          20.182695441493184,
          20.26284022968484,
          20.3429850178765,
          20.423129806068157,
          20.503274594259818,
          20.583419382451474,
          20.663564170643134,
          20.74370895883479,
          20.82385374702645,
          20.903998535218108,
          20.984143323409768,
          21.064288111601428,
          21.144432899793085,
          21.224577687984745,
          21.3047224761764,
          21.38486726436806,
          21.465012052559718,
          21.54515684075138,
          21.625301628943035,
          21.705446417134695,
          21.785591205326355,
          21.865735993518012,
          21.945880781709672,
          22.02602556990133,
          22.10617035809299,
          22.186315146284645,
          22.266459934476305,
          22.346604722667962,
          22.426749510859622,
          22.50689429905128,
          22.58703908724294,
          22.667183875434596,
          22.747328663626256,
          22.827473451817916,
          22.907618240009572,
          22.987763028201233,
          23.06790781639289,
          23.14805260458455,
          23.228197392776206,
          23.308342180967866,
          23.388486969159523,
          23.468631757351183,
          23.548776545542843,
          23.6289213337345,
          23.709066121926156,
          23.789210910117816,
          23.869355698309477,
          23.949500486501133,
          24.029645274692793,
          24.10979006288445,
          24.18993485107611,
          24.27007963926777,
          24.350224427459427,
          24.430369215651083,
          24.510514003842744,
          24.590658792034404,
          24.67080358022606,
          24.75094836841772,
          24.831093156609377,
          24.911237944801037,
          24.991382732992697,
          25.071527521184354,
          25.15167230937601,
          25.23181709756767,
          25.31196188575933,
          25.392106673950988,
          25.472251462142648,
          25.552396250334304,
          25.632541038525964,
          25.71268582671762,
          25.79283061490928,
          25.872975403100938,
          25.953120191292598,
          26.033264979484258,
          26.113409767675915,
          26.19355455586757,
          26.27369934405923,
          26.35384413225089,
          26.433988920442548,
          26.51413370863421,
          26.594278496825865,
          26.674423285017525,
          26.754568073209185,
          26.834712861400842,
          26.9148576495925,
          26.99500243778416,
          27.07514722597582,
          27.155292014167475,
          27.235436802359132,
          27.315581590550792,
          27.395726378742452,
          27.475871166934112,
          27.55601595512577,
          27.636160743317426,
          27.716305531509086,
          27.796450319700746,
          27.876595107892403,
          27.95673989608406,
          28.03688468427572,
          28.11702947246738,
          28.197174260659036,
          28.277319048850696,
          28.357463837042353,
          28.437608625234013,
          28.517753413425673,
          28.59789820161733,
          28.678042989808986,
          28.758187778000647,
          28.838332566192307,
          28.918477354383963,
          28.99862214257562,
          29.07876693076728,
          29.15891171895894,
          29.2390565071506,
          29.319201295342257,
          29.399346083533914,
          29.479490871725574,
          29.559635659917234,
          29.63978044810889,
          29.719925236300547,
          29.800070024492207,
          29.880214812683867,
          29.960359600875528,
          30.040504389067184,
          30.12064917725884,
          30.2007939654505,
          30.28093875364216,
          30.361083541833818,
          30.441228330025474,
          30.521373118217134,
          30.601517906408795,
          30.68166269460045,
          30.76180748279211,
          30.841952270983768,
          30.922097059175428,
          31.002241847367088,
          31.082386635558745,
          31.1625314237504,
          31.24267621194206,
          31.32282100013372,
          31.40296578832538,
          31.483110576517035,
          31.563255364708695,
          31.643400152900355,
          31.723544941092015,
          31.803689729283672,
          31.88383451747533,
          31.96397930566699,
          32.04412409385865,
          32.1242688820503,
          32.20441367024196,
          32.28455845843362,
          32.36470324662528,
          32.44484803481694,
          32.5249928230086,
          32.605137611200256,
          32.685282399391916,
          32.765427187583576,
          32.84557197577523,
          32.92571676396689,
          33.00586155215855,
          33.08600634035021,
          33.16615112854187,
          33.24629591673352,
          33.32644070492518,
          33.40658549311684,
          33.4867302813085,
          33.566875069500156,
          33.64701985769182,
          33.72716464588348,
          33.80730943407514,
          33.8874542222668,
          33.96759901045845,
          34.04774379865011,
          34.12788858684177,
          34.20803337503343,
          34.28817816322508,
          34.368322951416744,
          34.448467739608404,
          34.528612527800064,
          34.608757315991724,
          34.68890210418338,
          34.76904689237504,
          34.8491916805667,
          34.92933646875835,
          35.00948125695001,
          35.08962604514167,
          35.16977083333333
         ],
         "xaxis": "x",
         "y": [
          18.951066239477328,
          19.031299873191685,
          19.111531135345984,
          19.19176002413102,
          19.271986537737586,
          19.35221067435647,
          19.432432432178455,
          19.51265180939434,
          19.592868804194918,
          19.673083414770975,
          19.753295639313297,
          19.833505476012686,
          19.913712923059922,
          19.993917978645797,
          20.0741206409611,
          20.154320908196635,
          20.234518778543176,
          20.31471425019152,
          20.39490732133246,
          20.475097990156783,
          20.55528625485528,
          20.635472113618743,
          20.715655564637963,
          20.795836606103727,
          20.876015236206825,
          20.956191453138057,
          21.0363652550882,
          21.116536640248054,
          21.1967056068084,
          21.27687215296005,
          21.357036276893762,
          21.43719797680036,
          21.51735725087061,
          21.59751409729531,
          21.677668514265253,
          21.757820499971228,
          21.837970052604028,
          21.918117170354435,
          21.99826185141325,
          22.078404093971262,
          22.158543896219253,
          22.23868125634802,
          22.318816172548356,
          22.398948643011042,
          22.47907866592688,
          22.55920623948666,
          22.63933136188116,
          22.71945403130118,
          22.799574245937503,
          22.879692003980928,
          22.95980730362224,
          23.03992014305224,
          23.120030520461704,
          23.20013843404143,
          23.280243881982212,
          23.36034686247483,
          23.440447373710082,
          23.520545413878757,
          23.60064098117165,
          23.680734073779544,
          23.760824689893234,
          23.840912827703505,
          23.92099848540115,
          24.001081661176972,
          24.081162353221735,
          24.161240559726252,
          24.24131627888131,
          24.321389508877697,
          24.401460247906194,
          24.481528494157605,
          24.561594245822715,
          24.641657501092315,
          24.721718258157196,
          24.801776515208147,
          24.881832270435957,
          24.961885522031423,
          25.041936268185328,
          25.121984507088467,
          25.20203023693163,
          25.28207345590561,
          25.36211416220119,
          25.442152354009167,
          25.52218802952033,
          25.602221186925465,
          25.68225182441537,
          25.762279940180832,
          25.842305532412638,
          25.922328599301586,
          26.00234913903846,
          26.082367149814054,
          26.16238262981916,
          26.24239557724456,
          26.322405990281055,
          26.402413867119428,
          26.482419205950475,
          26.56242200496498,
          26.64242226235374,
          26.722419976307545,
          26.802415145017182,
          26.88240776667344,
          26.962397839467112,
          27.042385361588995,
          27.122370331229867,
          27.20235274658053,
          27.28233260583177,
          27.362309907174367,
          27.44228464879913,
          27.522256828896836,
          27.60222644565828,
          27.682193497274255,
          27.762157981935555,
          27.842119897832962,
          27.922079243157267,
          28.002036016099265,
          28.08199021484974,
          28.161941837599493,
          28.241890882539302,
          28.321837347859965,
          28.401781231752274,
          28.481722532407016,
          28.561661248014982,
          28.641597376766963,
          28.721530916853748,
          28.80146186646613,
          28.881390223794906,
          28.96131598703085,
          29.041239154364764,
          29.12115972398743,
          29.201077694089648,
          29.28099306286221,
          29.36090582849589,
          29.440815989181495,
          29.520723543109813,
          29.60062848847163,
          29.68053082345774,
          29.760430546258934,
          29.84032765506599,
          29.92022214806972,
          30.000114023460903,
          30.080003279430322,
          30.15988991416878,
          30.23977392586706,
          30.319655312715955,
          30.39953407290626,
          30.479410204628763,
          30.559283706074247,
          30.639154575433512,
          30.719022810897343,
          30.79888841065653,
          30.87875137290187,
          30.958611695824146,
          31.038469377614156,
          31.118324416462677,
          31.19817681056052,
          31.278026558098457,
          31.357873657267287,
          31.4377181062578,
          31.517559903260786,
          31.597399046467036,
          31.67723553406734,
          31.75706936425249,
          31.836900535213264,
          31.916729045140475,
          31.996554892224896,
          32.07637807465733,
          32.156198590628556,
          32.23601643832937,
          32.31583161595056,
          32.39564412168292,
          32.47545395371724,
          32.5552611102443,
          32.63506558945491,
          32.71486738953984,
          32.7946665086899,
          32.87446294509587,
          32.95425669694854,
          33.0340477624387,
          33.11383613975715,
          33.193621827094674,
          33.27340482264205,
          33.353185124590084,
          33.432962731129564,
          33.512737640451284,
          33.59250985074603,
          33.672279360204584,
          33.752046167017745,
          33.831810269376305,
          33.91157166547106,
          33.99133035349278,
          34.07108633163228,
          34.15083959808034,
          34.23059015102775,
          34.31033798866529,
          34.390083109183756,
          34.46982551077396,
          34.54956519162667,
          34.62930214993267,
          34.70903638388278,
          34.78876789166777,
          34.868496671478425
         ],
         "yaxis": "y"
        },
        {
         "name": "deg=1 (остатки)",
         "type": "bar",
         "x": [
          "19.0",
          "23.0",
          "27.0",
          "31.0",
          "35.0"
         ],
         "xaxis": "x2",
         "y": [
          -0.004869619805031533,
          0.003827674896793809,
          0.00715379402212335,
          0.0028425859630338834,
          -0.006686826371414156
         ],
         "yaxis": "y2"
        },
        {
         "name": "deg=2 (остатки)",
         "type": "bar",
         "x": [
          "19.0",
          "23.0",
          "27.0",
          "31.0",
          "35.0"
         ],
         "xaxis": "x2",
         "y": [
          6.483236847287799e-05,
          -0.00024180433370091237,
          0.000391996426696295,
          -0.0003115177281571846,
          2.5010218465126854e-05
         ],
         "yaxis": "y2"
        },
        {
         "name": "deg=3 (остатки)",
         "type": "bar",
         "x": [
          "19.0",
          "23.0",
          "27.0",
          "31.0",
          "35.0"
         ],
         "xaxis": "x2",
         "y": [
          3.6281531073711903e-05,
          -0.00016854694757739708,
          0.0003620475477994489,
          -0.00042629814081607265,
          6.582852157777097e-05
         ],
         "yaxis": "y2"
        }
       ],
       "layout": {
        "barmode": "group",
        "height": 640,
        "legend": {
         "orientation": "h",
         "x": 0.5,
         "xanchor": "center",
         "y": 1.02,
         "yanchor": "bottom"
        },
        "margin": {
         "b": 70,
         "l": 60,
         "r": 40,
         "t": 80
        },
        "template": {
         "data": {
          "bar": [
           {
            "error_x": {
             "color": "#2a3f5f"
            },
            "error_y": {
             "color": "#2a3f5f"
            },
            "marker": {
             "line": {
              "color": "#E5ECF6",
              "width": 0.5
             },
             "pattern": {
              "fillmode": "overlay",
              "size": 10,
              "solidity": 0.2
             }
            },
            "type": "bar"
           }
          ],
          "barpolar": [
           {
            "marker": {
             "line": {
              "color": "#E5ECF6",
              "width": 0.5
             },
             "pattern": {
              "fillmode": "overlay",
              "size": 10,
              "solidity": 0.2
             }
            },
            "type": "barpolar"
           }
          ],
          "carpet": [
           {
            "aaxis": {
             "endlinecolor": "#2a3f5f",
             "gridcolor": "white",
             "linecolor": "white",
             "minorgridcolor": "white",
             "startlinecolor": "#2a3f5f"
            },
            "baxis": {
             "endlinecolor": "#2a3f5f",
             "gridcolor": "white",
             "linecolor": "white",
             "minorgridcolor": "white",
             "startlinecolor": "#2a3f5f"
            },
            "type": "carpet"
           }
          ],
          "choropleth": [
           {
            "colorbar": {
             "outlinewidth": 0,
             "ticks": ""
            },
            "type": "choropleth"
           }
          ],
          "contour": [
           {
            "colorbar": {
             "outlinewidth": 0,
             "ticks": ""
            },
            "colorscale": [
             [
              0,
              "#0d0887"
             ],
             [
              0.1111111111111111,
              "#46039f"
             ],
             [
              0.2222222222222222,
              "#7201a8"
             ],
             [
              0.3333333333333333,
              "#9c179e"
             ],
             [
              0.4444444444444444,
              "#bd3786"
             ],
             [
              0.5555555555555556,
              "#d8576b"
             ],
             [
              0.6666666666666666,
              "#ed7953"
             ],
             [
              0.7777777777777778,
              "#fb9f3a"
             ],
             [
              0.8888888888888888,
              "#fdca26"
             ],
             [
              1,
              "#f0f921"
             ]
            ],
            "type": "contour"
           }
          ],
          "contourcarpet": [
           {
            "colorbar": {
             "outlinewidth": 0,
             "ticks": ""
            },
            "type": "contourcarpet"
           }
          ],
          "heatmap": [
           {
            "colorbar": {
             "outlinewidth": 0,
             "ticks": ""
            },
            "colorscale": [
             [
              0,
              "#0d0887"
             ],
             [
              0.1111111111111111,
              "#46039f"
             ],
             [
              0.2222222222222222,
              "#7201a8"
             ],
             [
              0.3333333333333333,
              "#9c179e"
             ],
             [
              0.4444444444444444,
              "#bd3786"
             ],
             [
              0.5555555555555556,
              "#d8576b"
             ],
             [
              0.6666666666666666,
              "#ed7953"
             ],
             [
              0.7777777777777778,
              "#fb9f3a"
             ],
             [
              0.8888888888888888,
              "#fdca26"
             ],
             [
              1,
              "#f0f921"
             ]
            ],
            "type": "heatmap"
           }
          ],
          "heatmapgl": [
           {
            "colorbar": {
             "outlinewidth": 0,
             "ticks": ""
            },
            "colorscale": [
             [
              0,
              "#0d0887"
             ],
             [
              0.1111111111111111,
              "#46039f"
             ],
             [
              0.2222222222222222,
              "#7201a8"
             ],
             [
              0.3333333333333333,
              "#9c179e"
             ],
             [
              0.4444444444444444,
              "#bd3786"
             ],
             [
              0.5555555555555556,
              "#d8576b"
             ],
             [
              0.6666666666666666,
              "#ed7953"
             ],
             [
              0.7777777777777778,
              "#fb9f3a"
             ],
             [
              0.8888888888888888,
              "#fdca26"
             ],
             [
              1,
              "#f0f921"
             ]
            ],
            "type": "heatmapgl"
           }
          ],
          "histogram": [
           {
            "marker": {
             "pattern": {
              "fillmode": "overlay",
              "size": 10,
              "solidity": 0.2
             }
            },
            "type": "histogram"
           }
          ],
          "histogram2d": [
           {
            "colorbar": {
             "outlinewidth": 0,
             "ticks": ""
            },
            "colorscale": [
             [
              0,
              "#0d0887"
             ],
             [
              0.1111111111111111,
              "#46039f"
             ],
             [
              0.2222222222222222,
              "#7201a8"
             ],
             [
              0.3333333333333333,
              "#9c179e"
             ],
             [
              0.4444444444444444,
              "#bd3786"
             ],
             [
              0.5555555555555556,
              "#d8576b"
             ],
             [
              0.6666666666666666,
              "#ed7953"
             ],
             [
              0.7777777777777778,
              "#fb9f3a"
             ],
             [
              0.8888888888888888,
              "#fdca26"
             ],
             [
              1,
              "#f0f921"
             ]
            ],
            "type": "histogram2d"
           }
          ],
          "histogram2dcontour": [
           {
            "colorbar": {
             "outlinewidth": 0,
             "ticks": ""
            },
            "colorscale": [
             [
              0,
              "#0d0887"
             ],
             [
              0.1111111111111111,
              "#46039f"
             ],
             [
              0.2222222222222222,
              "#7201a8"
             ],
             [
              0.3333333333333333,
              "#9c179e"
             ],
             [
              0.4444444444444444,
              "#bd3786"
             ],
             [
              0.5555555555555556,
              "#d8576b"
             ],
             [
              0.6666666666666666,
              "#ed7953"
             ],
             [
              0.7777777777777778,
              "#fb9f3a"
             ],
             [
              0.8888888888888888,
              "#fdca26"
             ],
             [
              1,
              "#f0f921"
             ]
            ],
            "type": "histogram2dcontour"
           }
          ],
          "mesh3d": [
           {
            "colorbar": {
             "outlinewidth": 0,
             "ticks": ""
            },
            "type": "mesh3d"
           }
          ],
          "parcoords": [
           {
            "line": {
             "colorbar": {
              "outlinewidth": 0,
              "ticks": ""
             }
            },
            "type": "parcoords"
           }
          ],
          "pie": [
           {
            "automargin": true,
            "type": "pie"
           }
          ],
          "scatter": [
           {
            "fillpattern": {
             "fillmode": "overlay",
             "size": 10,
             "solidity": 0.2
            },
            "type": "scatter"
           }
          ],
          "scatter3d": [
           {
            "line": {
             "colorbar": {
              "outlinewidth": 0,
              "ticks": ""
             }
            },
            "marker": {
             "colorbar": {
              "outlinewidth": 0,
              "ticks": ""
             }
            },
            "type": "scatter3d"
           }
          ],
          "scattercarpet": [
           {
            "marker": {
             "colorbar": {
              "outlinewidth": 0,
              "ticks": ""
             }
            },
            "type": "scattercarpet"
           }
          ],
          "scattergeo": [
           {
            "marker": {
             "colorbar": {
              "outlinewidth": 0,
              "ticks": ""
             }
            },
            "type": "scattergeo"
           }
          ],
          "scattergl": [
           {
            "marker": {
             "colorbar": {
              "outlinewidth": 0,
              "ticks": ""
             }
            },
            "type": "scattergl"
           }
          ],
          "scattermapbox": [
           {
            "marker": {
             "colorbar": {
              "outlinewidth": 0,
              "ticks": ""
             }
            },
            "type": "scattermapbox"
           }
          ],
          "scatterpolar": [
           {
            "marker": {
             "colorbar": {
              "outlinewidth": 0,
              "ticks": ""
             }
            },
            "type": "scatterpolar"
           }
          ],
          "scatterpolargl": [
           {
            "marker": {
             "colorbar": {
              "outlinewidth": 0,
              "ticks": ""
             }
            },
            "type": "scatterpolargl"
           }
          ],
          "scatterternary": [
           {
            "marker": {
             "colorbar": {
              "outlinewidth": 0,
              "ticks": ""
             }
            },
            "type": "scatterternary"
           }
          ],
          "surface": [
           {
            "colorbar": {
             "outlinewidth": 0,
             "ticks": ""
            },
            "colorscale": [
             [
              0,
              "#0d0887"
             ],
             [
              0.1111111111111111,
              "#46039f"
             ],
             [
              0.2222222222222222,
              "#7201a8"
             ],
             [
              0.3333333333333333,
              "#9c179e"
             ],
             [
              0.4444444444444444,
              "#bd3786"
             ],
             [
              0.5555555555555556,
              "#d8576b"
             ],
             [
              0.6666666666666666,
              "#ed7953"
             ],
             [
              0.7777777777777778,
              "#fb9f3a"
             ],
             [
              0.8888888888888888,
              "#fdca26"
             ],
             [
              1,
              "#f0f921"
             ]
            ],
            "type": "surface"
           }
          ],
          "table": [
           {
            "cells": {
             "fill": {
              "color": "#EBF0F8"
             },
             "line": {
              "color": "white"
             }
            },
            "header": {
             "fill": {
              "color": "#C8D4E3"
             },
             "line": {
              "color": "white"
             }
            },
            "type": "table"
           }
          ]
         },
         "layout": {
          "annotationdefaults": {
           "arrowcolor": "#2a3f5f",
           "arrowhead": 0,
           "arrowwidth": 1
          },
          "autotypenumbers": "strict",
          "coloraxis": {
           "colorbar": {
            "outlinewidth": 0,
            "ticks": ""
           }
          },
          "colorscale": {
           "diverging": [
            [
             0,
             "#8e0152"
            ],
            [
             0.1,
             "#c51b7d"
            ],
            [
             0.2,
             "#de77ae"
            ],
            [
             0.3,
             "#f1b6da"
            ],
            [
             0.4,
             "#fde0ef"
            ],
            [
             0.5,
             "#f7f7f7"
            ],
            [
             0.6,
             "#e6f5d0"
            ],
            [
             0.7,
             "#b8e186"
            ],
            [
             0.8,
             "#7fbc41"
            ],
            [
             0.9,
             "#4d9221"
            ],
            [
             1,
             "#276419"
            ]
           ],
           "sequential": [
            [
             0,
             "#0d0887"
            ],
            [
             0.1111111111111111,
             "#46039f"
            ],
            [
             0.2222222222222222,
             "#7201a8"
            ],
            [
             0.3333333333333333,
             "#9c179e"
            ],
            [
             0.4444444444444444,
             "#bd3786"
            ],
            [
             0.5555555555555556,
             "#d8576b"
            ],
            [
             0.6666666666666666,
             "#ed7953"
            ],
            [
             0.7777777777777778,
             "#fb9f3a"
            ],
            [
             0.8888888888888888,
             "#fdca26"
            ],
            [
             1,
             "#f0f921"
            ]
           ],
           "sequentialminus": [
            [
             0,
             "#0d0887"
            ],
            [
             0.1111111111111111,
             "#46039f"
            ],
            [
             0.2222222222222222,
             "#7201a8"
            ],
            [
             0.3333333333333333,
             "#9c179e"
            ],
            [
             0.4444444444444444,
             "#bd3786"
            ],
            [
             0.5555555555555556,
             "#d8576b"
            ],
            [
             0.6666666666666666,
             "#ed7953"
            ],
            [
             0.7777777777777778,
             "#fb9f3a"
            ],
            [
             0.8888888888888888,
             "#fdca26"
            ],
            [
             1,
             "#f0f921"
            ]
           ]
          },
          "colorway": [
           "#636efa",
           "#EF553B",
           "#00cc96",
           "#ab63fa",
           "#FFA15A",
           "#19d3f3",
           "#FF6692",
           "#B6E880",
           "#FF97FF",
           "#FECB52"
          ],
          "font": {
           "color": "#2a3f5f"
          },
          "geo": {
           "bgcolor": "white",
           "lakecolor": "white",
           "landcolor": "#E5ECF6",
           "showlakes": true,
           "showland": true,
           "subunitcolor": "white"
          },
          "hoverlabel": {
           "align": "left"
          },
          "hovermode": "closest",
          "mapbox": {
           "style": "light"
          },
          "paper_bgcolor": "white",
          "plot_bgcolor": "#E5ECF6",
          "polar": {
           "angularaxis": {
            "gridcolor": "white",
            "linecolor": "white",
            "ticks": ""
           },
           "bgcolor": "#E5ECF6",
           "radialaxis": {
            "gridcolor": "white",
            "linecolor": "white",
            "ticks": ""
           }
          },
          "scene": {
           "xaxis": {
            "backgroundcolor": "#E5ECF6",
            "gridcolor": "white",
            "gridwidth": 2,
            "linecolor": "white",
            "showbackground": true,
            "ticks": "",
            "zerolinecolor": "white"
           },
           "yaxis": {
            "backgroundcolor": "#E5ECF6",
            "gridcolor": "white",
            "gridwidth": 2,
            "linecolor": "white",
            "showbackground": true,
            "ticks": "",
            "zerolinecolor": "white"
           },
           "zaxis": {
            "backgroundcolor": "#E5ECF6",
            "gridcolor": "white",
            "gridwidth": 2,
            "linecolor": "white",
            "showbackground": true,
            "ticks": "",
            "zerolinecolor": "white"
           }
          },
          "shapedefaults": {
           "line": {
            "color": "#2a3f5f"
           }
          },
          "ternary": {
           "aaxis": {
            "gridcolor": "white",
            "linecolor": "white",
            "ticks": ""
           },
           "baxis": {
            "gridcolor": "white",
            "linecolor": "white",
            "ticks": ""
           },
           "bgcolor": "#E5ECF6",
           "caxis": {
            "gridcolor": "white",
            "linecolor": "white",
            "ticks": ""
           }
          },
          "title": {
           "x": 0.05
          },
          "xaxis": {
           "automargin": true,
           "gridcolor": "white",
           "linecolor": "white",
           "ticks": "",
           "title": {
            "standoff": 15
           },
           "zerolinecolor": "white",
           "zerolinewidth": 2
          },
          "yaxis": {
           "automargin": true,
           "gridcolor": "white",
           "linecolor": "white",
           "ticks": "",
           "title": {
            "standoff": 15
           },
           "zerolinecolor": "white",
           "zerolinewidth": 2
          }
         }
        },
        "title": {
         "text": "Калибровка: T10"
        },
        "width": 860,
        "xaxis": {
         "anchor": "y",
         "domain": [
          0,
          1
         ],
         "gridcolor": "rgba(0,0,0,0.15)",
         "showgrid": true,
         "title": {
          "text": "T10 (X)"
         }
        },
        "xaxis2": {
         "anchor": "y2",
         "categoryarray": [
          "19.0",
          "23.0",
          "27.0",
          "31.0",
          "35.0"
         ],
         "categoryorder": "array",
         "domain": [
          0,
          1
         ],
         "gridcolor": "rgba(0,0,0,0.12)",
         "showgrid": true,
         "title": {
          "text": "Полочка (центр)"
         },
         "type": "category"
        },
        "yaxis": {
         "anchor": "x",
         "domain": [
          0.428,
          1
         ],
         "gridcolor": "rgba(0,0,0,0.15)",
         "showgrid": true,
         "title": {
          "text": "T8 (Y)"
         }
        },
        "yaxis2": {
         "anchor": "x2",
         "domain": [
          0,
          0.308
         ],
         "gridcolor": "rgba(0,0,0,0.12)",
         "showgrid": true,
         "title": {
          "text": "Y - Y_hat (°C)"
         }
        }
       }
      }
     },
     "metadata": {},
     "output_type": "display_data"
    },
    {
     "name": "stdout",
     "output_type": "stream",
     "text": [
      "Сенсор T11: 5 точек; степени 1..3\n",
      "deg=1: Y = 0.9982978·X - 0.065558619\n",
      "    coeffs (старшая→младшая): [0.9982978, -0.065558619] | RMSE=0.00399021, MAE=0.0033894, Max|err|=0.00659124\n",
      "deg=2: Y = -0.00014354106·X^2 + 1.0061495·X - 0.16768682\n",
      "    coeffs (старшая→младшая): [-0.00014354106, 1.0061495, -0.16768682] | RMSE=0.00143886, MAE=0.000975662, Max|err|=0.00288491\n",
      "deg=3: Y = 4.8176093e-06·X^3 - 0.00053158534·X^2 + 1.0162929·X - 0.25371114\n",
      "    coeffs (старшая→младшая): [4.8176093e-06, -0.00053158534, 1.0162929, -0.25371114] | RMSE=0.0011717, MAE=0.000933485, Max|err|=0.00191682\n"
     ]
    },
    {
     "data": {
      "application/vnd.plotly.v1+json": {
       "config": {
        "plotlyServerURL": "https://plot.ly"
       },
       "data": [
        {
         "error_x": {
          "array": [
           0.000915596785220704,
           0.0007600918801190583,
           0.0010092670045602136,
           0.0011265777907081126,
           0.0009836482283454057
          ],
          "type": "data",
          "visible": true
         },
         "error_y": {
          "array": [
           0.0007717083083973219,
           0.0007354376478136475,
           0.0008546634240065006,
           0.0011512141804072185,
           0.00068953752939639
          ],
          "type": "data",
          "visible": true
         },
         "marker": {
          "size": 9
         },
         "mode": "markers",
         "name": "Точки",
         "type": "scatter",
         "x": [
          19.053984115523466,
          23.048050943961638,
          27.03508946772367,
          31.026727472527472,
          35.0027037037037
         ],
         "xaxis": "x",
         "y": [
          18.951264620938627,
          22.945678154030567,
          26.93010305775765,
          30.90877362637363,
          34.87477160493827
         ],
         "yaxis": "y"
        },
        {
         "mode": "lines",
         "name": "deg=1",
         "type": "scatter",
         "x": [
          19.053984115523466,
          19.13412843506206,
          19.214272754600653,
          19.294417074139247,
          19.374561393677844,
          19.454705713216438,
          19.53485003275503,
          19.614994352293625,
          19.69513867183222,
          19.775282991370812,
          19.85542731090941,
          19.935571630448003,
          20.015715949986596,
          20.09586026952519,
          20.176004589063783,
          20.256148908602377,
          20.336293228140974,
          20.416437547679568,
          20.49658186721816,
          20.576726186756755,
          20.65687050629535,
          20.737014825833942,
          20.817159145372536,
          20.897303464911133,
          20.977447784449726,
          21.05759210398832,
          21.137736423526913,
          21.217880743065507,
          21.298025062604104,
          21.378169382142698,
          21.45831370168129,
          21.538458021219885,
          21.61860234075848,
          21.698746660297072,
          21.778890979835666,
          21.859035299374263,
          21.939179618912856,
          22.01932393845145,
          22.099468257990043,
          22.179612577528637,
          22.25975689706723,
          22.339901216605828,
          22.42004553614442,
          22.500189855683015,
          22.58033417522161,
          22.660478494760202,
          22.740622814298796,
          22.820767133837393,
          22.900911453375986,
          22.98105577291458,
          23.061200092453173,
          23.141344411991767,
          23.22148873153036,
          23.301633051068954,
          23.38177737060755,
          23.461921690146145,
          23.54206600968474,
          23.622210329223332,
          23.702354648761926,
          23.782498968300523,
          23.862643287839113,
          23.94278760737771,
          24.022931926916304,
          24.103076246454897,
          24.18322056599349,
          24.263364885532084,
          24.34350920507068,
          24.423653524609275,
          24.50379784414787,
          24.583942163686462,
          24.664086483225056,
          24.74423080276365,
          24.824375122302243,
          24.90451944184084,
          24.984663761379434,
          25.064808080918027,
          25.14495240045662,
          25.225096719995214,
          25.30524103953381,
          25.385385359072405,
          25.465529678611,
          25.545673998149592,
          25.625818317688186,
          25.70596263722678,
          25.786106956765373,
          25.86625127630397,
          25.946395595842564,
          26.026539915381157,
          26.10668423491975,
          26.186828554458344,
          26.26697287399694,
          26.34711719353553,
          26.42726151307413,
          26.507405832612722,
          26.587550152151316,
          26.66769447168991,
          26.747838791228503,
          26.8279831107671,
          26.908127430305694,
          26.988271749844287,
          27.06841606938288,
          27.148560388921474,
          27.22870470846007,
          27.30884902799866,
          27.38899334753726,
          27.469137667075852,
          27.549281986614446,
          27.62942630615304,
          27.709570625691633,
          27.78971494523023,
          27.86985926476882,
          27.950003584307417,
          28.03014790384601,
          28.110292223384604,
          28.1904365429232,
          28.27058086246179,
          28.35072518200039,
          28.43086950153898,
          28.511013821077576,
          28.59115814061617,
          28.671302460154763,
          28.75144677969336,
          28.83159109923195,
          28.911735418770547,
          28.99187973830914,
          29.072024057847734,
          29.152168377386328,
          29.23231269692492,
          29.31245701646352,
          29.39260133600211,
          29.472745655540706,
          29.5528899750793,
          29.633034294617893,
          29.71317861415649,
          29.79332293369508,
          29.873467253233677,
          29.95361157277227,
          30.033755892310865,
          30.113900211849458,
          30.19404453138805,
          30.27418885092665,
          30.35433317046524,
          30.434477490003836,
          30.51462180954243,
          30.594766129081023,
          30.674910448619617,
          30.75505476815821,
          30.835199087696807,
          30.915343407235397,
          30.995487726773995,
          31.075632046312588,
          31.15577636585118,
          31.23592068538978,
          31.31606500492837,
          31.396209324466966,
          31.47635364400556,
          31.556497963544153,
          31.636642283082747,
          31.71678660262134,
          31.796930922159937,
          31.877075241698527,
          31.957219561237125,
          32.037363880775715,
          32.11750820031431,
          32.19765251985291,
          32.2777968393915,
          32.357941158930096,
          32.438085478468686,
          32.51822979800728,
          32.59837411754587,
          32.67851843708447,
          32.75866275662307,
          32.83880707616166,
          32.918951395700255,
          32.99909571523885,
          33.07924003477744,
          33.15938435431603,
          33.23952867385463,
          33.319672993393226,
          33.399817312931816,
          33.47996163247041,
          33.56010595200901,
          33.6402502715476,
          33.7203945910862,
          33.80053891062479,
          33.880683230163385,
          33.960827549701975,
          34.04097186924057,
          34.12111618877917,
          34.20126050831776,
          34.281404827856356,
          34.361549147394946,
          34.44169346693354,
          34.52183778647213,
          34.60198210601073,
          34.68212642554933,
          34.76227074508792,
          34.842415064626515,
          34.922559384165105,
          35.0027037037037
         ],
         "xaxis": "x",
         "y": [
          18.955991875472744,
          19.03599977364609,
          19.11600767181944,
          19.196015569992785,
          19.276023468166137,
          19.356031366339483,
          19.436039264512832,
          19.516047162686178,
          19.596055060859523,
          19.676062959032873,
          19.756070857206222,
          19.83607875537957,
          19.916086653552917,
          19.996094551726262,
          20.07610244989961,
          20.156110348072957,
          20.23611824624631,
          20.316126144419655,
          20.396134042593,
          20.47614194076635,
          20.556149838939696,
          20.636157737113045,
          20.71616563528639,
          20.796173533459744,
          20.87618143163309,
          20.956189329806435,
          21.036197227979784,
          21.11620512615313,
          21.196213024326482,
          21.276220922499828,
          21.356228820673174,
          21.436236718846523,
          21.51624461701987,
          21.596252515193218,
          21.676260413366563,
          21.756268311539916,
          21.83627620971326,
          21.916284107886607,
          21.996292006059956,
          22.076299904233302,
          22.15630780240665,
          22.23631570058,
          22.316323598753346,
          22.396331496926695,
          22.47633939510004,
          22.55634729327339,
          22.636355191446736,
          22.716363089620085,
          22.796370987793434,
          22.87637888596678,
          22.95638678414013,
          23.036394682313475,
          23.116402580486824,
          23.19641047866017,
          23.27641837683352,
          23.356426275006868,
          23.436434173180213,
          23.516442071353563,
          23.59644996952691,
          23.676457867700258,
          23.756465765873603,
          23.836473664046952,
          23.9164815622203,
          23.996489460393647,
          24.076497358566996,
          24.156505256740342,
          24.23651315491369,
          24.31652105308704,
          24.396528951260386,
          24.476536849433735,
          24.55654474760708,
          24.636552645780426,
          24.716560543953776,
          24.796568442127125,
          24.876576340300474,
          24.95658423847382,
          25.03659213664717,
          25.116600034820515,
          25.196607932993864,
          25.276615831167213,
          25.35662372934056,
          25.436631627513908,
          25.516639525687253,
          25.5966474238606,
          25.676655322033948,
          25.756663220207297,
          25.836671118380647,
          25.916679016553992,
          25.996686914727338,
          26.076694812900687,
          26.156702711074036,
          26.236710609247382,
          26.31671850742073,
          26.39672640559408,
          26.476734303767426,
          26.55674220194077,
          26.63675010011412,
          26.71675799828747,
          26.79676589646082,
          26.876773794634165,
          26.95678169280751,
          27.03678959098086,
          27.11679748915421,
          27.196805387327554,
          27.276813285500904,
          27.356821183674253,
          27.4368290818476,
          27.516836980020944,
          27.596844878194293,
          27.676852776367642,
          27.756860674540988,
          27.836868572714337,
          27.916876470887683,
          27.996884369061032,
          28.07689226723438,
          28.156900165407727,
          28.236908063581076,
          28.316915961754418,
          28.39692385992777,
          28.476931758101117,
          28.556939656274466,
          28.636947554447815,
          28.71695545262116,
          28.79696335079451,
          28.876971248967855,
          28.956979147141205,
          29.03698704531455,
          29.1169949434879,
          29.19700284166125,
          29.27701073983459,
          29.357018638007943,
          29.43702653618129,
          29.51703443435464,
          29.597042332527987,
          29.677050230701333,
          29.757058128874682,
          29.837066027048028,
          29.917073925221377,
          29.997081823394723,
          30.077089721568072,
          30.15709761974142,
          30.237105517914763,
          30.317113416088116,
          30.39712131426146,
          30.47712921243481,
          30.557137110608156,
          30.637145008781506,
          30.717152906954855,
          30.797160805128197,
          30.87716870330155,
          30.957176601474895,
          31.037184499648244,
          31.117192397821594,
          31.197200295994936,
          31.27720819416829,
          31.357216092341634,
          31.437223990514983,
          31.51723188868833,
          31.597239786861675,
          31.677247685035027,
          31.75725558320837,
          31.837263481381722,
          31.917271379555064,
          31.997279277728413,
          32.07728717590176,
          32.15729507407511,
          32.23730297224846,
          32.3173108704218,
          32.39731876859515,
          32.4773266667685,
          32.55733456494185,
          32.637342463115196,
          32.71735036128854,
          32.79735825946189,
          32.877366157635244,
          32.957374055808586,
          33.03738195398193,
          33.11738985215528,
          33.197397750328626,
          33.277405648501976,
          33.357413546675325,
          33.437421444848674,
          33.517429343022016,
          33.597437241195365,
          33.677445139368714,
          33.757453037542064,
          33.837460935715406,
          33.917468833888755,
          33.997476732062104,
          34.07748463023545,
          34.1574925284088,
          34.237500426582145,
          34.317508324755494,
          34.397516222928836,
          34.47752412110219,
          34.55753201927554,
          34.63753991744888,
          34.71754781562223,
          34.79755571379558,
          34.87756361196893
         ],
         "yaxis": "y"
        },
        {
         "mode": "lines",
         "name": "deg=3",
         "type": "scatter",
         "x": [
          19.053984115523466,
          19.13412843506206,
          19.214272754600653,
          19.294417074139247,
          19.374561393677844,
          19.454705713216438,
          19.53485003275503,
          19.614994352293625,
          19.69513867183222,
          19.775282991370812,
          19.85542731090941,
          19.935571630448003,
          20.015715949986596,
          20.09586026952519,
          20.176004589063783,
          20.256148908602377,
          20.336293228140974,
          20.416437547679568,
          20.49658186721816,
          20.576726186756755,
          20.65687050629535,
          20.737014825833942,
          20.817159145372536,
          20.897303464911133,
          20.977447784449726,
          21.05759210398832,
          21.137736423526913,
          21.217880743065507,
          21.298025062604104,
          21.378169382142698,
          21.45831370168129,
          21.538458021219885,
          21.61860234075848,
          21.698746660297072,
          21.778890979835666,
          21.859035299374263,
          21.939179618912856,
          22.01932393845145,
          22.099468257990043,
          22.179612577528637,
          22.25975689706723,
          22.339901216605828,
          22.42004553614442,
          22.500189855683015,
          22.58033417522161,
          22.660478494760202,
          22.740622814298796,
          22.820767133837393,
          22.900911453375986,
          22.98105577291458,
          23.061200092453173,
          23.141344411991767,
          23.22148873153036,
          23.301633051068954,
          23.38177737060755,
          23.461921690146145,
          23.54206600968474,
          23.622210329223332,
          23.702354648761926,
          23.782498968300523,
          23.862643287839113,
          23.94278760737771,
          24.022931926916304,
          24.103076246454897,
          24.18322056599349,
          24.263364885532084,
          24.34350920507068,
          24.423653524609275,
          24.50379784414787,
          24.583942163686462,
          24.664086483225056,
          24.74423080276365,
          24.824375122302243,
          24.90451944184084,
          24.984663761379434,
          25.064808080918027,
          25.14495240045662,
          25.225096719995214,
          25.30524103953381,
          25.385385359072405,
          25.465529678611,
          25.545673998149592,
          25.625818317688186,
          25.70596263722678,
          25.786106956765373,
          25.86625127630397,
          25.946395595842564,
          26.026539915381157,
          26.10668423491975,
          26.186828554458344,
          26.26697287399694,
          26.34711719353553,
          26.42726151307413,
          26.507405832612722,
          26.587550152151316,
          26.66769447168991,
          26.747838791228503,
          26.8279831107671,
          26.908127430305694,
          26.988271749844287,
          27.06841606938288,
          27.148560388921474,
          27.22870470846007,
          27.30884902799866,
          27.38899334753726,
          27.469137667075852,
          27.549281986614446,
          27.62942630615304,
          27.709570625691633,
          27.78971494523023,
          27.86985926476882,
          27.950003584307417,
          28.03014790384601,
          28.110292223384604,
          28.1904365429232,
          28.27058086246179,
          28.35072518200039,
          28.43086950153898,
          28.511013821077576,
          28.59115814061617,
          28.671302460154763,
          28.75144677969336,
          28.83159109923195,
          28.911735418770547,
          28.99187973830914,
          29.072024057847734,
          29.152168377386328,
          29.23231269692492,
          29.31245701646352,
          29.39260133600211,
          29.472745655540706,
          29.5528899750793,
          29.633034294617893,
          29.71317861415649,
          29.79332293369508,
          29.873467253233677,
          29.95361157277227,
          30.033755892310865,
          30.113900211849458,
          30.19404453138805,
          30.27418885092665,
          30.35433317046524,
          30.434477490003836,
          30.51462180954243,
          30.594766129081023,
          30.674910448619617,
          30.75505476815821,
          30.835199087696807,
          30.915343407235397,
          30.995487726773995,
          31.075632046312588,
          31.15577636585118,
          31.23592068538978,
          31.31606500492837,
          31.396209324466966,
          31.47635364400556,
          31.556497963544153,
          31.636642283082747,
          31.71678660262134,
          31.796930922159937,
          31.877075241698527,
          31.957219561237125,
          32.037363880775715,
          32.11750820031431,
          32.19765251985291,
          32.2777968393915,
          32.357941158930096,
          32.438085478468686,
          32.51822979800728,
          32.59837411754587,
          32.67851843708447,
          32.75866275662307,
          32.83880707616166,
          32.918951395700255,
          32.99909571523885,
          33.07924003477744,
          33.15938435431603,
          33.23952867385463,
          33.319672993393226,
          33.399817312931816,
          33.47996163247041,
          33.56010595200901,
          33.6402502715476,
          33.7203945910862,
          33.80053891062479,
          33.880683230163385,
          33.960827549701975,
          34.04097186924057,
          34.12111618877917,
          34.20126050831776,
          34.281404827856356,
          34.361549147394946,
          34.44169346693354,
          34.52183778647213,
          34.60198210601073,
          34.68212642554933,
          34.76227074508792,
          34.842415064626515,
          34.922559384165105,
          35.0027037037037
         ],
         "xaxis": "x",
         "y": [
          18.951050086758034,
          19.031295543702154,
          19.11153772430581,
          19.191776643448936,
          19.272012316011484,
          19.35224475687337,
          19.43247398091454,
          19.512700003014928,
          19.592922838054474,
          19.673142500913112,
          19.75335900647078,
          19.833572369607406,
          19.913782605202936,
          19.9939897281373,
          20.074193753290437,
          20.154394695542283,
          20.234592569772776,
          20.31478739086185,
          20.39497917368944,
          20.475167933135477,
          20.555353684079908,
          20.635536441402664,
          20.715716219983683,
          20.7958930347029,
          20.876066900440254,
          20.956237832075672,
          21.0364058444891,
          21.11657095256047,
          21.19673317116972,
          21.276892515196785,
          21.357048999521595,
          21.4372026390241,
          21.517353448584224,
          21.597501443081907,
          21.67764663739709,
          21.7577890464097,
          21.83792868499968,
          21.918065568046963,
          21.99819971043149,
          22.078331127033188,
          22.158459832732007,
          22.23858584240787,
          22.318709170940714,
          22.39882983321049,
          22.47894784409711,
          22.55906321848053,
          22.639175971240682,
          22.7192861172575,
          22.799393671410918,
          22.879498648580874,
          22.959601063647305,
          23.039700931490145,
          23.11979826698933,
          23.199893085024804,
          23.279985400476495,
          23.36007522822434,
          23.440162583148275,
          23.52024748012824,
          23.60032993404417,
          23.680409959776,
          23.760487572203658,
          23.840562786207098,
          23.920635616666242,
          24.00070607846103,
          24.0807741864714,
          24.160839955577288,
          24.240903400658627,
          24.32096453659536,
          24.401023378267414,
          24.48107994055473,
          24.56113423833724,
          24.64118628649489,
          24.721236099907607,
          24.801283693455332,
          24.881329082018,
          24.961372280475544,
          25.041413303707902,
          25.121452166595017,
          25.20148888401682,
          25.281523470853237,
          25.361555941984214,
          25.441586312289694,
          25.521614596649602,
          25.601640809943873,
          25.681664967052455,
          25.76168708285528,
          25.841707172232276,
          25.921725250063385,
          26.001741331228544,
          26.081755430607686,
          26.16176756308075,
          26.24177774352767,
          26.321785986828388,
          26.40179230786283,
          26.481796721510943,
          26.561799242652654,
          26.641799886167902,
          26.721798666936632,
          26.80179559983877,
          26.881790699754248,
          26.96178398156301,
          27.041775460144994,
          27.121765150380135,
          27.201753067148363,
          27.28173922532962,
          27.36172363980384,
          27.441706325450966,
          27.52168729715092,
          27.601666569783646,
          27.681644158229087,
          27.761620077367166,
          27.841594342077826,
          27.921566967241006,
          28.001537967736642,
          28.08150735844466,
          28.161475154245004,
          28.24144137001762,
          28.321406020642417,
          28.40136912099936,
          28.481330685968366,
          28.561290730429384,
          28.641249269262346,
          28.72120631734718,
          28.80116188956383,
          28.881116000792233,
          28.961068665912318,
          29.04101989980403,
          29.1209697173473,
          29.200918133422064,
          29.280865162908263,
          29.36081082068583,
          29.4407551216347,
          29.52069808063481,
          29.600639712566096,
          29.68058003230849,
          29.760519054741945,
          29.840456794746373,
          29.920393267201728,
          30.00032848698794,
          30.08026246898494,
          30.160195228072674,
          30.240126779131067,
          30.32005713704007,
          30.399986316679612,
          30.47991433292962,
          30.559841200670043,
          30.639766934780816,
          30.719691550141867,
          30.799615061633133,
          30.879537484134563,
          30.95945883252608,
          31.039379121687627,
          31.119298366499137,
          31.19921658184054,
          31.279133782591785,
          31.3590499836328,
          31.43896519984352,
          31.51887944610389,
          31.598792737293838,
          31.678705088293306,
          31.75861651398221,
          31.838527029240524,
          31.918436648948152,
          31.998345387985054,
          32.07825326123114,
          32.15816028356636,
          32.23806646987066,
          32.317971835023954,
          32.3978763939062,
          32.47778016139731,
          32.55768315237726,
          32.63758538172595,
          32.71748686432331,
          32.79738761504931,
          32.87728764878387,
          32.95718698040692,
          33.03708562479839,
          33.116983596838246,
          33.1968809114064,
          33.27677758338279,
          33.35667362764735,
          33.43656905908004,
          33.516463892560765,
          33.59635814296949,
          33.67625182518612,
          33.756144954090615,
          33.8360375445629,
          33.91592961148291,
          33.9958211697306,
          34.07571223418588,
          34.1556028197287,
          34.23549294123899,
          34.3153826135967,
          34.39527185168174,
          34.47516067037407,
          34.55504908455363,
          34.63493710910034,
          34.71482475889413,
          34.79471204881496,
          34.874598993742744
         ],
         "yaxis": "y"
        },
        {
         "name": "deg=1 (остатки)",
         "type": "bar",
         "x": [
          "19.0",
          "23.0",
          "27.0",
          "31.0",
          "35.0"
         ],
         "xaxis": "x2",
         "y": [
          -0.0047272545341172645,
          0.00241813594989182,
          0.006591238190871707,
          0.0004183534986523796,
          -0.0027920070306635125
         ],
         "yaxis": "y2"
        },
        {
         "name": "deg=2 (остатки)",
         "type": "bar",
         "x": [
          "19.0",
          "23.0",
          "27.0",
          "31.0",
          "35.0"
         ],
         "xaxis": "x2",
         "y": [
          -9.191692354804104e-05,
          -0.00016909294487277293,
          0.001361768738050273,
          -0.0028849105148829324,
          0.0003706204060947016
         ],
         "yaxis": "y2"
        },
        {
         "name": "deg=3 (остатки)",
         "type": "bar",
         "x": [
          "19.0",
          "23.0",
          "27.0",
          "31.0",
          "35.0"
         ],
         "xaxis": "x2",
         "y": [
          0.00021453418059280693,
          -0.0007808113956926377,
          0.001582651608885044,
          -0.0019168177013320076,
          0.0001726111955235865
         ],
         "yaxis": "y2"
        }
       ],
       "layout": {
        "barmode": "group",
        "height": 640,
        "legend": {
         "orientation": "h",
         "x": 0.5,
         "xanchor": "center",
         "y": 1.02,
         "yanchor": "bottom"
        },
        "margin": {
         "b": 70,
         "l": 60,
         "r": 40,
         "t": 80
        },
        "template": {
         "data": {
          "bar": [
           {
            "error_x": {
             "color": "#2a3f5f"
            },
            "error_y": {
             "color": "#2a3f5f"
            },
            "marker": {
             "line": {
              "color": "#E5ECF6",
              "width": 0.5
             },
             "pattern": {
              "fillmode": "overlay",
              "size": 10,
              "solidity": 0.2
             }
            },
            "type": "bar"
           }
          ],
          "barpolar": [
           {
            "marker": {
             "line": {
              "color": "#E5ECF6",
              "width": 0.5
             },
             "pattern": {
              "fillmode": "overlay",
              "size": 10,
              "solidity": 0.2
             }
            },
            "type": "barpolar"
           }
          ],
          "carpet": [
           {
            "aaxis": {
             "endlinecolor": "#2a3f5f",
             "gridcolor": "white",
             "linecolor": "white",
             "minorgridcolor": "white",
             "startlinecolor": "#2a3f5f"
            },
            "baxis": {
             "endlinecolor": "#2a3f5f",
             "gridcolor": "white",
             "linecolor": "white",
             "minorgridcolor": "white",
             "startlinecolor": "#2a3f5f"
            },
            "type": "carpet"
           }
          ],
          "choropleth": [
           {
            "colorbar": {
             "outlinewidth": 0,
             "ticks": ""
            },
            "type": "choropleth"
           }
          ],
          "contour": [
           {
            "colorbar": {
             "outlinewidth": 0,
             "ticks": ""
            },
            "colorscale": [
             [
              0,
              "#0d0887"
             ],
             [
              0.1111111111111111,
              "#46039f"
             ],
             [
              0.2222222222222222,
              "#7201a8"
             ],
             [
              0.3333333333333333,
              "#9c179e"
             ],
             [
              0.4444444444444444,
              "#bd3786"
             ],
             [
              0.5555555555555556,
              "#d8576b"
             ],
             [
              0.6666666666666666,
              "#ed7953"
             ],
             [
              0.7777777777777778,
              "#fb9f3a"
             ],
             [
              0.8888888888888888,
              "#fdca26"
             ],
             [
              1,
              "#f0f921"
             ]
            ],
            "type": "contour"
           }
          ],
          "contourcarpet": [
           {
            "colorbar": {
             "outlinewidth": 0,
             "ticks": ""
            },
            "type": "contourcarpet"
           }
          ],
          "heatmap": [
           {
            "colorbar": {
             "outlinewidth": 0,
             "ticks": ""
            },
            "colorscale": [
             [
              0,
              "#0d0887"
             ],
             [
              0.1111111111111111,
              "#46039f"
             ],
             [
              0.2222222222222222,
              "#7201a8"
             ],
             [
              0.3333333333333333,
              "#9c179e"
             ],
             [
              0.4444444444444444,
              "#bd3786"
             ],
             [
              0.5555555555555556,
              "#d8576b"
             ],
             [
              0.6666666666666666,
              "#ed7953"
             ],
             [
              0.7777777777777778,
              "#fb9f3a"
             ],
             [
              0.8888888888888888,
              "#fdca26"
             ],
             [
              1,
              "#f0f921"
             ]
            ],
            "type": "heatmap"
           }
          ],
          "heatmapgl": [
           {
            "colorbar": {
             "outlinewidth": 0,
             "ticks": ""
            },
            "colorscale": [
             [
              0,
              "#0d0887"
             ],
             [
              0.1111111111111111,
              "#46039f"
             ],
             [
              0.2222222222222222,
              "#7201a8"
             ],
             [
              0.3333333333333333,
              "#9c179e"
             ],
             [
              0.4444444444444444,
              "#bd3786"
             ],
             [
              0.5555555555555556,
              "#d8576b"
             ],
             [
              0.6666666666666666,
              "#ed7953"
             ],
             [
              0.7777777777777778,
              "#fb9f3a"
             ],
             [
              0.8888888888888888,
              "#fdca26"
             ],
             [
              1,
              "#f0f921"
             ]
            ],
            "type": "heatmapgl"
           }
          ],
          "histogram": [
           {
            "marker": {
             "pattern": {
              "fillmode": "overlay",
              "size": 10,
              "solidity": 0.2
             }
            },
            "type": "histogram"
           }
          ],
          "histogram2d": [
           {
            "colorbar": {
             "outlinewidth": 0,
             "ticks": ""
            },
            "colorscale": [
             [
              0,
              "#0d0887"
             ],
             [
              0.1111111111111111,
              "#46039f"
             ],
             [
              0.2222222222222222,
              "#7201a8"
             ],
             [
              0.3333333333333333,
              "#9c179e"
             ],
             [
              0.4444444444444444,
              "#bd3786"
             ],
             [
              0.5555555555555556,
              "#d8576b"
             ],
             [
              0.6666666666666666,
              "#ed7953"
             ],
             [
              0.7777777777777778,
              "#fb9f3a"
             ],
             [
              0.8888888888888888,
              "#fdca26"
             ],
             [
              1,
              "#f0f921"
             ]
            ],
            "type": "histogram2d"
           }
          ],
          "histogram2dcontour": [
           {
            "colorbar": {
             "outlinewidth": 0,
             "ticks": ""
            },
            "colorscale": [
             [
              0,
              "#0d0887"
             ],
             [
              0.1111111111111111,
              "#46039f"
             ],
             [
              0.2222222222222222,
              "#7201a8"
             ],
             [
              0.3333333333333333,
              "#9c179e"
             ],
             [
              0.4444444444444444,
              "#bd3786"
             ],
             [
              0.5555555555555556,
              "#d8576b"
             ],
             [
              0.6666666666666666,
              "#ed7953"
             ],
             [
              0.7777777777777778,
              "#fb9f3a"
             ],
             [
              0.8888888888888888,
              "#fdca26"
             ],
             [
              1,
              "#f0f921"
             ]
            ],
            "type": "histogram2dcontour"
           }
          ],
          "mesh3d": [
           {
            "colorbar": {
             "outlinewidth": 0,
             "ticks": ""
            },
            "type": "mesh3d"
           }
          ],
          "parcoords": [
           {
            "line": {
             "colorbar": {
              "outlinewidth": 0,
              "ticks": ""
             }
            },
            "type": "parcoords"
           }
          ],
          "pie": [
           {
            "automargin": true,
            "type": "pie"
           }
          ],
          "scatter": [
           {
            "fillpattern": {
             "fillmode": "overlay",
             "size": 10,
             "solidity": 0.2
            },
            "type": "scatter"
           }
          ],
          "scatter3d": [
           {
            "line": {
             "colorbar": {
              "outlinewidth": 0,
              "ticks": ""
             }
            },
            "marker": {
             "colorbar": {
              "outlinewidth": 0,
              "ticks": ""
             }
            },
            "type": "scatter3d"
           }
          ],
          "scattercarpet": [
           {
            "marker": {
             "colorbar": {
              "outlinewidth": 0,
              "ticks": ""
             }
            },
            "type": "scattercarpet"
           }
          ],
          "scattergeo": [
           {
            "marker": {
             "colorbar": {
              "outlinewidth": 0,
              "ticks": ""
             }
            },
            "type": "scattergeo"
           }
          ],
          "scattergl": [
           {
            "marker": {
             "colorbar": {
              "outlinewidth": 0,
              "ticks": ""
             }
            },
            "type": "scattergl"
           }
          ],
          "scattermapbox": [
           {
            "marker": {
             "colorbar": {
              "outlinewidth": 0,
              "ticks": ""
             }
            },
            "type": "scattermapbox"
           }
          ],
          "scatterpolar": [
           {
            "marker": {
             "colorbar": {
              "outlinewidth": 0,
              "ticks": ""
             }
            },
            "type": "scatterpolar"
           }
          ],
          "scatterpolargl": [
           {
            "marker": {
             "colorbar": {
              "outlinewidth": 0,
              "ticks": ""
             }
            },
            "type": "scatterpolargl"
           }
          ],
          "scatterternary": [
           {
            "marker": {
             "colorbar": {
              "outlinewidth": 0,
              "ticks": ""
             }
            },
            "type": "scatterternary"
           }
          ],
          "surface": [
           {
            "colorbar": {
             "outlinewidth": 0,
             "ticks": ""
            },
            "colorscale": [
             [
              0,
              "#0d0887"
             ],
             [
              0.1111111111111111,
              "#46039f"
             ],
             [
              0.2222222222222222,
              "#7201a8"
             ],
             [
              0.3333333333333333,
              "#9c179e"
             ],
             [
              0.4444444444444444,
              "#bd3786"
             ],
             [
              0.5555555555555556,
              "#d8576b"
             ],
             [
              0.6666666666666666,
              "#ed7953"
             ],
             [
              0.7777777777777778,
              "#fb9f3a"
             ],
             [
              0.8888888888888888,
              "#fdca26"
             ],
             [
              1,
              "#f0f921"
             ]
            ],
            "type": "surface"
           }
          ],
          "table": [
           {
            "cells": {
             "fill": {
              "color": "#EBF0F8"
             },
             "line": {
              "color": "white"
             }
            },
            "header": {
             "fill": {
              "color": "#C8D4E3"
             },
             "line": {
              "color": "white"
             }
            },
            "type": "table"
           }
          ]
         },
         "layout": {
          "annotationdefaults": {
           "arrowcolor": "#2a3f5f",
           "arrowhead": 0,
           "arrowwidth": 1
          },
          "autotypenumbers": "strict",
          "coloraxis": {
           "colorbar": {
            "outlinewidth": 0,
            "ticks": ""
           }
          },
          "colorscale": {
           "diverging": [
            [
             0,
             "#8e0152"
            ],
            [
             0.1,
             "#c51b7d"
            ],
            [
             0.2,
             "#de77ae"
            ],
            [
             0.3,
             "#f1b6da"
            ],
            [
             0.4,
             "#fde0ef"
            ],
            [
             0.5,
             "#f7f7f7"
            ],
            [
             0.6,
             "#e6f5d0"
            ],
            [
             0.7,
             "#b8e186"
            ],
            [
             0.8,
             "#7fbc41"
            ],
            [
             0.9,
             "#4d9221"
            ],
            [
             1,
             "#276419"
            ]
           ],
           "sequential": [
            [
             0,
             "#0d0887"
            ],
            [
             0.1111111111111111,
             "#46039f"
            ],
            [
             0.2222222222222222,
             "#7201a8"
            ],
            [
             0.3333333333333333,
             "#9c179e"
            ],
            [
             0.4444444444444444,
             "#bd3786"
            ],
            [
             0.5555555555555556,
             "#d8576b"
            ],
            [
             0.6666666666666666,
             "#ed7953"
            ],
            [
             0.7777777777777778,
             "#fb9f3a"
            ],
            [
             0.8888888888888888,
             "#fdca26"
            ],
            [
             1,
             "#f0f921"
            ]
           ],
           "sequentialminus": [
            [
             0,
             "#0d0887"
            ],
            [
             0.1111111111111111,
             "#46039f"
            ],
            [
             0.2222222222222222,
             "#7201a8"
            ],
            [
             0.3333333333333333,
             "#9c179e"
            ],
            [
             0.4444444444444444,
             "#bd3786"
            ],
            [
             0.5555555555555556,
             "#d8576b"
            ],
            [
             0.6666666666666666,
             "#ed7953"
            ],
            [
             0.7777777777777778,
             "#fb9f3a"
            ],
            [
             0.8888888888888888,
             "#fdca26"
            ],
            [
             1,
             "#f0f921"
            ]
           ]
          },
          "colorway": [
           "#636efa",
           "#EF553B",
           "#00cc96",
           "#ab63fa",
           "#FFA15A",
           "#19d3f3",
           "#FF6692",
           "#B6E880",
           "#FF97FF",
           "#FECB52"
          ],
          "font": {
           "color": "#2a3f5f"
          },
          "geo": {
           "bgcolor": "white",
           "lakecolor": "white",
           "landcolor": "#E5ECF6",
           "showlakes": true,
           "showland": true,
           "subunitcolor": "white"
          },
          "hoverlabel": {
           "align": "left"
          },
          "hovermode": "closest",
          "mapbox": {
           "style": "light"
          },
          "paper_bgcolor": "white",
          "plot_bgcolor": "#E5ECF6",
          "polar": {
           "angularaxis": {
            "gridcolor": "white",
            "linecolor": "white",
            "ticks": ""
           },
           "bgcolor": "#E5ECF6",
           "radialaxis": {
            "gridcolor": "white",
            "linecolor": "white",
            "ticks": ""
           }
          },
          "scene": {
           "xaxis": {
            "backgroundcolor": "#E5ECF6",
            "gridcolor": "white",
            "gridwidth": 2,
            "linecolor": "white",
            "showbackground": true,
            "ticks": "",
            "zerolinecolor": "white"
           },
           "yaxis": {
            "backgroundcolor": "#E5ECF6",
            "gridcolor": "white",
            "gridwidth": 2,
            "linecolor": "white",
            "showbackground": true,
            "ticks": "",
            "zerolinecolor": "white"
           },
           "zaxis": {
            "backgroundcolor": "#E5ECF6",
            "gridcolor": "white",
            "gridwidth": 2,
            "linecolor": "white",
            "showbackground": true,
            "ticks": "",
            "zerolinecolor": "white"
           }
          },
          "shapedefaults": {
           "line": {
            "color": "#2a3f5f"
           }
          },
          "ternary": {
           "aaxis": {
            "gridcolor": "white",
            "linecolor": "white",
            "ticks": ""
           },
           "baxis": {
            "gridcolor": "white",
            "linecolor": "white",
            "ticks": ""
           },
           "bgcolor": "#E5ECF6",
           "caxis": {
            "gridcolor": "white",
            "linecolor": "white",
            "ticks": ""
           }
          },
          "title": {
           "x": 0.05
          },
          "xaxis": {
           "automargin": true,
           "gridcolor": "white",
           "linecolor": "white",
           "ticks": "",
           "title": {
            "standoff": 15
           },
           "zerolinecolor": "white",
           "zerolinewidth": 2
          },
          "yaxis": {
           "automargin": true,
           "gridcolor": "white",
           "linecolor": "white",
           "ticks": "",
           "title": {
            "standoff": 15
           },
           "zerolinecolor": "white",
           "zerolinewidth": 2
          }
         }
        },
        "title": {
         "text": "Калибровка: T11"
        },
        "width": 860,
        "xaxis": {
         "anchor": "y",
         "domain": [
          0,
          1
         ],
         "gridcolor": "rgba(0,0,0,0.15)",
         "showgrid": true,
         "title": {
          "text": "T11 (X)"
         }
        },
        "xaxis2": {
         "anchor": "y2",
         "categoryarray": [
          "19.0",
          "23.0",
          "27.0",
          "31.0",
          "35.0"
         ],
         "categoryorder": "array",
         "domain": [
          0,
          1
         ],
         "gridcolor": "rgba(0,0,0,0.12)",
         "showgrid": true,
         "title": {
          "text": "Полочка (центр)"
         },
         "type": "category"
        },
        "yaxis": {
         "anchor": "x",
         "domain": [
          0.428,
          1
         ],
         "gridcolor": "rgba(0,0,0,0.15)",
         "showgrid": true,
         "title": {
          "text": "T8 (Y)"
         }
        },
        "yaxis2": {
         "anchor": "x2",
         "domain": [
          0,
          0.308
         ],
         "gridcolor": "rgba(0,0,0,0.12)",
         "showgrid": true,
         "title": {
          "text": "Y - Y_hat (°C)"
         }
        }
       }
      }
     },
     "metadata": {},
     "output_type": "display_data"
    },
    {
     "name": "stdout",
     "output_type": "stream",
     "text": [
      "Сенсор T9: 5 точек; степени 1..3\n",
      "deg=1: Y = 0.99909934·X - 0.02008969\n",
      "    coeffs (старшая→младшая): [0.99909934, -0.02008969] | RMSE=0.00579573, MAE=0.00482717, Max|err|=0.0106218\n",
      "deg=2: Y = -0.0001948214·X^2 + 1.0096536·X - 0.15592737\n",
      "    coeffs (старшая→младшая): [-0.0001948214, 1.0096536, -0.15592737] | RMSE=0.00211251, MAE=0.00171214, Max|err|=0.00352041\n",
      "deg=3: Y = -2.751088e-06·X^3 + 2.5790822e-05·X^2 + 1.0039124·X - 0.10745339\n",
      "    coeffs (старшая→младшая): [-2.751088e-06, 2.5790822e-05, 1.0039124, -0.10745339] | RMSE=0.00216371, MAE=0.00172238, Max|err|=0.00338897\n"
     ]
    },
    {
     "data": {
      "application/vnd.plotly.v1+json": {
       "config": {
        "plotlyServerURL": "https://plot.ly"
       },
       "data": [
        {
         "error_x": {
          "array": [
           0.0007818459243933715,
           0.000777019029043002,
           0.0011463564948517744,
           0.00133271763613776,
           0.0008877558932140615
          ],
          "type": "data",
          "visible": true
         },
         "error_y": {
          "array": [
           0.0007100963414804766,
           0.0006983766314650208,
           0.0008976966032064737,
           0.0010563724151616935,
           0.0007289354873126497
          ],
          "type": "data",
          "visible": true
         },
         "marker": {
          "size": 9
         },
         "mode": "markers",
         "name": "Точки",
         "type": "scatter",
         "x": [
          18.99343463898065,
          22.984374698795182,
          26.963907416625183,
          30.95528881987578,
          34.93091616766467
         ],
         "xaxis": "x",
         "y": [
          18.95109721566777,
          22.945697289156627,
          26.93015430562469,
          30.908925465838507,
          34.87471257485029
         ],
         "yaxis": "y"
        },
        {
         "mode": "lines",
         "name": "deg=1",
         "type": "scatter",
         "x": [
          18.99343463898065,
          19.073522485858458,
          19.153610332736267,
          19.233698179614077,
          19.313786026491886,
          19.393873873369696,
          19.4739617202475,
          19.55404956712531,
          19.63413741400312,
          19.71422526088093,
          19.79431310775874,
          19.87440095463655,
          19.95448880151436,
          20.034576648392168,
          20.114664495269977,
          20.194752342147787,
          20.274840189025596,
          20.354928035903406,
          20.43501588278121,
          20.51510372965902,
          20.59519157653683,
          20.67527942341464,
          20.75536727029245,
          20.83545511717026,
          20.91554296404807,
          20.995630810925878,
          21.075718657803687,
          21.155806504681497,
          21.235894351559306,
          21.315982198437112,
          21.39607004531492,
          21.47615789219273,
          21.55624573907054,
          21.63633358594835,
          21.71642143282616,
          21.79650927970397,
          21.87659712658178,
          21.956684973459588,
          22.036772820337397,
          22.116860667215207,
          22.196948514093016,
          22.277036360970826,
          22.35712420784863,
          22.43721205472644,
          22.51729990160425,
          22.59738774848206,
          22.67747559535987,
          22.75756344223768,
          22.837651289115488,
          22.917739135993298,
          22.997826982871107,
          23.077914829748913,
          23.158002676626722,
          23.238090523504532,
          23.31817837038234,
          23.39826621726015,
          23.47835406413796,
          23.55844191101577,
          23.63852975789358,
          23.71861760477139,
          23.798705451649198,
          23.878793298527007,
          23.958881145404817,
          24.038968992282626,
          24.119056839160436,
          24.199144686038245,
          24.27923253291605,
          24.35932037979386,
          24.43940822667167,
          24.51949607354948,
          24.59958392042729,
          24.6796717673051,
          24.759759614182908,
          24.839847461060717,
          24.919935307938527,
          25.000023154816333,
          25.080111001694142,
          25.16019884857195,
          25.24028669544976,
          25.32037454232757,
          25.40046238920538,
          25.48055023608319,
          25.560638082961,
          25.64072592983881,
          25.720813776716618,
          25.800901623594427,
          25.880989470472237,
          25.961077317350046,
          26.041165164227856,
          26.12125301110566,
          26.20134085798347,
          26.28142870486128,
          26.36151655173909,
          26.4416043986169,
          26.52169224549471,
          26.60178009237252,
          26.681867939250328,
          26.761955786128137,
          26.842043633005943,
          26.922131479883753,
          27.002219326761562,
          27.08230717363937,
          27.16239502051718,
          27.24248286739499,
          27.3225707142728,
          27.40265856115061,
          27.48274640802842,
          27.562834254906228,
          27.642922101784038,
          27.723009948661847,
          27.803097795539657,
          27.883185642417466,
          27.963273489295275,
          28.043361336173085,
          28.12344918305089,
          28.2035370299287,
          28.28362487680651,
          28.36371272368432,
          28.44380057056213,
          28.523888417439938,
          28.603976264317744,
          28.684064111195553,
          28.764151958073363,
          28.844239804951172,
          28.924327651828982,
          29.00441549870679,
          29.0845033455846,
          29.16459119246241,
          29.24467903934022,
          29.32476688621803,
          29.40485473309584,
          29.484942579973648,
          29.565030426851457,
          29.645118273729267,
          29.725206120607076,
          29.805293967484886,
          29.885381814362695,
          29.9654696612405,
          30.04555750811831,
          30.12564535499612,
          30.20573320187393,
          30.28582104875174,
          30.36590889562955,
          30.445996742507354,
          30.526084589385164,
          30.606172436262973,
          30.686260283140783,
          30.766348130018592,
          30.8464359768964,
          30.92652382377421,
          31.00661167065202,
          31.08669951752983,
          31.16678736440764,
          31.24687521128545,
          31.32696305816326,
          31.407050905041068,
          31.487138751918877,
          31.567226598796687,
          31.647314445674496,
          31.727402292552306,
          31.80749013943011,
          31.88757798630792,
          31.96766583318573,
          32.047753680063536,
          32.12784152694135,
          32.207929373819155,
          32.288017220696965,
          32.368105067574774,
          32.448192914452584,
          32.52828076133039,
          32.6083686082082,
          32.68845645508601,
          32.76854430196382,
          32.84863214884163,
          32.92871999571944,
          33.00880784259725,
          33.08889568947506,
          33.16898353635287,
          33.24907138323068,
          33.32915923010849,
          33.4092470769863,
          33.48933492386411,
          33.569422770741916,
          33.649510617619725,
          33.72959846449753,
          33.809686311375344,
          33.88977415825315,
          33.96986200513096,
          34.049949852008766,
          34.13003769888658,
          34.210125545764384,
          34.290213392642194,
          34.37030123952,
          34.45038908639781,
          34.53047693327562,
          34.61056478015343,
          34.69065262703124,
          34.77074047390905,
          34.85082832078686,
          34.93091616766467
         ],
         "xaxis": "x",
         "y": [
          18.95623838707847,
          19.036254102311887,
          19.116269817545298,
          19.196285532778713,
          19.276301248012125,
          19.35631696324554,
          19.436332678478948,
          19.516348393712363,
          19.596364108945775,
          19.67637982417919,
          19.7563955394126,
          19.836411254646016,
          19.916426969879428,
          19.996442685112843,
          20.076458400346255,
          20.15647411557967,
          20.23648983081308,
          20.316505546046496,
          20.396521261279904,
          20.47653697651332,
          20.55655269174673,
          20.636568406980146,
          20.716584122213558,
          20.796599837446973,
          20.876615552680384,
          20.9566312679138,
          21.03664698314721,
          21.116662698380626,
          21.19667841361404,
          21.27669412884745,
          21.356709844080864,
          21.436725559314276,
          21.51674127454769,
          21.596756989781102,
          21.676772705014518,
          21.75678842024793,
          21.836804135481344,
          21.916819850714756,
          21.99683556594817,
          22.076851281181582,
          22.156866996414998,
          22.23688271164841,
          22.31689842688182,
          22.396914142115232,
          22.476929857348647,
          22.55694557258206,
          22.636961287815474,
          22.716977003048886,
          22.7969927182823,
          22.877008433515712,
          22.957024148749127,
          23.037039863982535,
          23.11705557921595,
          23.197071294449362,
          23.277087009682777,
          23.35710272491619,
          23.437118440149604,
          23.517134155383015,
          23.59714987061643,
          23.677165585849846,
          23.757181301083257,
          23.837197016316672,
          23.917212731550084,
          23.9972284467835,
          24.07724416201691,
          24.157259877250326,
          24.237275592483734,
          24.31729130771715,
          24.39730702295056,
          24.477322738183975,
          24.557338453417387,
          24.637354168650802,
          24.717369883884214,
          24.79738559911763,
          24.87740131435104,
          24.95741702958445,
          25.037432744817863,
          25.11744846005128,
          25.19746417528469,
          25.277479890518105,
          25.357495605751517,
          25.43751132098493,
          25.517527036218343,
          25.59754275145176,
          25.67755846668517,
          25.757574181918585,
          25.837589897151997,
          25.91760561238541,
          25.997621327618823,
          26.077637042852235,
          26.15765275808565,
          26.23766847331906,
          26.317684188552477,
          26.397699903785888,
          26.477715619019303,
          26.557731334252715,
          26.63774704948613,
          26.71776276471954,
          26.797778479952953,
          26.877794195186365,
          26.95780991041978,
          27.03782562565319,
          27.117841340886606,
          27.197857056120018,
          27.277872771353433,
          27.357888486586845,
          27.43790420182026,
          27.51791991705367,
          27.597935632287086,
          27.677951347520498,
          27.757967062753913,
          27.837982777987325,
          27.91799849322074,
          27.99801420845415,
          28.078029923687563,
          28.158045638920974,
          28.23806135415439,
          28.3180770693878,
          28.398092784621216,
          28.478108499854628,
          28.55812421508804,
          28.63813993032145,
          28.718155645554866,
          28.79817136078828,
          28.878187076021693,
          28.958202791255108,
          29.03821850648852,
          29.118234221721934,
          29.198249936955346,
          29.27826565218876,
          29.358281367422173,
          29.438297082655588,
          29.518312797889,
          29.598328513122414,
          29.678344228355826,
          29.75835994358924,
          29.838375658822653,
          29.918391374056064,
          29.998407089289476,
          30.07842280452289,
          30.158438519756302,
          30.238454234989717,
          30.31846995022313,
          30.39848566545654,
          30.478501380689952,
          30.558517095923367,
          30.63853281115678,
          30.718548526390194,
          30.798564241623605,
          30.87857995685702,
          30.958595672090432,
          31.038611387323847,
          31.11862710255726,
          31.198642817790674,
          31.27865853302409,
          31.3586742482575,
          31.438689963490916,
          31.518705678724327,
          31.598721393957742,
          31.678737109191154,
          31.758752824424565,
          31.838768539657977,
          31.918784254891392,
          31.998799970124804,
          32.078815685358215,
          32.15883140059162,
          32.23884711582504,
          32.31886283105845,
          32.39887854629186,
          32.47889426152528,
          32.55890997675869,
          32.63892569199211,
          32.718941407225515,
          32.79895712245893,
          32.878972837692345,
          32.95898855292576,
          33.03900426815917,
          33.11901998339258,
          33.199035698626,
          33.27905141385941,
          33.35906712909282,
          33.43908284432624,
          33.51909855955965,
          33.59911427479307,
          33.679129990026475,
          33.75914570525989,
          33.8391614204933,
          33.91917713572672,
          33.99919285096013,
          34.07920856619354,
          34.15922428142695,
          34.239239996660366,
          34.31925571189378,
          34.39927142712719,
          34.479287142360604,
          34.55930285759402,
          34.639318572827435,
          34.71933428806084,
          34.79935000329426,
          34.87936571852767
         ],
         "yaxis": "y"
        },
        {
         "mode": "lines",
         "name": "deg=3",
         "type": "scatter",
         "x": [
          18.99343463898065,
          19.073522485858458,
          19.153610332736267,
          19.233698179614077,
          19.313786026491886,
          19.393873873369696,
          19.4739617202475,
          19.55404956712531,
          19.63413741400312,
          19.71422526088093,
          19.79431310775874,
          19.87440095463655,
          19.95448880151436,
          20.034576648392168,
          20.114664495269977,
          20.194752342147787,
          20.274840189025596,
          20.354928035903406,
          20.43501588278121,
          20.51510372965902,
          20.59519157653683,
          20.67527942341464,
          20.75536727029245,
          20.83545511717026,
          20.91554296404807,
          20.995630810925878,
          21.075718657803687,
          21.155806504681497,
          21.235894351559306,
          21.315982198437112,
          21.39607004531492,
          21.47615789219273,
          21.55624573907054,
          21.63633358594835,
          21.71642143282616,
          21.79650927970397,
          21.87659712658178,
          21.956684973459588,
          22.036772820337397,
          22.116860667215207,
          22.196948514093016,
          22.277036360970826,
          22.35712420784863,
          22.43721205472644,
          22.51729990160425,
          22.59738774848206,
          22.67747559535987,
          22.75756344223768,
          22.837651289115488,
          22.917739135993298,
          22.997826982871107,
          23.077914829748913,
          23.158002676626722,
          23.238090523504532,
          23.31817837038234,
          23.39826621726015,
          23.47835406413796,
          23.55844191101577,
          23.63852975789358,
          23.71861760477139,
          23.798705451649198,
          23.878793298527007,
          23.958881145404817,
          24.038968992282626,
          24.119056839160436,
          24.199144686038245,
          24.27923253291605,
          24.35932037979386,
          24.43940822667167,
          24.51949607354948,
          24.59958392042729,
          24.6796717673051,
          24.759759614182908,
          24.839847461060717,
          24.919935307938527,
          25.000023154816333,
          25.080111001694142,
          25.16019884857195,
          25.24028669544976,
          25.32037454232757,
          25.40046238920538,
          25.48055023608319,
          25.560638082961,
          25.64072592983881,
          25.720813776716618,
          25.800901623594427,
          25.880989470472237,
          25.961077317350046,
          26.041165164227856,
          26.12125301110566,
          26.20134085798347,
          26.28142870486128,
          26.36151655173909,
          26.4416043986169,
          26.52169224549471,
          26.60178009237252,
          26.681867939250328,
          26.761955786128137,
          26.842043633005943,
          26.922131479883753,
          27.002219326761562,
          27.08230717363937,
          27.16239502051718,
          27.24248286739499,
          27.3225707142728,
          27.40265856115061,
          27.48274640802842,
          27.562834254906228,
          27.642922101784038,
          27.723009948661847,
          27.803097795539657,
          27.883185642417466,
          27.963273489295275,
          28.043361336173085,
          28.12344918305089,
          28.2035370299287,
          28.28362487680651,
          28.36371272368432,
          28.44380057056213,
          28.523888417439938,
          28.603976264317744,
          28.684064111195553,
          28.764151958073363,
          28.844239804951172,
          28.924327651828982,
          29.00441549870679,
          29.0845033455846,
          29.16459119246241,
          29.24467903934022,
          29.32476688621803,
          29.40485473309584,
          29.484942579973648,
          29.565030426851457,
          29.645118273729267,
          29.725206120607076,
          29.805293967484886,
          29.885381814362695,
          29.9654696612405,
          30.04555750811831,
          30.12564535499612,
          30.20573320187393,
          30.28582104875174,
          30.36590889562955,
          30.445996742507354,
          30.526084589385164,
          30.606172436262973,
          30.686260283140783,
          30.766348130018592,
          30.8464359768964,
          30.92652382377421,
          31.00661167065202,
          31.08669951752983,
          31.16678736440764,
          31.24687521128545,
          31.32696305816326,
          31.407050905041068,
          31.487138751918877,
          31.567226598796687,
          31.647314445674496,
          31.727402292552306,
          31.80749013943011,
          31.88757798630792,
          31.96766583318573,
          32.047753680063536,
          32.12784152694135,
          32.207929373819155,
          32.288017220696965,
          32.368105067574774,
          32.448192914452584,
          32.52828076133039,
          32.6083686082082,
          32.68845645508601,
          32.76854430196382,
          32.84863214884163,
          32.92871999571944,
          33.00880784259725,
          33.08889568947506,
          33.16898353635287,
          33.24907138323068,
          33.32915923010849,
          33.4092470769863,
          33.48933492386411,
          33.569422770741916,
          33.649510617619725,
          33.72959846449753,
          33.809686311375344,
          33.88977415825315,
          33.96986200513096,
          34.049949852008766,
          34.13003769888658,
          34.210125545764384,
          34.290213392642194,
          34.37030123952,
          34.45038908639781,
          34.53047693327562,
          34.61056478015343,
          34.69065262703124,
          34.77074047390905,
          34.85082832078686,
          34.93091616766467
         ],
         "xaxis": "x",
         "y": [
          18.950744519414002,
          19.030984870226707,
          19.111223532498876,
          19.191460497751304,
          19.271695757504773,
          19.351929303280073,
          19.43216112659798,
          19.51239121897929,
          19.59261957194479,
          19.67284617701526,
          19.753071025711492,
          19.83329410955427,
          19.91351542006438,
          19.993734948762608,
          20.073952687169744,
          20.154168626806566,
          20.234382759193867,
          20.31459507585243,
          20.394805568303042,
          20.475014228066495,
          20.55522104666357,
          20.635426015615053,
          20.71562912644173,
          20.795830370664387,
          20.876029739803815,
          20.956227225380793,
          21.036422818916115,
          21.116616511930566,
          21.196808295944926,
          21.276998162479984,
          21.357186103056527,
          21.437372109195344,
          21.51755617241722,
          21.59773828424294,
          21.67791843619329,
          21.758096619789054,
          21.838272826551023,
          21.918447047999987,
          21.998619275656722,
          22.07878950104202,
          22.158957715676667,
          22.239123911081446,
          22.319288078777145,
          22.39945021028456,
          22.47961029712446,
          22.55976833081764,
          22.63992430288489,
          22.720078204846995,
          22.800230028224735,
          22.8803797645389,
          22.960527405310277,
          23.04067294205965,
          23.12081636630781,
          23.200957669575537,
          23.281096843383622,
          23.361233879252854,
          23.441368768704013,
          23.521501503257884,
          23.60163207443526,
          23.681760473756924,
          23.761886692743662,
          23.84201072291626,
          23.922132555795503,
          24.002252182902186,
          24.082369595757086,
          24.162484785880988,
          24.24259774479468,
          24.32270846401895,
          24.40281693507459,
          24.482923149482385,
          24.56302709876311,
          24.643128774437564,
          24.723228168026523,
          24.803325271050785,
          24.88342007503112,
          24.963512571488327,
          25.043602751943194,
          25.123690607916497,
          25.20377613092903,
          25.283859312501576,
          25.363940144154924,
          25.44401861740986,
          25.52409472378717,
          25.60416845480763,
          25.684239801992046,
          25.764308756861187,
          25.84437531093585,
          25.924439455736817,
          26.004501182784868,
          26.084560483600804,
          26.1646173497054,
          26.244671772619444,
          26.32472374386373,
          26.40477325495903,
          26.484820297426143,
          26.56486486278585,
          26.644906942558936,
          26.724946528266198,
          26.804983611428398,
          26.885018183566352,
          26.965050236200828,
          27.045079760852616,
          27.125106749042505,
          27.205131192291272,
          27.28515308211972,
          27.36517241004862,
          27.445189167598766,
          27.525203346290937,
          27.605214937645933,
          27.685223933184524,
          27.76523032442751,
          27.845234102895667,
          27.92523526010979,
          28.005233787590658,
          28.08522967685906,
          28.165222919435784,
          28.245213506841615,
          28.32520143059734,
          28.405186682223746,
          28.485169253241615,
          28.565149135171733,
          28.645126319534892,
          28.72510079785188,
          28.805072561643478,
          28.885041602430473,
          28.965007911733647,
          29.044971481073798,
          29.1249323019717,
          29.204890365948145,
          29.28484566452392,
          29.36479818921981,
          29.444747931556602,
          29.524694883055083,
          29.604639035236037,
          29.68458037962025,
          29.764518907728508,
          29.844454611081606,
          29.924387481200313,
          30.004317509605432,
          30.08424468781774,
          30.164169007358023,
          30.24409045974708,
          30.32400903650568,
          30.403924729154614,
          30.48383752921468,
          30.56374742820665,
          30.64365441765132,
          30.723558489069468,
          30.80345963398189,
          30.883357843909362,
          30.96325311037268,
          31.04314542489262,
          31.12303477898997,
          31.202921164185526,
          31.28280457200007,
          31.36268499395438,
          31.44256242156926,
          31.522436846365476,
          31.60230825986383,
          31.682176653585095,
          31.762042019050057,
          31.84190434777952,
          31.92176363129426,
          32.00161986111505,
          32.081473028762716,
          32.161323125757995,
          32.241170143621694,
          32.321014073874615,
          32.40085490803752,
          32.480692637631215,
          32.56052725417648,
          32.640358749194085,
          32.72018711420483,
          32.80001234072951,
          32.879834420288894,
          32.95965334440378,
          33.03946910459495,
          33.1192816923832,
          33.1990910992893,
          33.27889731683404,
          33.35870033653821,
          33.438500149922604,
          33.51829674850799,
          33.598090123815176,
          33.67788026736493,
          33.75766717067805,
          33.837450825275305,
          33.91723122267751,
          33.99700835440542,
          34.07678221197986,
          34.156552786921566,
          34.23632007075136,
          34.31608405499003,
          34.39584473115835,
          34.475602090777095,
          34.55535612536708,
          34.63510682644907,
          34.71485418554385,
          34.79459819417222,
          34.87433884385496
         ],
         "yaxis": "y"
        },
        {
         "name": "deg=1 (остатки)",
         "type": "bar",
         "x": [
          "19.0",
          "23.0",
          "27.0",
          "31.0",
          "35.0"
         ],
         "xaxis": "x2",
         "y": [
          -0.005141171410702583,
          0.002113308595568242,
          0.010621799468228943,
          0.0016064202622594337,
          -0.004653143677380456
         ],
         "yaxis": "y2"
        },
        {
         "name": "deg=2 (остатки)",
         "type": "bar",
         "x": [
          "19.0",
          "23.0",
          "27.0",
          "31.0",
          "35.0"
         ],
         "xaxis": "x2",
         "y": [
          0.0005165604527412881,
          -0.0017118192763696527,
          0.0035204093659295665,
          -0.002582752226153673,
          0.00022915207949125715
         ],
         "yaxis": "y2"
        },
        {
         "name": "deg=3 (остатки)",
         "type": "bar",
         "x": [
          "19.0",
          "23.0",
          "27.0",
          "31.0",
          "35.0"
         ],
         "xaxis": "x2",
         "y": [
          0.0003526962537669931,
          -0.0013679353444864262,
          0.003388974182904292,
          -0.0031285446250564064,
          0.0003737309953351087
         ],
         "yaxis": "y2"
        }
       ],
       "layout": {
        "barmode": "group",
        "height": 640,
        "legend": {
         "orientation": "h",
         "x": 0.5,
         "xanchor": "center",
         "y": 1.02,
         "yanchor": "bottom"
        },
        "margin": {
         "b": 70,
         "l": 60,
         "r": 40,
         "t": 80
        },
        "template": {
         "data": {
          "bar": [
           {
            "error_x": {
             "color": "#2a3f5f"
            },
            "error_y": {
             "color": "#2a3f5f"
            },
            "marker": {
             "line": {
              "color": "#E5ECF6",
              "width": 0.5
             },
             "pattern": {
              "fillmode": "overlay",
              "size": 10,
              "solidity": 0.2
             }
            },
            "type": "bar"
           }
          ],
          "barpolar": [
           {
            "marker": {
             "line": {
              "color": "#E5ECF6",
              "width": 0.5
             },
             "pattern": {
              "fillmode": "overlay",
              "size": 10,
              "solidity": 0.2
             }
            },
            "type": "barpolar"
           }
          ],
          "carpet": [
           {
            "aaxis": {
             "endlinecolor": "#2a3f5f",
             "gridcolor": "white",
             "linecolor": "white",
             "minorgridcolor": "white",
             "startlinecolor": "#2a3f5f"
            },
            "baxis": {
             "endlinecolor": "#2a3f5f",
             "gridcolor": "white",
             "linecolor": "white",
             "minorgridcolor": "white",
             "startlinecolor": "#2a3f5f"
            },
            "type": "carpet"
           }
          ],
          "choropleth": [
           {
            "colorbar": {
             "outlinewidth": 0,
             "ticks": ""
            },
            "type": "choropleth"
           }
          ],
          "contour": [
           {
            "colorbar": {
             "outlinewidth": 0,
             "ticks": ""
            },
            "colorscale": [
             [
              0,
              "#0d0887"
             ],
             [
              0.1111111111111111,
              "#46039f"
             ],
             [
              0.2222222222222222,
              "#7201a8"
             ],
             [
              0.3333333333333333,
              "#9c179e"
             ],
             [
              0.4444444444444444,
              "#bd3786"
             ],
             [
              0.5555555555555556,
              "#d8576b"
             ],
             [
              0.6666666666666666,
              "#ed7953"
             ],
             [
              0.7777777777777778,
              "#fb9f3a"
             ],
             [
              0.8888888888888888,
              "#fdca26"
             ],
             [
              1,
              "#f0f921"
             ]
            ],
            "type": "contour"
           }
          ],
          "contourcarpet": [
           {
            "colorbar": {
             "outlinewidth": 0,
             "ticks": ""
            },
            "type": "contourcarpet"
           }
          ],
          "heatmap": [
           {
            "colorbar": {
             "outlinewidth": 0,
             "ticks": ""
            },
            "colorscale": [
             [
              0,
              "#0d0887"
             ],
             [
              0.1111111111111111,
              "#46039f"
             ],
             [
              0.2222222222222222,
              "#7201a8"
             ],
             [
              0.3333333333333333,
              "#9c179e"
             ],
             [
              0.4444444444444444,
              "#bd3786"
             ],
             [
              0.5555555555555556,
              "#d8576b"
             ],
             [
              0.6666666666666666,
              "#ed7953"
             ],
             [
              0.7777777777777778,
              "#fb9f3a"
             ],
             [
              0.8888888888888888,
              "#fdca26"
             ],
             [
              1,
              "#f0f921"
             ]
            ],
            "type": "heatmap"
           }
          ],
          "heatmapgl": [
           {
            "colorbar": {
             "outlinewidth": 0,
             "ticks": ""
            },
            "colorscale": [
             [
              0,
              "#0d0887"
             ],
             [
              0.1111111111111111,
              "#46039f"
             ],
             [
              0.2222222222222222,
              "#7201a8"
             ],
             [
              0.3333333333333333,
              "#9c179e"
             ],
             [
              0.4444444444444444,
              "#bd3786"
             ],
             [
              0.5555555555555556,
              "#d8576b"
             ],
             [
              0.6666666666666666,
              "#ed7953"
             ],
             [
              0.7777777777777778,
              "#fb9f3a"
             ],
             [
              0.8888888888888888,
              "#fdca26"
             ],
             [
              1,
              "#f0f921"
             ]
            ],
            "type": "heatmapgl"
           }
          ],
          "histogram": [
           {
            "marker": {
             "pattern": {
              "fillmode": "overlay",
              "size": 10,
              "solidity": 0.2
             }
            },
            "type": "histogram"
           }
          ],
          "histogram2d": [
           {
            "colorbar": {
             "outlinewidth": 0,
             "ticks": ""
            },
            "colorscale": [
             [
              0,
              "#0d0887"
             ],
             [
              0.1111111111111111,
              "#46039f"
             ],
             [
              0.2222222222222222,
              "#7201a8"
             ],
             [
              0.3333333333333333,
              "#9c179e"
             ],
             [
              0.4444444444444444,
              "#bd3786"
             ],
             [
              0.5555555555555556,
              "#d8576b"
             ],
             [
              0.6666666666666666,
              "#ed7953"
             ],
             [
              0.7777777777777778,
              "#fb9f3a"
             ],
             [
              0.8888888888888888,
              "#fdca26"
             ],
             [
              1,
              "#f0f921"
             ]
            ],
            "type": "histogram2d"
           }
          ],
          "histogram2dcontour": [
           {
            "colorbar": {
             "outlinewidth": 0,
             "ticks": ""
            },
            "colorscale": [
             [
              0,
              "#0d0887"
             ],
             [
              0.1111111111111111,
              "#46039f"
             ],
             [
              0.2222222222222222,
              "#7201a8"
             ],
             [
              0.3333333333333333,
              "#9c179e"
             ],
             [
              0.4444444444444444,
              "#bd3786"
             ],
             [
              0.5555555555555556,
              "#d8576b"
             ],
             [
              0.6666666666666666,
              "#ed7953"
             ],
             [
              0.7777777777777778,
              "#fb9f3a"
             ],
             [
              0.8888888888888888,
              "#fdca26"
             ],
             [
              1,
              "#f0f921"
             ]
            ],
            "type": "histogram2dcontour"
           }
          ],
          "mesh3d": [
           {
            "colorbar": {
             "outlinewidth": 0,
             "ticks": ""
            },
            "type": "mesh3d"
           }
          ],
          "parcoords": [
           {
            "line": {
             "colorbar": {
              "outlinewidth": 0,
              "ticks": ""
             }
            },
            "type": "parcoords"
           }
          ],
          "pie": [
           {
            "automargin": true,
            "type": "pie"
           }
          ],
          "scatter": [
           {
            "fillpattern": {
             "fillmode": "overlay",
             "size": 10,
             "solidity": 0.2
            },
            "type": "scatter"
           }
          ],
          "scatter3d": [
           {
            "line": {
             "colorbar": {
              "outlinewidth": 0,
              "ticks": ""
             }
            },
            "marker": {
             "colorbar": {
              "outlinewidth": 0,
              "ticks": ""
             }
            },
            "type": "scatter3d"
           }
          ],
          "scattercarpet": [
           {
            "marker": {
             "colorbar": {
              "outlinewidth": 0,
              "ticks": ""
             }
            },
            "type": "scattercarpet"
           }
          ],
          "scattergeo": [
           {
            "marker": {
             "colorbar": {
              "outlinewidth": 0,
              "ticks": ""
             }
            },
            "type": "scattergeo"
           }
          ],
          "scattergl": [
           {
            "marker": {
             "colorbar": {
              "outlinewidth": 0,
              "ticks": ""
             }
            },
            "type": "scattergl"
           }
          ],
          "scattermapbox": [
           {
            "marker": {
             "colorbar": {
              "outlinewidth": 0,
              "ticks": ""
             }
            },
            "type": "scattermapbox"
           }
          ],
          "scatterpolar": [
           {
            "marker": {
             "colorbar": {
              "outlinewidth": 0,
              "ticks": ""
             }
            },
            "type": "scatterpolar"
           }
          ],
          "scatterpolargl": [
           {
            "marker": {
             "colorbar": {
              "outlinewidth": 0,
              "ticks": ""
             }
            },
            "type": "scatterpolargl"
           }
          ],
          "scatterternary": [
           {
            "marker": {
             "colorbar": {
              "outlinewidth": 0,
              "ticks": ""
             }
            },
            "type": "scatterternary"
           }
          ],
          "surface": [
           {
            "colorbar": {
             "outlinewidth": 0,
             "ticks": ""
            },
            "colorscale": [
             [
              0,
              "#0d0887"
             ],
             [
              0.1111111111111111,
              "#46039f"
             ],
             [
              0.2222222222222222,
              "#7201a8"
             ],
             [
              0.3333333333333333,
              "#9c179e"
             ],
             [
              0.4444444444444444,
              "#bd3786"
             ],
             [
              0.5555555555555556,
              "#d8576b"
             ],
             [
              0.6666666666666666,
              "#ed7953"
             ],
             [
              0.7777777777777778,
              "#fb9f3a"
             ],
             [
              0.8888888888888888,
              "#fdca26"
             ],
             [
              1,
              "#f0f921"
             ]
            ],
            "type": "surface"
           }
          ],
          "table": [
           {
            "cells": {
             "fill": {
              "color": "#EBF0F8"
             },
             "line": {
              "color": "white"
             }
            },
            "header": {
             "fill": {
              "color": "#C8D4E3"
             },
             "line": {
              "color": "white"
             }
            },
            "type": "table"
           }
          ]
         },
         "layout": {
          "annotationdefaults": {
           "arrowcolor": "#2a3f5f",
           "arrowhead": 0,
           "arrowwidth": 1
          },
          "autotypenumbers": "strict",
          "coloraxis": {
           "colorbar": {
            "outlinewidth": 0,
            "ticks": ""
           }
          },
          "colorscale": {
           "diverging": [
            [
             0,
             "#8e0152"
            ],
            [
             0.1,
             "#c51b7d"
            ],
            [
             0.2,
             "#de77ae"
            ],
            [
             0.3,
             "#f1b6da"
            ],
            [
             0.4,
             "#fde0ef"
            ],
            [
             0.5,
             "#f7f7f7"
            ],
            [
             0.6,
             "#e6f5d0"
            ],
            [
             0.7,
             "#b8e186"
            ],
            [
             0.8,
             "#7fbc41"
            ],
            [
             0.9,
             "#4d9221"
            ],
            [
             1,
             "#276419"
            ]
           ],
           "sequential": [
            [
             0,
             "#0d0887"
            ],
            [
             0.1111111111111111,
             "#46039f"
            ],
            [
             0.2222222222222222,
             "#7201a8"
            ],
            [
             0.3333333333333333,
             "#9c179e"
            ],
            [
             0.4444444444444444,
             "#bd3786"
            ],
            [
             0.5555555555555556,
             "#d8576b"
            ],
            [
             0.6666666666666666,
             "#ed7953"
            ],
            [
             0.7777777777777778,
             "#fb9f3a"
            ],
            [
             0.8888888888888888,
             "#fdca26"
            ],
            [
             1,
             "#f0f921"
            ]
           ],
           "sequentialminus": [
            [
             0,
             "#0d0887"
            ],
            [
             0.1111111111111111,
             "#46039f"
            ],
            [
             0.2222222222222222,
             "#7201a8"
            ],
            [
             0.3333333333333333,
             "#9c179e"
            ],
            [
             0.4444444444444444,
             "#bd3786"
            ],
            [
             0.5555555555555556,
             "#d8576b"
            ],
            [
             0.6666666666666666,
             "#ed7953"
            ],
            [
             0.7777777777777778,
             "#fb9f3a"
            ],
            [
             0.8888888888888888,
             "#fdca26"
            ],
            [
             1,
             "#f0f921"
            ]
           ]
          },
          "colorway": [
           "#636efa",
           "#EF553B",
           "#00cc96",
           "#ab63fa",
           "#FFA15A",
           "#19d3f3",
           "#FF6692",
           "#B6E880",
           "#FF97FF",
           "#FECB52"
          ],
          "font": {
           "color": "#2a3f5f"
          },
          "geo": {
           "bgcolor": "white",
           "lakecolor": "white",
           "landcolor": "#E5ECF6",
           "showlakes": true,
           "showland": true,
           "subunitcolor": "white"
          },
          "hoverlabel": {
           "align": "left"
          },
          "hovermode": "closest",
          "mapbox": {
           "style": "light"
          },
          "paper_bgcolor": "white",
          "plot_bgcolor": "#E5ECF6",
          "polar": {
           "angularaxis": {
            "gridcolor": "white",
            "linecolor": "white",
            "ticks": ""
           },
           "bgcolor": "#E5ECF6",
           "radialaxis": {
            "gridcolor": "white",
            "linecolor": "white",
            "ticks": ""
           }
          },
          "scene": {
           "xaxis": {
            "backgroundcolor": "#E5ECF6",
            "gridcolor": "white",
            "gridwidth": 2,
            "linecolor": "white",
            "showbackground": true,
            "ticks": "",
            "zerolinecolor": "white"
           },
           "yaxis": {
            "backgroundcolor": "#E5ECF6",
            "gridcolor": "white",
            "gridwidth": 2,
            "linecolor": "white",
            "showbackground": true,
            "ticks": "",
            "zerolinecolor": "white"
           },
           "zaxis": {
            "backgroundcolor": "#E5ECF6",
            "gridcolor": "white",
            "gridwidth": 2,
            "linecolor": "white",
            "showbackground": true,
            "ticks": "",
            "zerolinecolor": "white"
           }
          },
          "shapedefaults": {
           "line": {
            "color": "#2a3f5f"
           }
          },
          "ternary": {
           "aaxis": {
            "gridcolor": "white",
            "linecolor": "white",
            "ticks": ""
           },
           "baxis": {
            "gridcolor": "white",
            "linecolor": "white",
            "ticks": ""
           },
           "bgcolor": "#E5ECF6",
           "caxis": {
            "gridcolor": "white",
            "linecolor": "white",
            "ticks": ""
           }
          },
          "title": {
           "x": 0.05
          },
          "xaxis": {
           "automargin": true,
           "gridcolor": "white",
           "linecolor": "white",
           "ticks": "",
           "title": {
            "standoff": 15
           },
           "zerolinecolor": "white",
           "zerolinewidth": 2
          },
          "yaxis": {
           "automargin": true,
           "gridcolor": "white",
           "linecolor": "white",
           "ticks": "",
           "title": {
            "standoff": 15
           },
           "zerolinecolor": "white",
           "zerolinewidth": 2
          }
         }
        },
        "title": {
         "text": "Калибровка: T9"
        },
        "width": 860,
        "xaxis": {
         "anchor": "y",
         "domain": [
          0,
          1
         ],
         "gridcolor": "rgba(0,0,0,0.15)",
         "showgrid": true,
         "title": {
          "text": "T9 (X)"
         }
        },
        "xaxis2": {
         "anchor": "y2",
         "categoryarray": [
          "19.0",
          "23.0",
          "27.0",
          "31.0",
          "35.0"
         ],
         "categoryorder": "array",
         "domain": [
          0,
          1
         ],
         "gridcolor": "rgba(0,0,0,0.12)",
         "showgrid": true,
         "title": {
          "text": "Полочка (центр)"
         },
         "type": "category"
        },
        "yaxis": {
         "anchor": "x",
         "domain": [
          0.428,
          1
         ],
         "gridcolor": "rgba(0,0,0,0.15)",
         "showgrid": true,
         "title": {
          "text": "T8 (Y)"
         }
        },
        "yaxis2": {
         "anchor": "x2",
         "domain": [
          0,
          0.308
         ],
         "gridcolor": "rgba(0,0,0,0.12)",
         "showgrid": true,
         "title": {
          "text": "Y - Y_hat (°C)"
         }
        }
       }
      }
     },
     "metadata": {},
     "output_type": "display_data"
    }
   ],
   "source": [
    "# === 11) Калибровочные кривые (полиномы) ===\n",
    "import numpy as np\n",
    "import pandas as pd\n",
    "import plotly.graph_objects as go\n",
    "from plotly.subplots import make_subplots\n",
    "\n",
    "assert 'calibration_points_by_sensor' in globals() and not calibration_points_by_sensor.empty, 'Нет калибровочной таблицы.'\n",
    "\n",
    "def _poly_formula(coeffs):\n",
    "    # coeffs in descending order: c0*x^n + c1*x^(n-1) + ... + cN\n",
    "    deg = len(coeffs) - 1\n",
    "    terms = []\n",
    "    for i, c in enumerate(coeffs):\n",
    "        p = deg - i\n",
    "        if abs(c) < 1e-15:\n",
    "            continue\n",
    "        coef = f\"{c:.8g}\"\n",
    "        if p == 0:\n",
    "            term = f\"{coef}\"\n",
    "        elif p == 1:\n",
    "            term = f\"{coef}·X\"\n",
    "        else:\n",
    "            term = f\"{coef}·X^{p}\"\n",
    "        terms.append(term)\n",
    "    if not terms:\n",
    "        return 'Y = 0'\n",
    "    s = ' + '.join(terms).replace('+ -', '- ')\n",
    "    return 'Y = ' + s\n",
    "\n",
    "for sensor, g in calibration_points_by_sensor.groupby('sensor'):\n",
    "    g = g.sort_values('x_mean').reset_index(drop=True)\n",
    "    x = g['x_mean'].to_numpy(dtype=float)\n",
    "    y = g['y_mean'].to_numpy(dtype=float)\n",
    "    y_std = g['y_std'].to_numpy(dtype=float) if 'y_std' in g else np.full_like(y, np.nan)\n",
    "    w = 1.0 / np.clip(y_std, 1e-9, np.inf)\n",
    "    n = len(x)\n",
    "    deg_max = max(1, n - 2)\n",
    "\n",
    "    fits = []\n",
    "    for d in range(1, deg_max + 1):\n",
    "        try:\n",
    "            coefs = np.polyfit(x, y, deg=d, w=w)\n",
    "            p = np.poly1d(coefs)\n",
    "            yhat = p(x)\n",
    "            resid = y - yhat\n",
    "            rmse = float(np.sqrt(np.mean(resid**2)))\n",
    "            mae = float(np.mean(np.abs(resid)))\n",
    "            mx = float(np.max(np.abs(resid)))\n",
    "            fits.append({'deg': d, 'coefs': coefs, 'poly': p, 'rmse': rmse, 'mae': mae, 'maxerr': mx, 'resid': resid})\n",
    "        except Exception as e:\n",
    "            print(f\"[warn] {sensor}: не удалось аппроксимировать степенью {d}: {e}\")\n",
    "\n",
    "    print(f\"Сенсор {sensor}: {n} точек; степени 1..{deg_max}\")\n",
    "    for f in fits:\n",
    "        cdesc = ', '.join([f\"{c:.8g}\" for c in f['coefs']])\n",
    "        print(f\"deg={f['deg']}: {_poly_formula(f['coefs'])}\")\n",
    "        print(f\"    coeffs (старшая→младшая): [{cdesc}] | RMSE={f['rmse']:.6g}, MAE={f['mae']:.6g}, Max|err|={f['maxerr']:.6g}\")\n",
    "\n",
    "    xs = np.linspace(float(x.min()), float(x.max()), 200) if n > 1 else x\n",
    "    x_err = g['x_std'].to_numpy(dtype=float) if 'x_std' in g else np.full_like(x, np.nan)\n",
    "    y_err = g['y_std'].to_numpy(dtype=float) if 'y_std' in g else np.full_like(y, np.nan)\n",
    "\n",
    "    def _err_dict(arr: np.ndarray):\n",
    "        clean = np.nan_to_num(arr, nan=0.0)\n",
    "        if not np.any(clean):\n",
    "            return None\n",
    "        return dict(type='data', array=clean, visible=True)\n",
    "\n",
    "    error_x = _err_dict(x_err)\n",
    "    error_y = _err_dict(y_err)\n",
    "\n",
    "    fig = make_subplots(rows=2, cols=1, row_heights=[0.65, 0.35], vertical_spacing=0.12)\n",
    "    fig.add_trace(\n",
    "        go.Scatter(\n",
    "            x=x,\n",
    "            y=y,\n",
    "            mode='markers',\n",
    "            name='Точки',\n",
    "            marker=dict(size=9),\n",
    "            error_x=error_x,\n",
    "            error_y=error_y\n",
    "        ),\n",
    "        row=1,\n",
    "        col=1\n",
    "    )\n",
    "\n",
    "    p1 = next((f['poly'] for f in fits if f['deg'] == 1), None)\n",
    "    pN = max(fits, key=lambda f: f['deg'])['poly'] if fits else None\n",
    "    if p1 is not None:\n",
    "        fig.add_trace(\n",
    "            go.Scatter(x=xs, y=p1(xs), mode='lines', name='deg=1'),\n",
    "            row=1, col=1\n",
    "        )\n",
    "    if pN is not None and (p1 is None or pN.order != 1):\n",
    "        fig.add_trace(\n",
    "            go.Scatter(x=xs, y=pN(xs), mode='lines', name=f\"deg={pN.order}\"),\n",
    "            row=1, col=1\n",
    "        )\n",
    "\n",
    "    labels = [f\"{bc:.1f}\" for bc in g['bin_center']] if 'bin_center' in g.columns else [f\"{xi:.2f}\" for xi in x]\n",
    "    for f in fits:\n",
    "        fig.add_trace(\n",
    "            go.Bar(\n",
    "                x=labels,\n",
    "                y=f['resid'],\n",
    "                name=f\"deg={f['deg']} (остатки)\"\n",
    "            ),\n",
    "            row=2,\n",
    "            col=1\n",
    "        )\n",
    "\n",
    "    fig.update_xaxes(title_text=f'{sensor} (X)', row=1, col=1, showgrid=True, gridcolor='rgba(0,0,0,0.15)')\n",
    "    fig.update_yaxes(title_text=f'T{REF_IDX} (Y)', row=1, col=1, showgrid=True, gridcolor='rgba(0,0,0,0.15)')\n",
    "    fig.update_xaxes(title_text='Полочка (центр)', row=2, col=1, type='category', showgrid=True, gridcolor='rgba(0,0,0,0.12)', categoryorder='array', categoryarray=labels)\n",
    "    fig.update_yaxes(title_text='Y - Y_hat (°C)', row=2, col=1, showgrid=True, gridcolor='rgba(0,0,0,0.12)')\n",
    "\n",
    "    fig.update_layout(\n",
    "        height=640,\n",
    "        width=860,\n",
    "        title_text=f'Калибровка: {sensor}',\n",
    "        barmode='group',\n",
    "        legend=dict(orientation='h', yanchor='bottom', y=1.02, xanchor='center', x=0.5),\n",
    "        margin=dict(t=80, l=60, r=40, b=70)\n",
    "    )\n",
    "\n",
    "    fig.show()"
   ]
  },
  {
   "cell_type": "code",
   "execution_count": 95,
   "id": "6f845d2e",
   "metadata": {},
   "outputs": [
    {
     "name": "stdout",
     "output_type": "stream",
     "text": [
      "Сенсор T10: 5 точек; степени 1..3\n",
      "L2 deg=1: Y = 0.9981481·X - 0.22939048\n",
      "    coeffs (старшая→младшая): [0.9981481, -0.22939048] | RMSE=0.00533545, MAE=0.0050761, Max|err|=0.00715379\n",
      "L_inf deg=1: Y = 0.9981469·X - 0.22897818\n",
      "    coeffs (старшая→младшая): [0.9981469, -0.22897818] | RMSE=0.00531583, MAE=0.00500018, Max|err|=0.00705688\n",
      "L2 deg=2: Y = -0.00019791819·X^2 + 1.0088016·X - 0.36597493\n",
      "    coeffs (старшая→младшая): [-0.00019791819, 1.0088016, -0.36597493] | RMSE=0.0002506, MAE=0.000207032, Max|err|=0.000391996\n",
      "L_inf deg=2: Y = -0.00020078568·X^2 + 1.0089673·X - 0.36826834\n",
      "    coeffs (старшая→младшая): [-0.00020078568, 1.0089673, -0.36826834] | RMSE=0.000270321, MAE=0.000243199, Max|err|=0.000397362\n",
      "L2 deg=3: Y = -5.8574927e-07·X^3 - 0.00015069247·X^2 + 1.0075655·X - 0.35547515\n",
      "    coeffs (старшая→младшая): [-5.8574927e-07, -0.00015069247, 1.0075655, -0.35547515] | RMSE=0.000263388, MAE=0.000211801, Max|err|=0.000426298\n",
      "L_inf deg=3: Y = -3.3470524e-07·X^3 - 0.00017566289·X^2 + 1.0083478·X - 0.36325296\n",
      "    coeffs (старшая→младшая): [-3.3470524e-07, -0.00017566289, 1.0083478, -0.36325296] | RMSE=0.000286694, MAE=0.000281467, Max|err|=0.000375103\n"
     ]
    },
    {
     "data": {
      "application/vnd.plotly.v1+json": {
       "config": {
        "plotlyServerURL": "https://plot.ly"
       },
       "data": [
        {
         "error_x": {
          "array": [
           0.0008719047908997805,
           0.000713977559283935,
           0.0009006553937432751,
           0.0011186957044750322,
           0.0010015285520446645
          ],
          "type": "data",
          "visible": true
         },
         "error_y": {
          "array": [
           0.0006810497740731895,
           0.000733456488461373,
           0.0008772962844693341,
           0.0011649273122259036,
           0.0009139076937672919
          ],
          "type": "data",
          "visible": true
         },
         "legendgroup": "L2",
         "marker": {
          "size": 9
         },
         "mode": "markers",
         "name": "Точки",
         "type": "scatter",
         "x": [
          19.22095798319328,
          23.21422829678582,
          27.20337259194396,
          31.19308371040724,
          35.16977083333333
         ],
         "xaxis": "x",
         "y": [
          18.9511025210084,
          22.945674977470713,
          26.930757880910686,
          30.908769230769238,
          34.8685625
         ],
         "yaxis": "y"
        },
        {
         "legendgroup": "L2",
         "mode": "lines",
         "name": "L2 deg=1",
         "type": "scatter",
         "x": [
          19.22095798319328,
          19.30110277138494,
          19.381247559576597,
          19.461392347768257,
          19.541537135959913,
          19.621681924151574,
          19.70182671234323,
          19.78197150053489,
          19.862116288726547,
          19.942261076918207,
          20.022405865109864,
          20.102550653301524,
          20.182695441493184,
          20.26284022968484,
          20.3429850178765,
          20.423129806068157,
          20.503274594259818,
          20.583419382451474,
          20.663564170643134,
          20.74370895883479,
          20.82385374702645,
          20.903998535218108,
          20.984143323409768,
          21.064288111601428,
          21.144432899793085,
          21.224577687984745,
          21.3047224761764,
          21.38486726436806,
          21.465012052559718,
          21.54515684075138,
          21.625301628943035,
          21.705446417134695,
          21.785591205326355,
          21.865735993518012,
          21.945880781709672,
          22.02602556990133,
          22.10617035809299,
          22.186315146284645,
          22.266459934476305,
          22.346604722667962,
          22.426749510859622,
          22.50689429905128,
          22.58703908724294,
          22.667183875434596,
          22.747328663626256,
          22.827473451817916,
          22.907618240009572,
          22.987763028201233,
          23.06790781639289,
          23.14805260458455,
          23.228197392776206,
          23.308342180967866,
          23.388486969159523,
          23.468631757351183,
          23.548776545542843,
          23.6289213337345,
          23.709066121926156,
          23.789210910117816,
          23.869355698309477,
          23.949500486501133,
          24.029645274692793,
          24.10979006288445,
          24.18993485107611,
          24.27007963926777,
          24.350224427459427,
          24.430369215651083,
          24.510514003842744,
          24.590658792034404,
          24.67080358022606,
          24.75094836841772,
          24.831093156609377,
          24.911237944801037,
          24.991382732992697,
          25.071527521184354,
          25.15167230937601,
          25.23181709756767,
          25.31196188575933,
          25.392106673950988,
          25.472251462142648,
          25.552396250334304,
          25.632541038525964,
          25.71268582671762,
          25.79283061490928,
          25.872975403100938,
          25.953120191292598,
          26.033264979484258,
          26.113409767675915,
          26.19355455586757,
          26.27369934405923,
          26.35384413225089,
          26.433988920442548,
          26.51413370863421,
          26.594278496825865,
          26.674423285017525,
          26.754568073209185,
          26.834712861400842,
          26.9148576495925,
          26.99500243778416,
          27.07514722597582,
          27.155292014167475,
          27.235436802359132,
          27.315581590550792,
          27.395726378742452,
          27.475871166934112,
          27.55601595512577,
          27.636160743317426,
          27.716305531509086,
          27.796450319700746,
          27.876595107892403,
          27.95673989608406,
          28.03688468427572,
          28.11702947246738,
          28.197174260659036,
          28.277319048850696,
          28.357463837042353,
          28.437608625234013,
          28.517753413425673,
          28.59789820161733,
          28.678042989808986,
          28.758187778000647,
          28.838332566192307,
          28.918477354383963,
          28.99862214257562,
          29.07876693076728,
          29.15891171895894,
          29.2390565071506,
          29.319201295342257,
          29.399346083533914,
          29.479490871725574,
          29.559635659917234,
          29.63978044810889,
          29.719925236300547,
          29.800070024492207,
          29.880214812683867,
          29.960359600875528,
          30.040504389067184,
          30.12064917725884,
          30.2007939654505,
          30.28093875364216,
          30.361083541833818,
          30.441228330025474,
          30.521373118217134,
          30.601517906408795,
          30.68166269460045,
          30.76180748279211,
          30.841952270983768,
          30.922097059175428,
          31.002241847367088,
          31.082386635558745,
          31.1625314237504,
          31.24267621194206,
          31.32282100013372,
          31.40296578832538,
          31.483110576517035,
          31.563255364708695,
          31.643400152900355,
          31.723544941092015,
          31.803689729283672,
          31.88383451747533,
          31.96397930566699,
          32.04412409385865,
          32.1242688820503,
          32.20441367024196,
          32.28455845843362,
          32.36470324662528,
          32.44484803481694,
          32.5249928230086,
          32.605137611200256,
          32.685282399391916,
          32.765427187583576,
          32.84557197577523,
          32.92571676396689,
          33.00586155215855,
          33.08600634035021,
          33.16615112854187,
          33.24629591673352,
          33.32644070492518,
          33.40658549311684,
          33.4867302813085,
          33.566875069500156,
          33.64701985769182,
          33.72716464588348,
          33.80730943407514,
          33.8874542222668,
          33.96759901045845,
          34.04774379865011,
          34.12788858684177,
          34.20803337503343,
          34.28817816322508,
          34.368322951416744,
          34.448467739608404,
          34.528612527800064,
          34.608757315991724,
          34.68890210418338,
          34.76904689237504,
          34.8491916805667,
          34.92933646875835,
          35.00948125695001,
          35.08962604514167,
          35.16977083333333
         ],
         "xaxis": "x",
         "y": [
          18.955972140813433,
          19.03596850858006,
          19.11596487634668,
          19.195961244113303,
          19.275957611879925,
          19.35595397964655,
          19.43595034741317,
          19.515946715179794,
          19.595943082946416,
          19.67593945071304,
          19.75593581847966,
          19.835932186246286,
          19.91592855401291,
          19.995924921779533,
          20.075921289546155,
          20.155917657312777,
          20.235914025079403,
          20.315910392846025,
          20.395906760612647,
          20.47590312837927,
          20.555899496145894,
          20.635895863912516,
          20.71589223167914,
          20.795888599445764,
          20.875884967212386,
          20.955881334979008,
          21.03587770274563,
          21.115874070512255,
          21.195870438278877,
          21.2758668060455,
          21.35586317381212,
          21.435859541578747,
          21.515855909345373,
          21.59585227711199,
          21.675848644878617,
          21.75584501264524,
          21.835841380411864,
          21.915837748178483,
          21.995834115945108,
          22.07583048371173,
          22.155826851478352,
          22.235823219244974,
          22.3158195870116,
          22.39581595477822,
          22.475812322544844,
          22.55580869031147,
          22.63580505807809,
          22.715801425844717,
          22.795797793611335,
          22.87579416137796,
          22.955790529144583,
          23.03578689691121,
          23.115783264677827,
          23.195779632444452,
          23.275776000211078,
          23.355772367977696,
          23.43576873574432,
          23.515765103510944,
          23.59576147127757,
          23.675757839044188,
          23.755754206810813,
          23.835750574577435,
          23.91574694234406,
          23.995743310110683,
          24.075739677877305,
          24.155736045643927,
          24.235732413410553,
          24.315728781177175,
          24.395725148943797,
          24.475721516710422,
          24.55571788447704,
          24.635714252243666,
          24.71571062001029,
          24.795706987776914,
          24.875703355543532,
          24.955699723310158,
          25.035696091076783,
          25.115692458843405,
          25.195688826610027,
          25.27568519437665,
          25.355681562143275,
          25.435677929909897,
          25.51567429767652,
          25.59567066544314,
          25.675667033209766,
          25.75566340097639,
          25.83565976874301,
          25.915656136509632,
          25.995652504276258,
          26.07564887204288,
          26.155645239809502,
          26.235641607576127,
          26.31563797534275,
          26.39563434310937,
          26.475630710875997,
          26.55562707864262,
          26.63562344640924,
          26.715619814175863,
          26.79561618194249,
          26.87561254970911,
          26.95560891747573,
          27.035605285242355,
          27.11560165300898,
          27.195598020775606,
          27.275594388542224,
          27.355590756308846,
          27.43558712407547,
          27.515583491842097,
          27.595579859608716,
          27.675576227375338,
          27.755572595141963,
          27.83556896290859,
          27.915565330675207,
          27.995561698441833,
          28.075558066208455,
          28.15555443397508,
          28.235550801741702,
          28.315547169508324,
          28.395543537274946,
          28.47553990504157,
          28.555536272808194,
          28.635532640574816,
          28.715529008341438,
          28.79552537610806,
          28.875521743874685,
          28.95551811164131,
          29.035514479407933,
          29.11551084717455,
          29.195507214941177,
          29.275503582707803,
          29.355499950474425,
          29.435496318241043,
          29.51549268600767,
          29.595489053774294,
          29.675485421540916,
          29.755481789307538,
          29.83547815707416,
          29.915474524840786,
          29.995470892607408,
          30.07546726037403,
          30.15546362814065,
          30.235459995907277,
          30.3154563636739,
          30.39545273144052,
          30.475449099207147,
          30.55544546697377,
          30.63544183474039,
          30.715438202507016,
          30.79543457027364,
          30.875430938040257,
          30.955427305806882,
          31.035423673573508,
          31.11542004134013,
          31.19541640910675,
          31.275412776873374,
          31.35540914464,
          31.435405512406625,
          31.515401880173243,
          31.595398247939865,
          31.67539461570649,
          31.755390983473117,
          31.835387351239735,
          31.91538371900636,
          31.99538008677298,
          32.07537645453961,
          32.155372822306234,
          32.23536919007286,
          32.31536555783948,
          32.3953619256061,
          32.47535829337273,
          32.55535466113934,
          32.635351028905966,
          32.71534739667259,
          32.79534376443922,
          32.87534013220584,
          32.95533649997246,
          33.035332867739086,
          33.11532923550571,
          33.19532560327233,
          33.27532197103895,
          33.355318338805574,
          33.4353147065722,
          33.515311074338825,
          33.59530744210545,
          33.67530380987207,
          33.75530017763869,
          33.83529654540531,
          33.91529291317194,
          33.99528928093856,
          34.07528564870518,
          34.15528201647181,
          34.235278384238434,
          34.31527475200506,
          34.39527111977167,
          34.4752674875383,
          34.55526385530492,
          34.63526022307154,
          34.715256590838166,
          34.79525295860479,
          34.87524932637142
         ],
         "yaxis": "y"
        },
        {
         "legendgroup": "L2",
         "mode": "lines",
         "name": "L2 deg=3",
         "type": "scatter",
         "x": [
          19.22095798319328,
          19.30110277138494,
          19.381247559576597,
          19.461392347768257,
          19.541537135959913,
          19.621681924151574,
          19.70182671234323,
          19.78197150053489,
          19.862116288726547,
          19.942261076918207,
          20.022405865109864,
          20.102550653301524,
          20.182695441493184,
          20.26284022968484,
          20.3429850178765,
          20.423129806068157,
          20.503274594259818,
          20.583419382451474,
          20.663564170643134,
          20.74370895883479,
          20.82385374702645,
          20.903998535218108,
          20.984143323409768,
          21.064288111601428,
          21.144432899793085,
          21.224577687984745,
          21.3047224761764,
          21.38486726436806,
          21.465012052559718,
          21.54515684075138,
          21.625301628943035,
          21.705446417134695,
          21.785591205326355,
          21.865735993518012,
          21.945880781709672,
          22.02602556990133,
          22.10617035809299,
          22.186315146284645,
          22.266459934476305,
          22.346604722667962,
          22.426749510859622,
          22.50689429905128,
          22.58703908724294,
          22.667183875434596,
          22.747328663626256,
          22.827473451817916,
          22.907618240009572,
          22.987763028201233,
          23.06790781639289,
          23.14805260458455,
          23.228197392776206,
          23.308342180967866,
          23.388486969159523,
          23.468631757351183,
          23.548776545542843,
          23.6289213337345,
          23.709066121926156,
          23.789210910117816,
          23.869355698309477,
          23.949500486501133,
          24.029645274692793,
          24.10979006288445,
          24.18993485107611,
          24.27007963926777,
          24.350224427459427,
          24.430369215651083,
          24.510514003842744,
          24.590658792034404,
          24.67080358022606,
          24.75094836841772,
          24.831093156609377,
          24.911237944801037,
          24.991382732992697,
          25.071527521184354,
          25.15167230937601,
          25.23181709756767,
          25.31196188575933,
          25.392106673950988,
          25.472251462142648,
          25.552396250334304,
          25.632541038525964,
          25.71268582671762,
          25.79283061490928,
          25.872975403100938,
          25.953120191292598,
          26.033264979484258,
          26.113409767675915,
          26.19355455586757,
          26.27369934405923,
          26.35384413225089,
          26.433988920442548,
          26.51413370863421,
          26.594278496825865,
          26.674423285017525,
          26.754568073209185,
          26.834712861400842,
          26.9148576495925,
          26.99500243778416,
          27.07514722597582,
          27.155292014167475,
          27.235436802359132,
          27.315581590550792,
          27.395726378742452,
          27.475871166934112,
          27.55601595512577,
          27.636160743317426,
          27.716305531509086,
          27.796450319700746,
          27.876595107892403,
          27.95673989608406,
          28.03688468427572,
          28.11702947246738,
          28.197174260659036,
          28.277319048850696,
          28.357463837042353,
          28.437608625234013,
          28.517753413425673,
          28.59789820161733,
          28.678042989808986,
          28.758187778000647,
          28.838332566192307,
          28.918477354383963,
          28.99862214257562,
          29.07876693076728,
          29.15891171895894,
          29.2390565071506,
          29.319201295342257,
          29.399346083533914,
          29.479490871725574,
          29.559635659917234,
          29.63978044810889,
          29.719925236300547,
          29.800070024492207,
          29.880214812683867,
          29.960359600875528,
          30.040504389067184,
          30.12064917725884,
          30.2007939654505,
          30.28093875364216,
          30.361083541833818,
          30.441228330025474,
          30.521373118217134,
          30.601517906408795,
          30.68166269460045,
          30.76180748279211,
          30.841952270983768,
          30.922097059175428,
          31.002241847367088,
          31.082386635558745,
          31.1625314237504,
          31.24267621194206,
          31.32282100013372,
          31.40296578832538,
          31.483110576517035,
          31.563255364708695,
          31.643400152900355,
          31.723544941092015,
          31.803689729283672,
          31.88383451747533,
          31.96397930566699,
          32.04412409385865,
          32.1242688820503,
          32.20441367024196,
          32.28455845843362,
          32.36470324662528,
          32.44484803481694,
          32.5249928230086,
          32.605137611200256,
          32.685282399391916,
          32.765427187583576,
          32.84557197577523,
          32.92571676396689,
          33.00586155215855,
          33.08600634035021,
          33.16615112854187,
          33.24629591673352,
          33.32644070492518,
          33.40658549311684,
          33.4867302813085,
          33.566875069500156,
          33.64701985769182,
          33.72716464588348,
          33.80730943407514,
          33.8874542222668,
          33.96759901045845,
          34.04774379865011,
          34.12788858684177,
          34.20803337503343,
          34.28817816322508,
          34.368322951416744,
          34.448467739608404,
          34.528612527800064,
          34.608757315991724,
          34.68890210418338,
          34.76904689237504,
          34.8491916805667,
          34.92933646875835,
          35.00948125695001,
          35.08962604514167,
          35.16977083333333
         ],
         "xaxis": "x",
         "y": [
          18.951066239477328,
          19.031299873191685,
          19.111531135345984,
          19.19176002413102,
          19.271986537737586,
          19.35221067435647,
          19.432432432178455,
          19.51265180939434,
          19.592868804194918,
          19.673083414770975,
          19.753295639313297,
          19.833505476012686,
          19.913712923059922,
          19.993917978645797,
          20.0741206409611,
          20.154320908196635,
          20.234518778543176,
          20.31471425019152,
          20.39490732133246,
          20.475097990156783,
          20.55528625485528,
          20.635472113618743,
          20.715655564637963,
          20.795836606103727,
          20.876015236206825,
          20.956191453138057,
          21.0363652550882,
          21.116536640248054,
          21.1967056068084,
          21.27687215296005,
          21.357036276893762,
          21.43719797680036,
          21.51735725087061,
          21.59751409729531,
          21.677668514265253,
          21.757820499971228,
          21.837970052604028,
          21.918117170354435,
          21.99826185141325,
          22.078404093971262,
          22.158543896219253,
          22.23868125634802,
          22.318816172548356,
          22.398948643011042,
          22.47907866592688,
          22.55920623948666,
          22.63933136188116,
          22.71945403130118,
          22.799574245937503,
          22.879692003980928,
          22.95980730362224,
          23.03992014305224,
          23.120030520461704,
          23.20013843404143,
          23.280243881982212,
          23.36034686247483,
          23.440447373710082,
          23.520545413878757,
          23.60064098117165,
          23.680734073779544,
          23.760824689893234,
          23.840912827703505,
          23.92099848540115,
          24.001081661176972,
          24.081162353221735,
          24.161240559726252,
          24.24131627888131,
          24.321389508877697,
          24.401460247906194,
          24.481528494157605,
          24.561594245822715,
          24.641657501092315,
          24.721718258157196,
          24.801776515208147,
          24.881832270435957,
          24.961885522031423,
          25.041936268185328,
          25.121984507088467,
          25.20203023693163,
          25.28207345590561,
          25.36211416220119,
          25.442152354009167,
          25.52218802952033,
          25.602221186925465,
          25.68225182441537,
          25.762279940180832,
          25.842305532412638,
          25.922328599301586,
          26.00234913903846,
          26.082367149814054,
          26.16238262981916,
          26.24239557724456,
          26.322405990281055,
          26.402413867119428,
          26.482419205950475,
          26.56242200496498,
          26.64242226235374,
          26.722419976307545,
          26.802415145017182,
          26.88240776667344,
          26.962397839467112,
          27.042385361588995,
          27.122370331229867,
          27.20235274658053,
          27.28233260583177,
          27.362309907174367,
          27.44228464879913,
          27.522256828896836,
          27.60222644565828,
          27.682193497274255,
          27.762157981935555,
          27.842119897832962,
          27.922079243157267,
          28.002036016099265,
          28.08199021484974,
          28.161941837599493,
          28.241890882539302,
          28.321837347859965,
          28.401781231752274,
          28.481722532407016,
          28.561661248014982,
          28.641597376766963,
          28.721530916853748,
          28.80146186646613,
          28.881390223794906,
          28.96131598703085,
          29.041239154364764,
          29.12115972398743,
          29.201077694089648,
          29.28099306286221,
          29.36090582849589,
          29.440815989181495,
          29.520723543109813,
          29.60062848847163,
          29.68053082345774,
          29.760430546258934,
          29.84032765506599,
          29.92022214806972,
          30.000114023460903,
          30.080003279430322,
          30.15988991416878,
          30.23977392586706,
          30.319655312715955,
          30.39953407290626,
          30.479410204628763,
          30.559283706074247,
          30.639154575433512,
          30.719022810897343,
          30.79888841065653,
          30.87875137290187,
          30.958611695824146,
          31.038469377614156,
          31.118324416462677,
          31.19817681056052,
          31.278026558098457,
          31.357873657267287,
          31.4377181062578,
          31.517559903260786,
          31.597399046467036,
          31.67723553406734,
          31.75706936425249,
          31.836900535213264,
          31.916729045140475,
          31.996554892224896,
          32.07637807465733,
          32.156198590628556,
          32.23601643832937,
          32.31583161595056,
          32.39564412168292,
          32.47545395371724,
          32.5552611102443,
          32.63506558945491,
          32.71486738953984,
          32.7946665086899,
          32.87446294509587,
          32.95425669694854,
          33.0340477624387,
          33.11383613975715,
          33.193621827094674,
          33.27340482264205,
          33.353185124590084,
          33.432962731129564,
          33.512737640451284,
          33.59250985074603,
          33.672279360204584,
          33.752046167017745,
          33.831810269376305,
          33.91157166547106,
          33.99133035349278,
          34.07108633163228,
          34.15083959808034,
          34.23059015102775,
          34.31033798866529,
          34.390083109183756,
          34.46982551077396,
          34.54956519162667,
          34.62930214993267,
          34.70903638388278,
          34.78876789166777,
          34.868496671478425
         ],
         "yaxis": "y"
        },
        {
         "error_x": {
          "array": [
           0.0008719047908997805,
           0.000713977559283935,
           0.0009006553937432751,
           0.0011186957044750322,
           0.0010015285520446645
          ],
          "type": "data",
          "visible": true
         },
         "error_y": {
          "array": [
           0.0006810497740731895,
           0.000733456488461373,
           0.0008772962844693341,
           0.0011649273122259036,
           0.0009139076937672919
          ],
          "type": "data",
          "visible": true
         },
         "legendgroup": "L_inf",
         "marker": {
          "size": 9,
          "symbol": "circle-open"
         },
         "mode": "markers",
         "name": "Точки (L_inf)",
         "opacity": 0.95,
         "showlegend": false,
         "type": "scatter",
         "x": [
          19.22095798319328,
          23.21422829678582,
          27.20337259194396,
          31.19308371040724,
          35.16977083333333
         ],
         "xaxis": "x2",
         "y": [
          18.9511025210084,
          22.945674977470713,
          26.930757880910686,
          30.908769230769238,
          34.8685625
         ],
         "yaxis": "y2"
        },
        {
         "legendgroup": "L_inf",
         "mode": "lines",
         "name": "L_inf deg=1",
         "type": "scatter",
         "x": [
          19.22095798319328,
          19.30110277138494,
          19.381247559576597,
          19.461392347768257,
          19.541537135959913,
          19.621681924151574,
          19.70182671234323,
          19.78197150053489,
          19.862116288726547,
          19.942261076918207,
          20.022405865109864,
          20.102550653301524,
          20.182695441493184,
          20.26284022968484,
          20.3429850178765,
          20.423129806068157,
          20.503274594259818,
          20.583419382451474,
          20.663564170643134,
          20.74370895883479,
          20.82385374702645,
          20.903998535218108,
          20.984143323409768,
          21.064288111601428,
          21.144432899793085,
          21.224577687984745,
          21.3047224761764,
          21.38486726436806,
          21.465012052559718,
          21.54515684075138,
          21.625301628943035,
          21.705446417134695,
          21.785591205326355,
          21.865735993518012,
          21.945880781709672,
          22.02602556990133,
          22.10617035809299,
          22.186315146284645,
          22.266459934476305,
          22.346604722667962,
          22.426749510859622,
          22.50689429905128,
          22.58703908724294,
          22.667183875434596,
          22.747328663626256,
          22.827473451817916,
          22.907618240009572,
          22.987763028201233,
          23.06790781639289,
          23.14805260458455,
          23.228197392776206,
          23.308342180967866,
          23.388486969159523,
          23.468631757351183,
          23.548776545542843,
          23.6289213337345,
          23.709066121926156,
          23.789210910117816,
          23.869355698309477,
          23.949500486501133,
          24.029645274692793,
          24.10979006288445,
          24.18993485107611,
          24.27007963926777,
          24.350224427459427,
          24.430369215651083,
          24.510514003842744,
          24.590658792034404,
          24.67080358022606,
          24.75094836841772,
          24.831093156609377,
          24.911237944801037,
          24.991382732992697,
          25.071527521184354,
          25.15167230937601,
          25.23181709756767,
          25.31196188575933,
          25.392106673950988,
          25.472251462142648,
          25.552396250334304,
          25.632541038525964,
          25.71268582671762,
          25.79283061490928,
          25.872975403100938,
          25.953120191292598,
          26.033264979484258,
          26.113409767675915,
          26.19355455586757,
          26.27369934405923,
          26.35384413225089,
          26.433988920442548,
          26.51413370863421,
          26.594278496825865,
          26.674423285017525,
          26.754568073209185,
          26.834712861400842,
          26.9148576495925,
          26.99500243778416,
          27.07514722597582,
          27.155292014167475,
          27.235436802359132,
          27.315581590550792,
          27.395726378742452,
          27.475871166934112,
          27.55601595512577,
          27.636160743317426,
          27.716305531509086,
          27.796450319700746,
          27.876595107892403,
          27.95673989608406,
          28.03688468427572,
          28.11702947246738,
          28.197174260659036,
          28.277319048850696,
          28.357463837042353,
          28.437608625234013,
          28.517753413425673,
          28.59789820161733,
          28.678042989808986,
          28.758187778000647,
          28.838332566192307,
          28.918477354383963,
          28.99862214257562,
          29.07876693076728,
          29.15891171895894,
          29.2390565071506,
          29.319201295342257,
          29.399346083533914,
          29.479490871725574,
          29.559635659917234,
          29.63978044810889,
          29.719925236300547,
          29.800070024492207,
          29.880214812683867,
          29.960359600875528,
          30.040504389067184,
          30.12064917725884,
          30.2007939654505,
          30.28093875364216,
          30.361083541833818,
          30.441228330025474,
          30.521373118217134,
          30.601517906408795,
          30.68166269460045,
          30.76180748279211,
          30.841952270983768,
          30.922097059175428,
          31.002241847367088,
          31.082386635558745,
          31.1625314237504,
          31.24267621194206,
          31.32282100013372,
          31.40296578832538,
          31.483110576517035,
          31.563255364708695,
          31.643400152900355,
          31.723544941092015,
          31.803689729283672,
          31.88383451747533,
          31.96397930566699,
          32.04412409385865,
          32.1242688820503,
          32.20441367024196,
          32.28455845843362,
          32.36470324662528,
          32.44484803481694,
          32.5249928230086,
          32.605137611200256,
          32.685282399391916,
          32.765427187583576,
          32.84557197577523,
          32.92571676396689,
          33.00586155215855,
          33.08600634035021,
          33.16615112854187,
          33.24629591673352,
          33.32644070492518,
          33.40658549311684,
          33.4867302813085,
          33.566875069500156,
          33.64701985769182,
          33.72716464588348,
          33.80730943407514,
          33.8874542222668,
          33.96759901045845,
          34.04774379865011,
          34.12788858684177,
          34.20803337503343,
          34.28817816322508,
          34.368322951416744,
          34.448467739608404,
          34.528612527800064,
          34.608757315991724,
          34.68890210418338,
          34.76904689237504,
          34.8491916805667,
          34.92933646875835,
          35.00948125695001,
          35.08962604514167,
          35.16977083333333
         ],
         "xaxis": "x2",
         "y": [
          18.956361349081675,
          19.036357620571003,
          19.11635389206033,
          19.19635016354966,
          19.276346435038988,
          19.356342706528316,
          19.436338978017645,
          19.516335249506973,
          19.5963315209963,
          19.67632779248563,
          19.756324063974958,
          19.836320335464286,
          19.916316606953618,
          19.996312878442943,
          20.076309149932275,
          20.1563054214216,
          20.23630169291093,
          20.316297964400256,
          20.396294235889588,
          20.476290507378913,
          20.556286778868245,
          20.63628305035757,
          20.7162793218469,
          20.79627559333623,
          20.876271864825558,
          20.956268136314886,
          21.036264407804214,
          21.116260679293543,
          21.19625695078287,
          21.2762532222722,
          21.356249493761528,
          21.436245765250856,
          21.516242036740188,
          21.596238308229513,
          21.676234579718844,
          21.75623085120817,
          21.8362271226975,
          21.916223394186826,
          21.996219665676158,
          22.076215937165482,
          22.156212208654814,
          22.23620848014414,
          22.31620475163347,
          22.396201023122796,
          22.476197294612128,
          22.556193566101456,
          22.636189837590784,
          22.716186109080112,
          22.79618238056944,
          22.87617865205877,
          22.956174923548097,
          23.036171195037426,
          23.116167466526754,
          23.196163738016082,
          23.276160009505414,
          23.35615628099474,
          23.436152552484067,
          23.516148823973396,
          23.596145095462727,
          23.676141366952052,
          23.756137638441384,
          23.83613390993071,
          23.91613018142004,
          23.99612645290937,
          24.076122724398697,
          24.156118995888022,
          24.236115267377354,
          24.316111538866682,
          24.39610781035601,
          24.47610408184534,
          24.556100353334667,
          24.636096624823995,
          24.716092896313327,
          24.796089167802652,
          24.87608543929198,
          24.95608171078131,
          25.03607798227064,
          25.116074253759965,
          25.196070525249297,
          25.276066796738622,
          25.356063068227954,
          25.43605933971728,
          25.51605561120661,
          25.596051882695935,
          25.676048154185267,
          25.756044425674595,
          25.836040697163924,
          25.91603696865325,
          25.99603324014258,
          26.07602951163191,
          26.156025783121237,
          26.236022054610565,
          26.316018326099893,
          26.39601459758922,
          26.476010869078554,
          26.55600714056788,
          26.636003412057207,
          26.715999683546535,
          26.795995955035867,
          26.87599222652519,
          26.95598849801452,
          27.035984769503848,
          27.11598104099318,
          27.19597731248251,
          27.275973583971837,
          27.35596985546116,
          27.435966126950493,
          27.51596239843982,
          27.59595866992915,
          27.675954941418475,
          27.755951212907807,
          27.835947484397135,
          27.915943755886463,
          27.99594002737579,
          28.07593629886512,
          28.155932570354448,
          28.23592884184378,
          28.315925113333105,
          28.395921384822433,
          28.47591765631176,
          28.555913927801093,
          28.635910199290418,
          28.715906470779746,
          28.795902742269075,
          28.875899013758406,
          28.955895285247735,
          29.035891556737063,
          29.115887828226388,
          29.19588409971572,
          29.275880371205048,
          29.355876642694376,
          29.4358729141837,
          29.515869185673033,
          29.59586545716236,
          29.675861728651693,
          29.755858000141018,
          29.835854271630346,
          29.915850543119674,
          29.995846814609006,
          30.07584308609833,
          30.15583935758766,
          30.235835629076988,
          30.31583190056632,
          30.395828172055644,
          30.475824443544976,
          30.5558207150343,
          30.635816986523633,
          30.71581325801296,
          30.79580952950229,
          30.875805800991614,
          30.955802072480946,
          31.035798343970274,
          31.115794615459603,
          31.195790886948927,
          31.27578715843826,
          31.355783429927587,
          31.43577970141692,
          31.515775972906244,
          31.595772244395572,
          31.6757685158849,
          31.755764787374233,
          31.835761058863557,
          31.915757330352886,
          31.995753601842214,
          32.075749873331546,
          32.15574614482088,
          32.23574241631021,
          32.31573868779953,
          32.39573495928886,
          32.475731230778194,
          32.555727502267516,
          32.635723773756844,
          32.71572004524617,
          32.79571631673551,
          32.875712588224836,
          32.95570885971416,
          33.035705131203486,
          33.11570140269282,
          33.19569767418215,
          33.27569394567147,
          33.3556902171608,
          33.435686488650134,
          33.51568276013946,
          33.59567903162879,
          33.67567530311811,
          33.75567157460745,
          33.835667846096776,
          33.915664117586104,
          33.995660389075425,
          34.07565666056476,
          34.15565293205409,
          34.23564920354342,
          34.315645475032746,
          34.395641746522074,
          34.4756380180114,
          34.55563428950073,
          34.63563056099005,
          34.71562683247939,
          34.795623103968715,
          34.875619375458044
         ],
         "yaxis": "y2"
        },
        {
         "legendgroup": "L_inf",
         "mode": "lines",
         "name": "L_inf deg=3",
         "type": "scatter",
         "x": [
          19.22095798319328,
          19.30110277138494,
          19.381247559576597,
          19.461392347768257,
          19.541537135959913,
          19.621681924151574,
          19.70182671234323,
          19.78197150053489,
          19.862116288726547,
          19.942261076918207,
          20.022405865109864,
          20.102550653301524,
          20.182695441493184,
          20.26284022968484,
          20.3429850178765,
          20.423129806068157,
          20.503274594259818,
          20.583419382451474,
          20.663564170643134,
          20.74370895883479,
          20.82385374702645,
          20.903998535218108,
          20.984143323409768,
          21.064288111601428,
          21.144432899793085,
          21.224577687984745,
          21.3047224761764,
          21.38486726436806,
          21.465012052559718,
          21.54515684075138,
          21.625301628943035,
          21.705446417134695,
          21.785591205326355,
          21.865735993518012,
          21.945880781709672,
          22.02602556990133,
          22.10617035809299,
          22.186315146284645,
          22.266459934476305,
          22.346604722667962,
          22.426749510859622,
          22.50689429905128,
          22.58703908724294,
          22.667183875434596,
          22.747328663626256,
          22.827473451817916,
          22.907618240009572,
          22.987763028201233,
          23.06790781639289,
          23.14805260458455,
          23.228197392776206,
          23.308342180967866,
          23.388486969159523,
          23.468631757351183,
          23.548776545542843,
          23.6289213337345,
          23.709066121926156,
          23.789210910117816,
          23.869355698309477,
          23.949500486501133,
          24.029645274692793,
          24.10979006288445,
          24.18993485107611,
          24.27007963926777,
          24.350224427459427,
          24.430369215651083,
          24.510514003842744,
          24.590658792034404,
          24.67080358022606,
          24.75094836841772,
          24.831093156609377,
          24.911237944801037,
          24.991382732992697,
          25.071527521184354,
          25.15167230937601,
          25.23181709756767,
          25.31196188575933,
          25.392106673950988,
          25.472251462142648,
          25.552396250334304,
          25.632541038525964,
          25.71268582671762,
          25.79283061490928,
          25.872975403100938,
          25.953120191292598,
          26.033264979484258,
          26.113409767675915,
          26.19355455586757,
          26.27369934405923,
          26.35384413225089,
          26.433988920442548,
          26.51413370863421,
          26.594278496825865,
          26.674423285017525,
          26.754568073209185,
          26.834712861400842,
          26.9148576495925,
          26.99500243778416,
          27.07514722597582,
          27.155292014167475,
          27.235436802359132,
          27.315581590550792,
          27.395726378742452,
          27.475871166934112,
          27.55601595512577,
          27.636160743317426,
          27.716305531509086,
          27.796450319700746,
          27.876595107892403,
          27.95673989608406,
          28.03688468427572,
          28.11702947246738,
          28.197174260659036,
          28.277319048850696,
          28.357463837042353,
          28.437608625234013,
          28.517753413425673,
          28.59789820161733,
          28.678042989808986,
          28.758187778000647,
          28.838332566192307,
          28.918477354383963,
          28.99862214257562,
          29.07876693076728,
          29.15891171895894,
          29.2390565071506,
          29.319201295342257,
          29.399346083533914,
          29.479490871725574,
          29.559635659917234,
          29.63978044810889,
          29.719925236300547,
          29.800070024492207,
          29.880214812683867,
          29.960359600875528,
          30.040504389067184,
          30.12064917725884,
          30.2007939654505,
          30.28093875364216,
          30.361083541833818,
          30.441228330025474,
          30.521373118217134,
          30.601517906408795,
          30.68166269460045,
          30.76180748279211,
          30.841952270983768,
          30.922097059175428,
          31.002241847367088,
          31.082386635558745,
          31.1625314237504,
          31.24267621194206,
          31.32282100013372,
          31.40296578832538,
          31.483110576517035,
          31.563255364708695,
          31.643400152900355,
          31.723544941092015,
          31.803689729283672,
          31.88383451747533,
          31.96397930566699,
          32.04412409385865,
          32.1242688820503,
          32.20441367024196,
          32.28455845843362,
          32.36470324662528,
          32.44484803481694,
          32.5249928230086,
          32.605137611200256,
          32.685282399391916,
          32.765427187583576,
          32.84557197577523,
          32.92571676396689,
          33.00586155215855,
          33.08600634035021,
          33.16615112854187,
          33.24629591673352,
          33.32644070492518,
          33.40658549311684,
          33.4867302813085,
          33.566875069500156,
          33.64701985769182,
          33.72716464588348,
          33.80730943407514,
          33.8874542222668,
          33.96759901045845,
          34.04774379865011,
          34.12788858684177,
          34.20803337503343,
          34.28817816322508,
          34.368322951416744,
          34.448467739608404,
          34.528612527800064,
          34.608757315991724,
          34.68890210418338,
          34.76904689237504,
          34.8491916805667,
          34.92933646875835,
          35.00948125695001,
          35.08962604514167,
          35.16977083333333
         ],
         "xaxis": "x2",
         "y": [
          18.95088322496817,
          19.031124859527548,
          19.111363988486065,
          19.191600610809935,
          19.271834725465332,
          19.352066331418463,
          19.43229542763551,
          19.51252201308267,
          19.592746086726137,
          19.672967647532104,
          19.75318669446676,
          19.8334032264963,
          19.91361724258692,
          19.9938287417048,
          20.074037722816147,
          20.154244184887148,
          20.234448126883994,
          20.31464954777288,
          20.39484844652,
          20.475044822091544,
          20.555238673453708,
          20.635429999572676,
          20.715618799414653,
          20.79580507194582,
          20.875988816132377,
          20.956170030940516,
          21.036348715336423,
          21.116524868286305,
          21.196698488756336,
          21.276869575712723,
          21.357038128121655,
          21.43720414494932,
          21.51736762516192,
          21.597528567725632,
          21.677686971606665,
          21.757842835771203,
          21.83799615918544,
          21.91814694081557,
          21.99829517962779,
          22.078440874588278,
          22.158584024663245,
          22.23872462881887,
          22.318862686021355,
          22.398998195236878,
          22.47913115543165,
          22.559261565571855,
          22.639389424623687,
          22.719514731553335,
          22.799637485326993,
          22.87975768491086,
          22.95987532927112,
          23.03999041737397,
          23.1201029481856,
          23.200212920672207,
          23.280320333799985,
          23.360425186535114,
          23.4405274778438,
          23.520627206692232,
          23.600724372046603,
          23.6808189728731,
          23.760911008137924,
          23.841000476807263,
          23.92108737784731,
          24.001171710224256,
          24.081253472904297,
          24.16133266485362,
          24.241409285038433,
          24.32148333242491,
          24.401554805979256,
          24.48162370466765,
          24.561690027456297,
          24.64175377331139,
          24.721814941199117,
          24.801873530085672,
          24.88192953893724,
          24.96198296672003,
          25.042033812400224,
          25.122082074944004,
          25.20212775331759,
          25.28217084648715,
          25.36221135341889,
          25.442249273079,
          25.522284604433665,
          25.602317346449087,
          25.682347498091456,
          25.762375058326967,
          25.84240002612181,
          25.922422400442166,
          26.002442180254253,
          26.08245936452424,
          26.16247395221833,
          26.24248594230272,
          26.322495333743596,
          26.402502125507155,
          26.482506316559583,
          26.56250790586708,
          26.642506892395833,
          26.722503275112036,
          26.802497052981884,
          26.882488224971564,
          26.96247679004728,
          27.04246274717521,
          27.12244609532156,
          27.202426833452517,
          27.28240496053427,
          27.362380475533012,
          27.442353377414943,
          27.522323665146253,
          27.602291337693124,
          27.682256394021763,
          27.762218833098363,
          27.842178653889107,
          27.922135855360185,
          28.002090436477808,
          28.082042396208145,
          28.16199173351741,
          28.241938447371783,
          28.32188253673746,
          28.401824000580625,
          28.481762837867485,
          28.561699047564233,
          28.641632628637044,
          28.721563580052127,
          28.801491900775673,
          28.88141758977387,
          28.96134064601291,
          29.04126106845899,
          29.12117885607829,
          29.20109400783703,
          29.281006522701375,
          29.360916399637528,
          29.44082363761168,
          29.520728235590028,
          29.60063019253876,
          29.680529507424076,
          29.76042617921216,
          29.840320206869208,
          29.92021158936141,
          30.000100325654966,
          30.079986414716057,
          30.159869855510888,
          30.239750647005643,
          30.319628788166522,
          30.39950427795971,
          30.479377115351404,
          30.559247299307792,
          30.63911482879508,
          30.718979702779443,
          30.798841920227083,
          30.87870148010419,
          30.958558381376964,
          31.038412623011588,
          31.118264203974253,
          31.198113123231163,
          31.277959379748506,
          31.357802972492465,
          31.43764390042925,
          31.517482162525038,
          31.597317757746033,
          31.677150685058418,
          31.756980943428392,
          31.83680853182214,
          31.91663344920587,
          31.996455694545762,
          32.07627526680801,
          32.15609216495881,
          32.235906387964356,
          32.315717934790825,
          32.39552680440444,
          32.47533299577137,
          32.55513650785781,
          32.63493733962996,
          32.71473549005401,
          32.794530958096146,
          32.874323742722574,
          32.954113842899474,
          33.033901257593044,
          33.11368598576948,
          33.19346802639497,
          33.27324737843569,
          33.353024040857875,
          33.432798012627686,
          33.51256929271132,
          33.59233788007497,
          33.67210377368483,
          33.751866972507095,
          33.831627475507965,
          33.91138528165361,
          33.991140389910235,
          34.07089279924405,
          34.15064250862122,
          34.23038951700795,
          34.31013382337044,
          34.38987542667486,
          34.46961432588743,
          34.549350519974325,
          34.62908400790174,
          34.70881478863587,
          34.78854286114291,
          34.868268224389055
         ],
         "yaxis": "y2"
        },
        {
         "legendgroup": "L2_res_1",
         "name": "L2 deg=1 (остатки)",
         "offsetgroup": "L2_1",
         "type": "bar",
         "x": [
          "19.0",
          "23.0",
          "27.0",
          "31.0",
          "35.0"
         ],
         "xaxis": "x3",
         "y": [
          -0.004869619805031533,
          0.003827674896793809,
          0.00715379402212335,
          0.0028425859630338834,
          -0.006686826371414156
         ],
         "yaxis": "y3"
        },
        {
         "legendgroup": "Linf_res_1",
         "name": "L_inf deg=1 (остатки)",
         "offsetgroup": "Linf_1",
         "type": "bar",
         "x": [
          "19.0",
          "23.0",
          "27.0",
          "31.0",
          "35.0"
         ],
         "xaxis": "x4",
         "y": [
          -0.0052588280732734916,
          0.0034432637123167353,
          0.00677417496485333,
          0.0024677597138946794,
          -0.007056875458040679
         ],
         "yaxis": "y4"
        },
        {
         "legendgroup": "L2_res_2",
         "name": "L2 deg=2 (остатки)",
         "offsetgroup": "L2_2",
         "type": "bar",
         "x": [
          "19.0",
          "23.0",
          "27.0",
          "31.0",
          "35.0"
         ],
         "xaxis": "x3",
         "y": [
          6.483236847287799e-05,
          -0.00024180433370091237,
          0.000391996426696295,
          -0.0003115177281571846,
          2.5010218465126854e-05
         ],
         "yaxis": "y3"
        },
        {
         "legendgroup": "Linf_res_2",
         "name": "L_inf deg=2 (остатки)",
         "offsetgroup": "Linf_2",
         "type": "bar",
         "x": [
          "19.0",
          "23.0",
          "27.0",
          "31.0",
          "35.0"
         ],
         "xaxis": "x4",
         "y": [
          0.00023230890448289188,
          -0.0002501850522804716,
          0.0002992494036568871,
          -0.00039736154096914333,
          3.6888554433289755e-05
         ],
         "yaxis": "y4"
        },
        {
         "legendgroup": "L2_res_3",
         "name": "L2 deg=3 (остатки)",
         "offsetgroup": "L2_3",
         "type": "bar",
         "x": [
          "19.0",
          "23.0",
          "27.0",
          "31.0",
          "35.0"
         ],
         "xaxis": "x3",
         "y": [
          3.6281531073711903e-05,
          -0.00016854694757739708,
          0.0003620475477994489,
          -0.00042629814081607265,
          6.582852157777097e-05
         ],
         "yaxis": "y3"
        },
        {
         "legendgroup": "Linf_res_3",
         "name": "L_inf deg=3 (остатки)",
         "offsetgroup": "Linf_3",
         "type": "bar",
         "x": [
          "19.0",
          "23.0",
          "27.0",
          "31.0",
          "35.0"
         ],
         "xaxis": "x4",
         "y": [
          0.00021929604023185334,
          -0.00023617084929483667,
          0.0002824868450268525,
          -0.00037510319569378225,
          0.0002942756109476363
         ],
         "yaxis": "y4"
        }
       ],
       "layout": {
        "annotations": [
         {
          "font": {
           "size": 16
          },
          "showarrow": false,
          "text": "T10: аппроксимация L2",
          "x": 0.22,
          "xanchor": "center",
          "xref": "paper",
          "y": 1,
          "yanchor": "bottom",
          "yref": "paper"
         },
         {
          "font": {
           "size": 16
          },
          "showarrow": false,
          "text": "T10: аппроксимация L_inf",
          "x": 0.78,
          "xanchor": "center",
          "xref": "paper",
          "y": 1,
          "yanchor": "bottom",
          "yref": "paper"
         },
         {
          "font": {
           "size": 16
          },
          "showarrow": false,
          "text": "Остатки L2 (Y - Y_hat)",
          "x": 0.22,
          "xanchor": "center",
          "xref": "paper",
          "y": 0.35200000000000004,
          "yanchor": "bottom",
          "yref": "paper"
         },
         {
          "font": {
           "size": 16
          },
          "showarrow": false,
          "text": "Остатки L_inf (Y - Y_hat)",
          "x": 0.78,
          "xanchor": "center",
          "xref": "paper",
          "y": 0.35200000000000004,
          "yanchor": "bottom",
          "yref": "paper"
         }
        ],
        "barmode": "group",
        "height": 740,
        "legend": {
         "orientation": "h",
         "x": 0.5,
         "xanchor": "center",
         "y": 1.05,
         "yanchor": "bottom"
        },
        "margin": {
         "b": 90,
         "l": 60,
         "r": 40,
         "t": 100
        },
        "template": {
         "data": {
          "bar": [
           {
            "error_x": {
             "color": "#2a3f5f"
            },
            "error_y": {
             "color": "#2a3f5f"
            },
            "marker": {
             "line": {
              "color": "#E5ECF6",
              "width": 0.5
             },
             "pattern": {
              "fillmode": "overlay",
              "size": 10,
              "solidity": 0.2
             }
            },
            "type": "bar"
           }
          ],
          "barpolar": [
           {
            "marker": {
             "line": {
              "color": "#E5ECF6",
              "width": 0.5
             },
             "pattern": {
              "fillmode": "overlay",
              "size": 10,
              "solidity": 0.2
             }
            },
            "type": "barpolar"
           }
          ],
          "carpet": [
           {
            "aaxis": {
             "endlinecolor": "#2a3f5f",
             "gridcolor": "white",
             "linecolor": "white",
             "minorgridcolor": "white",
             "startlinecolor": "#2a3f5f"
            },
            "baxis": {
             "endlinecolor": "#2a3f5f",
             "gridcolor": "white",
             "linecolor": "white",
             "minorgridcolor": "white",
             "startlinecolor": "#2a3f5f"
            },
            "type": "carpet"
           }
          ],
          "choropleth": [
           {
            "colorbar": {
             "outlinewidth": 0,
             "ticks": ""
            },
            "type": "choropleth"
           }
          ],
          "contour": [
           {
            "colorbar": {
             "outlinewidth": 0,
             "ticks": ""
            },
            "colorscale": [
             [
              0,
              "#0d0887"
             ],
             [
              0.1111111111111111,
              "#46039f"
             ],
             [
              0.2222222222222222,
              "#7201a8"
             ],
             [
              0.3333333333333333,
              "#9c179e"
             ],
             [
              0.4444444444444444,
              "#bd3786"
             ],
             [
              0.5555555555555556,
              "#d8576b"
             ],
             [
              0.6666666666666666,
              "#ed7953"
             ],
             [
              0.7777777777777778,
              "#fb9f3a"
             ],
             [
              0.8888888888888888,
              "#fdca26"
             ],
             [
              1,
              "#f0f921"
             ]
            ],
            "type": "contour"
           }
          ],
          "contourcarpet": [
           {
            "colorbar": {
             "outlinewidth": 0,
             "ticks": ""
            },
            "type": "contourcarpet"
           }
          ],
          "heatmap": [
           {
            "colorbar": {
             "outlinewidth": 0,
             "ticks": ""
            },
            "colorscale": [
             [
              0,
              "#0d0887"
             ],
             [
              0.1111111111111111,
              "#46039f"
             ],
             [
              0.2222222222222222,
              "#7201a8"
             ],
             [
              0.3333333333333333,
              "#9c179e"
             ],
             [
              0.4444444444444444,
              "#bd3786"
             ],
             [
              0.5555555555555556,
              "#d8576b"
             ],
             [
              0.6666666666666666,
              "#ed7953"
             ],
             [
              0.7777777777777778,
              "#fb9f3a"
             ],
             [
              0.8888888888888888,
              "#fdca26"
             ],
             [
              1,
              "#f0f921"
             ]
            ],
            "type": "heatmap"
           }
          ],
          "heatmapgl": [
           {
            "colorbar": {
             "outlinewidth": 0,
             "ticks": ""
            },
            "colorscale": [
             [
              0,
              "#0d0887"
             ],
             [
              0.1111111111111111,
              "#46039f"
             ],
             [
              0.2222222222222222,
              "#7201a8"
             ],
             [
              0.3333333333333333,
              "#9c179e"
             ],
             [
              0.4444444444444444,
              "#bd3786"
             ],
             [
              0.5555555555555556,
              "#d8576b"
             ],
             [
              0.6666666666666666,
              "#ed7953"
             ],
             [
              0.7777777777777778,
              "#fb9f3a"
             ],
             [
              0.8888888888888888,
              "#fdca26"
             ],
             [
              1,
              "#f0f921"
             ]
            ],
            "type": "heatmapgl"
           }
          ],
          "histogram": [
           {
            "marker": {
             "pattern": {
              "fillmode": "overlay",
              "size": 10,
              "solidity": 0.2
             }
            },
            "type": "histogram"
           }
          ],
          "histogram2d": [
           {
            "colorbar": {
             "outlinewidth": 0,
             "ticks": ""
            },
            "colorscale": [
             [
              0,
              "#0d0887"
             ],
             [
              0.1111111111111111,
              "#46039f"
             ],
             [
              0.2222222222222222,
              "#7201a8"
             ],
             [
              0.3333333333333333,
              "#9c179e"
             ],
             [
              0.4444444444444444,
              "#bd3786"
             ],
             [
              0.5555555555555556,
              "#d8576b"
             ],
             [
              0.6666666666666666,
              "#ed7953"
             ],
             [
              0.7777777777777778,
              "#fb9f3a"
             ],
             [
              0.8888888888888888,
              "#fdca26"
             ],
             [
              1,
              "#f0f921"
             ]
            ],
            "type": "histogram2d"
           }
          ],
          "histogram2dcontour": [
           {
            "colorbar": {
             "outlinewidth": 0,
             "ticks": ""
            },
            "colorscale": [
             [
              0,
              "#0d0887"
             ],
             [
              0.1111111111111111,
              "#46039f"
             ],
             [
              0.2222222222222222,
              "#7201a8"
             ],
             [
              0.3333333333333333,
              "#9c179e"
             ],
             [
              0.4444444444444444,
              "#bd3786"
             ],
             [
              0.5555555555555556,
              "#d8576b"
             ],
             [
              0.6666666666666666,
              "#ed7953"
             ],
             [
              0.7777777777777778,
              "#fb9f3a"
             ],
             [
              0.8888888888888888,
              "#fdca26"
             ],
             [
              1,
              "#f0f921"
             ]
            ],
            "type": "histogram2dcontour"
           }
          ],
          "mesh3d": [
           {
            "colorbar": {
             "outlinewidth": 0,
             "ticks": ""
            },
            "type": "mesh3d"
           }
          ],
          "parcoords": [
           {
            "line": {
             "colorbar": {
              "outlinewidth": 0,
              "ticks": ""
             }
            },
            "type": "parcoords"
           }
          ],
          "pie": [
           {
            "automargin": true,
            "type": "pie"
           }
          ],
          "scatter": [
           {
            "fillpattern": {
             "fillmode": "overlay",
             "size": 10,
             "solidity": 0.2
            },
            "type": "scatter"
           }
          ],
          "scatter3d": [
           {
            "line": {
             "colorbar": {
              "outlinewidth": 0,
              "ticks": ""
             }
            },
            "marker": {
             "colorbar": {
              "outlinewidth": 0,
              "ticks": ""
             }
            },
            "type": "scatter3d"
           }
          ],
          "scattercarpet": [
           {
            "marker": {
             "colorbar": {
              "outlinewidth": 0,
              "ticks": ""
             }
            },
            "type": "scattercarpet"
           }
          ],
          "scattergeo": [
           {
            "marker": {
             "colorbar": {
              "outlinewidth": 0,
              "ticks": ""
             }
            },
            "type": "scattergeo"
           }
          ],
          "scattergl": [
           {
            "marker": {
             "colorbar": {
              "outlinewidth": 0,
              "ticks": ""
             }
            },
            "type": "scattergl"
           }
          ],
          "scattermapbox": [
           {
            "marker": {
             "colorbar": {
              "outlinewidth": 0,
              "ticks": ""
             }
            },
            "type": "scattermapbox"
           }
          ],
          "scatterpolar": [
           {
            "marker": {
             "colorbar": {
              "outlinewidth": 0,
              "ticks": ""
             }
            },
            "type": "scatterpolar"
           }
          ],
          "scatterpolargl": [
           {
            "marker": {
             "colorbar": {
              "outlinewidth": 0,
              "ticks": ""
             }
            },
            "type": "scatterpolargl"
           }
          ],
          "scatterternary": [
           {
            "marker": {
             "colorbar": {
              "outlinewidth": 0,
              "ticks": ""
             }
            },
            "type": "scatterternary"
           }
          ],
          "surface": [
           {
            "colorbar": {
             "outlinewidth": 0,
             "ticks": ""
            },
            "colorscale": [
             [
              0,
              "#0d0887"
             ],
             [
              0.1111111111111111,
              "#46039f"
             ],
             [
              0.2222222222222222,
              "#7201a8"
             ],
             [
              0.3333333333333333,
              "#9c179e"
             ],
             [
              0.4444444444444444,
              "#bd3786"
             ],
             [
              0.5555555555555556,
              "#d8576b"
             ],
             [
              0.6666666666666666,
              "#ed7953"
             ],
             [
              0.7777777777777778,
              "#fb9f3a"
             ],
             [
              0.8888888888888888,
              "#fdca26"
             ],
             [
              1,
              "#f0f921"
             ]
            ],
            "type": "surface"
           }
          ],
          "table": [
           {
            "cells": {
             "fill": {
              "color": "#EBF0F8"
             },
             "line": {
              "color": "white"
             }
            },
            "header": {
             "fill": {
              "color": "#C8D4E3"
             },
             "line": {
              "color": "white"
             }
            },
            "type": "table"
           }
          ]
         },
         "layout": {
          "annotationdefaults": {
           "arrowcolor": "#2a3f5f",
           "arrowhead": 0,
           "arrowwidth": 1
          },
          "autotypenumbers": "strict",
          "coloraxis": {
           "colorbar": {
            "outlinewidth": 0,
            "ticks": ""
           }
          },
          "colorscale": {
           "diverging": [
            [
             0,
             "#8e0152"
            ],
            [
             0.1,
             "#c51b7d"
            ],
            [
             0.2,
             "#de77ae"
            ],
            [
             0.3,
             "#f1b6da"
            ],
            [
             0.4,
             "#fde0ef"
            ],
            [
             0.5,
             "#f7f7f7"
            ],
            [
             0.6,
             "#e6f5d0"
            ],
            [
             0.7,
             "#b8e186"
            ],
            [
             0.8,
             "#7fbc41"
            ],
            [
             0.9,
             "#4d9221"
            ],
            [
             1,
             "#276419"
            ]
           ],
           "sequential": [
            [
             0,
             "#0d0887"
            ],
            [
             0.1111111111111111,
             "#46039f"
            ],
            [
             0.2222222222222222,
             "#7201a8"
            ],
            [
             0.3333333333333333,
             "#9c179e"
            ],
            [
             0.4444444444444444,
             "#bd3786"
            ],
            [
             0.5555555555555556,
             "#d8576b"
            ],
            [
             0.6666666666666666,
             "#ed7953"
            ],
            [
             0.7777777777777778,
             "#fb9f3a"
            ],
            [
             0.8888888888888888,
             "#fdca26"
            ],
            [
             1,
             "#f0f921"
            ]
           ],
           "sequentialminus": [
            [
             0,
             "#0d0887"
            ],
            [
             0.1111111111111111,
             "#46039f"
            ],
            [
             0.2222222222222222,
             "#7201a8"
            ],
            [
             0.3333333333333333,
             "#9c179e"
            ],
            [
             0.4444444444444444,
             "#bd3786"
            ],
            [
             0.5555555555555556,
             "#d8576b"
            ],
            [
             0.6666666666666666,
             "#ed7953"
            ],
            [
             0.7777777777777778,
             "#fb9f3a"
            ],
            [
             0.8888888888888888,
             "#fdca26"
            ],
            [
             1,
             "#f0f921"
            ]
           ]
          },
          "colorway": [
           "#636efa",
           "#EF553B",
           "#00cc96",
           "#ab63fa",
           "#FFA15A",
           "#19d3f3",
           "#FF6692",
           "#B6E880",
           "#FF97FF",
           "#FECB52"
          ],
          "font": {
           "color": "#2a3f5f"
          },
          "geo": {
           "bgcolor": "white",
           "lakecolor": "white",
           "landcolor": "#E5ECF6",
           "showlakes": true,
           "showland": true,
           "subunitcolor": "white"
          },
          "hoverlabel": {
           "align": "left"
          },
          "hovermode": "closest",
          "mapbox": {
           "style": "light"
          },
          "paper_bgcolor": "white",
          "plot_bgcolor": "#E5ECF6",
          "polar": {
           "angularaxis": {
            "gridcolor": "white",
            "linecolor": "white",
            "ticks": ""
           },
           "bgcolor": "#E5ECF6",
           "radialaxis": {
            "gridcolor": "white",
            "linecolor": "white",
            "ticks": ""
           }
          },
          "scene": {
           "xaxis": {
            "backgroundcolor": "#E5ECF6",
            "gridcolor": "white",
            "gridwidth": 2,
            "linecolor": "white",
            "showbackground": true,
            "ticks": "",
            "zerolinecolor": "white"
           },
           "yaxis": {
            "backgroundcolor": "#E5ECF6",
            "gridcolor": "white",
            "gridwidth": 2,
            "linecolor": "white",
            "showbackground": true,
            "ticks": "",
            "zerolinecolor": "white"
           },
           "zaxis": {
            "backgroundcolor": "#E5ECF6",
            "gridcolor": "white",
            "gridwidth": 2,
            "linecolor": "white",
            "showbackground": true,
            "ticks": "",
            "zerolinecolor": "white"
           }
          },
          "shapedefaults": {
           "line": {
            "color": "#2a3f5f"
           }
          },
          "ternary": {
           "aaxis": {
            "gridcolor": "white",
            "linecolor": "white",
            "ticks": ""
           },
           "baxis": {
            "gridcolor": "white",
            "linecolor": "white",
            "ticks": ""
           },
           "bgcolor": "#E5ECF6",
           "caxis": {
            "gridcolor": "white",
            "linecolor": "white",
            "ticks": ""
           }
          },
          "title": {
           "x": 0.05
          },
          "xaxis": {
           "automargin": true,
           "gridcolor": "white",
           "linecolor": "white",
           "ticks": "",
           "title": {
            "standoff": 15
           },
           "zerolinecolor": "white",
           "zerolinewidth": 2
          },
          "yaxis": {
           "automargin": true,
           "gridcolor": "white",
           "linecolor": "white",
           "ticks": "",
           "title": {
            "standoff": 15
           },
           "zerolinecolor": "white",
           "zerolinewidth": 2
          }
         }
        },
        "width": 1120,
        "xaxis": {
         "anchor": "y",
         "domain": [
          0,
          0.44
         ],
         "gridcolor": "rgba(0,0,0,0.15)",
         "showgrid": true,
         "title": {
          "text": "T10 (X)"
         }
        },
        "xaxis2": {
         "anchor": "y2",
         "domain": [
          0.56,
          1
         ],
         "gridcolor": "rgba(0,0,0,0.15)",
         "showgrid": true,
         "title": {
          "text": "T10 (X)"
         }
        },
        "xaxis3": {
         "anchor": "y3",
         "categoryarray": [
          "19.0",
          "23.0",
          "27.0",
          "31.0",
          "35.0"
         ],
         "categoryorder": "array",
         "domain": [
          0,
          0.44
         ],
         "gridcolor": "rgba(0,0,0,0.12)",
         "showgrid": true,
         "title": {
          "text": "Полочка"
         },
         "type": "category"
        },
        "xaxis4": {
         "anchor": "y4",
         "categoryarray": [
          "19.0",
          "23.0",
          "27.0",
          "31.0",
          "35.0"
         ],
         "categoryorder": "array",
         "domain": [
          0.56,
          1
         ],
         "gridcolor": "rgba(0,0,0,0.12)",
         "showgrid": true,
         "title": {
          "text": "Полочка"
         },
         "type": "category"
        },
        "yaxis": {
         "anchor": "x",
         "domain": [
          0.47200000000000003,
          1
         ],
         "gridcolor": "rgba(0,0,0,0.15)",
         "showgrid": true,
         "title": {
          "text": "T8 (Y)"
         }
        },
        "yaxis2": {
         "anchor": "x2",
         "domain": [
          0.47200000000000003,
          1
         ],
         "gridcolor": "rgba(0,0,0,0.15)",
         "showgrid": true,
         "title": {
          "text": "T8 (Y)"
         }
        },
        "yaxis3": {
         "anchor": "x3",
         "domain": [
          0,
          0.35200000000000004
         ],
         "gridcolor": "rgba(0,0,0,0.12)",
         "showgrid": true,
         "title": {
          "text": "°C"
         }
        },
        "yaxis4": {
         "anchor": "x4",
         "domain": [
          0,
          0.35200000000000004
         ],
         "gridcolor": "rgba(0,0,0,0.12)",
         "showgrid": true,
         "title": {
          "text": "°C"
         }
        }
       }
      }
     },
     "metadata": {},
     "output_type": "display_data"
    },
    {
     "name": "stdout",
     "output_type": "stream",
     "text": [
      "Сенсор T11: 5 точек; степени 1..3\n",
      "L2 deg=1: Y = 0.9982978·X - 0.065558619\n",
      "    coeffs (старшая→младшая): [0.9982978, -0.065558619] | RMSE=0.00399021, MAE=0.0033894, Max|err|=0.00659124\n",
      "L_inf deg=1: Y = 0.99838551·X - 0.066918517\n",
      "    coeffs (старшая→младшая): [0.99838551, -0.066918517] | RMSE=0.0040191, MAE=0.00356401, Max|err|=0.00558007\n",
      "L2 deg=2: Y = -0.00014354106·X^2 + 1.0061495·X - 0.16768682\n",
      "    coeffs (старшая→младшая): [-0.00014354106, 1.0061495, -0.16768682] | RMSE=0.00143886, MAE=0.000975662, Max|err|=0.00288491\n",
      "L_inf deg=2: Y = -0.00013616863·X^2 + 1.0056069·X - 0.15865848\n",
      "    coeffs (старшая→младшая): [-0.00013616863, 1.0056069, -0.15865848] | RMSE=0.00151843, MAE=0.00143149, Max|err|=0.00217482\n",
      "L2 deg=3: Y = 4.8176093e-06·X^3 - 0.00053158534·X^2 + 1.0162929·X - 0.25371114\n",
      "    coeffs (старшая→младшая): [4.8176093e-06, -0.00053158534, 1.0162929, -0.25371114] | RMSE=0.0011717, MAE=0.000933485, Max|err|=0.00191682\n",
      "L_inf deg=3: Y = 6.301231e-06·X^3 - 0.00067088579·X^2 + 1.0204821·X - 0.29413542\n",
      "    coeffs (старшая→младшая): [6.301231e-06, -0.00067088579, 1.0204821, -0.29413542] | RMSE=0.00125254, MAE=0.00122922, Max|err|=0.00168362\n"
     ]
    },
    {
     "data": {
      "application/vnd.plotly.v1+json": {
       "config": {
        "plotlyServerURL": "https://plot.ly"
       },
       "data": [
        {
         "error_x": {
          "array": [
           0.000915596785220704,
           0.0007600918801190583,
           0.0010092670045602136,
           0.0011265777907081126,
           0.0009836482283454057
          ],
          "type": "data",
          "visible": true
         },
         "error_y": {
          "array": [
           0.0007717083083973219,
           0.0007354376478136475,
           0.0008546634240065006,
           0.0011512141804072185,
           0.00068953752939639
          ],
          "type": "data",
          "visible": true
         },
         "legendgroup": "L2",
         "marker": {
          "size": 9
         },
         "mode": "markers",
         "name": "Точки",
         "type": "scatter",
         "x": [
          19.053984115523466,
          23.048050943961638,
          27.03508946772367,
          31.026727472527472,
          35.0027037037037
         ],
         "xaxis": "x",
         "y": [
          18.951264620938627,
          22.945678154030567,
          26.93010305775765,
          30.90877362637363,
          34.87477160493827
         ],
         "yaxis": "y"
        },
        {
         "legendgroup": "L2",
         "mode": "lines",
         "name": "L2 deg=1",
         "type": "scatter",
         "x": [
          19.053984115523466,
          19.13412843506206,
          19.214272754600653,
          19.294417074139247,
          19.374561393677844,
          19.454705713216438,
          19.53485003275503,
          19.614994352293625,
          19.69513867183222,
          19.775282991370812,
          19.85542731090941,
          19.935571630448003,
          20.015715949986596,
          20.09586026952519,
          20.176004589063783,
          20.256148908602377,
          20.336293228140974,
          20.416437547679568,
          20.49658186721816,
          20.576726186756755,
          20.65687050629535,
          20.737014825833942,
          20.817159145372536,
          20.897303464911133,
          20.977447784449726,
          21.05759210398832,
          21.137736423526913,
          21.217880743065507,
          21.298025062604104,
          21.378169382142698,
          21.45831370168129,
          21.538458021219885,
          21.61860234075848,
          21.698746660297072,
          21.778890979835666,
          21.859035299374263,
          21.939179618912856,
          22.01932393845145,
          22.099468257990043,
          22.179612577528637,
          22.25975689706723,
          22.339901216605828,
          22.42004553614442,
          22.500189855683015,
          22.58033417522161,
          22.660478494760202,
          22.740622814298796,
          22.820767133837393,
          22.900911453375986,
          22.98105577291458,
          23.061200092453173,
          23.141344411991767,
          23.22148873153036,
          23.301633051068954,
          23.38177737060755,
          23.461921690146145,
          23.54206600968474,
          23.622210329223332,
          23.702354648761926,
          23.782498968300523,
          23.862643287839113,
          23.94278760737771,
          24.022931926916304,
          24.103076246454897,
          24.18322056599349,
          24.263364885532084,
          24.34350920507068,
          24.423653524609275,
          24.50379784414787,
          24.583942163686462,
          24.664086483225056,
          24.74423080276365,
          24.824375122302243,
          24.90451944184084,
          24.984663761379434,
          25.064808080918027,
          25.14495240045662,
          25.225096719995214,
          25.30524103953381,
          25.385385359072405,
          25.465529678611,
          25.545673998149592,
          25.625818317688186,
          25.70596263722678,
          25.786106956765373,
          25.86625127630397,
          25.946395595842564,
          26.026539915381157,
          26.10668423491975,
          26.186828554458344,
          26.26697287399694,
          26.34711719353553,
          26.42726151307413,
          26.507405832612722,
          26.587550152151316,
          26.66769447168991,
          26.747838791228503,
          26.8279831107671,
          26.908127430305694,
          26.988271749844287,
          27.06841606938288,
          27.148560388921474,
          27.22870470846007,
          27.30884902799866,
          27.38899334753726,
          27.469137667075852,
          27.549281986614446,
          27.62942630615304,
          27.709570625691633,
          27.78971494523023,
          27.86985926476882,
          27.950003584307417,
          28.03014790384601,
          28.110292223384604,
          28.1904365429232,
          28.27058086246179,
          28.35072518200039,
          28.43086950153898,
          28.511013821077576,
          28.59115814061617,
          28.671302460154763,
          28.75144677969336,
          28.83159109923195,
          28.911735418770547,
          28.99187973830914,
          29.072024057847734,
          29.152168377386328,
          29.23231269692492,
          29.31245701646352,
          29.39260133600211,
          29.472745655540706,
          29.5528899750793,
          29.633034294617893,
          29.71317861415649,
          29.79332293369508,
          29.873467253233677,
          29.95361157277227,
          30.033755892310865,
          30.113900211849458,
          30.19404453138805,
          30.27418885092665,
          30.35433317046524,
          30.434477490003836,
          30.51462180954243,
          30.594766129081023,
          30.674910448619617,
          30.75505476815821,
          30.835199087696807,
          30.915343407235397,
          30.995487726773995,
          31.075632046312588,
          31.15577636585118,
          31.23592068538978,
          31.31606500492837,
          31.396209324466966,
          31.47635364400556,
          31.556497963544153,
          31.636642283082747,
          31.71678660262134,
          31.796930922159937,
          31.877075241698527,
          31.957219561237125,
          32.037363880775715,
          32.11750820031431,
          32.19765251985291,
          32.2777968393915,
          32.357941158930096,
          32.438085478468686,
          32.51822979800728,
          32.59837411754587,
          32.67851843708447,
          32.75866275662307,
          32.83880707616166,
          32.918951395700255,
          32.99909571523885,
          33.07924003477744,
          33.15938435431603,
          33.23952867385463,
          33.319672993393226,
          33.399817312931816,
          33.47996163247041,
          33.56010595200901,
          33.6402502715476,
          33.7203945910862,
          33.80053891062479,
          33.880683230163385,
          33.960827549701975,
          34.04097186924057,
          34.12111618877917,
          34.20126050831776,
          34.281404827856356,
          34.361549147394946,
          34.44169346693354,
          34.52183778647213,
          34.60198210601073,
          34.68212642554933,
          34.76227074508792,
          34.842415064626515,
          34.922559384165105,
          35.0027037037037
         ],
         "xaxis": "x",
         "y": [
          18.955991875472744,
          19.03599977364609,
          19.11600767181944,
          19.196015569992785,
          19.276023468166137,
          19.356031366339483,
          19.436039264512832,
          19.516047162686178,
          19.596055060859523,
          19.676062959032873,
          19.756070857206222,
          19.83607875537957,
          19.916086653552917,
          19.996094551726262,
          20.07610244989961,
          20.156110348072957,
          20.23611824624631,
          20.316126144419655,
          20.396134042593,
          20.47614194076635,
          20.556149838939696,
          20.636157737113045,
          20.71616563528639,
          20.796173533459744,
          20.87618143163309,
          20.956189329806435,
          21.036197227979784,
          21.11620512615313,
          21.196213024326482,
          21.276220922499828,
          21.356228820673174,
          21.436236718846523,
          21.51624461701987,
          21.596252515193218,
          21.676260413366563,
          21.756268311539916,
          21.83627620971326,
          21.916284107886607,
          21.996292006059956,
          22.076299904233302,
          22.15630780240665,
          22.23631570058,
          22.316323598753346,
          22.396331496926695,
          22.47633939510004,
          22.55634729327339,
          22.636355191446736,
          22.716363089620085,
          22.796370987793434,
          22.87637888596678,
          22.95638678414013,
          23.036394682313475,
          23.116402580486824,
          23.19641047866017,
          23.27641837683352,
          23.356426275006868,
          23.436434173180213,
          23.516442071353563,
          23.59644996952691,
          23.676457867700258,
          23.756465765873603,
          23.836473664046952,
          23.9164815622203,
          23.996489460393647,
          24.076497358566996,
          24.156505256740342,
          24.23651315491369,
          24.31652105308704,
          24.396528951260386,
          24.476536849433735,
          24.55654474760708,
          24.636552645780426,
          24.716560543953776,
          24.796568442127125,
          24.876576340300474,
          24.95658423847382,
          25.03659213664717,
          25.116600034820515,
          25.196607932993864,
          25.276615831167213,
          25.35662372934056,
          25.436631627513908,
          25.516639525687253,
          25.5966474238606,
          25.676655322033948,
          25.756663220207297,
          25.836671118380647,
          25.916679016553992,
          25.996686914727338,
          26.076694812900687,
          26.156702711074036,
          26.236710609247382,
          26.31671850742073,
          26.39672640559408,
          26.476734303767426,
          26.55674220194077,
          26.63675010011412,
          26.71675799828747,
          26.79676589646082,
          26.876773794634165,
          26.95678169280751,
          27.03678959098086,
          27.11679748915421,
          27.196805387327554,
          27.276813285500904,
          27.356821183674253,
          27.4368290818476,
          27.516836980020944,
          27.596844878194293,
          27.676852776367642,
          27.756860674540988,
          27.836868572714337,
          27.916876470887683,
          27.996884369061032,
          28.07689226723438,
          28.156900165407727,
          28.236908063581076,
          28.316915961754418,
          28.39692385992777,
          28.476931758101117,
          28.556939656274466,
          28.636947554447815,
          28.71695545262116,
          28.79696335079451,
          28.876971248967855,
          28.956979147141205,
          29.03698704531455,
          29.1169949434879,
          29.19700284166125,
          29.27701073983459,
          29.357018638007943,
          29.43702653618129,
          29.51703443435464,
          29.597042332527987,
          29.677050230701333,
          29.757058128874682,
          29.837066027048028,
          29.917073925221377,
          29.997081823394723,
          30.077089721568072,
          30.15709761974142,
          30.237105517914763,
          30.317113416088116,
          30.39712131426146,
          30.47712921243481,
          30.557137110608156,
          30.637145008781506,
          30.717152906954855,
          30.797160805128197,
          30.87716870330155,
          30.957176601474895,
          31.037184499648244,
          31.117192397821594,
          31.197200295994936,
          31.27720819416829,
          31.357216092341634,
          31.437223990514983,
          31.51723188868833,
          31.597239786861675,
          31.677247685035027,
          31.75725558320837,
          31.837263481381722,
          31.917271379555064,
          31.997279277728413,
          32.07728717590176,
          32.15729507407511,
          32.23730297224846,
          32.3173108704218,
          32.39731876859515,
          32.4773266667685,
          32.55733456494185,
          32.637342463115196,
          32.71735036128854,
          32.79735825946189,
          32.877366157635244,
          32.957374055808586,
          33.03738195398193,
          33.11738985215528,
          33.197397750328626,
          33.277405648501976,
          33.357413546675325,
          33.437421444848674,
          33.517429343022016,
          33.597437241195365,
          33.677445139368714,
          33.757453037542064,
          33.837460935715406,
          33.917468833888755,
          33.997476732062104,
          34.07748463023545,
          34.1574925284088,
          34.237500426582145,
          34.317508324755494,
          34.397516222928836,
          34.47752412110219,
          34.55753201927554,
          34.63753991744888,
          34.71754781562223,
          34.79755571379558,
          34.87756361196893
         ],
         "yaxis": "y"
        },
        {
         "legendgroup": "L2",
         "mode": "lines",
         "name": "L2 deg=3",
         "type": "scatter",
         "x": [
          19.053984115523466,
          19.13412843506206,
          19.214272754600653,
          19.294417074139247,
          19.374561393677844,
          19.454705713216438,
          19.53485003275503,
          19.614994352293625,
          19.69513867183222,
          19.775282991370812,
          19.85542731090941,
          19.935571630448003,
          20.015715949986596,
          20.09586026952519,
          20.176004589063783,
          20.256148908602377,
          20.336293228140974,
          20.416437547679568,
          20.49658186721816,
          20.576726186756755,
          20.65687050629535,
          20.737014825833942,
          20.817159145372536,
          20.897303464911133,
          20.977447784449726,
          21.05759210398832,
          21.137736423526913,
          21.217880743065507,
          21.298025062604104,
          21.378169382142698,
          21.45831370168129,
          21.538458021219885,
          21.61860234075848,
          21.698746660297072,
          21.778890979835666,
          21.859035299374263,
          21.939179618912856,
          22.01932393845145,
          22.099468257990043,
          22.179612577528637,
          22.25975689706723,
          22.339901216605828,
          22.42004553614442,
          22.500189855683015,
          22.58033417522161,
          22.660478494760202,
          22.740622814298796,
          22.820767133837393,
          22.900911453375986,
          22.98105577291458,
          23.061200092453173,
          23.141344411991767,
          23.22148873153036,
          23.301633051068954,
          23.38177737060755,
          23.461921690146145,
          23.54206600968474,
          23.622210329223332,
          23.702354648761926,
          23.782498968300523,
          23.862643287839113,
          23.94278760737771,
          24.022931926916304,
          24.103076246454897,
          24.18322056599349,
          24.263364885532084,
          24.34350920507068,
          24.423653524609275,
          24.50379784414787,
          24.583942163686462,
          24.664086483225056,
          24.74423080276365,
          24.824375122302243,
          24.90451944184084,
          24.984663761379434,
          25.064808080918027,
          25.14495240045662,
          25.225096719995214,
          25.30524103953381,
          25.385385359072405,
          25.465529678611,
          25.545673998149592,
          25.625818317688186,
          25.70596263722678,
          25.786106956765373,
          25.86625127630397,
          25.946395595842564,
          26.026539915381157,
          26.10668423491975,
          26.186828554458344,
          26.26697287399694,
          26.34711719353553,
          26.42726151307413,
          26.507405832612722,
          26.587550152151316,
          26.66769447168991,
          26.747838791228503,
          26.8279831107671,
          26.908127430305694,
          26.988271749844287,
          27.06841606938288,
          27.148560388921474,
          27.22870470846007,
          27.30884902799866,
          27.38899334753726,
          27.469137667075852,
          27.549281986614446,
          27.62942630615304,
          27.709570625691633,
          27.78971494523023,
          27.86985926476882,
          27.950003584307417,
          28.03014790384601,
          28.110292223384604,
          28.1904365429232,
          28.27058086246179,
          28.35072518200039,
          28.43086950153898,
          28.511013821077576,
          28.59115814061617,
          28.671302460154763,
          28.75144677969336,
          28.83159109923195,
          28.911735418770547,
          28.99187973830914,
          29.072024057847734,
          29.152168377386328,
          29.23231269692492,
          29.31245701646352,
          29.39260133600211,
          29.472745655540706,
          29.5528899750793,
          29.633034294617893,
          29.71317861415649,
          29.79332293369508,
          29.873467253233677,
          29.95361157277227,
          30.033755892310865,
          30.113900211849458,
          30.19404453138805,
          30.27418885092665,
          30.35433317046524,
          30.434477490003836,
          30.51462180954243,
          30.594766129081023,
          30.674910448619617,
          30.75505476815821,
          30.835199087696807,
          30.915343407235397,
          30.995487726773995,
          31.075632046312588,
          31.15577636585118,
          31.23592068538978,
          31.31606500492837,
          31.396209324466966,
          31.47635364400556,
          31.556497963544153,
          31.636642283082747,
          31.71678660262134,
          31.796930922159937,
          31.877075241698527,
          31.957219561237125,
          32.037363880775715,
          32.11750820031431,
          32.19765251985291,
          32.2777968393915,
          32.357941158930096,
          32.438085478468686,
          32.51822979800728,
          32.59837411754587,
          32.67851843708447,
          32.75866275662307,
          32.83880707616166,
          32.918951395700255,
          32.99909571523885,
          33.07924003477744,
          33.15938435431603,
          33.23952867385463,
          33.319672993393226,
          33.399817312931816,
          33.47996163247041,
          33.56010595200901,
          33.6402502715476,
          33.7203945910862,
          33.80053891062479,
          33.880683230163385,
          33.960827549701975,
          34.04097186924057,
          34.12111618877917,
          34.20126050831776,
          34.281404827856356,
          34.361549147394946,
          34.44169346693354,
          34.52183778647213,
          34.60198210601073,
          34.68212642554933,
          34.76227074508792,
          34.842415064626515,
          34.922559384165105,
          35.0027037037037
         ],
         "xaxis": "x",
         "y": [
          18.951050086758034,
          19.031295543702154,
          19.11153772430581,
          19.191776643448936,
          19.272012316011484,
          19.35224475687337,
          19.43247398091454,
          19.512700003014928,
          19.592922838054474,
          19.673142500913112,
          19.75335900647078,
          19.833572369607406,
          19.913782605202936,
          19.9939897281373,
          20.074193753290437,
          20.154394695542283,
          20.234592569772776,
          20.31478739086185,
          20.39497917368944,
          20.475167933135477,
          20.555353684079908,
          20.635536441402664,
          20.715716219983683,
          20.7958930347029,
          20.876066900440254,
          20.956237832075672,
          21.0364058444891,
          21.11657095256047,
          21.19673317116972,
          21.276892515196785,
          21.357048999521595,
          21.4372026390241,
          21.517353448584224,
          21.597501443081907,
          21.67764663739709,
          21.7577890464097,
          21.83792868499968,
          21.918065568046963,
          21.99819971043149,
          22.078331127033188,
          22.158459832732007,
          22.23858584240787,
          22.318709170940714,
          22.39882983321049,
          22.47894784409711,
          22.55906321848053,
          22.639175971240682,
          22.7192861172575,
          22.799393671410918,
          22.879498648580874,
          22.959601063647305,
          23.039700931490145,
          23.11979826698933,
          23.199893085024804,
          23.279985400476495,
          23.36007522822434,
          23.440162583148275,
          23.52024748012824,
          23.60032993404417,
          23.680409959776,
          23.760487572203658,
          23.840562786207098,
          23.920635616666242,
          24.00070607846103,
          24.0807741864714,
          24.160839955577288,
          24.240903400658627,
          24.32096453659536,
          24.401023378267414,
          24.48107994055473,
          24.56113423833724,
          24.64118628649489,
          24.721236099907607,
          24.801283693455332,
          24.881329082018,
          24.961372280475544,
          25.041413303707902,
          25.121452166595017,
          25.20148888401682,
          25.281523470853237,
          25.361555941984214,
          25.441586312289694,
          25.521614596649602,
          25.601640809943873,
          25.681664967052455,
          25.76168708285528,
          25.841707172232276,
          25.921725250063385,
          26.001741331228544,
          26.081755430607686,
          26.16176756308075,
          26.24177774352767,
          26.321785986828388,
          26.40179230786283,
          26.481796721510943,
          26.561799242652654,
          26.641799886167902,
          26.721798666936632,
          26.80179559983877,
          26.881790699754248,
          26.96178398156301,
          27.041775460144994,
          27.121765150380135,
          27.201753067148363,
          27.28173922532962,
          27.36172363980384,
          27.441706325450966,
          27.52168729715092,
          27.601666569783646,
          27.681644158229087,
          27.761620077367166,
          27.841594342077826,
          27.921566967241006,
          28.001537967736642,
          28.08150735844466,
          28.161475154245004,
          28.24144137001762,
          28.321406020642417,
          28.40136912099936,
          28.481330685968366,
          28.561290730429384,
          28.641249269262346,
          28.72120631734718,
          28.80116188956383,
          28.881116000792233,
          28.961068665912318,
          29.04101989980403,
          29.1209697173473,
          29.200918133422064,
          29.280865162908263,
          29.36081082068583,
          29.4407551216347,
          29.52069808063481,
          29.600639712566096,
          29.68058003230849,
          29.760519054741945,
          29.840456794746373,
          29.920393267201728,
          30.00032848698794,
          30.08026246898494,
          30.160195228072674,
          30.240126779131067,
          30.32005713704007,
          30.399986316679612,
          30.47991433292962,
          30.559841200670043,
          30.639766934780816,
          30.719691550141867,
          30.799615061633133,
          30.879537484134563,
          30.95945883252608,
          31.039379121687627,
          31.119298366499137,
          31.19921658184054,
          31.279133782591785,
          31.3590499836328,
          31.43896519984352,
          31.51887944610389,
          31.598792737293838,
          31.678705088293306,
          31.75861651398221,
          31.838527029240524,
          31.918436648948152,
          31.998345387985054,
          32.07825326123114,
          32.15816028356636,
          32.23806646987066,
          32.317971835023954,
          32.3978763939062,
          32.47778016139731,
          32.55768315237726,
          32.63758538172595,
          32.71748686432331,
          32.79738761504931,
          32.87728764878387,
          32.95718698040692,
          33.03708562479839,
          33.116983596838246,
          33.1968809114064,
          33.27677758338279,
          33.35667362764735,
          33.43656905908004,
          33.516463892560765,
          33.59635814296949,
          33.67625182518612,
          33.756144954090615,
          33.8360375445629,
          33.91592961148291,
          33.9958211697306,
          34.07571223418588,
          34.1556028197287,
          34.23549294123899,
          34.3153826135967,
          34.39527185168174,
          34.47516067037407,
          34.55504908455363,
          34.63493710910034,
          34.71482475889413,
          34.79471204881496,
          34.874598993742744
         ],
         "yaxis": "y"
        },
        {
         "error_x": {
          "array": [
           0.000915596785220704,
           0.0007600918801190583,
           0.0010092670045602136,
           0.0011265777907081126,
           0.0009836482283454057
          ],
          "type": "data",
          "visible": true
         },
         "error_y": {
          "array": [
           0.0007717083083973219,
           0.0007354376478136475,
           0.0008546634240065006,
           0.0011512141804072185,
           0.00068953752939639
          ],
          "type": "data",
          "visible": true
         },
         "legendgroup": "L_inf",
         "marker": {
          "size": 9,
          "symbol": "circle-open"
         },
         "mode": "markers",
         "name": "Точки (L_inf)",
         "opacity": 0.95,
         "showlegend": false,
         "type": "scatter",
         "x": [
          19.053984115523466,
          23.048050943961638,
          27.03508946772367,
          31.026727472527472,
          35.0027037037037
         ],
         "xaxis": "x2",
         "y": [
          18.951264620938627,
          22.945678154030567,
          26.93010305775765,
          30.90877362637363,
          34.87477160493827
         ],
         "yaxis": "y2"
        },
        {
         "legendgroup": "L_inf",
         "mode": "lines",
         "name": "L_inf deg=1",
         "type": "scatter",
         "x": [
          19.053984115523466,
          19.13412843506206,
          19.214272754600653,
          19.294417074139247,
          19.374561393677844,
          19.454705713216438,
          19.53485003275503,
          19.614994352293625,
          19.69513867183222,
          19.775282991370812,
          19.85542731090941,
          19.935571630448003,
          20.015715949986596,
          20.09586026952519,
          20.176004589063783,
          20.256148908602377,
          20.336293228140974,
          20.416437547679568,
          20.49658186721816,
          20.576726186756755,
          20.65687050629535,
          20.737014825833942,
          20.817159145372536,
          20.897303464911133,
          20.977447784449726,
          21.05759210398832,
          21.137736423526913,
          21.217880743065507,
          21.298025062604104,
          21.378169382142698,
          21.45831370168129,
          21.538458021219885,
          21.61860234075848,
          21.698746660297072,
          21.778890979835666,
          21.859035299374263,
          21.939179618912856,
          22.01932393845145,
          22.099468257990043,
          22.179612577528637,
          22.25975689706723,
          22.339901216605828,
          22.42004553614442,
          22.500189855683015,
          22.58033417522161,
          22.660478494760202,
          22.740622814298796,
          22.820767133837393,
          22.900911453375986,
          22.98105577291458,
          23.061200092453173,
          23.141344411991767,
          23.22148873153036,
          23.301633051068954,
          23.38177737060755,
          23.461921690146145,
          23.54206600968474,
          23.622210329223332,
          23.702354648761926,
          23.782498968300523,
          23.862643287839113,
          23.94278760737771,
          24.022931926916304,
          24.103076246454897,
          24.18322056599349,
          24.263364885532084,
          24.34350920507068,
          24.423653524609275,
          24.50379784414787,
          24.583942163686462,
          24.664086483225056,
          24.74423080276365,
          24.824375122302243,
          24.90451944184084,
          24.984663761379434,
          25.064808080918027,
          25.14495240045662,
          25.225096719995214,
          25.30524103953381,
          25.385385359072405,
          25.465529678611,
          25.545673998149592,
          25.625818317688186,
          25.70596263722678,
          25.786106956765373,
          25.86625127630397,
          25.946395595842564,
          26.026539915381157,
          26.10668423491975,
          26.186828554458344,
          26.26697287399694,
          26.34711719353553,
          26.42726151307413,
          26.507405832612722,
          26.587550152151316,
          26.66769447168991,
          26.747838791228503,
          26.8279831107671,
          26.908127430305694,
          26.988271749844287,
          27.06841606938288,
          27.148560388921474,
          27.22870470846007,
          27.30884902799866,
          27.38899334753726,
          27.469137667075852,
          27.549281986614446,
          27.62942630615304,
          27.709570625691633,
          27.78971494523023,
          27.86985926476882,
          27.950003584307417,
          28.03014790384601,
          28.110292223384604,
          28.1904365429232,
          28.27058086246179,
          28.35072518200039,
          28.43086950153898,
          28.511013821077576,
          28.59115814061617,
          28.671302460154763,
          28.75144677969336,
          28.83159109923195,
          28.911735418770547,
          28.99187973830914,
          29.072024057847734,
          29.152168377386328,
          29.23231269692492,
          29.31245701646352,
          29.39260133600211,
          29.472745655540706,
          29.5528899750793,
          29.633034294617893,
          29.71317861415649,
          29.79332293369508,
          29.873467253233677,
          29.95361157277227,
          30.033755892310865,
          30.113900211849458,
          30.19404453138805,
          30.27418885092665,
          30.35433317046524,
          30.434477490003836,
          30.51462180954243,
          30.594766129081023,
          30.674910448619617,
          30.75505476815821,
          30.835199087696807,
          30.915343407235397,
          30.995487726773995,
          31.075632046312588,
          31.15577636585118,
          31.23592068538978,
          31.31606500492837,
          31.396209324466966,
          31.47635364400556,
          31.556497963544153,
          31.636642283082747,
          31.71678660262134,
          31.796930922159937,
          31.877075241698527,
          31.957219561237125,
          32.037363880775715,
          32.11750820031431,
          32.19765251985291,
          32.2777968393915,
          32.357941158930096,
          32.438085478468686,
          32.51822979800728,
          32.59837411754587,
          32.67851843708447,
          32.75866275662307,
          32.83880707616166,
          32.918951395700255,
          32.99909571523885,
          33.07924003477744,
          33.15938435431603,
          33.23952867385463,
          33.319672993393226,
          33.399817312931816,
          33.47996163247041,
          33.56010595200901,
          33.6402502715476,
          33.7203945910862,
          33.80053891062479,
          33.880683230163385,
          33.960827549701975,
          34.04097186924057,
          34.12111618877917,
          34.20126050831776,
          34.281404827856356,
          34.361549147394946,
          34.44169346693354,
          34.52183778647213,
          34.60198210601073,
          34.68212642554933,
          34.76227074508792,
          34.842415064626515,
          34.922559384165105,
          35.0027037037037
         ],
         "xaxis": "x2",
         "y": [
          18.956303076655022,
          19.036318003760282,
          19.116332930865543,
          19.196347857970803,
          19.276362785076063,
          19.356377712181324,
          19.436392639286584,
          19.516407566391845,
          19.5964224934971,
          19.676437420602362,
          19.756452347707626,
          19.836467274812886,
          19.916482201918143,
          19.996497129023403,
          20.076512056128664,
          20.156526983233924,
          20.236541910339188,
          20.316556837444445,
          20.396571764549705,
          20.476586691654965,
          20.556601618760226,
          20.636616545865483,
          20.716631472970743,
          20.796646400076007,
          20.876661327181267,
          20.956676254286524,
          21.036691181391785,
          21.116706108497045,
          21.19672103560231,
          21.276735962707566,
          21.356750889812826,
          21.436765816918086,
          21.516780744023347,
          21.596795671128607,
          21.676810598233864,
          21.756825525339128,
          21.836840452444388,
          21.91685537954965,
          21.996870306654905,
          22.076885233760166,
          22.156900160865426,
          22.23691508797069,
          22.316930015075947,
          22.396944942181207,
          22.476959869286468,
          22.556974796391728,
          22.636989723496985,
          22.71700465060225,
          22.79701957770751,
          22.87703450481277,
          22.957049431918026,
          23.037064359023287,
          23.117079286128547,
          23.197094213233807,
          23.27710914033907,
          23.357124067444328,
          23.43713899454959,
          23.51715392165485,
          23.59716884876011,
          23.67718377586537,
          23.757198702970626,
          23.83721363007589,
          23.91722855718115,
          23.997243484286408,
          24.077258411391668,
          24.15727333849693,
          24.237288265602192,
          24.31730319270745,
          24.39731811981271,
          24.47733304691797,
          24.55734797402323,
          24.63736290112849,
          24.717377828233747,
          24.79739275533901,
          24.87740768244427,
          24.957422609549532,
          25.03743753665479,
          25.11745246376005,
          25.197467390865313,
          25.277482317970573,
          25.35749724507583,
          25.43751217218109,
          25.51752709928635,
          25.59754202639161,
          25.677556953496868,
          25.757571880602132,
          25.837586807707392,
          25.917601734812653,
          25.997616661917913,
          26.07763158902317,
          26.157646516128434,
          26.23766144323369,
          26.317676370338955,
          26.39769129744421,
          26.477706224549472,
          26.557721151654732,
          26.637736078759993,
          26.717751005865253,
          26.797765932970513,
          26.877780860075774,
          26.957795787181034,
          27.03781071428629,
          27.117825641391555,
          27.19784056849681,
          27.277855495602076,
          27.357870422707336,
          27.437885349812593,
          27.517900276917853,
          27.597915204023113,
          27.677930131128377,
          27.75794505823363,
          27.837959985338895,
          27.917974912444155,
          27.997989839549415,
          28.078004766654676,
          28.158019693759933,
          28.238034620865196,
          28.318049547970453,
          28.398064475075714,
          28.478079402180974,
          28.558094329286234,
          28.6381092563915,
          28.718124183496755,
          28.798139110602015,
          28.878154037707276,
          28.958168964812536,
          29.038183891917797,
          29.118198819023053,
          29.198213746128317,
          29.278228673233574,
          29.358243600338838,
          29.438258527444095,
          29.518273454549355,
          29.59828838165462,
          29.678303308759876,
          29.758318235865136,
          29.838333162970397,
          29.918348090075657,
          29.998363017180917,
          30.078377944286178,
          30.158392871391438,
          30.238407798496695,
          30.31842272560196,
          30.39843765270722,
          30.478452579812476,
          30.558467506917737,
          30.638482434022997,
          30.71849736112826,
          30.798512288233514,
          30.878527215338778,
          30.95854214244404,
          31.0385570695493,
          31.11857199665456,
          31.198586923759816,
          31.27860185086508,
          31.35861677797034,
          31.4386317050756,
          31.518646632180857,
          31.598661559286118,
          31.67867648639138,
          31.75869141349664,
          31.8387063406019,
          31.918721267707156,
          31.998736194812416,
          32.07875112191768,
          32.15876604902294,
          32.238780976128204,
          32.31879590323346,
          32.39881083033872,
          32.47882575744398,
          32.55884068454924,
          32.6388556116545,
          32.71887053875976,
          32.79888546586502,
          32.87890039297029,
          32.95891532007554,
          33.038930247180794,
          33.11894517428606,
          33.19896010139132,
          33.27897502849658,
          33.35898995560184,
          33.4390048827071,
          33.51901980981236,
          33.59903473691762,
          33.67904966402288,
          33.759064591128144,
          33.8390795182334,
          33.919094445338665,
          33.999109372443925,
          34.07912429954918,
          34.159139226654446,
          34.2391541537597,
          34.31916908086497,
          34.39918400797022,
          34.47919893507548,
          34.55921386218075,
          34.639228789286,
          34.71924371639126,
          34.79925864349652,
          34.87927357060178
         ],
         "yaxis": "y2"
        },
        {
         "legendgroup": "L_inf",
         "mode": "lines",
         "name": "L_inf deg=3",
         "type": "scatter",
         "x": [
          19.053984115523466,
          19.13412843506206,
          19.214272754600653,
          19.294417074139247,
          19.374561393677844,
          19.454705713216438,
          19.53485003275503,
          19.614994352293625,
          19.69513867183222,
          19.775282991370812,
          19.85542731090941,
          19.935571630448003,
          20.015715949986596,
          20.09586026952519,
          20.176004589063783,
          20.256148908602377,
          20.336293228140974,
          20.416437547679568,
          20.49658186721816,
          20.576726186756755,
          20.65687050629535,
          20.737014825833942,
          20.817159145372536,
          20.897303464911133,
          20.977447784449726,
          21.05759210398832,
          21.137736423526913,
          21.217880743065507,
          21.298025062604104,
          21.378169382142698,
          21.45831370168129,
          21.538458021219885,
          21.61860234075848,
          21.698746660297072,
          21.778890979835666,
          21.859035299374263,
          21.939179618912856,
          22.01932393845145,
          22.099468257990043,
          22.179612577528637,
          22.25975689706723,
          22.339901216605828,
          22.42004553614442,
          22.500189855683015,
          22.58033417522161,
          22.660478494760202,
          22.740622814298796,
          22.820767133837393,
          22.900911453375986,
          22.98105577291458,
          23.061200092453173,
          23.141344411991767,
          23.22148873153036,
          23.301633051068954,
          23.38177737060755,
          23.461921690146145,
          23.54206600968474,
          23.622210329223332,
          23.702354648761926,
          23.782498968300523,
          23.862643287839113,
          23.94278760737771,
          24.022931926916304,
          24.103076246454897,
          24.18322056599349,
          24.263364885532084,
          24.34350920507068,
          24.423653524609275,
          24.50379784414787,
          24.583942163686462,
          24.664086483225056,
          24.74423080276365,
          24.824375122302243,
          24.90451944184084,
          24.984663761379434,
          25.064808080918027,
          25.14495240045662,
          25.225096719995214,
          25.30524103953381,
          25.385385359072405,
          25.465529678611,
          25.545673998149592,
          25.625818317688186,
          25.70596263722678,
          25.786106956765373,
          25.86625127630397,
          25.946395595842564,
          26.026539915381157,
          26.10668423491975,
          26.186828554458344,
          26.26697287399694,
          26.34711719353553,
          26.42726151307413,
          26.507405832612722,
          26.587550152151316,
          26.66769447168991,
          26.747838791228503,
          26.8279831107671,
          26.908127430305694,
          26.988271749844287,
          27.06841606938288,
          27.148560388921474,
          27.22870470846007,
          27.30884902799866,
          27.38899334753726,
          27.469137667075852,
          27.549281986614446,
          27.62942630615304,
          27.709570625691633,
          27.78971494523023,
          27.86985926476882,
          27.950003584307417,
          28.03014790384601,
          28.110292223384604,
          28.1904365429232,
          28.27058086246179,
          28.35072518200039,
          28.43086950153898,
          28.511013821077576,
          28.59115814061617,
          28.671302460154763,
          28.75144677969336,
          28.83159109923195,
          28.911735418770547,
          28.99187973830914,
          29.072024057847734,
          29.152168377386328,
          29.23231269692492,
          29.31245701646352,
          29.39260133600211,
          29.472745655540706,
          29.5528899750793,
          29.633034294617893,
          29.71317861415649,
          29.79332293369508,
          29.873467253233677,
          29.95361157277227,
          30.033755892310865,
          30.113900211849458,
          30.19404453138805,
          30.27418885092665,
          30.35433317046524,
          30.434477490003836,
          30.51462180954243,
          30.594766129081023,
          30.674910448619617,
          30.75505476815821,
          30.835199087696807,
          30.915343407235397,
          30.995487726773995,
          31.075632046312588,
          31.15577636585118,
          31.23592068538978,
          31.31606500492837,
          31.396209324466966,
          31.47635364400556,
          31.556497963544153,
          31.636642283082747,
          31.71678660262134,
          31.796930922159937,
          31.877075241698527,
          31.957219561237125,
          32.037363880775715,
          32.11750820031431,
          32.19765251985291,
          32.2777968393915,
          32.357941158930096,
          32.438085478468686,
          32.51822979800728,
          32.59837411754587,
          32.67851843708447,
          32.75866275662307,
          32.83880707616166,
          32.918951395700255,
          32.99909571523885,
          33.07924003477744,
          33.15938435431603,
          33.23952867385463,
          33.319672993393226,
          33.399817312931816,
          33.47996163247041,
          33.56010595200901,
          33.6402502715476,
          33.7203945910862,
          33.80053891062479,
          33.880683230163385,
          33.960827549701975,
          34.04097186924057,
          34.12111618877917,
          34.20126050831776,
          34.281404827856356,
          34.361549147394946,
          34.44169346693354,
          34.52183778647213,
          34.60198210601073,
          34.68212642554933,
          34.76227074508792,
          34.842415064626515,
          34.922559384165105,
          35.0027037037037
         ],
         "xaxis": "x2",
         "y": [
          18.950136021335567,
          19.030420931514413,
          19.110701869896427,
          19.190978855943943,
          19.271251909119297,
          19.351521048884816,
          19.431786294702828,
          19.512047666035674,
          19.592305182345683,
          19.672558863095187,
          19.752808727746523,
          19.833054795762017,
          19.913297086604004,
          19.993535619734814,
          20.07377041461678,
          20.154001490712243,
          20.23422886748353,
          20.314452564392965,
          20.39467260090289,
          20.474888996475638,
          20.555101770573536,
          20.63531094265892,
          20.71551653219412,
          20.79571855864147,
          20.875917041463307,
          20.95611200012195,
          21.036303454079743,
          21.11649142279902,
          21.19667592574211,
          21.276856982371342,
          21.357034612149047,
          21.437208834537564,
          21.517379668999222,
          21.597547134996358,
          21.677711251991294,
          21.75787203944638,
          21.83802951682393,
          21.91818370358628,
          21.998334619195777,
          22.078482283114734,
          22.158626714805497,
          22.238767933730394,
          22.318905959351753,
          22.39904081113191,
          22.479172508533207,
          22.55930107101796,
          22.63942651804851,
          22.71954886908719,
          22.79966814359633,
          22.879784361038265,
          22.95989754087532,
          23.040007702569838,
          23.120114865584146,
          23.200219049380575,
          23.280320273421466,
          23.36041855716914,
          23.44051392008593,
          23.520606381634177,
          23.60069596127621,
          23.680782678474362,
          23.76086655269096,
          23.840947603388344,
          23.921025850028844,
          24.001101312074788,
          24.081174008988512,
          24.161243960232348,
          24.241311185268636,
          24.321375703559692,
          24.40143753456786,
          24.481496697755468,
          24.561553212584855,
          24.641607098518346,
          24.721658375018276,
          24.80170706154698,
          24.88175317756679,
          24.961796742540034,
          25.04183777592905,
          25.12187629719616,
          25.201912325803715,
          25.281945881214025,
          25.36197698288944,
          25.442005650292288,
          25.522031902884898,
          25.6020557601296,
          25.68207724148873,
          25.762096366424633,
          25.84211315439962,
          25.922127624876037,
          26.00213979731621,
          26.08214969118247,
          26.16215732593716,
          26.2421627210426,
          26.322165895961135,
          26.40216687015509,
          26.48216566308679,
          26.56216229421858,
          26.642156783012787,
          26.722149148931752,
          26.802139411437793,
          26.88212758999325,
          26.96211370406045,
          27.042097773101734,
          27.122079816579433,
          27.202059853955873,
          27.282037904693393,
          27.362013988254322,
          27.44198812410099,
          27.521960331695738,
          27.60193063050089,
          27.681899039978784,
          27.76186557959175,
          27.84183026880212,
          27.921793127072224,
          28.0017541738644,
          28.081713428640978,
          28.161670910864284,
          28.24162663999667,
          28.321580635500442,
          28.40153291683795,
          28.481483503471523,
          28.561432414863496,
          28.641379670476198,
          28.721325289771954,
          28.80126929221311,
          28.881211697261985,
          28.96115252438092,
          29.041091793032255,
          29.121029522678306,
          29.20096573278142,
          29.28090044280391,
          29.360833672208134,
          29.440765440456403,
          29.520695767011063,
          29.600624671334437,
          29.680552172888863,
          29.76047829113667,
          29.840403045540196,
          29.920326455561767,
          30.00024854066372,
          30.080169320308382,
          30.160088813958097,
          30.240007041075177,
          30.31992402112198,
          30.399839773560824,
          30.479754317854034,
          30.55966767346396,
          30.639579859852923,
          30.719490896483258,
          30.799400802817296,
          30.879309598317377,
          30.959217302445825,
          31.039123934664968,
          31.119029514437155,
          31.198934061224705,
          31.278837594489957,
          31.358740133695235,
          31.438641698302877,
          31.518542307775224,
          31.598441981574595,
          31.678340739163332,
          31.758238600003754,
          31.83813558355821,
          31.918031709289014,
          31.997926996658524,
          32.077821465129055,
          32.157715134162935,
          32.237608023222506,
          32.3175001517701,
          32.39739153926805,
          32.47728220517868,
          32.55717216896433,
          32.63706145008734,
          32.716950068010014,
          32.79683804219472,
          32.87672539210377,
          32.9566121371995,
          33.03649829694424,
          33.116383890800336,
          33.1962689382301,
          33.27615345869587,
          33.35603747165999,
          33.43592099658479,
          33.515804052932594,
          33.59568666016574,
          33.675568837746546,
          33.75545060513737,
          33.835331981800515,
          33.91521298719835,
          33.99509364079318,
          34.07497396204734,
          34.154853970423176,
          34.234733685383006,
          34.31461312638916,
          34.394492312903985,
          34.474371264389816,
          34.55425000030897,
          34.63412854012378,
          34.7140069032966,
          34.79388510928973,
          34.87376317756553
         ],
         "yaxis": "y2"
        },
        {
         "legendgroup": "L2_res_1",
         "name": "L2 deg=1 (остатки)",
         "offsetgroup": "L2_1",
         "type": "bar",
         "x": [
          "19.0",
          "23.0",
          "27.0",
          "31.0",
          "35.0"
         ],
         "xaxis": "x3",
         "y": [
          -0.0047272545341172645,
          0.00241813594989182,
          0.006591238190871707,
          0.0004183534986523796,
          -0.0027920070306635125
         ],
         "yaxis": "y3"
        },
        {
         "legendgroup": "Linf_res_1",
         "name": "L_inf deg=1 (остатки)",
         "offsetgroup": "Linf_1",
         "type": "bar",
         "x": [
          "19.0",
          "23.0",
          "27.0",
          "31.0",
          "35.0"
         ],
         "xaxis": "x4",
         "y": [
          -0.005038455716395163,
          0.0017566413974456907,
          0.005580066674706785,
          -0.00094289837150896,
          -0.004501965663514795
         ],
         "yaxis": "y4"
        },
        {
         "legendgroup": "L2_res_2",
         "name": "L2 deg=2 (остатки)",
         "offsetgroup": "L2_2",
         "type": "bar",
         "x": [
          "19.0",
          "23.0",
          "27.0",
          "31.0",
          "35.0"
         ],
         "xaxis": "x3",
         "y": [
          -9.191692354804104e-05,
          -0.00016909294487277293,
          0.001361768738050273,
          -0.0028849105148829324,
          0.0003706204060947016
         ],
         "yaxis": "y3"
        },
        {
         "legendgroup": "Linf_res_2",
         "name": "L_inf deg=2 (остатки)",
         "offsetgroup": "Linf_2",
         "type": "bar",
         "x": [
          "19.0",
          "23.0",
          "27.0",
          "31.0",
          "35.0"
         ],
         "xaxis": "x4",
         "y": [
          -0.001457873647261465,
          -0.0006075463552370763,
          0.0016145884002831679,
          -0.0021748176062246216,
          0.00130264062466523
         ],
         "yaxis": "y4"
        },
        {
         "legendgroup": "L2_res_3",
         "name": "L2 deg=3 (остатки)",
         "offsetgroup": "L2_3",
         "type": "bar",
         "x": [
          "19.0",
          "23.0",
          "27.0",
          "31.0",
          "35.0"
         ],
         "xaxis": "x3",
         "y": [
          0.00021453418059280693,
          -0.0007808113956926377,
          0.001582651608885044,
          -0.0019168177013320076,
          0.0001726111955235865
         ],
         "yaxis": "y3"
        },
        {
         "legendgroup": "Linf_res_3",
         "name": "L_inf deg=3 (остатки)",
         "offsetgroup": "Linf_3",
         "type": "bar",
         "x": [
          "19.0",
          "23.0",
          "27.0",
          "31.0",
          "35.0"
         ],
         "xaxis": "x4",
         "y": [
          0.0011285996030601098,
          -0.0010755548804404214,
          0.0012499189014612,
          -0.0016836152376491498,
          0.0010084273727386517
         ],
         "yaxis": "y4"
        }
       ],
       "layout": {
        "annotations": [
         {
          "font": {
           "size": 16
          },
          "showarrow": false,
          "text": "T11: аппроксимация L2",
          "x": 0.22,
          "xanchor": "center",
          "xref": "paper",
          "y": 1,
          "yanchor": "bottom",
          "yref": "paper"
         },
         {
          "font": {
           "size": 16
          },
          "showarrow": false,
          "text": "T11: аппроксимация L_inf",
          "x": 0.78,
          "xanchor": "center",
          "xref": "paper",
          "y": 1,
          "yanchor": "bottom",
          "yref": "paper"
         },
         {
          "font": {
           "size": 16
          },
          "showarrow": false,
          "text": "Остатки L2 (Y - Y_hat)",
          "x": 0.22,
          "xanchor": "center",
          "xref": "paper",
          "y": 0.35200000000000004,
          "yanchor": "bottom",
          "yref": "paper"
         },
         {
          "font": {
           "size": 16
          },
          "showarrow": false,
          "text": "Остатки L_inf (Y - Y_hat)",
          "x": 0.78,
          "xanchor": "center",
          "xref": "paper",
          "y": 0.35200000000000004,
          "yanchor": "bottom",
          "yref": "paper"
         }
        ],
        "barmode": "group",
        "height": 740,
        "legend": {
         "orientation": "h",
         "x": 0.5,
         "xanchor": "center",
         "y": 1.05,
         "yanchor": "bottom"
        },
        "margin": {
         "b": 90,
         "l": 60,
         "r": 40,
         "t": 100
        },
        "template": {
         "data": {
          "bar": [
           {
            "error_x": {
             "color": "#2a3f5f"
            },
            "error_y": {
             "color": "#2a3f5f"
            },
            "marker": {
             "line": {
              "color": "#E5ECF6",
              "width": 0.5
             },
             "pattern": {
              "fillmode": "overlay",
              "size": 10,
              "solidity": 0.2
             }
            },
            "type": "bar"
           }
          ],
          "barpolar": [
           {
            "marker": {
             "line": {
              "color": "#E5ECF6",
              "width": 0.5
             },
             "pattern": {
              "fillmode": "overlay",
              "size": 10,
              "solidity": 0.2
             }
            },
            "type": "barpolar"
           }
          ],
          "carpet": [
           {
            "aaxis": {
             "endlinecolor": "#2a3f5f",
             "gridcolor": "white",
             "linecolor": "white",
             "minorgridcolor": "white",
             "startlinecolor": "#2a3f5f"
            },
            "baxis": {
             "endlinecolor": "#2a3f5f",
             "gridcolor": "white",
             "linecolor": "white",
             "minorgridcolor": "white",
             "startlinecolor": "#2a3f5f"
            },
            "type": "carpet"
           }
          ],
          "choropleth": [
           {
            "colorbar": {
             "outlinewidth": 0,
             "ticks": ""
            },
            "type": "choropleth"
           }
          ],
          "contour": [
           {
            "colorbar": {
             "outlinewidth": 0,
             "ticks": ""
            },
            "colorscale": [
             [
              0,
              "#0d0887"
             ],
             [
              0.1111111111111111,
              "#46039f"
             ],
             [
              0.2222222222222222,
              "#7201a8"
             ],
             [
              0.3333333333333333,
              "#9c179e"
             ],
             [
              0.4444444444444444,
              "#bd3786"
             ],
             [
              0.5555555555555556,
              "#d8576b"
             ],
             [
              0.6666666666666666,
              "#ed7953"
             ],
             [
              0.7777777777777778,
              "#fb9f3a"
             ],
             [
              0.8888888888888888,
              "#fdca26"
             ],
             [
              1,
              "#f0f921"
             ]
            ],
            "type": "contour"
           }
          ],
          "contourcarpet": [
           {
            "colorbar": {
             "outlinewidth": 0,
             "ticks": ""
            },
            "type": "contourcarpet"
           }
          ],
          "heatmap": [
           {
            "colorbar": {
             "outlinewidth": 0,
             "ticks": ""
            },
            "colorscale": [
             [
              0,
              "#0d0887"
             ],
             [
              0.1111111111111111,
              "#46039f"
             ],
             [
              0.2222222222222222,
              "#7201a8"
             ],
             [
              0.3333333333333333,
              "#9c179e"
             ],
             [
              0.4444444444444444,
              "#bd3786"
             ],
             [
              0.5555555555555556,
              "#d8576b"
             ],
             [
              0.6666666666666666,
              "#ed7953"
             ],
             [
              0.7777777777777778,
              "#fb9f3a"
             ],
             [
              0.8888888888888888,
              "#fdca26"
             ],
             [
              1,
              "#f0f921"
             ]
            ],
            "type": "heatmap"
           }
          ],
          "heatmapgl": [
           {
            "colorbar": {
             "outlinewidth": 0,
             "ticks": ""
            },
            "colorscale": [
             [
              0,
              "#0d0887"
             ],
             [
              0.1111111111111111,
              "#46039f"
             ],
             [
              0.2222222222222222,
              "#7201a8"
             ],
             [
              0.3333333333333333,
              "#9c179e"
             ],
             [
              0.4444444444444444,
              "#bd3786"
             ],
             [
              0.5555555555555556,
              "#d8576b"
             ],
             [
              0.6666666666666666,
              "#ed7953"
             ],
             [
              0.7777777777777778,
              "#fb9f3a"
             ],
             [
              0.8888888888888888,
              "#fdca26"
             ],
             [
              1,
              "#f0f921"
             ]
            ],
            "type": "heatmapgl"
           }
          ],
          "histogram": [
           {
            "marker": {
             "pattern": {
              "fillmode": "overlay",
              "size": 10,
              "solidity": 0.2
             }
            },
            "type": "histogram"
           }
          ],
          "histogram2d": [
           {
            "colorbar": {
             "outlinewidth": 0,
             "ticks": ""
            },
            "colorscale": [
             [
              0,
              "#0d0887"
             ],
             [
              0.1111111111111111,
              "#46039f"
             ],
             [
              0.2222222222222222,
              "#7201a8"
             ],
             [
              0.3333333333333333,
              "#9c179e"
             ],
             [
              0.4444444444444444,
              "#bd3786"
             ],
             [
              0.5555555555555556,
              "#d8576b"
             ],
             [
              0.6666666666666666,
              "#ed7953"
             ],
             [
              0.7777777777777778,
              "#fb9f3a"
             ],
             [
              0.8888888888888888,
              "#fdca26"
             ],
             [
              1,
              "#f0f921"
             ]
            ],
            "type": "histogram2d"
           }
          ],
          "histogram2dcontour": [
           {
            "colorbar": {
             "outlinewidth": 0,
             "ticks": ""
            },
            "colorscale": [
             [
              0,
              "#0d0887"
             ],
             [
              0.1111111111111111,
              "#46039f"
             ],
             [
              0.2222222222222222,
              "#7201a8"
             ],
             [
              0.3333333333333333,
              "#9c179e"
             ],
             [
              0.4444444444444444,
              "#bd3786"
             ],
             [
              0.5555555555555556,
              "#d8576b"
             ],
             [
              0.6666666666666666,
              "#ed7953"
             ],
             [
              0.7777777777777778,
              "#fb9f3a"
             ],
             [
              0.8888888888888888,
              "#fdca26"
             ],
             [
              1,
              "#f0f921"
             ]
            ],
            "type": "histogram2dcontour"
           }
          ],
          "mesh3d": [
           {
            "colorbar": {
             "outlinewidth": 0,
             "ticks": ""
            },
            "type": "mesh3d"
           }
          ],
          "parcoords": [
           {
            "line": {
             "colorbar": {
              "outlinewidth": 0,
              "ticks": ""
             }
            },
            "type": "parcoords"
           }
          ],
          "pie": [
           {
            "automargin": true,
            "type": "pie"
           }
          ],
          "scatter": [
           {
            "fillpattern": {
             "fillmode": "overlay",
             "size": 10,
             "solidity": 0.2
            },
            "type": "scatter"
           }
          ],
          "scatter3d": [
           {
            "line": {
             "colorbar": {
              "outlinewidth": 0,
              "ticks": ""
             }
            },
            "marker": {
             "colorbar": {
              "outlinewidth": 0,
              "ticks": ""
             }
            },
            "type": "scatter3d"
           }
          ],
          "scattercarpet": [
           {
            "marker": {
             "colorbar": {
              "outlinewidth": 0,
              "ticks": ""
             }
            },
            "type": "scattercarpet"
           }
          ],
          "scattergeo": [
           {
            "marker": {
             "colorbar": {
              "outlinewidth": 0,
              "ticks": ""
             }
            },
            "type": "scattergeo"
           }
          ],
          "scattergl": [
           {
            "marker": {
             "colorbar": {
              "outlinewidth": 0,
              "ticks": ""
             }
            },
            "type": "scattergl"
           }
          ],
          "scattermapbox": [
           {
            "marker": {
             "colorbar": {
              "outlinewidth": 0,
              "ticks": ""
             }
            },
            "type": "scattermapbox"
           }
          ],
          "scatterpolar": [
           {
            "marker": {
             "colorbar": {
              "outlinewidth": 0,
              "ticks": ""
             }
            },
            "type": "scatterpolar"
           }
          ],
          "scatterpolargl": [
           {
            "marker": {
             "colorbar": {
              "outlinewidth": 0,
              "ticks": ""
             }
            },
            "type": "scatterpolargl"
           }
          ],
          "scatterternary": [
           {
            "marker": {
             "colorbar": {
              "outlinewidth": 0,
              "ticks": ""
             }
            },
            "type": "scatterternary"
           }
          ],
          "surface": [
           {
            "colorbar": {
             "outlinewidth": 0,
             "ticks": ""
            },
            "colorscale": [
             [
              0,
              "#0d0887"
             ],
             [
              0.1111111111111111,
              "#46039f"
             ],
             [
              0.2222222222222222,
              "#7201a8"
             ],
             [
              0.3333333333333333,
              "#9c179e"
             ],
             [
              0.4444444444444444,
              "#bd3786"
             ],
             [
              0.5555555555555556,
              "#d8576b"
             ],
             [
              0.6666666666666666,
              "#ed7953"
             ],
             [
              0.7777777777777778,
              "#fb9f3a"
             ],
             [
              0.8888888888888888,
              "#fdca26"
             ],
             [
              1,
              "#f0f921"
             ]
            ],
            "type": "surface"
           }
          ],
          "table": [
           {
            "cells": {
             "fill": {
              "color": "#EBF0F8"
             },
             "line": {
              "color": "white"
             }
            },
            "header": {
             "fill": {
              "color": "#C8D4E3"
             },
             "line": {
              "color": "white"
             }
            },
            "type": "table"
           }
          ]
         },
         "layout": {
          "annotationdefaults": {
           "arrowcolor": "#2a3f5f",
           "arrowhead": 0,
           "arrowwidth": 1
          },
          "autotypenumbers": "strict",
          "coloraxis": {
           "colorbar": {
            "outlinewidth": 0,
            "ticks": ""
           }
          },
          "colorscale": {
           "diverging": [
            [
             0,
             "#8e0152"
            ],
            [
             0.1,
             "#c51b7d"
            ],
            [
             0.2,
             "#de77ae"
            ],
            [
             0.3,
             "#f1b6da"
            ],
            [
             0.4,
             "#fde0ef"
            ],
            [
             0.5,
             "#f7f7f7"
            ],
            [
             0.6,
             "#e6f5d0"
            ],
            [
             0.7,
             "#b8e186"
            ],
            [
             0.8,
             "#7fbc41"
            ],
            [
             0.9,
             "#4d9221"
            ],
            [
             1,
             "#276419"
            ]
           ],
           "sequential": [
            [
             0,
             "#0d0887"
            ],
            [
             0.1111111111111111,
             "#46039f"
            ],
            [
             0.2222222222222222,
             "#7201a8"
            ],
            [
             0.3333333333333333,
             "#9c179e"
            ],
            [
             0.4444444444444444,
             "#bd3786"
            ],
            [
             0.5555555555555556,
             "#d8576b"
            ],
            [
             0.6666666666666666,
             "#ed7953"
            ],
            [
             0.7777777777777778,
             "#fb9f3a"
            ],
            [
             0.8888888888888888,
             "#fdca26"
            ],
            [
             1,
             "#f0f921"
            ]
           ],
           "sequentialminus": [
            [
             0,
             "#0d0887"
            ],
            [
             0.1111111111111111,
             "#46039f"
            ],
            [
             0.2222222222222222,
             "#7201a8"
            ],
            [
             0.3333333333333333,
             "#9c179e"
            ],
            [
             0.4444444444444444,
             "#bd3786"
            ],
            [
             0.5555555555555556,
             "#d8576b"
            ],
            [
             0.6666666666666666,
             "#ed7953"
            ],
            [
             0.7777777777777778,
             "#fb9f3a"
            ],
            [
             0.8888888888888888,
             "#fdca26"
            ],
            [
             1,
             "#f0f921"
            ]
           ]
          },
          "colorway": [
           "#636efa",
           "#EF553B",
           "#00cc96",
           "#ab63fa",
           "#FFA15A",
           "#19d3f3",
           "#FF6692",
           "#B6E880",
           "#FF97FF",
           "#FECB52"
          ],
          "font": {
           "color": "#2a3f5f"
          },
          "geo": {
           "bgcolor": "white",
           "lakecolor": "white",
           "landcolor": "#E5ECF6",
           "showlakes": true,
           "showland": true,
           "subunitcolor": "white"
          },
          "hoverlabel": {
           "align": "left"
          },
          "hovermode": "closest",
          "mapbox": {
           "style": "light"
          },
          "paper_bgcolor": "white",
          "plot_bgcolor": "#E5ECF6",
          "polar": {
           "angularaxis": {
            "gridcolor": "white",
            "linecolor": "white",
            "ticks": ""
           },
           "bgcolor": "#E5ECF6",
           "radialaxis": {
            "gridcolor": "white",
            "linecolor": "white",
            "ticks": ""
           }
          },
          "scene": {
           "xaxis": {
            "backgroundcolor": "#E5ECF6",
            "gridcolor": "white",
            "gridwidth": 2,
            "linecolor": "white",
            "showbackground": true,
            "ticks": "",
            "zerolinecolor": "white"
           },
           "yaxis": {
            "backgroundcolor": "#E5ECF6",
            "gridcolor": "white",
            "gridwidth": 2,
            "linecolor": "white",
            "showbackground": true,
            "ticks": "",
            "zerolinecolor": "white"
           },
           "zaxis": {
            "backgroundcolor": "#E5ECF6",
            "gridcolor": "white",
            "gridwidth": 2,
            "linecolor": "white",
            "showbackground": true,
            "ticks": "",
            "zerolinecolor": "white"
           }
          },
          "shapedefaults": {
           "line": {
            "color": "#2a3f5f"
           }
          },
          "ternary": {
           "aaxis": {
            "gridcolor": "white",
            "linecolor": "white",
            "ticks": ""
           },
           "baxis": {
            "gridcolor": "white",
            "linecolor": "white",
            "ticks": ""
           },
           "bgcolor": "#E5ECF6",
           "caxis": {
            "gridcolor": "white",
            "linecolor": "white",
            "ticks": ""
           }
          },
          "title": {
           "x": 0.05
          },
          "xaxis": {
           "automargin": true,
           "gridcolor": "white",
           "linecolor": "white",
           "ticks": "",
           "title": {
            "standoff": 15
           },
           "zerolinecolor": "white",
           "zerolinewidth": 2
          },
          "yaxis": {
           "automargin": true,
           "gridcolor": "white",
           "linecolor": "white",
           "ticks": "",
           "title": {
            "standoff": 15
           },
           "zerolinecolor": "white",
           "zerolinewidth": 2
          }
         }
        },
        "width": 1120,
        "xaxis": {
         "anchor": "y",
         "domain": [
          0,
          0.44
         ],
         "gridcolor": "rgba(0,0,0,0.15)",
         "showgrid": true,
         "title": {
          "text": "T11 (X)"
         }
        },
        "xaxis2": {
         "anchor": "y2",
         "domain": [
          0.56,
          1
         ],
         "gridcolor": "rgba(0,0,0,0.15)",
         "showgrid": true,
         "title": {
          "text": "T11 (X)"
         }
        },
        "xaxis3": {
         "anchor": "y3",
         "categoryarray": [
          "19.0",
          "23.0",
          "27.0",
          "31.0",
          "35.0"
         ],
         "categoryorder": "array",
         "domain": [
          0,
          0.44
         ],
         "gridcolor": "rgba(0,0,0,0.12)",
         "showgrid": true,
         "title": {
          "text": "Полочка"
         },
         "type": "category"
        },
        "xaxis4": {
         "anchor": "y4",
         "categoryarray": [
          "19.0",
          "23.0",
          "27.0",
          "31.0",
          "35.0"
         ],
         "categoryorder": "array",
         "domain": [
          0.56,
          1
         ],
         "gridcolor": "rgba(0,0,0,0.12)",
         "showgrid": true,
         "title": {
          "text": "Полочка"
         },
         "type": "category"
        },
        "yaxis": {
         "anchor": "x",
         "domain": [
          0.47200000000000003,
          1
         ],
         "gridcolor": "rgba(0,0,0,0.15)",
         "showgrid": true,
         "title": {
          "text": "T8 (Y)"
         }
        },
        "yaxis2": {
         "anchor": "x2",
         "domain": [
          0.47200000000000003,
          1
         ],
         "gridcolor": "rgba(0,0,0,0.15)",
         "showgrid": true,
         "title": {
          "text": "T8 (Y)"
         }
        },
        "yaxis3": {
         "anchor": "x3",
         "domain": [
          0,
          0.35200000000000004
         ],
         "gridcolor": "rgba(0,0,0,0.12)",
         "showgrid": true,
         "title": {
          "text": "°C"
         }
        },
        "yaxis4": {
         "anchor": "x4",
         "domain": [
          0,
          0.35200000000000004
         ],
         "gridcolor": "rgba(0,0,0,0.12)",
         "showgrid": true,
         "title": {
          "text": "°C"
         }
        }
       }
      }
     },
     "metadata": {},
     "output_type": "display_data"
    },
    {
     "name": "stdout",
     "output_type": "stream",
     "text": [
      "Сенсор T9: 5 точек; степени 1..3\n",
      "L2 deg=1: Y = 0.99909934·X - 0.02008969\n",
      "    coeffs (старшая→младшая): [0.99909934, -0.02008969] | RMSE=0.00579573, MAE=0.00482717, Max|err|=0.0106218\n",
      "L_inf deg=1: Y = 0.99914131·X - 0.019213779\n",
      "    coeffs (старшая→младшая): [0.99914131, -0.019213779] | RMSE=0.00583037, MAE=0.00465296, Max|err|=0.00861436\n",
      "L2 deg=2: Y = -0.0001948214·X^2 + 1.0096536·X - 0.15592737\n",
      "    coeffs (старшая→младшая): [-0.0001948214, 1.0096536, -0.15592737] | RMSE=0.00211251, MAE=0.00171214, Max|err|=0.00352041\n",
      "L_inf deg=2: Y = -0.00023112839·X^2 + 1.0116316·X - 0.18191753\n",
      "    coeffs (старшая→младшая): [-0.00023112839, 1.0116316, -0.18191753] | RMSE=0.0022808, MAE=0.00221459, Max|err|=0.0030298\n",
      "L2 deg=3: Y = -2.751088e-06·X^3 + 2.5790822e-05·X^2 + 1.0039124·X - 0.10745339\n",
      "    coeffs (старшая→младшая): [-2.751088e-06, 2.5790822e-05, 1.0039124, -0.10745339] | RMSE=0.00216371, MAE=0.00172238, Max|err|=0.00338897\n",
      "L_inf deg=3: Y = -8.2747493e-07·X^3 - 0.00016954287·X^2 + 1.0101263·X - 0.16984051\n",
      "    coeffs (старшая→младшая): [-8.2747493e-07, -0.00016954287, 1.0101263, -0.16984051] | RMSE=0.00234093, MAE=0.00230771, Max|err|=0.00297913\n"
     ]
    },
    {
     "data": {
      "application/vnd.plotly.v1+json": {
       "config": {
        "plotlyServerURL": "https://plot.ly"
       },
       "data": [
        {
         "error_x": {
          "array": [
           0.0007818459243933715,
           0.000777019029043002,
           0.0011463564948517744,
           0.00133271763613776,
           0.0008877558932140615
          ],
          "type": "data",
          "visible": true
         },
         "error_y": {
          "array": [
           0.0007100963414804766,
           0.0006983766314650208,
           0.0008976966032064737,
           0.0010563724151616935,
           0.0007289354873126497
          ],
          "type": "data",
          "visible": true
         },
         "legendgroup": "L2",
         "marker": {
          "size": 9
         },
         "mode": "markers",
         "name": "Точки",
         "type": "scatter",
         "x": [
          18.99343463898065,
          22.984374698795182,
          26.963907416625183,
          30.95528881987578,
          34.93091616766467
         ],
         "xaxis": "x",
         "y": [
          18.95109721566777,
          22.945697289156627,
          26.93015430562469,
          30.908925465838507,
          34.87471257485029
         ],
         "yaxis": "y"
        },
        {
         "legendgroup": "L2",
         "mode": "lines",
         "name": "L2 deg=1",
         "type": "scatter",
         "x": [
          18.99343463898065,
          19.073522485858458,
          19.153610332736267,
          19.233698179614077,
          19.313786026491886,
          19.393873873369696,
          19.4739617202475,
          19.55404956712531,
          19.63413741400312,
          19.71422526088093,
          19.79431310775874,
          19.87440095463655,
          19.95448880151436,
          20.034576648392168,
          20.114664495269977,
          20.194752342147787,
          20.274840189025596,
          20.354928035903406,
          20.43501588278121,
          20.51510372965902,
          20.59519157653683,
          20.67527942341464,
          20.75536727029245,
          20.83545511717026,
          20.91554296404807,
          20.995630810925878,
          21.075718657803687,
          21.155806504681497,
          21.235894351559306,
          21.315982198437112,
          21.39607004531492,
          21.47615789219273,
          21.55624573907054,
          21.63633358594835,
          21.71642143282616,
          21.79650927970397,
          21.87659712658178,
          21.956684973459588,
          22.036772820337397,
          22.116860667215207,
          22.196948514093016,
          22.277036360970826,
          22.35712420784863,
          22.43721205472644,
          22.51729990160425,
          22.59738774848206,
          22.67747559535987,
          22.75756344223768,
          22.837651289115488,
          22.917739135993298,
          22.997826982871107,
          23.077914829748913,
          23.158002676626722,
          23.238090523504532,
          23.31817837038234,
          23.39826621726015,
          23.47835406413796,
          23.55844191101577,
          23.63852975789358,
          23.71861760477139,
          23.798705451649198,
          23.878793298527007,
          23.958881145404817,
          24.038968992282626,
          24.119056839160436,
          24.199144686038245,
          24.27923253291605,
          24.35932037979386,
          24.43940822667167,
          24.51949607354948,
          24.59958392042729,
          24.6796717673051,
          24.759759614182908,
          24.839847461060717,
          24.919935307938527,
          25.000023154816333,
          25.080111001694142,
          25.16019884857195,
          25.24028669544976,
          25.32037454232757,
          25.40046238920538,
          25.48055023608319,
          25.560638082961,
          25.64072592983881,
          25.720813776716618,
          25.800901623594427,
          25.880989470472237,
          25.961077317350046,
          26.041165164227856,
          26.12125301110566,
          26.20134085798347,
          26.28142870486128,
          26.36151655173909,
          26.4416043986169,
          26.52169224549471,
          26.60178009237252,
          26.681867939250328,
          26.761955786128137,
          26.842043633005943,
          26.922131479883753,
          27.002219326761562,
          27.08230717363937,
          27.16239502051718,
          27.24248286739499,
          27.3225707142728,
          27.40265856115061,
          27.48274640802842,
          27.562834254906228,
          27.642922101784038,
          27.723009948661847,
          27.803097795539657,
          27.883185642417466,
          27.963273489295275,
          28.043361336173085,
          28.12344918305089,
          28.2035370299287,
          28.28362487680651,
          28.36371272368432,
          28.44380057056213,
          28.523888417439938,
          28.603976264317744,
          28.684064111195553,
          28.764151958073363,
          28.844239804951172,
          28.924327651828982,
          29.00441549870679,
          29.0845033455846,
          29.16459119246241,
          29.24467903934022,
          29.32476688621803,
          29.40485473309584,
          29.484942579973648,
          29.565030426851457,
          29.645118273729267,
          29.725206120607076,
          29.805293967484886,
          29.885381814362695,
          29.9654696612405,
          30.04555750811831,
          30.12564535499612,
          30.20573320187393,
          30.28582104875174,
          30.36590889562955,
          30.445996742507354,
          30.526084589385164,
          30.606172436262973,
          30.686260283140783,
          30.766348130018592,
          30.8464359768964,
          30.92652382377421,
          31.00661167065202,
          31.08669951752983,
          31.16678736440764,
          31.24687521128545,
          31.32696305816326,
          31.407050905041068,
          31.487138751918877,
          31.567226598796687,
          31.647314445674496,
          31.727402292552306,
          31.80749013943011,
          31.88757798630792,
          31.96766583318573,
          32.047753680063536,
          32.12784152694135,
          32.207929373819155,
          32.288017220696965,
          32.368105067574774,
          32.448192914452584,
          32.52828076133039,
          32.6083686082082,
          32.68845645508601,
          32.76854430196382,
          32.84863214884163,
          32.92871999571944,
          33.00880784259725,
          33.08889568947506,
          33.16898353635287,
          33.24907138323068,
          33.32915923010849,
          33.4092470769863,
          33.48933492386411,
          33.569422770741916,
          33.649510617619725,
          33.72959846449753,
          33.809686311375344,
          33.88977415825315,
          33.96986200513096,
          34.049949852008766,
          34.13003769888658,
          34.210125545764384,
          34.290213392642194,
          34.37030123952,
          34.45038908639781,
          34.53047693327562,
          34.61056478015343,
          34.69065262703124,
          34.77074047390905,
          34.85082832078686,
          34.93091616766467
         ],
         "xaxis": "x",
         "y": [
          18.95623838707847,
          19.036254102311887,
          19.116269817545298,
          19.196285532778713,
          19.276301248012125,
          19.35631696324554,
          19.436332678478948,
          19.516348393712363,
          19.596364108945775,
          19.67637982417919,
          19.7563955394126,
          19.836411254646016,
          19.916426969879428,
          19.996442685112843,
          20.076458400346255,
          20.15647411557967,
          20.23648983081308,
          20.316505546046496,
          20.396521261279904,
          20.47653697651332,
          20.55655269174673,
          20.636568406980146,
          20.716584122213558,
          20.796599837446973,
          20.876615552680384,
          20.9566312679138,
          21.03664698314721,
          21.116662698380626,
          21.19667841361404,
          21.27669412884745,
          21.356709844080864,
          21.436725559314276,
          21.51674127454769,
          21.596756989781102,
          21.676772705014518,
          21.75678842024793,
          21.836804135481344,
          21.916819850714756,
          21.99683556594817,
          22.076851281181582,
          22.156866996414998,
          22.23688271164841,
          22.31689842688182,
          22.396914142115232,
          22.476929857348647,
          22.55694557258206,
          22.636961287815474,
          22.716977003048886,
          22.7969927182823,
          22.877008433515712,
          22.957024148749127,
          23.037039863982535,
          23.11705557921595,
          23.197071294449362,
          23.277087009682777,
          23.35710272491619,
          23.437118440149604,
          23.517134155383015,
          23.59714987061643,
          23.677165585849846,
          23.757181301083257,
          23.837197016316672,
          23.917212731550084,
          23.9972284467835,
          24.07724416201691,
          24.157259877250326,
          24.237275592483734,
          24.31729130771715,
          24.39730702295056,
          24.477322738183975,
          24.557338453417387,
          24.637354168650802,
          24.717369883884214,
          24.79738559911763,
          24.87740131435104,
          24.95741702958445,
          25.037432744817863,
          25.11744846005128,
          25.19746417528469,
          25.277479890518105,
          25.357495605751517,
          25.43751132098493,
          25.517527036218343,
          25.59754275145176,
          25.67755846668517,
          25.757574181918585,
          25.837589897151997,
          25.91760561238541,
          25.997621327618823,
          26.077637042852235,
          26.15765275808565,
          26.23766847331906,
          26.317684188552477,
          26.397699903785888,
          26.477715619019303,
          26.557731334252715,
          26.63774704948613,
          26.71776276471954,
          26.797778479952953,
          26.877794195186365,
          26.95780991041978,
          27.03782562565319,
          27.117841340886606,
          27.197857056120018,
          27.277872771353433,
          27.357888486586845,
          27.43790420182026,
          27.51791991705367,
          27.597935632287086,
          27.677951347520498,
          27.757967062753913,
          27.837982777987325,
          27.91799849322074,
          27.99801420845415,
          28.078029923687563,
          28.158045638920974,
          28.23806135415439,
          28.3180770693878,
          28.398092784621216,
          28.478108499854628,
          28.55812421508804,
          28.63813993032145,
          28.718155645554866,
          28.79817136078828,
          28.878187076021693,
          28.958202791255108,
          29.03821850648852,
          29.118234221721934,
          29.198249936955346,
          29.27826565218876,
          29.358281367422173,
          29.438297082655588,
          29.518312797889,
          29.598328513122414,
          29.678344228355826,
          29.75835994358924,
          29.838375658822653,
          29.918391374056064,
          29.998407089289476,
          30.07842280452289,
          30.158438519756302,
          30.238454234989717,
          30.31846995022313,
          30.39848566545654,
          30.478501380689952,
          30.558517095923367,
          30.63853281115678,
          30.718548526390194,
          30.798564241623605,
          30.87857995685702,
          30.958595672090432,
          31.038611387323847,
          31.11862710255726,
          31.198642817790674,
          31.27865853302409,
          31.3586742482575,
          31.438689963490916,
          31.518705678724327,
          31.598721393957742,
          31.678737109191154,
          31.758752824424565,
          31.838768539657977,
          31.918784254891392,
          31.998799970124804,
          32.078815685358215,
          32.15883140059162,
          32.23884711582504,
          32.31886283105845,
          32.39887854629186,
          32.47889426152528,
          32.55890997675869,
          32.63892569199211,
          32.718941407225515,
          32.79895712245893,
          32.878972837692345,
          32.95898855292576,
          33.03900426815917,
          33.11901998339258,
          33.199035698626,
          33.27905141385941,
          33.35906712909282,
          33.43908284432624,
          33.51909855955965,
          33.59911427479307,
          33.679129990026475,
          33.75914570525989,
          33.8391614204933,
          33.91917713572672,
          33.99919285096013,
          34.07920856619354,
          34.15922428142695,
          34.239239996660366,
          34.31925571189378,
          34.39927142712719,
          34.479287142360604,
          34.55930285759402,
          34.639318572827435,
          34.71933428806084,
          34.79935000329426,
          34.87936571852767
         ],
         "yaxis": "y"
        },
        {
         "legendgroup": "L2",
         "mode": "lines",
         "name": "L2 deg=3",
         "type": "scatter",
         "x": [
          18.99343463898065,
          19.073522485858458,
          19.153610332736267,
          19.233698179614077,
          19.313786026491886,
          19.393873873369696,
          19.4739617202475,
          19.55404956712531,
          19.63413741400312,
          19.71422526088093,
          19.79431310775874,
          19.87440095463655,
          19.95448880151436,
          20.034576648392168,
          20.114664495269977,
          20.194752342147787,
          20.274840189025596,
          20.354928035903406,
          20.43501588278121,
          20.51510372965902,
          20.59519157653683,
          20.67527942341464,
          20.75536727029245,
          20.83545511717026,
          20.91554296404807,
          20.995630810925878,
          21.075718657803687,
          21.155806504681497,
          21.235894351559306,
          21.315982198437112,
          21.39607004531492,
          21.47615789219273,
          21.55624573907054,
          21.63633358594835,
          21.71642143282616,
          21.79650927970397,
          21.87659712658178,
          21.956684973459588,
          22.036772820337397,
          22.116860667215207,
          22.196948514093016,
          22.277036360970826,
          22.35712420784863,
          22.43721205472644,
          22.51729990160425,
          22.59738774848206,
          22.67747559535987,
          22.75756344223768,
          22.837651289115488,
          22.917739135993298,
          22.997826982871107,
          23.077914829748913,
          23.158002676626722,
          23.238090523504532,
          23.31817837038234,
          23.39826621726015,
          23.47835406413796,
          23.55844191101577,
          23.63852975789358,
          23.71861760477139,
          23.798705451649198,
          23.878793298527007,
          23.958881145404817,
          24.038968992282626,
          24.119056839160436,
          24.199144686038245,
          24.27923253291605,
          24.35932037979386,
          24.43940822667167,
          24.51949607354948,
          24.59958392042729,
          24.6796717673051,
          24.759759614182908,
          24.839847461060717,
          24.919935307938527,
          25.000023154816333,
          25.080111001694142,
          25.16019884857195,
          25.24028669544976,
          25.32037454232757,
          25.40046238920538,
          25.48055023608319,
          25.560638082961,
          25.64072592983881,
          25.720813776716618,
          25.800901623594427,
          25.880989470472237,
          25.961077317350046,
          26.041165164227856,
          26.12125301110566,
          26.20134085798347,
          26.28142870486128,
          26.36151655173909,
          26.4416043986169,
          26.52169224549471,
          26.60178009237252,
          26.681867939250328,
          26.761955786128137,
          26.842043633005943,
          26.922131479883753,
          27.002219326761562,
          27.08230717363937,
          27.16239502051718,
          27.24248286739499,
          27.3225707142728,
          27.40265856115061,
          27.48274640802842,
          27.562834254906228,
          27.642922101784038,
          27.723009948661847,
          27.803097795539657,
          27.883185642417466,
          27.963273489295275,
          28.043361336173085,
          28.12344918305089,
          28.2035370299287,
          28.28362487680651,
          28.36371272368432,
          28.44380057056213,
          28.523888417439938,
          28.603976264317744,
          28.684064111195553,
          28.764151958073363,
          28.844239804951172,
          28.924327651828982,
          29.00441549870679,
          29.0845033455846,
          29.16459119246241,
          29.24467903934022,
          29.32476688621803,
          29.40485473309584,
          29.484942579973648,
          29.565030426851457,
          29.645118273729267,
          29.725206120607076,
          29.805293967484886,
          29.885381814362695,
          29.9654696612405,
          30.04555750811831,
          30.12564535499612,
          30.20573320187393,
          30.28582104875174,
          30.36590889562955,
          30.445996742507354,
          30.526084589385164,
          30.606172436262973,
          30.686260283140783,
          30.766348130018592,
          30.8464359768964,
          30.92652382377421,
          31.00661167065202,
          31.08669951752983,
          31.16678736440764,
          31.24687521128545,
          31.32696305816326,
          31.407050905041068,
          31.487138751918877,
          31.567226598796687,
          31.647314445674496,
          31.727402292552306,
          31.80749013943011,
          31.88757798630792,
          31.96766583318573,
          32.047753680063536,
          32.12784152694135,
          32.207929373819155,
          32.288017220696965,
          32.368105067574774,
          32.448192914452584,
          32.52828076133039,
          32.6083686082082,
          32.68845645508601,
          32.76854430196382,
          32.84863214884163,
          32.92871999571944,
          33.00880784259725,
          33.08889568947506,
          33.16898353635287,
          33.24907138323068,
          33.32915923010849,
          33.4092470769863,
          33.48933492386411,
          33.569422770741916,
          33.649510617619725,
          33.72959846449753,
          33.809686311375344,
          33.88977415825315,
          33.96986200513096,
          34.049949852008766,
          34.13003769888658,
          34.210125545764384,
          34.290213392642194,
          34.37030123952,
          34.45038908639781,
          34.53047693327562,
          34.61056478015343,
          34.69065262703124,
          34.77074047390905,
          34.85082832078686,
          34.93091616766467
         ],
         "xaxis": "x",
         "y": [
          18.950744519414002,
          19.030984870226707,
          19.111223532498876,
          19.191460497751304,
          19.271695757504773,
          19.351929303280073,
          19.43216112659798,
          19.51239121897929,
          19.59261957194479,
          19.67284617701526,
          19.753071025711492,
          19.83329410955427,
          19.91351542006438,
          19.993734948762608,
          20.073952687169744,
          20.154168626806566,
          20.234382759193867,
          20.31459507585243,
          20.394805568303042,
          20.475014228066495,
          20.55522104666357,
          20.635426015615053,
          20.71562912644173,
          20.795830370664387,
          20.876029739803815,
          20.956227225380793,
          21.036422818916115,
          21.116616511930566,
          21.196808295944926,
          21.276998162479984,
          21.357186103056527,
          21.437372109195344,
          21.51755617241722,
          21.59773828424294,
          21.67791843619329,
          21.758096619789054,
          21.838272826551023,
          21.918447047999987,
          21.998619275656722,
          22.07878950104202,
          22.158957715676667,
          22.239123911081446,
          22.319288078777145,
          22.39945021028456,
          22.47961029712446,
          22.55976833081764,
          22.63992430288489,
          22.720078204846995,
          22.800230028224735,
          22.8803797645389,
          22.960527405310277,
          23.04067294205965,
          23.12081636630781,
          23.200957669575537,
          23.281096843383622,
          23.361233879252854,
          23.441368768704013,
          23.521501503257884,
          23.60163207443526,
          23.681760473756924,
          23.761886692743662,
          23.84201072291626,
          23.922132555795503,
          24.002252182902186,
          24.082369595757086,
          24.162484785880988,
          24.24259774479468,
          24.32270846401895,
          24.40281693507459,
          24.482923149482385,
          24.56302709876311,
          24.643128774437564,
          24.723228168026523,
          24.803325271050785,
          24.88342007503112,
          24.963512571488327,
          25.043602751943194,
          25.123690607916497,
          25.20377613092903,
          25.283859312501576,
          25.363940144154924,
          25.44401861740986,
          25.52409472378717,
          25.60416845480763,
          25.684239801992046,
          25.764308756861187,
          25.84437531093585,
          25.924439455736817,
          26.004501182784868,
          26.084560483600804,
          26.1646173497054,
          26.244671772619444,
          26.32472374386373,
          26.40477325495903,
          26.484820297426143,
          26.56486486278585,
          26.644906942558936,
          26.724946528266198,
          26.804983611428398,
          26.885018183566352,
          26.965050236200828,
          27.045079760852616,
          27.125106749042505,
          27.205131192291272,
          27.28515308211972,
          27.36517241004862,
          27.445189167598766,
          27.525203346290937,
          27.605214937645933,
          27.685223933184524,
          27.76523032442751,
          27.845234102895667,
          27.92523526010979,
          28.005233787590658,
          28.08522967685906,
          28.165222919435784,
          28.245213506841615,
          28.32520143059734,
          28.405186682223746,
          28.485169253241615,
          28.565149135171733,
          28.645126319534892,
          28.72510079785188,
          28.805072561643478,
          28.885041602430473,
          28.965007911733647,
          29.044971481073798,
          29.1249323019717,
          29.204890365948145,
          29.28484566452392,
          29.36479818921981,
          29.444747931556602,
          29.524694883055083,
          29.604639035236037,
          29.68458037962025,
          29.764518907728508,
          29.844454611081606,
          29.924387481200313,
          30.004317509605432,
          30.08424468781774,
          30.164169007358023,
          30.24409045974708,
          30.32400903650568,
          30.403924729154614,
          30.48383752921468,
          30.56374742820665,
          30.64365441765132,
          30.723558489069468,
          30.80345963398189,
          30.883357843909362,
          30.96325311037268,
          31.04314542489262,
          31.12303477898997,
          31.202921164185526,
          31.28280457200007,
          31.36268499395438,
          31.44256242156926,
          31.522436846365476,
          31.60230825986383,
          31.682176653585095,
          31.762042019050057,
          31.84190434777952,
          31.92176363129426,
          32.00161986111505,
          32.081473028762716,
          32.161323125757995,
          32.241170143621694,
          32.321014073874615,
          32.40085490803752,
          32.480692637631215,
          32.56052725417648,
          32.640358749194085,
          32.72018711420483,
          32.80001234072951,
          32.879834420288894,
          32.95965334440378,
          33.03946910459495,
          33.1192816923832,
          33.1990910992893,
          33.27889731683404,
          33.35870033653821,
          33.438500149922604,
          33.51829674850799,
          33.598090123815176,
          33.67788026736493,
          33.75766717067805,
          33.837450825275305,
          33.91723122267751,
          33.99700835440542,
          34.07678221197986,
          34.156552786921566,
          34.23632007075136,
          34.31608405499003,
          34.39584473115835,
          34.475602090777095,
          34.55535612536708,
          34.63510682644907,
          34.71485418554385,
          34.79459819417222,
          34.87433884385496
         ],
         "yaxis": "y"
        },
        {
         "error_x": {
          "array": [
           0.0007818459243933715,
           0.000777019029043002,
           0.0011463564948517744,
           0.00133271763613776,
           0.0008877558932140615
          ],
          "type": "data",
          "visible": true
         },
         "error_y": {
          "array": [
           0.0007100963414804766,
           0.0006983766314650208,
           0.0008976966032064737,
           0.0010563724151616935,
           0.0007289354873126497
          ],
          "type": "data",
          "visible": true
         },
         "legendgroup": "L_inf",
         "marker": {
          "size": 9,
          "symbol": "circle-open"
         },
         "mode": "markers",
         "name": "Точки (L_inf)",
         "opacity": 0.95,
         "showlegend": false,
         "type": "scatter",
         "x": [
          18.99343463898065,
          22.984374698795182,
          26.963907416625183,
          30.95528881987578,
          34.93091616766467
         ],
         "xaxis": "x2",
         "y": [
          18.95109721566777,
          22.945697289156627,
          26.93015430562469,
          30.908925465838507,
          34.87471257485029
         ],
         "yaxis": "y2"
        },
        {
         "legendgroup": "L_inf",
         "mode": "lines",
         "name": "L_inf deg=1",
         "type": "scatter",
         "x": [
          18.99343463898065,
          19.073522485858458,
          19.153610332736267,
          19.233698179614077,
          19.313786026491886,
          19.393873873369696,
          19.4739617202475,
          19.55404956712531,
          19.63413741400312,
          19.71422526088093,
          19.79431310775874,
          19.87440095463655,
          19.95448880151436,
          20.034576648392168,
          20.114664495269977,
          20.194752342147787,
          20.274840189025596,
          20.354928035903406,
          20.43501588278121,
          20.51510372965902,
          20.59519157653683,
          20.67527942341464,
          20.75536727029245,
          20.83545511717026,
          20.91554296404807,
          20.995630810925878,
          21.075718657803687,
          21.155806504681497,
          21.235894351559306,
          21.315982198437112,
          21.39607004531492,
          21.47615789219273,
          21.55624573907054,
          21.63633358594835,
          21.71642143282616,
          21.79650927970397,
          21.87659712658178,
          21.956684973459588,
          22.036772820337397,
          22.116860667215207,
          22.196948514093016,
          22.277036360970826,
          22.35712420784863,
          22.43721205472644,
          22.51729990160425,
          22.59738774848206,
          22.67747559535987,
          22.75756344223768,
          22.837651289115488,
          22.917739135993298,
          22.997826982871107,
          23.077914829748913,
          23.158002676626722,
          23.238090523504532,
          23.31817837038234,
          23.39826621726015,
          23.47835406413796,
          23.55844191101577,
          23.63852975789358,
          23.71861760477139,
          23.798705451649198,
          23.878793298527007,
          23.958881145404817,
          24.038968992282626,
          24.119056839160436,
          24.199144686038245,
          24.27923253291605,
          24.35932037979386,
          24.43940822667167,
          24.51949607354948,
          24.59958392042729,
          24.6796717673051,
          24.759759614182908,
          24.839847461060717,
          24.919935307938527,
          25.000023154816333,
          25.080111001694142,
          25.16019884857195,
          25.24028669544976,
          25.32037454232757,
          25.40046238920538,
          25.48055023608319,
          25.560638082961,
          25.64072592983881,
          25.720813776716618,
          25.800901623594427,
          25.880989470472237,
          25.961077317350046,
          26.041165164227856,
          26.12125301110566,
          26.20134085798347,
          26.28142870486128,
          26.36151655173909,
          26.4416043986169,
          26.52169224549471,
          26.60178009237252,
          26.681867939250328,
          26.761955786128137,
          26.842043633005943,
          26.922131479883753,
          27.002219326761562,
          27.08230717363937,
          27.16239502051718,
          27.24248286739499,
          27.3225707142728,
          27.40265856115061,
          27.48274640802842,
          27.562834254906228,
          27.642922101784038,
          27.723009948661847,
          27.803097795539657,
          27.883185642417466,
          27.963273489295275,
          28.043361336173085,
          28.12344918305089,
          28.2035370299287,
          28.28362487680651,
          28.36371272368432,
          28.44380057056213,
          28.523888417439938,
          28.603976264317744,
          28.684064111195553,
          28.764151958073363,
          28.844239804951172,
          28.924327651828982,
          29.00441549870679,
          29.0845033455846,
          29.16459119246241,
          29.24467903934022,
          29.32476688621803,
          29.40485473309584,
          29.484942579973648,
          29.565030426851457,
          29.645118273729267,
          29.725206120607076,
          29.805293967484886,
          29.885381814362695,
          29.9654696612405,
          30.04555750811831,
          30.12564535499612,
          30.20573320187393,
          30.28582104875174,
          30.36590889562955,
          30.445996742507354,
          30.526084589385164,
          30.606172436262973,
          30.686260283140783,
          30.766348130018592,
          30.8464359768964,
          30.92652382377421,
          31.00661167065202,
          31.08669951752983,
          31.16678736440764,
          31.24687521128545,
          31.32696305816326,
          31.407050905041068,
          31.487138751918877,
          31.567226598796687,
          31.647314445674496,
          31.727402292552306,
          31.80749013943011,
          31.88757798630792,
          31.96766583318573,
          32.047753680063536,
          32.12784152694135,
          32.207929373819155,
          32.288017220696965,
          32.368105067574774,
          32.448192914452584,
          32.52828076133039,
          32.6083686082082,
          32.68845645508601,
          32.76854430196382,
          32.84863214884163,
          32.92871999571944,
          33.00880784259725,
          33.08889568947506,
          33.16898353635287,
          33.24907138323068,
          33.32915923010849,
          33.4092470769863,
          33.48933492386411,
          33.569422770741916,
          33.649510617619725,
          33.72959846449753,
          33.809686311375344,
          33.88977415825315,
          33.96986200513096,
          34.049949852008766,
          34.13003769888658,
          34.210125545764384,
          34.290213392642194,
          34.37030123952,
          34.45038908639781,
          34.53047693327562,
          34.61056478015343,
          34.69065262703124,
          34.77074047390905,
          34.85082832078686,
          34.93091616766467
         ],
         "xaxis": "x2",
         "y": [
          18.957911349781867,
          19.037930425867007,
          19.117949501952143,
          19.197968578037283,
          19.27798765412242,
          19.358006730207556,
          19.438025806292693,
          19.51804488237783,
          19.59806395846297,
          19.678083034548106,
          19.758102110633246,
          19.838121186718382,
          19.91814026280352,
          19.99815933888866,
          20.078178414973795,
          20.158197491058935,
          20.23821656714407,
          20.31823564322921,
          20.398254719314345,
          20.47827379539948,
          20.55829287148462,
          20.638311947569758,
          20.718331023654898,
          20.798350099740034,
          20.878369175825174,
          20.95838825191031,
          21.038407327995447,
          21.118426404080587,
          21.198445480165724,
          21.27846455625086,
          21.358483632335997,
          21.438502708421137,
          21.518521784506273,
          21.59854086059141,
          21.67855993667655,
          21.758579012761686,
          21.838598088846826,
          21.918617164931963,
          21.9986362410171,
          22.07865531710224,
          22.158674393187376,
          22.238693469272516,
          22.31871254535765,
          22.39873162144279,
          22.478750697527925,
          22.55876977361306,
          22.6387888496982,
          22.718807925783338,
          22.798827001868478,
          22.878846077953614,
          22.958865154038754,
          23.038884230123887,
          23.118903306209024,
          23.198922382294164,
          23.2789414583793,
          23.35896053446444,
          23.438979610549577,
          23.518998686634717,
          23.599017762719853,
          23.67903683880499,
          23.75905591489013,
          23.839074990975266,
          23.919094067060406,
          23.999113143145543,
          24.079132219230683,
          24.15915129531582,
          24.239170371400952,
          24.319189447486092,
          24.39920852357123,
          24.47922759965637,
          24.559246675741505,
          24.639265751826645,
          24.719284827911782,
          24.79930390399692,
          24.87932298008206,
          24.95934205616719,
          25.03936113225233,
          25.119380208337468,
          25.199399284422608,
          25.279418360507744,
          25.35943743659288,
          25.43945651267802,
          25.519475588763157,
          25.599494664848297,
          25.679513740933434,
          25.75953281701857,
          25.83955189310371,
          25.919570969188847,
          25.999590045273987,
          26.07960912135912,
          26.15962819744426,
          26.239647273529396,
          26.319666349614533,
          26.399685425699673,
          26.47970450178481,
          26.55972357786995,
          26.639742653955086,
          26.719761730040226,
          26.79978080612536,
          26.879799882210495,
          26.959818958295635,
          27.03983803438077,
          27.11985711046591,
          27.199876186551048,
          27.279895262636188,
          27.359914338721325,
          27.43993341480646,
          27.5199524908916,
          27.599971566976738,
          27.679990643061878,
          27.760009719147014,
          27.840028795232154,
          27.92004787131729,
          28.000066947402427,
          28.080086023487564,
          28.1601050995727,
          28.24012417565784,
          28.320143251742977,
          28.400162327828117,
          28.480181403913253,
          28.560200479998386,
          28.640219556083526,
          28.720238632168662,
          28.800257708253802,
          28.88027678433894,
          28.960295860424075,
          29.040314936509215,
          29.120334012594352,
          29.200353088679492,
          29.28037216476463,
          29.36039124084977,
          29.440410316934905,
          29.52042939302004,
          29.60044846910518,
          29.680467545190318,
          29.760486621275458,
          29.840505697360594,
          29.92052477344573,
          30.000543849530867,
          30.080562925616004,
          30.160582001701144,
          30.24060107778628,
          30.32062015387142,
          30.400639229956553,
          30.480658306041693,
          30.56067738212683,
          30.640696458211966,
          30.720715534297106,
          30.800734610382243,
          30.880753686467383,
          30.96077276255252,
          31.04079183863766,
          31.120810914722796,
          31.200829990807932,
          31.280849066893072,
          31.36086814297821,
          31.44088721906335,
          31.520906295148485,
          31.600925371233625,
          31.680944447318762,
          31.760963523403895,
          31.840982599489035,
          31.92100167557417,
          32.001020751659304,
          32.081039827744455,
          32.161058903829584,
          32.24107797991472,
          32.32109705599986,
          32.401116132084994,
          32.48113520817014,
          32.561154284255274,
          32.64117336034041,
          32.72119243642555,
          32.80121151251068,
          32.88123058859583,
          32.96124966468096,
          33.0412687407661,
          33.121287816851236,
          33.20130689293638,
          33.281325969021516,
          33.36134504510665,
          33.44136412119179,
          33.521383197276926,
          33.60140227336207,
          33.6814213494472,
          33.76144042553234,
          33.84145950161747,
          33.921478577702615,
          34.00149765378775,
          34.081516729872895,
          34.161535805958025,
          34.24155488204316,
          34.3215739581283,
          34.40159303421344,
          34.48161211029858,
          34.561631186383714,
          34.64165026246885,
          34.721669338553994,
          34.80168841463913,
          34.88170749072427
         ],
         "yaxis": "y2"
        },
        {
         "legendgroup": "L_inf",
         "mode": "lines",
         "name": "L_inf deg=3",
         "type": "scatter",
         "x": [
          18.99343463898065,
          19.073522485858458,
          19.153610332736267,
          19.233698179614077,
          19.313786026491886,
          19.393873873369696,
          19.4739617202475,
          19.55404956712531,
          19.63413741400312,
          19.71422526088093,
          19.79431310775874,
          19.87440095463655,
          19.95448880151436,
          20.034576648392168,
          20.114664495269977,
          20.194752342147787,
          20.274840189025596,
          20.354928035903406,
          20.43501588278121,
          20.51510372965902,
          20.59519157653683,
          20.67527942341464,
          20.75536727029245,
          20.83545511717026,
          20.91554296404807,
          20.995630810925878,
          21.075718657803687,
          21.155806504681497,
          21.235894351559306,
          21.315982198437112,
          21.39607004531492,
          21.47615789219273,
          21.55624573907054,
          21.63633358594835,
          21.71642143282616,
          21.79650927970397,
          21.87659712658178,
          21.956684973459588,
          22.036772820337397,
          22.116860667215207,
          22.196948514093016,
          22.277036360970826,
          22.35712420784863,
          22.43721205472644,
          22.51729990160425,
          22.59738774848206,
          22.67747559535987,
          22.75756344223768,
          22.837651289115488,
          22.917739135993298,
          22.997826982871107,
          23.077914829748913,
          23.158002676626722,
          23.238090523504532,
          23.31817837038234,
          23.39826621726015,
          23.47835406413796,
          23.55844191101577,
          23.63852975789358,
          23.71861760477139,
          23.798705451649198,
          23.878793298527007,
          23.958881145404817,
          24.038968992282626,
          24.119056839160436,
          24.199144686038245,
          24.27923253291605,
          24.35932037979386,
          24.43940822667167,
          24.51949607354948,
          24.59958392042729,
          24.6796717673051,
          24.759759614182908,
          24.839847461060717,
          24.919935307938527,
          25.000023154816333,
          25.080111001694142,
          25.16019884857195,
          25.24028669544976,
          25.32037454232757,
          25.40046238920538,
          25.48055023608319,
          25.560638082961,
          25.64072592983881,
          25.720813776716618,
          25.800901623594427,
          25.880989470472237,
          25.961077317350046,
          26.041165164227856,
          26.12125301110566,
          26.20134085798347,
          26.28142870486128,
          26.36151655173909,
          26.4416043986169,
          26.52169224549471,
          26.60178009237252,
          26.681867939250328,
          26.761955786128137,
          26.842043633005943,
          26.922131479883753,
          27.002219326761562,
          27.08230717363937,
          27.16239502051718,
          27.24248286739499,
          27.3225707142728,
          27.40265856115061,
          27.48274640802842,
          27.562834254906228,
          27.642922101784038,
          27.723009948661847,
          27.803097795539657,
          27.883185642417466,
          27.963273489295275,
          28.043361336173085,
          28.12344918305089,
          28.2035370299287,
          28.28362487680651,
          28.36371272368432,
          28.44380057056213,
          28.523888417439938,
          28.603976264317744,
          28.684064111195553,
          28.764151958073363,
          28.844239804951172,
          28.924327651828982,
          29.00441549870679,
          29.0845033455846,
          29.16459119246241,
          29.24467903934022,
          29.32476688621803,
          29.40485473309584,
          29.484942579973648,
          29.565030426851457,
          29.645118273729267,
          29.725206120607076,
          29.805293967484886,
          29.885381814362695,
          29.9654696612405,
          30.04555750811831,
          30.12564535499612,
          30.20573320187393,
          30.28582104875174,
          30.36590889562955,
          30.445996742507354,
          30.526084589385164,
          30.606172436262973,
          30.686260283140783,
          30.766348130018592,
          30.8464359768964,
          30.92652382377421,
          31.00661167065202,
          31.08669951752983,
          31.16678736440764,
          31.24687521128545,
          31.32696305816326,
          31.407050905041068,
          31.487138751918877,
          31.567226598796687,
          31.647314445674496,
          31.727402292552306,
          31.80749013943011,
          31.88757798630792,
          31.96766583318573,
          32.047753680063536,
          32.12784152694135,
          32.207929373819155,
          32.288017220696965,
          32.368105067574774,
          32.448192914452584,
          32.52828076133039,
          32.6083686082082,
          32.68845645508601,
          32.76854430196382,
          32.84863214884163,
          32.92871999571944,
          33.00880784259725,
          33.08889568947506,
          33.16898353635287,
          33.24907138323068,
          33.32915923010849,
          33.4092470769863,
          33.48933492386411,
          33.569422770741916,
          33.649510617619725,
          33.72959846449753,
          33.809686311375344,
          33.88977415825315,
          33.96986200513096,
          34.049949852008766,
          34.13003769888658,
          34.210125545764384,
          34.290213392642194,
          34.37030123952,
          34.45038908639781,
          34.53047693327562,
          34.61056478015343,
          34.69065262703124,
          34.77074047390905,
          34.85082832078686,
          34.93091616766467
         ],
         "xaxis": "x2",
         "y": [
          18.949094638578767,
          19.029404568087028,
          19.10971171528423,
          19.190016077619994,
          19.27031765254393,
          19.350616437505657,
          19.43091242995478,
          19.51120562734092,
          19.59149602711369,
          19.671783626722704,
          19.752068423617573,
          19.832350415247912,
          19.912629599063333,
          19.992905972513455,
          20.073179533047888,
          20.153450278116246,
          20.23371820516815,
          20.313983311653192,
          20.39424559502101,
          20.47450505272121,
          20.5547616822034,
          20.6350154809172,
          20.715266446312224,
          20.795514575838084,
          20.87575986694439,
          20.95600231708076,
          21.036241923696814,
          21.116478684242153,
          21.196712596166396,
          21.27694365691916,
          21.35717186395005,
          21.437397214708696,
          21.517619706644695,
          21.59783933720767,
          21.678056103847236,
          21.758270004013003,
          21.838481035154583,
          21.918689194721594,
          21.99889448016365,
          22.07909688893035,
          22.159296418471335,
          22.2394930662362,
          22.319686829674556,
          22.39987770623603,
          22.480065693370232,
          22.560250788526773,
          22.64043298915526,
          22.720612292705322,
          22.800788696626565,
          22.8809621983686,
          22.961132795381044,
          23.041300485113506,
          23.12146526501561,
          23.201627132536963,
          23.281786085127173,
          23.361942120235867,
          23.442095235312657,
          23.522245427807146,
          23.60239269516895,
          23.68253703484769,
          23.762678444292984,
          23.84281692095443,
          23.92295246228165,
          24.003085065724267,
          24.083214728731875,
          24.163341448754103,
          24.24346522324056,
          24.32358604964086,
          24.40370392540461,
          24.48381884798144,
          24.563930814820953,
          24.644039823372765,
          24.72414587108649,
          24.804248955411737,
          24.884349073798123,
          24.964446223695266,
          25.044540402552773,
          25.124631607820263,
          25.20471983694735,
          25.284805087383646,
          25.364887356578762,
          25.444966641982315,
          25.525042941043917,
          25.60511625121319,
          25.68518656993973,
          25.765253894673165,
          25.84531822286311,
          25.92537955195917,
          26.005437879410966,
          26.085493202668104,
          26.165545519180206,
          26.245594826396882,
          26.32564112176775,
          26.405684402742413,
          26.485724666770498,
          26.56576191130161,
          26.645796133785367,
          26.72582733167138,
          26.80585550240926,
          26.885880643448626,
          26.96590275223909,
          27.045921826230273,
          27.125937862871773,
          27.205950859613225,
          27.285960813904218,
          27.36596772319439,
          27.445971584933336,
          27.525972396570683,
          27.605970155556037,
          27.68596485933901,
          27.765956505369225,
          27.845945091096286,
          27.925930613969815,
          28.005913071439416,
          28.08589246095471,
          28.16586877996531,
          28.245842025920837,
          28.32581219627089,
          28.40577928846509,
          28.485743299953054,
          28.565704228184387,
          28.64566207060872,
          28.72561682467564,
          28.80556848783479,
          28.885517057535765,
          28.96546253122818,
          29.045404906361657,
          29.125344180385802,
          29.205280350750236,
          29.285213414904565,
          29.36514337029841,
          29.44507021438138,
          29.524993944603093,
          29.604914558413157,
          29.68483205326119,
          29.764746426596798,
          29.84465767586961,
          29.92456579852923,
          30.004470792025263,
          30.084372653807346,
          30.164271381325076,
          30.24416697202807,
          30.32405942336594,
          30.403948732788304,
          30.483834897744774,
          30.56371791568496,
          30.643597784058485,
          30.723474500314953,
          30.803348061903986,
          30.883218466275196,
          30.963085710878193,
          31.042949793162588,
          31.122810710578,
          31.20266846057405,
          31.28252304060034,
          31.362374448106483,
          31.4422226805421,
          31.522067735356806,
          31.60190961000021,
          31.68174830192192,
          31.761583808571558,
          31.84141612739874,
          31.921245255853083,
          32.001071191384185,
          32.08089393144167,
          32.160713473475155,
          32.24052981493425,
          32.320342953268565,
          32.40015288592772,
          32.47995961036132,
          32.559763124018986,
          32.639563424350335,
          32.719360508804975,
          32.799154374832526,
          32.878945019882586,
          32.958732441404784,
          33.038516636848726,
          33.11829760366404,
          33.198075339300324,
          33.2778498412072,
          33.35762110683427,
          33.43738913363116,
          33.51715391904749,
          33.59691546053285,
          33.67667375553687,
          33.75642880150917,
          33.83618059589935,
          33.91592913615704,
          33.99567441973183,
          34.075416444073355,
          34.15515520663121,
          34.23489070485502,
          34.31462293619441,
          34.394351898098975,
          34.474077588018346,
          34.55380000340212,
          34.63351914169991,
          34.713235000361344,
          34.79294757683603,
          34.872656868573586
         ],
         "yaxis": "y2"
        },
        {
         "legendgroup": "L2_res_1",
         "name": "L2 deg=1 (остатки)",
         "offsetgroup": "L2_1",
         "type": "bar",
         "x": [
          "19.0",
          "23.0",
          "27.0",
          "31.0",
          "35.0"
         ],
         "xaxis": "x3",
         "y": [
          -0.005141171410702583,
          0.002113308595568242,
          0.010621799468228943,
          0.0016064202622594337,
          -0.004653143677380456
         ],
         "yaxis": "y3"
        },
        {
         "legendgroup": "Linf_res_1",
         "name": "L_inf deg=1 (остатки)",
         "offsetgroup": "Linf_1",
         "type": "bar",
         "x": [
          "19.0",
          "23.0",
          "27.0",
          "31.0",
          "35.0"
         ],
         "xaxis": "x4",
         "y": [
          -0.006814134114097925,
          0.00027286782520619113,
          0.008614359335048505,
          -0.0005685164586743952,
          -0.006994915873974605
         ],
         "yaxis": "y4"
        },
        {
         "legendgroup": "L2_res_2",
         "name": "L2 deg=2 (остатки)",
         "offsetgroup": "L2_2",
         "type": "bar",
         "x": [
          "19.0",
          "23.0",
          "27.0",
          "31.0",
          "35.0"
         ],
         "xaxis": "x3",
         "y": [
          0.0005165604527412881,
          -0.0017118192763696527,
          0.0035204093659295665,
          -0.002582752226153673,
          0.00022915207949125715
         ],
         "yaxis": "y3"
        },
        {
         "legendgroup": "Linf_res_2",
         "name": "L_inf deg=2 (остатки)",
         "offsetgroup": "Linf_2",
         "type": "bar",
         "x": [
          "19.0",
          "23.0",
          "27.0",
          "31.0",
          "35.0"
         ],
         "xaxis": "x4",
         "y": [
          0.0020366413778667436,
          -0.002003027845500327,
          0.0025747014032688753,
          -0.0030298026415422896,
          0.0014287737159222047
         ],
         "yaxis": "y4"
        },
        {
         "legendgroup": "L2_res_3",
         "name": "L2 deg=3 (остатки)",
         "offsetgroup": "L2_3",
         "type": "bar",
         "x": [
          "19.0",
          "23.0",
          "27.0",
          "31.0",
          "35.0"
         ],
         "xaxis": "x3",
         "y": [
          0.0003526962537669931,
          -0.0013679353444864262,
          0.003388974182904292,
          -0.0031285446250564064,
          0.0003737309953351087
         ],
         "yaxis": "y3"
        },
        {
         "legendgroup": "Linf_res_3",
         "name": "L_inf deg=3 (остатки)",
         "offsetgroup": "Linf_3",
         "type": "bar",
         "x": [
          "19.0",
          "23.0",
          "27.0",
          "31.0",
          "35.0"
         ],
         "xaxis": "x4",
         "y": [
          0.0020025770890015337,
          -0.0019695257670981903,
          0.002531637674284326,
          -0.002979127017688654,
          0.0020557062767068146
         ],
         "yaxis": "y4"
        }
       ],
       "layout": {
        "annotations": [
         {
          "font": {
           "size": 16
          },
          "showarrow": false,
          "text": "T9: аппроксимация L2",
          "x": 0.22,
          "xanchor": "center",
          "xref": "paper",
          "y": 1,
          "yanchor": "bottom",
          "yref": "paper"
         },
         {
          "font": {
           "size": 16
          },
          "showarrow": false,
          "text": "T9: аппроксимация L_inf",
          "x": 0.78,
          "xanchor": "center",
          "xref": "paper",
          "y": 1,
          "yanchor": "bottom",
          "yref": "paper"
         },
         {
          "font": {
           "size": 16
          },
          "showarrow": false,
          "text": "Остатки L2 (Y - Y_hat)",
          "x": 0.22,
          "xanchor": "center",
          "xref": "paper",
          "y": 0.35200000000000004,
          "yanchor": "bottom",
          "yref": "paper"
         },
         {
          "font": {
           "size": 16
          },
          "showarrow": false,
          "text": "Остатки L_inf (Y - Y_hat)",
          "x": 0.78,
          "xanchor": "center",
          "xref": "paper",
          "y": 0.35200000000000004,
          "yanchor": "bottom",
          "yref": "paper"
         }
        ],
        "barmode": "group",
        "height": 740,
        "legend": {
         "orientation": "h",
         "x": 0.5,
         "xanchor": "center",
         "y": 1.05,
         "yanchor": "bottom"
        },
        "margin": {
         "b": 90,
         "l": 60,
         "r": 40,
         "t": 100
        },
        "template": {
         "data": {
          "bar": [
           {
            "error_x": {
             "color": "#2a3f5f"
            },
            "error_y": {
             "color": "#2a3f5f"
            },
            "marker": {
             "line": {
              "color": "#E5ECF6",
              "width": 0.5
             },
             "pattern": {
              "fillmode": "overlay",
              "size": 10,
              "solidity": 0.2
             }
            },
            "type": "bar"
           }
          ],
          "barpolar": [
           {
            "marker": {
             "line": {
              "color": "#E5ECF6",
              "width": 0.5
             },
             "pattern": {
              "fillmode": "overlay",
              "size": 10,
              "solidity": 0.2
             }
            },
            "type": "barpolar"
           }
          ],
          "carpet": [
           {
            "aaxis": {
             "endlinecolor": "#2a3f5f",
             "gridcolor": "white",
             "linecolor": "white",
             "minorgridcolor": "white",
             "startlinecolor": "#2a3f5f"
            },
            "baxis": {
             "endlinecolor": "#2a3f5f",
             "gridcolor": "white",
             "linecolor": "white",
             "minorgridcolor": "white",
             "startlinecolor": "#2a3f5f"
            },
            "type": "carpet"
           }
          ],
          "choropleth": [
           {
            "colorbar": {
             "outlinewidth": 0,
             "ticks": ""
            },
            "type": "choropleth"
           }
          ],
          "contour": [
           {
            "colorbar": {
             "outlinewidth": 0,
             "ticks": ""
            },
            "colorscale": [
             [
              0,
              "#0d0887"
             ],
             [
              0.1111111111111111,
              "#46039f"
             ],
             [
              0.2222222222222222,
              "#7201a8"
             ],
             [
              0.3333333333333333,
              "#9c179e"
             ],
             [
              0.4444444444444444,
              "#bd3786"
             ],
             [
              0.5555555555555556,
              "#d8576b"
             ],
             [
              0.6666666666666666,
              "#ed7953"
             ],
             [
              0.7777777777777778,
              "#fb9f3a"
             ],
             [
              0.8888888888888888,
              "#fdca26"
             ],
             [
              1,
              "#f0f921"
             ]
            ],
            "type": "contour"
           }
          ],
          "contourcarpet": [
           {
            "colorbar": {
             "outlinewidth": 0,
             "ticks": ""
            },
            "type": "contourcarpet"
           }
          ],
          "heatmap": [
           {
            "colorbar": {
             "outlinewidth": 0,
             "ticks": ""
            },
            "colorscale": [
             [
              0,
              "#0d0887"
             ],
             [
              0.1111111111111111,
              "#46039f"
             ],
             [
              0.2222222222222222,
              "#7201a8"
             ],
             [
              0.3333333333333333,
              "#9c179e"
             ],
             [
              0.4444444444444444,
              "#bd3786"
             ],
             [
              0.5555555555555556,
              "#d8576b"
             ],
             [
              0.6666666666666666,
              "#ed7953"
             ],
             [
              0.7777777777777778,
              "#fb9f3a"
             ],
             [
              0.8888888888888888,
              "#fdca26"
             ],
             [
              1,
              "#f0f921"
             ]
            ],
            "type": "heatmap"
           }
          ],
          "heatmapgl": [
           {
            "colorbar": {
             "outlinewidth": 0,
             "ticks": ""
            },
            "colorscale": [
             [
              0,
              "#0d0887"
             ],
             [
              0.1111111111111111,
              "#46039f"
             ],
             [
              0.2222222222222222,
              "#7201a8"
             ],
             [
              0.3333333333333333,
              "#9c179e"
             ],
             [
              0.4444444444444444,
              "#bd3786"
             ],
             [
              0.5555555555555556,
              "#d8576b"
             ],
             [
              0.6666666666666666,
              "#ed7953"
             ],
             [
              0.7777777777777778,
              "#fb9f3a"
             ],
             [
              0.8888888888888888,
              "#fdca26"
             ],
             [
              1,
              "#f0f921"
             ]
            ],
            "type": "heatmapgl"
           }
          ],
          "histogram": [
           {
            "marker": {
             "pattern": {
              "fillmode": "overlay",
              "size": 10,
              "solidity": 0.2
             }
            },
            "type": "histogram"
           }
          ],
          "histogram2d": [
           {
            "colorbar": {
             "outlinewidth": 0,
             "ticks": ""
            },
            "colorscale": [
             [
              0,
              "#0d0887"
             ],
             [
              0.1111111111111111,
              "#46039f"
             ],
             [
              0.2222222222222222,
              "#7201a8"
             ],
             [
              0.3333333333333333,
              "#9c179e"
             ],
             [
              0.4444444444444444,
              "#bd3786"
             ],
             [
              0.5555555555555556,
              "#d8576b"
             ],
             [
              0.6666666666666666,
              "#ed7953"
             ],
             [
              0.7777777777777778,
              "#fb9f3a"
             ],
             [
              0.8888888888888888,
              "#fdca26"
             ],
             [
              1,
              "#f0f921"
             ]
            ],
            "type": "histogram2d"
           }
          ],
          "histogram2dcontour": [
           {
            "colorbar": {
             "outlinewidth": 0,
             "ticks": ""
            },
            "colorscale": [
             [
              0,
              "#0d0887"
             ],
             [
              0.1111111111111111,
              "#46039f"
             ],
             [
              0.2222222222222222,
              "#7201a8"
             ],
             [
              0.3333333333333333,
              "#9c179e"
             ],
             [
              0.4444444444444444,
              "#bd3786"
             ],
             [
              0.5555555555555556,
              "#d8576b"
             ],
             [
              0.6666666666666666,
              "#ed7953"
             ],
             [
              0.7777777777777778,
              "#fb9f3a"
             ],
             [
              0.8888888888888888,
              "#fdca26"
             ],
             [
              1,
              "#f0f921"
             ]
            ],
            "type": "histogram2dcontour"
           }
          ],
          "mesh3d": [
           {
            "colorbar": {
             "outlinewidth": 0,
             "ticks": ""
            },
            "type": "mesh3d"
           }
          ],
          "parcoords": [
           {
            "line": {
             "colorbar": {
              "outlinewidth": 0,
              "ticks": ""
             }
            },
            "type": "parcoords"
           }
          ],
          "pie": [
           {
            "automargin": true,
            "type": "pie"
           }
          ],
          "scatter": [
           {
            "fillpattern": {
             "fillmode": "overlay",
             "size": 10,
             "solidity": 0.2
            },
            "type": "scatter"
           }
          ],
          "scatter3d": [
           {
            "line": {
             "colorbar": {
              "outlinewidth": 0,
              "ticks": ""
             }
            },
            "marker": {
             "colorbar": {
              "outlinewidth": 0,
              "ticks": ""
             }
            },
            "type": "scatter3d"
           }
          ],
          "scattercarpet": [
           {
            "marker": {
             "colorbar": {
              "outlinewidth": 0,
              "ticks": ""
             }
            },
            "type": "scattercarpet"
           }
          ],
          "scattergeo": [
           {
            "marker": {
             "colorbar": {
              "outlinewidth": 0,
              "ticks": ""
             }
            },
            "type": "scattergeo"
           }
          ],
          "scattergl": [
           {
            "marker": {
             "colorbar": {
              "outlinewidth": 0,
              "ticks": ""
             }
            },
            "type": "scattergl"
           }
          ],
          "scattermapbox": [
           {
            "marker": {
             "colorbar": {
              "outlinewidth": 0,
              "ticks": ""
             }
            },
            "type": "scattermapbox"
           }
          ],
          "scatterpolar": [
           {
            "marker": {
             "colorbar": {
              "outlinewidth": 0,
              "ticks": ""
             }
            },
            "type": "scatterpolar"
           }
          ],
          "scatterpolargl": [
           {
            "marker": {
             "colorbar": {
              "outlinewidth": 0,
              "ticks": ""
             }
            },
            "type": "scatterpolargl"
           }
          ],
          "scatterternary": [
           {
            "marker": {
             "colorbar": {
              "outlinewidth": 0,
              "ticks": ""
             }
            },
            "type": "scatterternary"
           }
          ],
          "surface": [
           {
            "colorbar": {
             "outlinewidth": 0,
             "ticks": ""
            },
            "colorscale": [
             [
              0,
              "#0d0887"
             ],
             [
              0.1111111111111111,
              "#46039f"
             ],
             [
              0.2222222222222222,
              "#7201a8"
             ],
             [
              0.3333333333333333,
              "#9c179e"
             ],
             [
              0.4444444444444444,
              "#bd3786"
             ],
             [
              0.5555555555555556,
              "#d8576b"
             ],
             [
              0.6666666666666666,
              "#ed7953"
             ],
             [
              0.7777777777777778,
              "#fb9f3a"
             ],
             [
              0.8888888888888888,
              "#fdca26"
             ],
             [
              1,
              "#f0f921"
             ]
            ],
            "type": "surface"
           }
          ],
          "table": [
           {
            "cells": {
             "fill": {
              "color": "#EBF0F8"
             },
             "line": {
              "color": "white"
             }
            },
            "header": {
             "fill": {
              "color": "#C8D4E3"
             },
             "line": {
              "color": "white"
             }
            },
            "type": "table"
           }
          ]
         },
         "layout": {
          "annotationdefaults": {
           "arrowcolor": "#2a3f5f",
           "arrowhead": 0,
           "arrowwidth": 1
          },
          "autotypenumbers": "strict",
          "coloraxis": {
           "colorbar": {
            "outlinewidth": 0,
            "ticks": ""
           }
          },
          "colorscale": {
           "diverging": [
            [
             0,
             "#8e0152"
            ],
            [
             0.1,
             "#c51b7d"
            ],
            [
             0.2,
             "#de77ae"
            ],
            [
             0.3,
             "#f1b6da"
            ],
            [
             0.4,
             "#fde0ef"
            ],
            [
             0.5,
             "#f7f7f7"
            ],
            [
             0.6,
             "#e6f5d0"
            ],
            [
             0.7,
             "#b8e186"
            ],
            [
             0.8,
             "#7fbc41"
            ],
            [
             0.9,
             "#4d9221"
            ],
            [
             1,
             "#276419"
            ]
           ],
           "sequential": [
            [
             0,
             "#0d0887"
            ],
            [
             0.1111111111111111,
             "#46039f"
            ],
            [
             0.2222222222222222,
             "#7201a8"
            ],
            [
             0.3333333333333333,
             "#9c179e"
            ],
            [
             0.4444444444444444,
             "#bd3786"
            ],
            [
             0.5555555555555556,
             "#d8576b"
            ],
            [
             0.6666666666666666,
             "#ed7953"
            ],
            [
             0.7777777777777778,
             "#fb9f3a"
            ],
            [
             0.8888888888888888,
             "#fdca26"
            ],
            [
             1,
             "#f0f921"
            ]
           ],
           "sequentialminus": [
            [
             0,
             "#0d0887"
            ],
            [
             0.1111111111111111,
             "#46039f"
            ],
            [
             0.2222222222222222,
             "#7201a8"
            ],
            [
             0.3333333333333333,
             "#9c179e"
            ],
            [
             0.4444444444444444,
             "#bd3786"
            ],
            [
             0.5555555555555556,
             "#d8576b"
            ],
            [
             0.6666666666666666,
             "#ed7953"
            ],
            [
             0.7777777777777778,
             "#fb9f3a"
            ],
            [
             0.8888888888888888,
             "#fdca26"
            ],
            [
             1,
             "#f0f921"
            ]
           ]
          },
          "colorway": [
           "#636efa",
           "#EF553B",
           "#00cc96",
           "#ab63fa",
           "#FFA15A",
           "#19d3f3",
           "#FF6692",
           "#B6E880",
           "#FF97FF",
           "#FECB52"
          ],
          "font": {
           "color": "#2a3f5f"
          },
          "geo": {
           "bgcolor": "white",
           "lakecolor": "white",
           "landcolor": "#E5ECF6",
           "showlakes": true,
           "showland": true,
           "subunitcolor": "white"
          },
          "hoverlabel": {
           "align": "left"
          },
          "hovermode": "closest",
          "mapbox": {
           "style": "light"
          },
          "paper_bgcolor": "white",
          "plot_bgcolor": "#E5ECF6",
          "polar": {
           "angularaxis": {
            "gridcolor": "white",
            "linecolor": "white",
            "ticks": ""
           },
           "bgcolor": "#E5ECF6",
           "radialaxis": {
            "gridcolor": "white",
            "linecolor": "white",
            "ticks": ""
           }
          },
          "scene": {
           "xaxis": {
            "backgroundcolor": "#E5ECF6",
            "gridcolor": "white",
            "gridwidth": 2,
            "linecolor": "white",
            "showbackground": true,
            "ticks": "",
            "zerolinecolor": "white"
           },
           "yaxis": {
            "backgroundcolor": "#E5ECF6",
            "gridcolor": "white",
            "gridwidth": 2,
            "linecolor": "white",
            "showbackground": true,
            "ticks": "",
            "zerolinecolor": "white"
           },
           "zaxis": {
            "backgroundcolor": "#E5ECF6",
            "gridcolor": "white",
            "gridwidth": 2,
            "linecolor": "white",
            "showbackground": true,
            "ticks": "",
            "zerolinecolor": "white"
           }
          },
          "shapedefaults": {
           "line": {
            "color": "#2a3f5f"
           }
          },
          "ternary": {
           "aaxis": {
            "gridcolor": "white",
            "linecolor": "white",
            "ticks": ""
           },
           "baxis": {
            "gridcolor": "white",
            "linecolor": "white",
            "ticks": ""
           },
           "bgcolor": "#E5ECF6",
           "caxis": {
            "gridcolor": "white",
            "linecolor": "white",
            "ticks": ""
           }
          },
          "title": {
           "x": 0.05
          },
          "xaxis": {
           "automargin": true,
           "gridcolor": "white",
           "linecolor": "white",
           "ticks": "",
           "title": {
            "standoff": 15
           },
           "zerolinecolor": "white",
           "zerolinewidth": 2
          },
          "yaxis": {
           "automargin": true,
           "gridcolor": "white",
           "linecolor": "white",
           "ticks": "",
           "title": {
            "standoff": 15
           },
           "zerolinecolor": "white",
           "zerolinewidth": 2
          }
         }
        },
        "width": 1120,
        "xaxis": {
         "anchor": "y",
         "domain": [
          0,
          0.44
         ],
         "gridcolor": "rgba(0,0,0,0.15)",
         "showgrid": true,
         "title": {
          "text": "T9 (X)"
         }
        },
        "xaxis2": {
         "anchor": "y2",
         "domain": [
          0.56,
          1
         ],
         "gridcolor": "rgba(0,0,0,0.15)",
         "showgrid": true,
         "title": {
          "text": "T9 (X)"
         }
        },
        "xaxis3": {
         "anchor": "y3",
         "categoryarray": [
          "19.0",
          "23.0",
          "27.0",
          "31.0",
          "35.0"
         ],
         "categoryorder": "array",
         "domain": [
          0,
          0.44
         ],
         "gridcolor": "rgba(0,0,0,0.12)",
         "showgrid": true,
         "title": {
          "text": "Полочка"
         },
         "type": "category"
        },
        "xaxis4": {
         "anchor": "y4",
         "categoryarray": [
          "19.0",
          "23.0",
          "27.0",
          "31.0",
          "35.0"
         ],
         "categoryorder": "array",
         "domain": [
          0.56,
          1
         ],
         "gridcolor": "rgba(0,0,0,0.12)",
         "showgrid": true,
         "title": {
          "text": "Полочка"
         },
         "type": "category"
        },
        "yaxis": {
         "anchor": "x",
         "domain": [
          0.47200000000000003,
          1
         ],
         "gridcolor": "rgba(0,0,0,0.15)",
         "showgrid": true,
         "title": {
          "text": "T8 (Y)"
         }
        },
        "yaxis2": {
         "anchor": "x2",
         "domain": [
          0.47200000000000003,
          1
         ],
         "gridcolor": "rgba(0,0,0,0.15)",
         "showgrid": true,
         "title": {
          "text": "T8 (Y)"
         }
        },
        "yaxis3": {
         "anchor": "x3",
         "domain": [
          0,
          0.35200000000000004
         ],
         "gridcolor": "rgba(0,0,0,0.12)",
         "showgrid": true,
         "title": {
          "text": "°C"
         }
        },
        "yaxis4": {
         "anchor": "x4",
         "domain": [
          0,
          0.35200000000000004
         ],
         "gridcolor": "rgba(0,0,0,0.12)",
         "showgrid": true,
         "title": {
          "text": "°C"
         }
        }
       }
      }
     },
     "metadata": {},
     "output_type": "display_data"
    },
    {
     "name": "stdout",
     "output_type": "stream",
     "text": [
      "Сохранено: calibration_models.csv (18 строк)\n"
     ]
    }
   ],
   "source": [
    "# === 12) Калибровочные модели (L2 и L_inf) ===\n",
    "import numpy as np\n",
    "import pandas as pd\n",
    "import plotly.graph_objects as go\n",
    "from plotly.subplots import make_subplots\n",
    "\n",
    "assert 'calibration_points_by_sensor' in globals() and not calibration_points_by_sensor.empty, 'Нет калибровочной таблицы.'\n",
    "\n",
    "try:\n",
    "    from scipy.optimize import linprog  # optional, для точной L_inf\n",
    "    _HAS_SCIPY = True\n",
    "except Exception:\n",
    "    _HAS_SCIPY = False\n",
    "\n",
    "def _build_vandermonde(x, deg):\n",
    "    # Descending powers\n",
    "    return np.vander(x, N=deg+1, increasing=False)\n",
    "\n",
    "def _poly_formula(coeffs):\n",
    "    deg = len(coeffs) - 1\n",
    "    parts = []\n",
    "    for i, c in enumerate(coeffs):\n",
    "        p = deg - i\n",
    "        if abs(c) < 1e-15:\n",
    "            continue\n",
    "        coef = f\"{c:.8g}\"\n",
    "        if p == 0:\n",
    "            parts.append(f\"{coef}\")\n",
    "        elif p == 1:\n",
    "            parts.append(f\"{coef}·X\")\n",
    "        else:\n",
    "            parts.append(f\"{coef}·X^{p}\")\n",
    "    if not parts:\n",
    "        return 'Y = 0'\n",
    "    expr = ' + '.join(parts).replace('+ -', '- ')\n",
    "    return 'Y = ' + expr\n",
    "\n",
    "def fit_L2(x, y, deg, y_std=None):\n",
    "    if y_std is not None:\n",
    "        w = 1.0 / np.clip(y_std, 1e-12, np.inf)\n",
    "        coefs = np.polyfit(x, y, deg=deg, w=w)\n",
    "    else:\n",
    "        coefs = np.polyfit(x, y, deg=deg)\n",
    "    p = np.poly1d(coefs)\n",
    "    yhat = p(x)\n",
    "    resid = y - yhat\n",
    "    return coefs, p, resid\n",
    "\n",
    "def fit_Linf(x, y, deg, y_std=None, max_iter_irls=25):\n",
    "    # Минимакс через LP, если доступен SciPy. Иначе — IRLS-приближение к L_inf.\n",
    "    if _HAS_SCIPY:\n",
    "        X = _build_vandermonde(x, deg)\n",
    "        if y_std is not None:\n",
    "            w = 1.0 / np.clip(y_std, 1e-12, np.inf)\n",
    "            Xw = X * w[:, None]\n",
    "            yw = y * w\n",
    "        else:\n",
    "            Xw = X\n",
    "            yw = y\n",
    "        n, m = Xw.shape\n",
    "        A1 = np.hstack([Xw, -np.ones((n,1))])\n",
    "        b1 = yw\n",
    "        A2 = np.hstack([-Xw, -np.ones((n,1))])\n",
    "        b2 = -yw\n",
    "        A_ub = np.vstack([A1, A2])\n",
    "        b_ub = np.concatenate([b1, b2])\n",
    "        c_vec = np.zeros(m+1); c_vec[-1] = 1.0\n",
    "        bounds = [(None, None)]*m + [(0, None)]\n",
    "        res = linprog(c_vec, A_ub=A_ub, b_ub=b_ub, bounds=bounds, method='highs')\n",
    "        if not res.success:\n",
    "            raise RuntimeError('linprog failed: ' + str(res.message))\n",
    "        coefs = res.x[:-1]\n",
    "        p = np.poly1d(coefs)\n",
    "        yhat = p(x)\n",
    "        resid = y - yhat\n",
    "        return coefs, p, resid\n",
    "    coefs = np.polyfit(x, y, deg=deg)\n",
    "    for _ in range(max_iter_irls):\n",
    "        p = np.poly1d(coefs)\n",
    "        resid = y - p(x)\n",
    "        s = np.clip(np.abs(resid), 1e-9, None)\n",
    "        if y_std is not None:\n",
    "            s = s / np.clip(y_std, 1e-12, np.inf)\n",
    "        w = 1.0 / s\n",
    "        coefs = np.polyfit(x, y, deg=deg, w=w)\n",
    "    p = np.poly1d(coefs)\n",
    "    resid = y - p(x)\n",
    "    return coefs, p, resid\n",
    "\n",
    "def _err_dict(arr: np.ndarray):\n",
    "    clean = np.nan_to_num(arr, nan=0.0)\n",
    "    if not np.any(clean):\n",
    "        return None\n",
    "    return dict(type='data', array=clean, visible=True)\n",
    "\n",
    "rows = []\n",
    "\n",
    "for sensor, g in calibration_points_by_sensor.groupby('sensor'):\n",
    "    g = g.sort_values('x_mean').reset_index(drop=True)\n",
    "    x = g['x_mean'].to_numpy(float)\n",
    "    y = g['y_mean'].to_numpy(float)\n",
    "    y_std = g['y_std'].to_numpy(float) if 'y_std' in g else np.full_like(y, np.nan)\n",
    "    n = len(x)\n",
    "    deg_max = max(1, n - 2)\n",
    "\n",
    "    model_bank = []\n",
    "    for d in range(1, deg_max+1):\n",
    "        c2, p2, r2 = fit_L2(x, y, d, y_std)\n",
    "        rmse2 = float(np.sqrt(np.mean(r2**2)))\n",
    "        mae2 = float(np.mean(np.abs(r2)))\n",
    "        mx2 = float(np.max(np.abs(r2)))\n",
    "        model_bank.append({'sensor':sensor,'method':'L2','deg':d,'coefs':c2,'poly':p2,'resid':r2,'rmse':rmse2,'mae':mae2,'maxerr':mx2})\n",
    "        cI, pI, rI = fit_Linf(x, y, d, y_std)\n",
    "        rmseI = float(np.sqrt(np.mean(rI**2)))\n",
    "        maeI = float(np.mean(np.abs(rI)))\n",
    "        mxI = float(np.max(np.abs(rI)))\n",
    "        model_bank.append({'sensor':sensor,'method':'L_inf','deg':d,'coefs':cI,'poly':pI,'resid':rI,'rmse':rmseI,'mae':maeI,'maxerr':mxI})\n",
    "\n",
    "    print(f\"Сенсор {sensor}: {n} точек; степени 1..{deg_max}\")\n",
    "    for f in model_bank:\n",
    "        cdesc = ', '.join([f\"{c:.8g}\" for c in f['coefs']])\n",
    "        print(f\"{f['method']} deg={f['deg']}: {_poly_formula(f['coefs'])}\")\n",
    "        print(f\"    coeffs (старшая→младшая): [{cdesc}] | RMSE={f['rmse']:.6g}, MAE={f['mae']:.6g}, Max|err|={f['maxerr']:.6g}\")\n",
    "\n",
    "    for f in model_bank:\n",
    "        row = {\n",
    "            'sensor': f['sensor'],\n",
    "            'method': f['method'],\n",
    "            'degree': f['deg'],\n",
    "            'n_points': n,\n",
    "            'rmse': f['rmse'],\n",
    "            'mae': f['mae'],\n",
    "            'maxerr': f['maxerr'],\n",
    "            'formula': _poly_formula(f['coefs'])\n",
    "        }\n",
    "        d = f['deg']\n",
    "        for i, c in enumerate(f['coefs']):\n",
    "            pwr = d - i\n",
    "            row[f'c_p{pwr}'] = float(c)\n",
    "        rows.append(row)\n",
    "\n",
    "    xs = np.linspace(float(x.min()), float(x.max()), 200) if n > 1 else x\n",
    "    x_err = g['x_std'].to_numpy(float) if 'x_std' in g else np.full_like(x, np.nan)\n",
    "    y_err = g['y_std'].to_numpy(float) if 'y_std' in g else np.full_like(y, np.nan)\n",
    "    error_x = _err_dict(x_err)\n",
    "    error_y = _err_dict(y_err)\n",
    "    labels = [f\"{bc:.1f}\" for bc in g['bin_center']] if 'bin_center' in g else [f\"{xi:.2f}\" for xi in x]\n",
    "\n",
    "    fig = make_subplots(\n",
    "        rows=2, cols=2,\n",
    "        row_heights=[0.6, 0.4],\n",
    "        vertical_spacing=0.12,\n",
    "        horizontal_spacing=0.12,\n",
    "        subplot_titles=(\n",
    "            f'{sensor}: аппроксимация L2',\n",
    "            f'{sensor}: аппроксимация L_inf' + ('' if _HAS_SCIPY else ' (IRLS-приближение)'),\n",
    "            'Остатки L2 (Y - Y_hat)',\n",
    "            'Остатки L_inf (Y - Y_hat)'\n",
    "        )\n",
    "    )\n",
    "\n",
    "    fig.add_trace(\n",
    "        go.Scatter(\n",
    "            x=x, y=y, mode='markers', name='Точки',\n",
    "            legendgroup='L2', marker=dict(size=9),\n",
    "            error_x=error_x, error_y=error_y\n",
    "        ),\n",
    "        row=1, col=1\n",
    "    )\n",
    "    p2_1 = next((f['poly'] for f in model_bank if f['method']=='L2' and f['deg']==1), None)\n",
    "    p2_N = next((f['poly'] for f in model_bank if f['method']=='L2' and f['deg']==deg_max), None)\n",
    "    if p2_1 is not None:\n",
    "        fig.add_trace(\n",
    "            go.Scatter(x=xs, y=p2_1(xs), mode='lines', name='L2 deg=1', legendgroup='L2'),\n",
    "            row=1, col=1\n",
    "        )\n",
    "    if p2_N is not None and (p2_1 is None or p2_N.order != 1):\n",
    "        fig.add_trace(\n",
    "            go.Scatter(x=xs, y=p2_N(xs), mode='lines', name=f'L2 deg={p2_N.order}', legendgroup='L2'),\n",
    "            row=1, col=1\n",
    "        )\n",
    "\n",
    "    fig.add_trace(\n",
    "        go.Scatter(\n",
    "            x=x, y=y, mode='markers', name='Точки (L_inf)',\n",
    "            legendgroup='L_inf', marker=dict(size=9, symbol='circle-open'),\n",
    "            opacity=0.95, error_x=error_x, error_y=error_y, showlegend=False\n",
    "        ),\n",
    "        row=1, col=2\n",
    "    )\n",
    "    pI_1 = next((f['poly'] for f in model_bank if f['method']=='L_inf' and f['deg']==1), None)\n",
    "    pI_N = next((f['poly'] for f in model_bank if f['method']=='L_inf' and f['deg']==deg_max), None)\n",
    "    if pI_1 is not None:\n",
    "        fig.add_trace(\n",
    "            go.Scatter(x=xs, y=pI_1(xs), mode='lines', name='L_inf deg=1', legendgroup='L_inf'),\n",
    "            row=1, col=2\n",
    "        )\n",
    "    if pI_N is not None and (pI_1 is None or pI_N.order != 1):\n",
    "        fig.add_trace(\n",
    "            go.Scatter(x=xs, y=pI_N(xs), mode='lines', name=f'L_inf deg={pI_N.order}', legendgroup='L_inf'),\n",
    "            row=1, col=2\n",
    "        )\n",
    "\n",
    "    for d in range(1, deg_max+1):\n",
    "        r_l2 = next(f['resid'] for f in model_bank if f['method']=='L2' and f['deg']==d)\n",
    "        fig.add_trace(\n",
    "            go.Bar(\n",
    "                x=labels, y=r_l2, name=f'L2 deg={d} (остатки)',\n",
    "                legendgroup=f'L2_res_{d}', offsetgroup=f'L2_{d}'\n",
    "            ),\n",
    "            row=2, col=1\n",
    "        )\n",
    "        r_li = next(f['resid'] for f in model_bank if f['method']=='L_inf' and f['deg']==d)\n",
    "        fig.add_trace(\n",
    "            go.Bar(\n",
    "                x=labels, y=r_li, name=f'L_inf deg={d} (остатки)',\n",
    "                legendgroup=f'Linf_res_{d}', offsetgroup=f'Linf_{d}'\n",
    "            ),\n",
    "            row=2, col=2\n",
    "        )\n",
    "\n",
    "    fig.update_xaxes(title_text=f'{sensor} (X)', row=1, col=1, showgrid=True, gridcolor='rgba(0,0,0,0.15)')\n",
    "    fig.update_yaxes(title_text=f'T{REF_IDX} (Y)', row=1, col=1, showgrid=True, gridcolor='rgba(0,0,0,0.15)')\n",
    "    fig.update_xaxes(title_text=f'{sensor} (X)', row=1, col=2, showgrid=True, gridcolor='rgba(0,0,0,0.15)')\n",
    "    fig.update_yaxes(title_text=f'T{REF_IDX} (Y)', row=1, col=2, showgrid=True, gridcolor='rgba(0,0,0,0.15)')\n",
    "    fig.update_xaxes(title_text='Полочка', row=2, col=1, type='category', showgrid=True, gridcolor='rgba(0,0,0,0.12)', categoryorder='array', categoryarray=labels)\n",
    "    fig.update_xaxes(title_text='Полочка', row=2, col=2, type='category', showgrid=True, gridcolor='rgba(0,0,0,0.12)', categoryorder='array', categoryarray=labels)\n",
    "    fig.update_yaxes(title_text='°C', row=2, col=1, showgrid=True, gridcolor='rgba(0,0,0,0.12)')\n",
    "    fig.update_yaxes(title_text='°C', row=2, col=2, showgrid=True, gridcolor='rgba(0,0,0,0.12)')\n",
    "\n",
    "    fig.update_layout(\n",
    "        height=740,\n",
    "        width=1120,\n",
    "        barmode='group',\n",
    "        legend=dict(orientation='h', yanchor='bottom', y=1.05, xanchor='center', x=0.5),\n",
    "        margin=dict(t=100, l=60, r=40, b=90)\n",
    "    )\n",
    "\n",
    "    fig.show()\n",
    "\n",
    "calibration_models = pd.DataFrame(rows)\n",
    "out_csv = 'calibration_models.csv'\n",
    "calibration_models.to_csv(out_csv, index=False)\n",
    "print(f\"Сохранено: {out_csv} ({len(calibration_models)} строк)\")"
   ]
  },
  {
   "cell_type": "code",
   "execution_count": 99,
   "id": "74415c7c",
   "metadata": {},
   "outputs": [
    {
     "name": "stdout",
     "output_type": "stream",
     "text": [
      "HTML-отчёт сохранён: c:\\Users\\Alexander\\Documents\\GitHub\\sensor_calibration\\calibration_report.html\n"
     ]
    }
   ],
   "source": [
    "# === 10) HTML-отчёт ===\n",
    "import os\n",
    "from pathlib import Path\n",
    "from datetime import datetime\n",
    "import html\n",
    "import numbers\n",
    "\n",
    "import numpy as np\n",
    "import pandas as pd\n",
    "import plotly.graph_objects as go\n",
    "from plotly.subplots import make_subplots\n",
    "import plotly.io as pio\n",
    "\n",
    "try:\n",
    "    from scipy.optimize import linprog  # type: ignore\n",
    "    _HAS_SCIPY = True\n",
    "except Exception:\n",
    "    _HAS_SCIPY = False\n",
    "\n",
    "assert \"calibration_points_by_sensor\" in globals() and not calibration_points_by_sensor.empty, \"Нет калибровочных точек.\"\n",
    "\n",
    "REF_COL = f\"T{REF_IDX}\"\n",
    "raw_ref_name = globals().get(\"REF_NAME\", REF_COL)\n",
    "ref_display = str(raw_ref_name) if raw_ref_name else REF_COL\n",
    "\n",
    "ordered_cols = [f\"T{REF_IDX + i}\" for i in range(1, N_FOLLOW + 1)]\n",
    "present_sensors = list(dict.fromkeys(calibration_points_by_sensor[\"sensor\"]))\n",
    "\n",
    "raw_names = globals().get(\"SENSOR_NAMES\", {}) or {}\n",
    "name_map: dict[str, str] = {}\n",
    "if isinstance(raw_names, (list, tuple)):\n",
    "    for idx, nm in enumerate(raw_names, start=1):\n",
    "        if idx - 1 < len(ordered_cols):\n",
    "            name_map[ordered_cols[idx - 1]] = str(nm)\n",
    "elif isinstance(raw_names, dict):\n",
    "    for key, value in raw_names.items():\n",
    "        sensor_key: str | None = None\n",
    "        if isinstance(key, str) and key.startswith(\"T\"):\n",
    "            sensor_key = key\n",
    "        else:\n",
    "            try:\n",
    "                numeric = int(key)\n",
    "                if 1 <= numeric <= len(ordered_cols):\n",
    "                    sensor_key = ordered_cols[numeric - 1]\n",
    "            except Exception:\n",
    "                sensor_key = None\n",
    "        if sensor_key:\n",
    "            name_map[sensor_key] = str(value)\n",
    "        elif isinstance(key, str):\n",
    "            name_map[key] = str(value)\n",
    "\n",
    "def sensor_sort_key(sensor: str):\n",
    "    if isinstance(sensor, str) and sensor.startswith(\"T\"):\n",
    "        try:\n",
    "            return (0, int(sensor[1:]))\n",
    "        except Exception:\n",
    "            pass\n",
    "    return (1, sensor)\n",
    "\n",
    "follow_order = [col for col in ordered_cols if col in present_sensors]\n",
    "follow_order += sorted([s for s in present_sensors if s not in follow_order], key=sensor_sort_key)\n",
    "\n",
    "has_data = \"DATA\" in globals() and isinstance(DATA, pd.DataFrame)\n",
    "try:\n",
    "    bin_width = float(globals().get(\"DEG_TOL\", 1.0))\n",
    "    if not np.isfinite(bin_width) or bin_width <= 0:\n",
    "        bin_width = 1.0\n",
    "except Exception:\n",
    "    bin_width = 1.0\n",
    "\n",
    "figure_counter = {\"value\": 1}\n",
    "\n",
    "def add_figure(fig_obj: go.Figure | None, caption: str, parts: list[str]):\n",
    "    if fig_obj is None:\n",
    "        return\n",
    "    html_fragment = pio.to_html(fig_obj, include_plotlyjs=\"inline\" if figure_counter[\"value\"] == 1 else False, full_html=False)\n",
    "    idx = figure_counter[\"value\"]\n",
    "    figure_counter[\"value\"] += 1\n",
    "    parts.append(\"<div class='figure'>\" + html_fragment + f\"<p class='figure-caption'>Fig. {idx}. \" + html.escape(caption) + \"</p></div>\")\n",
    "\n",
    "def friendly_sensor(sensor: str) -> str:\n",
    "    return str(name_map.get(sensor, sensor))\n",
    "\n",
    "def ensure_suffix(label: str, sensor: str) -> str:\n",
    "    label = str(label)\n",
    "    return label if sensor in label else f\"{label} ({sensor})\"\n",
    "\n",
    "def fmt_float(value):\n",
    "    if pd.isna(value):\n",
    "        return \"\"\n",
    "    if isinstance(value, numbers.Real):\n",
    "        return f\"{value:.6g}\"\n",
    "    return str(value)\n",
    "\n",
    "parts: list[str] = []\n",
    "\n",
    "def open_section(title: str, intro: str | None = None, opened: bool = True):\n",
    "    flag = \"open\" if opened else \"\"\n",
    "    parts.append(f\"<details {flag} class='section'>\")\n",
    "    parts.append(f\"<summary><span>{html.escape(title)}</span></summary>\")\n",
    "    if intro:\n",
    "        parts.append(f\"<p>{html.escape(intro)}</p>\")\n",
    "\n",
    "def close_section():\n",
    "    parts.append(\"</details>\")\n",
    "\n",
    "def build_coverage_figure(sensor: str, subset: pd.DataFrame) -> go.Figure:\n",
    "    fig = go.Figure()\n",
    "    if has_data and sensor in DATA.columns:\n",
    "        series = DATA[sensor].dropna().astype(float)\n",
    "    else:\n",
    "        series = pd.Series(dtype=float)\n",
    "    if series.empty:\n",
    "        if {\"bin_center\", \"n_samples\"} <= set(subset.columns):\n",
    "            fig.add_bar(x=subset[\"bin_center\"], y=subset[\"n_samples\"], name=\"Использовано\", marker=dict(color=\"#1f77b4\"))\n",
    "        fig.update_layout(title=f\"{friendly_sensor(sensor)} — распределение полочек\", xaxis_title=\"Температура (°C)\", yaxis_title=\"Количество точек\", height=340, margin=dict(t=60, l=60, r=40, b=60))\n",
    "        return fig\n",
    "    minimum = float(np.floor(series.min() / bin_width) * bin_width)\n",
    "    maximum = float(np.ceil(series.max() / bin_width) * bin_width + bin_width)\n",
    "    bins = np.arange(minimum, maximum + bin_width * 0.5, bin_width)\n",
    "    counts, edges = np.histogram(series.to_numpy(), bins=bins)\n",
    "    centers = (edges[:-1] + edges[1:]) / 2\n",
    "    used_counts = np.zeros_like(centers)\n",
    "    if {\"bin_center\", \"n_samples\"} <= set(subset.columns):\n",
    "        mapping = {round(float(c) / bin_width, 6): float(n) for c, n in zip(subset[\"bin_center\"], subset[\"n_samples\"])}\n",
    "        used_counts = np.array([mapping.get(round(float(c) / bin_width, 6), 0.0) for c in centers])\n",
    "    unused_counts = np.maximum(counts - used_counts, 0)\n",
    "    fig.add_bar(x=centers, y=counts, name=\"Все точки\", marker=dict(color=\"#b0bec5\"))\n",
    "    fig.add_bar(x=centers, y=used_counts, name=\"Использовано\", marker=dict(color=\"#1f77b4\"))\n",
    "    if unused_counts.any():\n",
    "        fig.add_bar(x=centers, y=unused_counts, name=\"Пропущено\", marker=dict(color=\"#ff7f0e\"))\n",
    "    fig.update_layout(title=f\"{friendly_sensor(sensor)} — покрытие температурных корзин\", xaxis_title=\"Температура (°C)\", yaxis_title=\"Количество точек\", barmode=\"overlay\", height=360, margin=dict(t=70, l=70, r=40, b=70), legend=dict(orientation=\"h\", yanchor=\"bottom\", y=1.02, xanchor=\"center\", x=0.5))\n",
    "    return fig\n",
    "\n",
    "def build_stability_figure(sensor: str, segments: pd.DataFrame) -> go.Figure | None:\n",
    "    if segments is None or segments.empty or {\"start_date\", \"end_date\"} - set(segments.columns):\n",
    "        return None\n",
    "    seg = segments.copy()\n",
    "    seg[\"start_date\"] = pd.to_datetime(seg[\"start_date\"], errors=\"coerce\")\n",
    "    seg[\"end_date\"] = pd.to_datetime(seg[\"end_date\"], errors=\"coerce\")\n",
    "    seg = seg.dropna(subset=[\"start_date\", \"end_date\"]).sort_values(\"start_date\").reset_index(drop=True)\n",
    "    if seg.empty:\n",
    "        return None\n",
    "    seg[\"segment\"] = [f\"seg {i+1}\" for i in range(len(seg))]\n",
    "    fig = make_subplots(rows=2, cols=1, shared_xaxes=True, row_heights=[0.7, 0.3], vertical_spacing=0.08)\n",
    "    if has_data and sensor in DATA.columns and \"date\" in DATA.columns:\n",
    "        ts = DATA[[\"date\", sensor]].copy()\n",
    "        ts[\"date\"] = pd.to_datetime(ts[\"date\"], errors=\"coerce\")\n",
    "        ts = ts.dropna(subset=[\"date\"]).sort_values(\"date\")\n",
    "        fig.add_trace(go.Scatter(x=ts[\"date\"], y=ts[sensor], mode=\"lines\", name=friendly_sensor(sensor)), row=1, col=1)\n",
    "        if REF_COL in DATA.columns:\n",
    "            ref_ts = DATA[[\"date\", REF_COL]].copy()\n",
    "            ref_ts[\"date\"] = pd.to_datetime(ref_ts[\"date\"], errors=\"coerce\")\n",
    "            ref_ts = ref_ts.dropna(subset=[\"date\"]).sort_values(\"date\")\n",
    "            fig.add_trace(go.Scatter(x=ref_ts[\"date\"], y=ref_ts[REF_COL], mode=\"lines\", name=friendly_sensor(REF_COL), line=dict(dash=\"dash\")), row=1, col=1)\n",
    "    for _, row in seg.iterrows():\n",
    "        start, end, label = row[\"start_date\"], row[\"end_date\"], row[\"segment\"]\n",
    "        fig.add_vrect(x0=start, x1=end, fillcolor=\"rgba(31,119,180,0.08)\", line_width=0, row=1, col=1)\n",
    "        fig.add_trace(go.Scatter(x=[start, end], y=[label, label], mode=\"lines\", line=dict(width=10, color=\"#1f77b4\"), hoverinfo=\"text\", hovertext=f\"{label}: {start:%Y-%m-%d %H:%M:%S} → {end:%Y-%m-%d %H:%M:%S}\", showlegend=False), row=2, col=1)\n",
    "        if \"length\" in seg.columns:\n",
    "            fig.add_trace(go.Scatter(x=[end], y=[label], mode=\"text\", text=[f\"n={int(row['length'])}\"], textposition=\"middle right\", showlegend=False), row=2, col=1)\n",
    "    fig.update_yaxes(title_text=\"Температура (°C)\", row=1, col=1)\n",
    "    fig.update_yaxes(type=\"category\", title_text=\"Сегменты\", row=2, col=1)\n",
    "    fig.update_xaxes(title_text=\"Время\", row=2, col=1)\n",
    "    fig.update_layout(title=f\"{friendly_sensor(sensor)} — температура и устойчивые интервалы\", height=max(380, 140 + 40 * len(seg)), margin=dict(t=70, l=70, r=50, b=60), legend=dict(orientation=\"h\", yanchor=\"bottom\", y=1.02, xanchor=\"center\", x=0.5))\n",
    "    return fig\n",
    "\n",
    "def build_polyfit_figure(sensor: str, subset: pd.DataFrame) -> go.Figure | None:\n",
    "    if subset.empty:\n",
    "        return None\n",
    "    g = subset.sort_values(\"x_mean\").reset_index(drop=True)\n",
    "    x = g[\"x_mean\"].astype(float).to_numpy()\n",
    "    y = g[\"y_mean\"].astype(float).to_numpy()\n",
    "    if len(x) < 2:\n",
    "        return None\n",
    "    y_std = g[\"y_std\"].astype(float).to_numpy() if \"y_std\" in g.columns else np.full_like(y, np.nan)\n",
    "    weights = 1.0 / np.clip(y_std, 1e-9, np.inf) if np.isfinite(y_std).any() else None\n",
    "    n = len(x)\n",
    "    deg_max = max(1, n - 2)\n",
    "    fits = []\n",
    "    for deg in range(1, deg_max + 1):\n",
    "        try:\n",
    "            coeffs = np.polyfit(x, y, deg=deg, w=weights) if weights is not None else np.polyfit(x, y, deg=deg)\n",
    "            poly = np.poly1d(coeffs)\n",
    "            resid = y - poly(x)\n",
    "            fits.append({\"deg\": deg, \"poly\": poly, \"resid\": resid})\n",
    "        except Exception:\n",
    "            continue\n",
    "    if not fits:\n",
    "        return None\n",
    "    xs = np.linspace(float(x.min()), float(x.max()), 200)\n",
    "    fig = make_subplots(rows=2, cols=1, row_heights=[0.65, 0.35], vertical_spacing=0.12)\n",
    "    fig.add_trace(go.Scatter(x=x, y=y, mode=\"markers\", name=\"Точки\", marker=dict(size=9), error_y=dict(type=\"data\", array=np.nan_to_num(y_std, nan=0.0))), row=1, col=1)\n",
    "    labels = [f\"{bc:.1f}\" for bc in g[\"bin_center\"]] if \"bin_center\" in g.columns else [f\"{val:.2f}\" for val in x]\n",
    "    for item in fits:\n",
    "        fig.add_trace(go.Scatter(x=xs, y=item[\"poly\"](xs), mode=\"lines\", name=f\"deg={item['deg']}\", showlegend=True), row=1, col=1)\n",
    "        fig.add_trace(go.Bar(x=list(range(len(labels))), y=item[\"resid\"], name=f\"deg={item['deg']}\", opacity=0.6), row=2, col=1)\n",
    "    fig.update_xaxes(title_text=f\"{sensor} (X)\", row=1, col=1)\n",
    "    fig.update_yaxes(title_text=f\"{REF_COL} (Y)\", row=1, col=1)\n",
    "    fig.update_xaxes(title_text=\"Полочка\", tickmode=\"array\", tickvals=list(range(len(labels))), ticktext=labels, row=2, col=1)\n",
    "    fig.update_yaxes(title_text=\"Y - Ŷ (°C)\", row=2, col=1)\n",
    "    fig.update_layout(title=f\"{friendly_sensor(sensor)} — полиномиальные аппроксимации\", height=660, legend=dict(orientation=\"h\", yanchor=\"bottom\", y=1.02, xanchor=\"center\", x=0.5), margin=dict(t=80, l=60, r=40, b=80))\n",
    "    return fig\n",
    "\n",
    "def build_poly_from_row(row: pd.Series) -> np.poly1d | None:\n",
    "    coeff_cols = [c for c in row.index if c.startswith(\"c_p\")]\n",
    "    if not coeff_cols:\n",
    "        return None\n",
    "    coeff_cols.sort(key=lambda name: int(name.split(\"p\")[1]), reverse=True)\n",
    "    coeffs = [float(row[c]) if not pd.isna(row[c]) else 0.0 for c in coeff_cols]\n",
    "    return np.poly1d(coeffs)\n",
    "\n",
    "def _vandermonde(x, deg):\n",
    "    return np.vander(x, N=deg + 1, increasing=False)\n",
    "\n",
    "def fit_L2(x, y, deg, y_std=None):\n",
    "    if y_std is not None:\n",
    "        w = 1.0 / np.clip(y_std, 1e-12, np.inf)\n",
    "        coeffs = np.polyfit(x, y, deg=deg, w=w)\n",
    "    else:\n",
    "        coeffs = np.polyfit(x, y, deg=deg)\n",
    "    poly = np.poly1d(coeffs)\n",
    "    resid = y - poly(x)\n",
    "    return coeffs, poly, resid\n",
    "\n",
    "def fit_Linf(x, y, deg, y_std=None, max_iter_irls=25):\n",
    "    if _HAS_SCIPY:\n",
    "        X = _vandermonde(x, deg)\n",
    "        if y_std is not None:\n",
    "            w = 1.0 / np.clip(y_std, 1e-12, np.inf)\n",
    "            Xw = X * w[:, None]\n",
    "            yw = y * w\n",
    "        else:\n",
    "            Xw = X\n",
    "            yw = y\n",
    "        n, m = Xw.shape\n",
    "        A1 = np.hstack([Xw, -np.ones((n, 1))])\n",
    "        b1 = yw\n",
    "        A2 = np.hstack([-Xw, -np.ones((n, 1))])\n",
    "        b2 = -yw\n",
    "        A_ub = np.vstack([A1, A2])\n",
    "        b_ub = np.concatenate([b1, b2])\n",
    "        c_vec = np.zeros(m + 1)\n",
    "        c_vec[-1] = 1.0\n",
    "        bounds = [(None, None)] * m + [(0, None)]\n",
    "        result = linprog(c_vec, A_ub=A_ub, b_ub=b_ub, bounds=bounds, method=\"highs\")\n",
    "        if not result.success:\n",
    "            raise RuntimeError(result.message)\n",
    "        coeffs = result.x[:-1]\n",
    "        poly = np.poly1d(coeffs)\n",
    "        resid = y - poly(x)\n",
    "        return coeffs, poly, resid\n",
    "    coeffs = np.polyfit(x, y, deg=deg)\n",
    "    for _ in range(max_iter_irls):\n",
    "        poly = np.poly1d(coeffs)\n",
    "        resid = y - poly(x)\n",
    "        scale = np.clip(np.abs(resid), 1e-9, None)\n",
    "        if y_std is not None:\n",
    "            scale = scale / np.clip(y_std, 1e-12, np.inf)\n",
    "        weight = 1.0 / scale\n",
    "        coeffs = np.polyfit(x, y, deg=deg, w=weight)\n",
    "    poly = np.poly1d(coeffs)\n",
    "    resid = y - poly(x)\n",
    "    return coeffs, poly, resid\n",
    "\n",
    "def build_model_comparison_figure(sensor: str, subset: pd.DataFrame) -> go.Figure | None:\n",
    "    if subset.empty:\n",
    "        return None\n",
    "    g = subset.sort_values(\"x_mean\").reset_index(drop=True)\n",
    "    x = g[\"x_mean\"].astype(float).to_numpy()\n",
    "    y = g[\"y_mean\"].astype(float).to_numpy()\n",
    "    if len(x) < 2:\n",
    "        return None\n",
    "    x_std = g[\"x_std\"].astype(float).to_numpy() if \"x_std\" in g.columns else np.full_like(x, np.nan)\n",
    "    y_std = g[\"y_std\"].astype(float).to_numpy() if \"y_std\" in g.columns else np.full_like(y, np.nan)\n",
    "    n = len(x)\n",
    "    deg_max = max(1, n - 2)\n",
    "    model_bank = []\n",
    "    for deg in range(1, deg_max + 1):\n",
    "        c2, p2, r2 = fit_L2(x, y, deg, y_std)\n",
    "        model_bank.append({\"method\": \"L2\", \"deg\": deg, \"poly\": p2, \"resid\": r2})\n",
    "        cI, pI, rI = fit_Linf(x, y, deg, y_std)\n",
    "        model_bank.append({\"method\": \"L_inf\", \"deg\": deg, \"poly\": pI, \"resid\": rI})\n",
    "    xs = np.linspace(float(x.min()), float(x.max()), 200)\n",
    "    fig = make_subplots(rows=2, cols=2, row_heights=[0.6, 0.4], vertical_spacing=0.12, horizontal_spacing=0.12, subplot_titles=(f\"{friendly_sensor(sensor)}: L2\", f\"{friendly_sensor(sensor)}: L_inf\", \"Остатки L2\", \"Остатки L_inf\"))\n",
    "    fig.add_trace(go.Scatter(x=x, y=y, mode=\"markers\", name=\"Точки\", marker=dict(size=9), error_x=dict(type=\"data\", array=np.nan_to_num(x_std, nan=0.0)), error_y=dict(type=\"data\", array=np.nan_to_num(y_std, nan=0.0))), row=1, col=1)\n",
    "    fig.add_trace(go.Scatter(x=x, y=y, mode=\"markers\", name=\"Точки\", marker=dict(size=9, symbol=\"circle-open\"), showlegend=False), row=1, col=2)\n",
    "    for item in model_bank:\n",
    "        trace = go.Scatter(x=xs, y=item[\"poly\"](xs), mode=\"lines\", name=f\"{item['method']} deg={item['deg']}\")\n",
    "        if item[\"method\"] == \"L2\":\n",
    "            fig.add_trace(trace, row=1, col=1)\n",
    "        else:\n",
    "            fig.add_trace(trace, row=1, col=2)\n",
    "    labels = [f\"{bc:.1f}\" for bc in g[\"bin_center\"]] if \"bin_center\" in g.columns else [f\"{val:.2f}\" for val in x]\n",
    "    for item in model_bank:\n",
    "        bar = go.Bar(x=list(range(len(labels))), y=item[\"resid\"], name=f\"{item['method']} deg={item['deg']}\")\n",
    "        if item[\"method\"] == \"L2\":\n",
    "            fig.add_trace(bar, row=2, col=1)\n",
    "        else:\n",
    "            fig.add_trace(bar, row=2, col=2)\n",
    "    fig.update_xaxes(title_text=\"Полочка\", tickmode=\"array\", tickvals=list(range(len(labels))), ticktext=labels, row=2, col=1)\n",
    "    fig.update_xaxes(title_text=\"Полочка\", tickmode=\"array\", tickvals=list(range(len(labels))), ticktext=labels, row=2, col=2)\n",
    "    fig.update_yaxes(title_text=f\"{REF_COL} (°C)\", row=1, col=1)\n",
    "    fig.update_yaxes(title_text=f\"{REF_COL} (°C)\", row=1, col=2)\n",
    "    fig.update_yaxes(title_text=\"Y - Ŷ (°C)\", row=2, col=1)\n",
    "    fig.update_yaxes(title_text=\"Y - Ŷ (°C)\", row=2, col=2)\n",
    "    fig.update_layout(height=760, legend=dict(orientation=\"h\", yanchor=\"bottom\", y=1.02, xanchor=\"center\", x=0.5), margin=dict(t=100, l=60, r=40, b=90))\n",
    "    return fig\n",
    "\n",
    "sensor_summaries: list[dict[str, float | str]] = []\n",
    "for sensor in follow_order:\n",
    "    subset = calibration_points_by_sensor[calibration_points_by_sensor['sensor'] == sensor]\n",
    "    summary: dict[str, float | str] = {'sensor': sensor, 'label': friendly_sensor(sensor)}\n",
    "    if not subset.empty:\n",
    "        summary['std_sensor_mean'] = float(subset['x_std'].mean()) if 'x_std' in subset.columns else np.nan\n",
    "        summary['std_sensor_max'] = float(subset['x_std'].max()) if 'x_std' in subset.columns else np.nan\n",
    "        summary['std_ref_mean'] = float(subset['y_std'].mean()) if 'y_std' in subset.columns else np.nan\n",
    "        summary['std_ref_max'] = float(subset['y_std'].max()) if 'y_std' in subset.columns else np.nan\n",
    "    else:\n",
    "        summary['std_sensor_mean'] = summary['std_sensor_max'] = np.nan\n",
    "        summary['std_ref_mean'] = summary['std_ref_max'] = np.nan\n",
    "    if 'calibration_models' in globals() and calibration_models is not None and not calibration_models.empty:\n",
    "        cm = calibration_models[calibration_models['sensor'] == sensor]\n",
    "        if not cm.empty:\n",
    "            if 'n_points' in cm.columns and not cm['n_points'].isna().all():\n",
    "                n_pts = int(cm['n_points'].max())\n",
    "            else:\n",
    "                n_pts = len(subset)\n",
    "            deg_star = max(1, n_pts - 2)\n",
    "            row_l2 = cm[(cm['method'] == 'L2') & (cm['degree'] == deg_star)].head(1)\n",
    "            row_linf = cm[(cm['method'] == 'L_inf') & (cm['degree'] == deg_star)].head(1)\n",
    "            poly_l2 = build_poly_from_row(row_l2.iloc[0]) if not row_l2.empty else None\n",
    "            poly_linf = build_poly_from_row(row_linf.iloc[0]) if not row_linf.empty else None\n",
    "            if not row_l2.empty:\n",
    "                summary['rmse_L2'] = float(row_l2.iloc[0].get('rmse', np.nan))\n",
    "                summary['mae_L2'] = float(row_l2.iloc[0].get('mae', np.nan))\n",
    "            if not row_linf.empty:\n",
    "                summary['rmse_L_inf'] = float(row_linf.iloc[0].get('rmse', np.nan))\n",
    "                summary['mae_L_inf'] = float(row_linf.iloc[0].get('mae', np.nan))\n",
    "            if poly_l2 is not None and poly_linf is not None:\n",
    "                xs = subset['x_mean'].astype(float).to_numpy()\n",
    "                if xs.size == 0 and has_data and sensor in DATA.columns:\n",
    "                    xs = np.linspace(DATA[sensor].min(), DATA[sensor].max(), 200)\n",
    "                if xs.size > 0:\n",
    "                    diff = np.abs(poly_l2(xs) - poly_linf(xs))\n",
    "                    summary['poly_delta_mean'] = float(np.mean(diff))\n",
    "                    summary['poly_delta_max'] = float(np.max(diff))\n",
    "    sensor_summaries.append(summary)\n",
    "\n",
    "now_str = datetime.now().strftime('%Y-%m-%d %H:%M')\n",
    "parts.append('<h1>Краткий отчёт калибровки</h1>')\n",
    "parts.append(f\"<p>Время формирования: {html.escape(now_str)}</p>\")\n",
    "\n",
    "open_section('Список сенсоров', opened=True)\n",
    "parts.append('<ul>')\n",
    "ref_label = ensure_suffix(friendly_sensor(REF_COL) if ref_display == REF_COL else ref_display, REF_COL)\n",
    "parts.append(f\"<li>Эталон: {html.escape(ref_label)}</li>\")\n",
    "for idx, sensor in enumerate(follow_order, start=1):\n",
    "    friendly = ensure_suffix(friendly_sensor(sensor), sensor)\n",
    "    parts.append(f\"<li>Калибруемый: Датчик {idx}: {html.escape(friendly)}</li>\")\n",
    "parts.append('</ul>')\n",
    "if follow_order:\n",
    "    mapping_descr = '; '.join([f\"Датчик {i} = {ensure_suffix(friendly_sensor(s), s)}\" for i, s in enumerate(follow_order, start=1)])\n",
    "    parts.append(f\"<p><i>Нумерация:</i> {html.escape(mapping_descr)}</p>\")\n",
    "close_section()\n",
    "\n",
    "if 'calibration_models' in globals() and calibration_models is not None and not calibration_models.empty:\n",
    "    open_section('Формулы калибровки (степень N−2) и метрики')\n",
    "    for sensor in follow_order:\n",
    "        cm = calibration_models[calibration_models['sensor'] == sensor]\n",
    "        if cm.empty:\n",
    "            continue\n",
    "        if 'n_points' in cm.columns and not cm['n_points'].isna().all():\n",
    "            n_pts = int(cm['n_points'].max())\n",
    "        else:\n",
    "            n_pts = len(calibration_points_by_sensor[calibration_points_by_sensor['sensor'] == sensor])\n",
    "        deg_star = max(1, n_pts - 2)\n",
    "        parts.append(f\"<h3>{html.escape(friendly_sensor(sensor))}</h3>\")\n",
    "        for method in ('L2', 'L_inf'):\n",
    "            row = cm[(cm['method'] == method) & (cm['degree'] == deg_star)].head(1)\n",
    "            if row.empty:\n",
    "                continue\n",
    "            rec = row.iloc[0]\n",
    "            parts.append(\n",
    "                f\"<p><b>{html.escape(method)}:</b> \"\n",
    "                f\"{html.escape(str(rec.get('formula', '')))} | \"\n",
    "                f\"RMSE={rec.get('rmse', float('nan')):.6g}, \"\n",
    "                f\"MAE={rec.get('mae', float('nan')):.6g}, \"\n",
    "                f\"Max|err|={rec.get('maxerr', float('nan')):.6g}</p>\"\n",
    "            )\n",
    "    close_section()\n",
    "else:\n",
    "    parts.append('<p><b>Формулы калибровки:</b> выполните ячейку построения моделей, чтобы получить коэффициенты.</p>')\n",
    "\n",
    "open_section('Калибровочные точки X–Y', 'Статистика по усреднённым температурам и разбросам внутри корзин.')\n",
    "base_columns = ['bin_center', 'bin_low', 'bin_high', 'x_mean', 'x_std', 'y_mean', 'y_std', 'n_samples', 'start_date', 'end_date', 'source_file']\n",
    "for sensor in follow_order:\n",
    "    subset = calibration_points_by_sensor[calibration_points_by_sensor['sensor'] == sensor]\n",
    "    if subset.empty:\n",
    "        continue\n",
    "    cols = [col for col in base_columns if col in subset.columns]\n",
    "    table = subset.loc[:, cols].copy()\n",
    "    for col in ['start_date', 'end_date']:\n",
    "        if col in table.columns:\n",
    "            table[col] = pd.to_datetime(table[col], errors='coerce').dt.strftime('%Y-%m-%d %H:%M:%S')\n",
    "    parts.append(f\"<h3>{html.escape(friendly_sensor(sensor))}</h3>\")\n",
    "    parts.append(table.to_html(index=False, formatters={c: fmt_float for c in table.columns}, na_rep=''))\n",
    "close_section()\n",
    "\n",
    "if 'STABLE_BY_SENSOR' in globals() and STABLE_BY_SENSOR is not None and not STABLE_BY_SENSOR.empty:\n",
    "    open_section('Стабильные интервалы и временные ряды')\n",
    "    for sensor in follow_order:\n",
    "        fig = build_stability_figure(sensor, STABLE_BY_SENSOR[STABLE_BY_SENSOR['sensor'] == sensor])\n",
    "        add_figure(fig, f\"{friendly_sensor(sensor)}: временной ряд и устойчивые сегменты\", parts)\n",
    "    close_section()\n",
    "\n",
    "open_section('Выводы по точности датчиков')\n",
    "parts.append('<ul>')\n",
    "for summary in sensor_summaries:\n",
    "    parts.append('<li><b>' + html.escape(summary['label']) + '</b>: '\n",
    "                 'σ датчика ≈ ' + (fmt_float(summary.get('std_sensor_mean')) or '—') + ' °C (max ' + (fmt_float(summary.get('std_sensor_max')) or '—') + ' °C); '\n",
    "                 'σ эталона ≈ ' + (fmt_float(summary.get('std_ref_mean')) or '—') + ' °C (max ' + (fmt_float(summary.get('std_ref_max')) or '—') + ' °C); '\n",
    "                 'RMSE L2 = ' + (fmt_float(summary.get('rmse_L2')) or '—') + ' °C, RMSE L_inf = ' + (fmt_float(summary.get('rmse_L_inf')) or '—') + ' °C; '\n",
    "                 'Δ(L2,L_inf) ≈ ' + (fmt_float(summary.get('poly_delta_mean')) or '—') + ' °C (max ' + (fmt_float(summary.get('poly_delta_max')) or '—') + ' °C).</li>')\n",
    "parts.append('</ul>')\n",
    "close_section()\n",
    "\n",
    "open_section('Графики полиномиальных аппроксимаций')\n",
    "for sensor in follow_order:\n",
    "    fig = build_polyfit_figure(sensor, calibration_points_by_sensor[calibration_points_by_sensor['sensor'] == sensor])\n",
    "    add_figure(fig, f\"{friendly_sensor(sensor)}: полиномиальные аппроксимации и остатки\", parts)\n",
    "close_section()\n",
    "\n",
    "open_section('L2 vs L_inf: сравнение моделей и остатки')\n",
    "for sensor in follow_order:\n",
    "    fig = build_model_comparison_figure(sensor, calibration_points_by_sensor[calibration_points_by_sensor['sensor'] == sensor])\n",
    "    add_figure(fig, f\"{friendly_sensor(sensor)}: сравнение моделей L2 и L_inf\", parts)\n",
    "close_section()\n",
    "\n",
    "open_section('Приложение: базовые графики X–Y')\n",
    "for sensor in follow_order:\n",
    "    subset = calibration_points_by_sensor[calibration_points_by_sensor['sensor'] == sensor]\n",
    "    if subset.empty:\n",
    "        continue\n",
    "    fig = make_subplots(rows=2, cols=1, row_heights=[0.65, 0.35], vertical_spacing=0.12)\n",
    "    x_vals = subset['x_mean'].astype(float).to_numpy()\n",
    "    y_vals = subset['y_mean'].astype(float).to_numpy()\n",
    "    x_err = subset['x_std'].astype(float).to_numpy() if 'x_std' in subset.columns else np.full_like(x_vals, 0.0)\n",
    "    y_err = subset['y_std'].astype(float).to_numpy() if 'y_std' in subset.columns else np.full_like(y_vals, 0.0)\n",
    "    labels = [f\"{bc:.1f}\" for bc in subset['bin_center']] if 'bin_center' in subset.columns else [str(i) for i in range(len(subset))]\n",
    "    fig.add_trace(go.Scatter(x=x_vals, y=y_vals, mode='markers', name='Точки', marker=dict(size=9), error_x=dict(type='data', array=x_err), error_y=dict(type='data', array=y_err)), row=1, col=1)\n",
    "    fig.add_trace(go.Bar(x=list(range(len(labels))), y=x_err, name='std X'), row=2, col=1)\n",
    "    fig.add_trace(go.Bar(x=list(range(len(labels))), y=y_err, name='std Y'), row=2, col=1)\n",
    "    fig.update_xaxes(title_text=f\"{sensor} (X)\", row=1, col=1)\n",
    "    fig.update_yaxes(title_text=f\"{REF_COL} (Y)\", row=1, col=1)\n",
    "    fig.update_xaxes(title_text='Центр полочки (°C)', tickmode='array', tickvals=list(range(len(labels))), ticktext=labels, row=2, col=1)\n",
    "    fig.update_yaxes(title_text='Std (°C)', row=2, col=1)\n",
    "    fig.update_layout(title=f\"{friendly_sensor(sensor)} — X–Y и ошибки\", height=620, legend=dict(orientation='h', yanchor='bottom', y=1.02, xanchor='center', x=0.5), margin=dict(t=80, l=60, r=40, b=70))\n",
    "    add_figure(fig, f\"{friendly_sensor(sensor)}: базовые графики X–Y и дисперсии\", parts)\n",
    "close_section()\n",
    "\n",
    "open_section('Теоретическая справка и формулы', opened=False)\n",
    "parts.append('<p><b>Структура процесса.</b> Сырые логи агрегируются, эталон фильтруется скользящими окнами (STD_THR, DIFF_THR), устойчивые сегменты длиной не менее MIN_LEN группируются по корзинам DEG_TOL, после чего усреднённые пары (датчик, эталон) используются для построения моделей.</p>')\n",
    "parts.append(r'<p><b>Взвешенная МНК.</b> Используются веса 436w_i = \\frac{1}{\\max(\\sigma_{ref,i}, \\varepsilon)}436 и минимизируется функционал 436\\sum_i w_i^2 (T_{sens,i} - p^{(d)}(T_{ref,i}))^2.436</p>')\n",
    "parts.append(r'<p><b>Минимакс модель.</b> Полином ^{(d)}$ строится как решение 436\\min_{p \\in \\Pi_d} \\max_i |T_{sens,i} - p(T_{ref,i})|,436 реализованное через линейное программирование HiGHS или IRLS-приближение.</p>')\n",
    "parts.append('<p><b>Интерпретация.</b> Полученные коэффициенты переводят температуру датчика в шкалу эталона. Показатели σ и Δ(L2,L_inf) позволяют контролировать качество исходных данных и чувствительность модели к выбросам.</p>')\n",
    "close_section()\n",
    "\n",
    "values_sensor = [s.get('std_sensor_mean') for s in sensor_summaries]\n",
    "values_ref = [s.get('std_ref_mean') for s in sensor_summaries]\n",
    "values_rmse_l2 = [s.get('rmse_L2') for s in sensor_summaries]\n",
    "values_rmse_linf = [s.get('rmse_L_inf') for s in sensor_summaries]\n",
    "values_delta = [s.get('poly_delta_max') for s in sensor_summaries]\n",
    "\n",
    "def _nanmean_safe(values):\n",
    "    arr = np.array([float(v) if v is not None else np.nan for v in values], dtype=float)\n",
    "    return float(np.nanmean(arr)) if arr.size and not np.isnan(arr).all() else np.nan\n",
    "\n",
    "def _nanmax_safe(values):\n",
    "    arr = np.array([float(v) if v is not None else np.nan for v in values], dtype=float)\n",
    "    return float(np.nanmax(arr)) if arr.size and not np.isnan(arr).all() else np.nan\n",
    "\n",
    "open_section('Итоговая оценка качества данных')\n",
    "mean_sensor_sigma = _nanmean_safe(values_sensor)\n",
    "mean_ref_sigma = _nanmean_safe(values_ref)\n",
    "mean_rmse_l2 = _nanmean_safe(values_rmse_l2)\n",
    "mean_rmse_linf = _nanmean_safe(values_rmse_linf)\n",
    "max_delta = _nanmax_safe(values_delta)\n",
    "parts.append('<p>Среднее σ датчиков: ' + (fmt_float(mean_sensor_sigma) or '—') + ' °C; σ эталона: ' + (fmt_float(mean_ref_sigma) or '—') + ' °C.</p>')\n",
    "parts.append('<p>Средний RMSE: L2 = ' + (fmt_float(mean_rmse_l2) or '—') + ' °C, L_inf = ' + (fmt_float(mean_rmse_linf) or '—') + ' °C.</p>')\n",
    "parts.append('<p>Максимальное расхождение между L2 и L_inf: ' + (fmt_float(max_delta) or '—') + ' °C.</p>')\n",
    "parts.append('<p>Случайная погрешность итоговой калибровки оценивается как ' + (fmt_float(mean_rmse_l2) or '—') + ' °C (L2) и ' + (fmt_float(mean_rmse_linf) or '—') + ' °C (L_inf). Качество исходных данных признаётся удовлетворительным, если σ эталона остаётся ниже MAX_REF_RANGE.</p>')\n",
    "close_section()\n",
    "\n",
    "css = \"\"\"\n",
    "body{font-family:Segoe UI,Arial,sans-serif;line-height:1.35}\n",
    "table{border-collapse:collapse;margin-bottom:18px}\n",
    "td,th{border:1px solid #ddd;padding:4px 6px}\n",
    "h1,h2{margin-top:1em}\n",
    "details.section{margin:18px 0;padding:8px 12px;border:1px solid #d0d7e2;border-radius:6px;background:#f7faff}\n",
    "details.section>summary{cursor:pointer;font-weight:600;padding:4px 0}\n",
    "details.section[open]{background:#eef4ff}\n",
    ".figure{margin:16px 0}\n",
    ".figure-caption{font-size:0.9em;color:#444;margin-top:4px}\n",
    ".plotly-figure,.js-plotly-plot{margin:12px 0;}\n",
    "\"\"\"\n",
    "\n",
    "html_lines = [\n",
    "    \"<html>\",\n",
    "    \"<head>\",\n",
    "    \"<meta charset='utf-8'>\",\n",
    "    \"<title>Отчёт калибровки</title>\",\n",
    "    \"<style>\" + css + \"</style>\",\n",
    "    \"<script src='https://cdn.jsdelivr.net/npm/mathjax@3/es5/tex-mml-chtml.js' defer></script>\",\n",
    "    \"</head>\",\n",
    "    \"<body>\",\n",
    "    \"\".join(parts),\n",
    "    \"</body>\",\n",
    "    \"</html>\"\n",
    "]\n",
    "html_report = \"\n",
    "\".join(html_lines)\n",
    "\n",
    "report_dir = Path(os.getenv('CALIBRATION_REPORT_DIR', Path.cwd()))\n",
    "if not report_dir.exists():\n",
    "    report_dir = Path.cwd()\n",
    "report_dir.mkdir(parents=True, exist_ok=True)\n",
    "report_path = report_dir / 'calibration_report.html'\n",
    "report_path.write_text(html_report, encoding='utf-8')\n",
    "\n",
    "print('HTML-отчёт сохранён:', report_path)\n",
    ""
   ]
  },
  {
   "cell_type": "code",
   "execution_count": null,
   "id": "c1a4774f",
   "metadata": {},
   "outputs": [],
   "source": []
  },
  {
   "cell_type": "code",
   "execution_count": null,
   "id": "58d80ec8",
   "metadata": {},
   "outputs": [],
   "source": []
  }
 ],
 "metadata": {
  "kernelspec": {
   "display_name": "Python 3",
   "language": "python",
   "name": "python3"
  },
  "language_info": {
   "name": "python",
   "version": ""
  }
 },
 "nbformat": 4,
 "nbformat_minor": 5
}