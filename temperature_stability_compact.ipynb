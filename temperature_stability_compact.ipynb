{
 "cells": [
  {
   "cell_type": "markdown",
   "metadata": {},
   "source": "# Сокращённый пайплайн калибровки"
  },
  {
   "cell_type": "code",
   "metadata": {},
   "source": [
    "# === 1) Параметры минимального пайплайна ===",
    "import os, io, csv, glob",
    "from typing import List, Tuple, Optional, Dict",
    "",
    "import numpy as np",
    "import pandas as pd",
    "from IPython.display import display",
    "",
    "# Параметры",
    "# DATE_FORMAT — формат даты в исходных файлах; оставьте пустым, чтобы pandas подбирал его автоматически.",
    "# REF_IDX — индекс эталонного датчика (столбец T{REF_IDX}); относительно него оцениваем остальные каналы.",
    "# N_FOLLOW — число соседних значений, которые проверяются вместе при поиске стабильных интервалов.",
    "# WINDOW_N — длина скользящего окна в отсчётах для расчёта средних и стандартных отклонений.",
    "# STD_THR — максимальное допустимое стандартное отклонение внутри окна; выше — считаем участок нестабильным.",
    "# DIFF_THR — допустимая средняя разница между последовательными измерениями; превышение сигналит о скачках.",
    "# MIN_LEN — минимальное число точек, чтобы сегмент считался значимым при анализе стабильности.",
    "# DEG_TOL — допускаемое расхождение каналов с эталоном в градусах, пока они считаются исправными.",
    "# MAX_REF_RANGE — предельный размах значений эталонного канала; если шире, эталон нужно пересмотреть.",
    "# GROUP_BY_FILE — при True данные обрабатываются по каждому исходному файлу отдельно, а не одной лентой.",
    "DATE_FORMAT = ''",
    "REF_IDX = 8",
    "N_FOLLOW = 3",
    "WINDOW_N = 50",
    "STD_THR = 1e-3",
    "DIFF_THR = 2e-3",
    "MIN_LEN = 20",
    "DEG_TOL = 1.0",
    "MAX_REF_RANGE = 0.3",
    "GROUP_BY_FILE = True",
    "",
    "# Имена датчиков для отчёта",
    "REF_NAME = globals().get('REF_NAME', 'Эталон 2-1')",
    "SENSOR_NAMES = globals().get('SENSOR_NAMES', {",
    "    'T9': 'Датчик 1-7',",
    "    'T10': 'Датчик 1-8',",
    "    'T11': 'Датчик 1-9',",
    "})",
    "# Альтернатива: список имён в порядке датчиков T{REF_IDX+1}..T{REF_IDX+N_FOLLOW}",
    ""
   ],
   "execution_count": null,
   "outputs": []
  },
  {
   "cell_type": "code",
   "metadata": {},
   "source": [
    "# === Загрузка файлов ===",
    "import ipywidgets as widgets",
    "from IPython.display import display",
    "",
    "uploader = widgets.FileUpload(description='Загрузить файлы', accept='.csv,.txt,.zip', multiple=True, layout=widgets.Layout(width='50%'))",
    "display(uploader)"
   ],
   "execution_count": null,
   "outputs": []
  },
  {
   "cell_type": "code",
   "metadata": {},
   "source": [
    "# === Оркестратор пайплайна ===",
    "from pathlib import Path",
    "from IPython.display import HTML",
    "import json as _json",
    "",
    "uploads_dir = Path('uploads')",
    "if 'uploader' in globals() and getattr(uploader, 'value', None):",
    "    uploads_dir.mkdir(exist_ok=True)",
    "    value = uploader.value.values() if isinstance(uploader.value, dict) else uploader.value",
    "    saved = 0",
    "    for item in value:",
    "        data = item.get('content')",
    "        name = item.get('name') or item.get('metadata', {}).get('name')",
    "        if name and data is not None:",
    "            (uploads_dir / name).write_bytes(data)",
    "            saved += 1",
    "    print(f'Загружено файлов: {saved}')",
    "else:",
    "    print('Новых файлов не загружено — будут использованы локальные файлы проекта.')",
    "",
    "nb_json = _json.loads(Path('temperature_stability_modular_v2.ipynb').read_text(encoding='utf-8'))",
    "first_code = True",
    "for cell in nb_json['cells']:",
    "    if cell.get('cell_type') != 'code':",
    "        continue",
    "    src = ''.join(cell.get('source', []))",
    "    if first_code:",
    "        first_code = False",
    "        continue",
    "    exec(compile(src, 'temperature_stability_modular_v2.ipynb', 'exec'), globals())",
    "",
    "print('Пайплайн выполнен.')",
    "try:",
    "    display(HTML('<a href=\"calibration_report.html\" target=\"_blank\">Открыть отчёт</a>'))",
    "except Exception:",
    "    pass"
   ],
   "execution_count": null,
   "outputs": []
  }
 ],
 "metadata": {
  "kernelspec": {
   "display_name": "Python 3",
   "language": "python",
   "name": "python3"
  },
  "language_info": {
   "name": "python",
   "version": ""
  }
 },
 "nbformat": 4,
 "nbformat_minor": 5
}